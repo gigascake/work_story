{
 "cells": [
  {
   "cell_type": "markdown",
   "id": "eeef75a5-6737-4051-8b0a-16154159bd18",
   "metadata": {},
   "source": [
    "## DataSets & DataLoaders"
   ]
  },
  {
   "cell_type": "markdown",
   "id": "b7a23420-bf43-480e-9200-6860db844d65",
   "metadata": {},
   "source": [
    "- 데이터 샘플을 처리하기 위한 코드는 지저분하고 유지하기 어렵다.\n",
    "- 더 나은 가독성과 모듈성을 위해 데이터 세트 코드가 모델 교육 코드가 분리되기를 원한다.\n",
    "- 파이토치는 `torch.utils.data.DataLoader`와 `torch.utils.data.Dataset` 제공.\n",
    "- 자신의 데이터뿐만 아니라 미리로드된 데이터 세트를 사용할 수 있다.???\n",
    "- Dataset : 샘플과 해당 레이블을 저장\n",
    "- DataLoader : 샘플에 쉽게 엑세스할 수 있도록 Dataset 주위에 반복 가능한 레이블을 매핑"
   ]
  },
  {
   "cell_type": "markdown",
   "id": "32f5f1dd-453c-456f-a0f2-3621cc238360",
   "metadata": {},
   "source": [
    "#### Loading a Dataset"
   ]
  },
  {
   "cell_type": "markdown",
   "id": "9a828f17-91f7-4919-b490-985aa8180707",
   "metadata": {},
   "source": [
    "- Fashion-MNIST : 60,000 training examples and 10,000 test examples.\n",
    "- `root` : training or test dataset\n",
    "- `download` : 다운로드 엽\n",
    "- `transform` and `target_transform` : feature, label transformations 의 종류"
   ]
  },
  {
   "cell_type": "code",
   "execution_count": 1,
   "id": "05f1e93b-b4e9-4ddb-82fc-89ea1fc7f97d",
   "metadata": {},
   "outputs": [],
   "source": [
    "import torch\n",
    "from torch.utils.data import Dataset\n",
    "from torchvision import datasets\n",
    "from torchvision.transforms import ToTensor\n",
    "import matplotlib.pyplot as plt"
   ]
  },
  {
   "cell_type": "code",
   "execution_count": 13,
   "id": "06356a8b-03d1-4d48-86ff-f9d6351677d0",
   "metadata": {},
   "outputs": [],
   "source": [
    "training_data = datasets.FashionMNIST(\n",
    "    root=\"data\",\n",
    "    train=True,\n",
    "    download=True,\n",
    "    transform=ToTensor()\n",
    ")\n",
    "\n",
    "test_data = datasets.FashionMNIST(\n",
    "    root=\"data\",\n",
    "    train=False,\n",
    "    download=True,\n",
    "    transform=ToTensor()\n",
    ")"
   ]
  },
  {
   "cell_type": "markdown",
   "id": "c47fe626-b435-4e3b-9dd3-6462f1bf7e7f",
   "metadata": {},
   "source": [
    "### Iterating and Visualizing the Dataset"
   ]
  },
  {
   "cell_type": "code",
   "execution_count": 14,
   "id": "09dc2a5f-7ddb-4a4d-82d1-aa0dcef5c7c5",
   "metadata": {},
   "outputs": [
    {
     "data": {
      "text/plain": [
       "<Figure size 576x576 with 0 Axes>"
      ]
     },
     "metadata": {},
     "output_type": "display_data"
    }
   ],
   "source": [
    "labels_map = {\n",
    "    0: \"T-Shirt\",\n",
    "    1: \"Trouser\",\n",
    "    2: \"Pullover\",\n",
    "    3: \"Dress\",\n",
    "    4: \"Coat\",\n",
    "    5: \"Sandal\",\n",
    "    6: \"Shirt\",\n",
    "    7: \"Sneaker\",\n",
    "    8: \"Bag\",\n",
    "    9: \"Ankle Boot\",\n",
    "}\n",
    "figure = plt.figure(figsize=(8, 8))"
   ]
  },
  {
   "cell_type": "code",
   "execution_count": 15,
   "id": "6d80dc5b-12e2-4e54-8743-6ad62bf83b9e",
   "metadata": {},
   "outputs": [
    {
     "data": {
      "image/png": "[encoded data removed]",
      "text/plain": [
       "<Figure size 432x288 with 1 Axes>"
      ]
     },
     "metadata": {
      "needs_background": "light"
     },
     "output_type": "display_data"
    }
   ],
   "source": [
    "cols, rows = 3, 3\n",
    "for i in range(1, cols * rows + 1):\n",
    "    sample_idx = torch.randint(len(training_data), size=(1,)).item()\n",
    "    img, label = training_data[sample_idx]\n",
    "    figure.add_subplot(rows, cols, i)\n",
    "    plt.title(labels_map[label])\n",
    "    plt.axis(\"off\")\n",
    "    plt.imshow(img.squeeze(), cmap=\"gray\")\n",
    "plt.show()"
   ]
  },
  {
   "cell_type": "markdown",
   "id": "56491d1b-b7e4-4e0c-9a44-66869dc51c81",
   "metadata": {},
   "source": [
    "#### Creating a Custom Dataset for your files"
   ]
  },
  {
   "cell_type": "markdown",
   "id": "15fec484-0346-4921-b206-92590c9aad7c",
   "metadata": {},
   "source": [
    "- Custom Dataset 클래스는 __init__, __len__ 및 __getitem__의 세 가지 함수를 구현해야 합니다\n",
    "- FashionMNIST 이미지는 디렉토리 img_dir에 저장되고 레이블은 CSV 파일 annotations_file에 별도로 저장됩니다"
   ]
  },
  {
   "cell_type": "code",
   "execution_count": 16,
   "id": "47b97d9e-b850-49c6-95e5-2222a0acb6db",
   "metadata": {},
   "outputs": [],
   "source": [
    "import os\n",
    "import pandas as pd\n",
    "from torchvision.io import read_image"
   ]
  },
  {
   "cell_type": "code",
   "execution_count": 17,
   "id": "d138ad45-43d7-40f5-911b-0268fa0d4963",
   "metadata": {},
   "outputs": [],
   "source": [
    "class CustomImageDataset(Dataset):\n",
    "    def __init__(self, annotations_file, img_dir, transform=None, target_transform=None):\n",
    "        self.img_labels = pd.read_csv(annotations_file)\n",
    "        self.img_dir = img_dir\n",
    "        self.transform = transform\n",
    "        self.target_transform = target_transform\n",
    "        \n",
    "    def __len__(self):\n",
    "        return len(self.img_labels)\n",
    "    \n",
    "    def __getitem__(self, idx):\n",
    "        img_path = os.path.join(self.img_dir, self.img_labels.iloc[idx, 0])\n",
    "        image = read_image(img_path)\n",
    "        label = self.img_labels.iloc[idx, 1]\n",
    "        \n",
    "        if self.transform:\n",
    "            image = self.transform(image)\n",
    "            \n",
    "        if self.target_transform(image):\n",
    "            label = self.target_transform(label)\n",
    "        return image, label\n",
    "        \n",
    "    "
   ]
  },
  {
   "cell_type": "code",
   "execution_count": null,
   "id": "fefe48af-4875-4e1c-b1f9-ee532ed4043a",
   "metadata": {},
   "outputs": [],
   "source": []
  },
  {
   "cell_type": "code",
   "execution_count": 18,
   "id": "6ba5571e-506e-4a40-92d3-d9d427b645a1",
   "metadata": {},
   "outputs": [],
   "source": [
    "import torch\n",
    "import torch.nn.functional as F\n",
    "\n",
    "from torch.utils.data import Dataset\n",
    "from torch.utils.data import DataLoader\n",
    "\n",
    "class CustomDataset(Dataset):\n",
    "    def __init__(self):\n",
    "        self.x_data = [[73, 80, 75],\n",
    "                       [93, 88, 93],\n",
    "                       [89, 91, 90],\n",
    "                       [96, 98, 100],\n",
    "                       [73, 66, 70]]\n",
    "        self.y_data = [[152], [185], [180], [196], [142]]\n",
    "        \n",
    "    def __len__(self):\n",
    "        return len(self.x_data)\n",
    "    \n",
    "    #인덱스를 입력받아 그에 맵핑되는 입출력 데이터를 파이토치의 Tensor형태로 리턴\n",
    "    def __getitem__(self, idx):\n",
    "        x = torch.FloatTensor(self.x_data[idx])\n",
    "        y = torch.FloatTensor(self.y_data[idx])\n",
    "        return x, y"
   ]
  },
  {
   "cell_type": "code",
   "execution_count": 19,
   "id": "330a622a-725c-4adf-85df-0079b4aecfc1",
   "metadata": {},
   "outputs": [
    {
     "data": {
      "text/plain": [
       "<torch.utils.data.dataloader.DataLoader at 0x7fb78d0ca1d0>"
      ]
     },
     "execution_count": 19,
     "metadata": {},
     "output_type": "execute_result"
    }
   ],
   "source": [
    "dataset = CustomDataset()\n",
    "dataloader = DataLoader(dataset, batch_size=2, shuffle=True)\n",
    "dataloader"
   ]
  },
  {
   "cell_type": "code",
   "execution_count": 20,
   "id": "906c09fd-fbe1-42c6-a6cd-8813be1adac5",
   "metadata": {},
   "outputs": [],
   "source": [
    "model = torch.nn.Linear(3, 1)\n",
    "optimizer = torch.optim.SGD(model.parameters(), lr=1e-5)"
   ]
  },
  {
   "cell_type": "code",
   "execution_count": 21,
   "id": "ed5a0ed1-8ae5-487e-9855-6d884851a6ad",
   "metadata": {},
   "outputs": [
    {
     "name": "stdout",
     "output_type": "stream",
     "text": [
      "Epoch    0/20 Batch 1/3 Cost: 51061.468750\n",
      "Epoch    0/20 Batch 2/3 Cost: 22351.320312\n",
      "Epoch    0/20 Batch 3/3 Cost: 2455.189209\n",
      "Epoch    1/20 Batch 1/3 Cost: 1923.758545\n",
      "Epoch    1/20 Batch 2/3 Cost: 818.785156\n",
      "Epoch    1/20 Batch 3/3 Cost: 72.386765\n",
      "Epoch    2/20 Batch 1/3 Cost: 57.786198\n",
      "Epoch    2/20 Batch 2/3 Cost: 38.187244\n",
      "Epoch    2/20 Batch 3/3 Cost: 15.460197\n",
      "Epoch    3/20 Batch 1/3 Cost: 0.380242\n",
      "Epoch    3/20 Batch 2/3 Cost: 1.309651\n",
      "Epoch    3/20 Batch 3/3 Cost: 3.614037\n",
      "Epoch    4/20 Batch 1/3 Cost: 1.029108\n",
      "Epoch    4/20 Batch 2/3 Cost: 1.099151\n",
      "Epoch    4/20 Batch 3/3 Cost: 0.212210\n",
      "Epoch    5/20 Batch 1/3 Cost: 0.628658\n",
      "Epoch    5/20 Batch 2/3 Cost: 2.030918\n",
      "Epoch    5/20 Batch 3/3 Cost: 0.310172\n",
      "Epoch    6/20 Batch 1/3 Cost: 0.094498\n",
      "Epoch    6/20 Batch 2/3 Cost: 1.935191\n",
      "Epoch    6/20 Batch 3/3 Cost: 0.219784\n",
      "Epoch    7/20 Batch 1/3 Cost: 1.082828\n",
      "Epoch    7/20 Batch 2/3 Cost: 1.010965\n",
      "Epoch    7/20 Batch 3/3 Cost: 0.172511\n",
      "Epoch    8/20 Batch 1/3 Cost: 0.187950\n",
      "Epoch    8/20 Batch 2/3 Cost: 1.247242\n",
      "Epoch    8/20 Batch 3/3 Cost: 1.741896\n",
      "Epoch    9/20 Batch 1/3 Cost: 1.822535\n",
      "Epoch    9/20 Batch 2/3 Cost: 1.111245\n",
      "Epoch    9/20 Batch 3/3 Cost: 0.062592\n",
      "Epoch   10/20 Batch 1/3 Cost: 0.248781\n",
      "Epoch   10/20 Batch 2/3 Cost: 0.636637\n",
      "Epoch   10/20 Batch 3/3 Cost: 3.336074\n",
      "Epoch   11/20 Batch 1/3 Cost: 1.055325\n",
      "Epoch   11/20 Batch 2/3 Cost: 1.135764\n",
      "Epoch   11/20 Batch 3/3 Cost: 0.375010\n",
      "Epoch   12/20 Batch 1/3 Cost: 0.114218\n",
      "Epoch   12/20 Batch 2/3 Cost: 0.705174\n",
      "Epoch   12/20 Batch 3/3 Cost: 2.866639\n",
      "Epoch   13/20 Batch 1/3 Cost: 0.944481\n",
      "Epoch   13/20 Batch 2/3 Cost: 0.412073\n",
      "Epoch   13/20 Batch 3/3 Cost: 1.826350\n",
      "Epoch   14/20 Batch 1/3 Cost: 0.460452\n",
      "Epoch   14/20 Batch 2/3 Cost: 1.792794\n",
      "Epoch   14/20 Batch 3/3 Cost: 0.221159\n",
      "Epoch   15/20 Batch 1/3 Cost: 1.074360\n",
      "Epoch   15/20 Batch 2/3 Cost: 0.996197\n",
      "Epoch   15/20 Batch 3/3 Cost: 0.166767\n",
      "Epoch   16/20 Batch 1/3 Cost: 1.334495\n",
      "Epoch   16/20 Batch 2/3 Cost: 0.145173\n",
      "Epoch   16/20 Batch 3/3 Cost: 1.506815\n",
      "Epoch   17/20 Batch 1/3 Cost: 0.378989\n",
      "Epoch   17/20 Batch 2/3 Cost: 2.372094\n",
      "Epoch   17/20 Batch 3/3 Cost: 0.283931\n",
      "Epoch   18/20 Batch 1/3 Cost: 0.185967\n",
      "Epoch   18/20 Batch 2/3 Cost: 0.667640\n",
      "Epoch   18/20 Batch 3/3 Cost: 3.162694\n",
      "Epoch   19/20 Batch 1/3 Cost: 1.348345\n",
      "Epoch   19/20 Batch 2/3 Cost: 1.256091\n",
      "Epoch   19/20 Batch 3/3 Cost: 0.046073\n",
      "Epoch   20/20 Batch 1/3 Cost: 0.434680\n",
      "Epoch   20/20 Batch 2/3 Cost: 0.737067\n",
      "Epoch   20/20 Batch 3/3 Cost: 2.579392\n"
     ]
    }
   ],
   "source": [
    "nb_epochs = 20\n",
    "for epoch in range(nb_epochs + 1):\n",
    "    for batch_idx, samples in enumerate(dataloader):\n",
    "        x_train, y_train = samples\n",
    "        # H(x) 계산\n",
    "        prediction = model(x_train)\n",
    "        # cost 계산\n",
    "        cost = F.mse_loss(prediction, y_train)\n",
    "        \n",
    "        # cost로 H(x) 계산\n",
    "        optimizer.zero_grad()\n",
    "        cost.backward()\n",
    "        optimizer.step()\n",
    "        \n",
    "        print('Epoch {:4d}/{} Batch {}/{} Cost: {:.6f}'.format(\n",
    "        epoch, nb_epochs, batch_idx+1, len(dataloader),\n",
    "        cost.item()\n",
    "        ))"
   ]
  },
  {
   "cell_type": "code",
   "execution_count": null,
   "id": "9ab5b1b1-b571-4201-9333-f72298e49410",
   "metadata": {},
   "outputs": [],
   "source": []
  },
  {
   "cell_type": "code",
   "execution_count": null,
   "id": "c8bd38cd-3335-4c63-bb39-365a703f2dcd",
   "metadata": {},
   "outputs": [],
   "source": []
  },
  {
   "cell_type": "markdown",
   "id": "e6fdf3e3-1f70-4078-9e65-6fc767e37fed",
   "metadata": {},
   "source": [
    "#### Preparing your data for training with DataLoaders\n"
   ]
  },
  {
   "cell_type": "markdown",
   "id": "d11f9583-b12d-4dd3-9f55-10152d9fe0d5",
   "metadata": {},
   "source": [
    "- 데이터셋은 데이터셋의 피쳐를 검색하고 한 번에 하나의 샘플에 레이블을 지정합니다.\n",
    "- 모델을 교육하는 동안 우리는 일반적으로 샘플을 \"미니배치\"로 전달하고, 모델 과적합을 줄이기 위해 매 에포크마다 데이터를 재구성하고, 파이썬의 멀티 프로세싱을 사용하여 데이터 검색 속도를 높이고자 한다.\n"
   ]
  },
  {
   "cell_type": "code",
   "execution_count": 22,
   "id": "cfad2d33-4687-4ebd-8b89-fa5eeb704fb7",
   "metadata": {},
   "outputs": [],
   "source": [
    "from torch.utils.data import DataLoader\n",
    "\n",
    "train_dataloader = DataLoader(training_data, batch_size=64, shuffle=True)\n",
    "test_dataloader = DataLoader(test_data, batch_size=64, shuffle=True)"
   ]
  },
  {
   "cell_type": "markdown",
   "id": "dddd1d05-9036-4af0-a4eb-40308291b352",
   "metadata": {},
   "source": [
    "#### Iterate through the DataLoader"
   ]
  },
  {
   "cell_type": "code",
   "execution_count": 25,
   "id": "48e9a430-c2f8-452f-899e-3aea6db889c1",
   "metadata": {},
   "outputs": [
    {
     "name": "stdout",
     "output_type": "stream",
     "text": [
      "Feature batch shape: torch.Size([64, 1, 28, 28])\n",
      "Labels batch shape: torch.Size([64])\n"
     ]
    },
    {
     "data": {
      "image/png": "[encoded data removed]",
      "text/plain": [
       "<Figure size 432x288 with 1 Axes>"
      ]
     },
     "metadata": {
      "needs_background": "light"
     },
     "output_type": "display_data"
    },
    {
     "name": "stdout",
     "output_type": "stream",
     "text": [
      "Label: 3\n"
     ]
    }
   ],
   "source": [
    "# Display image and label.\n",
    "train_features, train_labels = next(iter(train_dataloader))\n",
    "print(f\"Feature batch shape: {train_features.size()}\")\n",
    "print(f\"Labels batch shape: {train_labels.size()}\")\n",
    "img = train_features[0].squeeze()\n",
    "label = train_labels[0]\n",
    "plt.imshow(img, cmap=\"gray\")\n",
    "plt.show()\n",
    "print(f\"Label: {label}\")"
   ]
  },
  {
   "cell_type": "code",
   "execution_count": null,
   "id": "2041f6d9-9be6-424c-b6c7-353f12da7bbd",
   "metadata": {},
   "outputs": [],
   "source": []
  },
  {
   "cell_type": "code",
   "execution_count": null,
   "id": "152f8bc7-e3a7-4a9c-b673-55e194abd404",
   "metadata": {},
   "outputs": [],
   "source": []
  },
  {
   "cell_type": "code",
   "execution_count": null,
   "id": "96f95b29-4073-4ea8-9a6b-7dabdde4e028",
   "metadata": {},
   "outputs": [],
   "source": []
  },
  {
   "cell_type": "code",
   "execution_count": null,
   "id": "eb964a0e-c935-4944-a11d-ef3fcc3c8ded",
   "metadata": {},
   "outputs": [],
   "source": []
  },
  {
   "cell_type": "code",
   "execution_count": null,
   "id": "685ea589-9790-4460-be40-fed4c685255a",
   "metadata": {},
   "outputs": [],
   "source": []
  },
  {
   "cell_type": "code",
   "execution_count": null,
   "id": "92282d6a-f09b-44ce-92c7-a502d902153d",
   "metadata": {},
   "outputs": [],
   "source": []
  },
  {
   "cell_type": "code",
   "execution_count": null,
   "id": "bcf42b29-890e-44dd-994b-4949f942441f",
   "metadata": {},
   "outputs": [],
   "source": []
  },
  {
   "cell_type": "code",
   "execution_count": null,
   "id": "f76de02f-a663-45be-9cb8-cd0110446d26",
   "metadata": {},
   "outputs": [],
   "source": []
  },
  {
   "cell_type": "code",
   "execution_count": null,
   "id": "87452363-8402-466a-86b3-b3c307bcbe70",
   "metadata": {},
   "outputs": [],
   "source": []
  },
  {
   "cell_type": "code",
   "execution_count": null,
   "id": "f7af9e47-c6ed-4835-b9e4-31e80e4e1fe4",
   "metadata": {},
   "outputs": [],
   "source": []
  },
  {
   "cell_type": "code",
   "execution_count": null,
   "id": "d4014ed2-5df4-46d4-ab61-f7816b349722",
   "metadata": {},
   "outputs": [],
   "source": []
  },
  {
   "cell_type": "code",
   "execution_count": null,
   "id": "f7c7edb0-30be-4fc3-9e05-3272a750bbff",
   "metadata": {},
   "outputs": [],
   "source": []
  },
  {
   "cell_type": "code",
   "execution_count": null,
   "id": "9bb0e0e1-3dbc-47aa-9804-aba19049fdd4",
   "metadata": {},
   "outputs": [],
   "source": []
  },
  {
   "cell_type": "code",
   "execution_count": null,
   "id": "ea0667d4-3e6e-46b1-bce5-78c384bfd76d",
   "metadata": {},
   "outputs": [],
   "source": []
  },
  {
   "cell_type": "code",
   "execution_count": null,
   "id": "fc093a87-4b7e-41af-912c-1ba5591e3477",
   "metadata": {},
   "outputs": [],
   "source": []
  },
  {
   "cell_type": "code",
   "execution_count": null,
   "id": "da9e1e75-bf56-4681-b3ae-b3bda90f214c",
   "metadata": {},
   "outputs": [],
   "source": []
  },
  {
   "cell_type": "code",
   "execution_count": null,
   "id": "dddbde0c-af40-4f61-8459-5539838a9768",
   "metadata": {},
   "outputs": [],
   "source": []
  },
  {
   "cell_type": "code",
   "execution_count": null,
   "id": "99e1dd38-849a-4c33-a357-5abbafc77a29",
   "metadata": {},
   "outputs": [],
   "source": []
  },
  {
   "cell_type": "code",
   "execution_count": null,
   "id": "3ad21808-07a2-44ae-8212-d18115d6957b",
   "metadata": {},
   "outputs": [],
   "source": []
  },
  {
   "cell_type": "code",
   "execution_count": null,
   "id": "58b46ddc-afa5-4273-b923-15d56881ff3b",
   "metadata": {},
   "outputs": [],
   "source": []
  },
  {
   "cell_type": "code",
   "execution_count": null,
   "id": "4dc927a8-2f68-4e77-8f33-7d62c301937c",
   "metadata": {},
   "outputs": [],
   "source": []
  },
  {
   "cell_type": "code",
   "execution_count": null,
   "id": "c5c7271e-d207-44e8-adec-3f9c9bc10610",
   "metadata": {},
   "outputs": [],
   "source": []
  },
  {
   "cell_type": "code",
   "execution_count": null,
   "id": "feea0aa1-5b86-4b8a-8acf-47a6ccb2d345",
   "metadata": {},
   "outputs": [],
   "source": []
  },
  {
   "cell_type": "code",
   "execution_count": null,
   "id": "a414e635-02f0-4bde-906a-ed7910255fd3",
   "metadata": {},
   "outputs": [],
   "source": []
  }
 ],
 "metadata": {
  "kernelspec": {
   "display_name": "pytorch_gpu",
   "language": "python",
   "name": "pytorch_gpu"
  },
  "language_info": {
   "codemirror_mode": {
    "name": "ipython",
    "version": 3
   },
   "file_extension": ".py",
   "mimetype": "text/x-python",
   "name": "python",
   "nbconvert_exporter": "python",
   "pygments_lexer": "ipython3",
   "version": "3.7.12"
  }
 },
 "nbformat": 4,
 "nbformat_minor": 5
}
