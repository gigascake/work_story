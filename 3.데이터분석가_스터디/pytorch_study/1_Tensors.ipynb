{
 "cells": [
  {
   "cell_type": "markdown",
   "id": "2ebd7db3-c9ce-4d43-b8dc-02fdf3753d9c",
   "metadata": {},
   "source": [
    "## Initializing a Tensor\n"
   ]
  },
  {
   "cell_type": "markdown",
   "id": "1e9e7011-a71e-449b-8eaf-ba51699c396d",
   "metadata": {},
   "source": [
    "### Directly from data"
   ]
  },
  {
   "cell_type": "code",
   "execution_count": 2,
   "id": "84e5f15c-75d3-47be-8229-dd4b2a3a837d",
   "metadata": {},
   "outputs": [],
   "source": [
    "import torch\n",
    "import numpy as np"
   ]
  },
  {
   "cell_type": "code",
   "execution_count": 3,
   "id": "d9636577-feb5-4781-92ca-588351c4cff1",
   "metadata": {},
   "outputs": [],
   "source": [
    "data = [[1, 2], [3, 4]]\n",
    "x_data = torch.tensor(data)"
   ]
  },
  {
   "cell_type": "code",
   "execution_count": 4,
   "id": "438b45ac-ebc1-4a7d-9d4d-fedd15016873",
   "metadata": {},
   "outputs": [
    {
     "data": {
      "text/plain": [
       "tensor([[1, 2],\n",
       "        [3, 4]])"
      ]
     },
     "execution_count": 4,
     "metadata": {},
     "output_type": "execute_result"
    }
   ],
   "source": [
    "x_data"
   ]
  },
  {
   "cell_type": "code",
   "execution_count": 5,
   "id": "84ea6b9f-9ed5-46bc-8334-7f7d1255d079",
   "metadata": {},
   "outputs": [
    {
     "data": {
      "text/plain": [
       "torch.Tensor"
      ]
     },
     "execution_count": 5,
     "metadata": {},
     "output_type": "execute_result"
    }
   ],
   "source": [
    "type(x_data)"
   ]
  },
  {
   "cell_type": "markdown",
   "id": "6bf141aa-5a65-44f1-bb55-6966385e5f63",
   "metadata": {},
   "source": [
    "### From a Numpy array"
   ]
  },
  {
   "cell_type": "code",
   "execution_count": 6,
   "id": "74e4a203-faf3-40a1-9c06-641d2e4b83e8",
   "metadata": {},
   "outputs": [],
   "source": [
    "np_array = np.array(data)\n",
    "x_np = torch.from_numpy(np_array)"
   ]
  },
  {
   "cell_type": "code",
   "execution_count": 7,
   "id": "9f52ac81-0160-4806-b94e-20f75631825c",
   "metadata": {},
   "outputs": [
    {
     "data": {
      "text/plain": [
       "tensor([[1, 2],\n",
       "        [3, 4]])"
      ]
     },
     "execution_count": 7,
     "metadata": {},
     "output_type": "execute_result"
    }
   ],
   "source": [
    "x_np"
   ]
  },
  {
   "cell_type": "code",
   "execution_count": 8,
   "id": "cce93460-9404-4f75-9285-5bcb8cfba91c",
   "metadata": {},
   "outputs": [
    {
     "data": {
      "text/plain": [
       "torch.Tensor"
      ]
     },
     "execution_count": 8,
     "metadata": {},
     "output_type": "execute_result"
    }
   ],
   "source": [
    "type(x_np)"
   ]
  },
  {
   "cell_type": "markdown",
   "id": "3e1417e5-9d6e-4ed1-853c-c63b95957bf4",
   "metadata": {},
   "source": [
    "### From another tensor:"
   ]
  },
  {
   "cell_type": "code",
   "execution_count": 9,
   "id": "f60d4fa8-ad1f-4a65-b873-7c741b689440",
   "metadata": {},
   "outputs": [
    {
     "data": {
      "text/plain": [
       "tensor([[1, 1],\n",
       "        [1, 1]])"
      ]
     },
     "execution_count": 9,
     "metadata": {},
     "output_type": "execute_result"
    }
   ],
   "source": [
    "x_ones = torch.ones_like(x_data)\n",
    "x_ones"
   ]
  },
  {
   "cell_type": "code",
   "execution_count": 10,
   "id": "9e705ddc-0613-4b07-b7cf-49f784d47b89",
   "metadata": {},
   "outputs": [
    {
     "data": {
      "text/plain": [
       "tensor([[0.7044, 0.5297],\n",
       "        [0.3645, 0.3195]])"
      ]
     },
     "execution_count": 10,
     "metadata": {},
     "output_type": "execute_result"
    }
   ],
   "source": [
    "x_rand = torch.rand_like(x_data, dtype=torch.float)\n",
    "x_rand"
   ]
  },
  {
   "cell_type": "markdown",
   "id": "ff4eb071-7d59-42c2-841e-002fa0005af2",
   "metadata": {},
   "source": [
    "### With random or constant values\n"
   ]
  },
  {
   "cell_type": "code",
   "execution_count": 11,
   "id": "5b676d1f-277f-4c8a-8344-5d6782603780",
   "metadata": {},
   "outputs": [
    {
     "name": "stdout",
     "output_type": "stream",
     "text": [
      "Random Tensor: \n",
      " tensor([[0.0133, 0.3715, 0.0962],\n",
      "        [0.5672, 0.3145, 0.7318]]) \n",
      "\n",
      "Ones Tensor: \n",
      " tensor([[1., 1., 1.],\n",
      "        [1., 1., 1.]]) \n",
      "\n",
      "Zeros Tensor: \n",
      " tensor([[0., 0., 0.],\n",
      "        [0., 0., 0.]]) \n",
      "\n"
     ]
    }
   ],
   "source": [
    "shape = (2, 3, )\n",
    "rand_tensor = torch.rand(shape)\n",
    "ones_tensor = torch.ones(shape)\n",
    "zeros_tensor = torch.zeros(shape)\n",
    "\n",
    "print(f\"Random Tensor: \\n {rand_tensor} \\n\")\n",
    "print(f\"Ones Tensor: \\n {ones_tensor} \\n\")\n",
    "print(f\"Zeros Tensor: \\n {zeros_tensor} \\n\")"
   ]
  },
  {
   "cell_type": "markdown",
   "id": "99b78454-6f66-43c2-819e-66d1533b676b",
   "metadata": {},
   "source": [
    "### Attributes of a Tensor"
   ]
  },
  {
   "cell_type": "code",
   "execution_count": 12,
   "id": "a7251be5-2f9b-4150-a540-79e05210c634",
   "metadata": {},
   "outputs": [
    {
     "name": "stdout",
     "output_type": "stream",
     "text": [
      "Shape of tensor: torch.Size([3, 4])\n",
      "Datatype of tensor: torch.float32\n",
      "Device tensor is stored on: cpu\n"
     ]
    }
   ],
   "source": [
    "tensor = torch.rand(3, 4)\n",
    "\n",
    "print(f\"Shape of tensor: {tensor.shape}\")\n",
    "print(f\"Datatype of tensor: {tensor.dtype}\")\n",
    "print(f\"Device tensor is stored on: {tensor.device}\")"
   ]
  },
  {
   "cell_type": "markdown",
   "id": "3c48ce4e-264a-4748-8467-61f07e632f7c",
   "metadata": {},
   "source": [
    "### Operations on Tensors"
   ]
  },
  {
   "cell_type": "code",
   "execution_count": 13,
   "id": "37b4d568-9812-4dcd-817f-8b0dbd94b04f",
   "metadata": {},
   "outputs": [],
   "source": [
    "if torch.cuda.is_available():\n",
    "    tensor = tensor.to('cuda:1')"
   ]
  },
  {
   "cell_type": "code",
   "execution_count": 14,
   "id": "6f44789e-0ebe-4460-b3e6-944efaf625a8",
   "metadata": {},
   "outputs": [
    {
     "data": {
      "text/plain": [
       "tensor([[0.8911, 0.4118, 0.7754, 0.2764],\n",
       "        [0.8623, 0.2838, 0.2924, 0.2264],\n",
       "        [0.3268, 0.1062, 0.5691, 0.5390]], device='cuda:1')"
      ]
     },
     "execution_count": 14,
     "metadata": {},
     "output_type": "execute_result"
    }
   ],
   "source": [
    "tensor"
   ]
  },
  {
   "cell_type": "markdown",
   "id": "dfea3b70-358c-45a1-aec5-a55df5d8f463",
   "metadata": {},
   "source": [
    "### Standard numpy-like indexing and slicing:"
   ]
  },
  {
   "cell_type": "code",
   "execution_count": 15,
   "id": "6f21f4f9-7165-4e08-a833-56e9fe059d26",
   "metadata": {},
   "outputs": [
    {
     "name": "stdout",
     "output_type": "stream",
     "text": [
      "First row:  tensor([1., 1., 1., 1.])\n",
      "First column:  tensor([1., 1., 1., 1.])\n",
      "Last column:  tensor([1., 1., 1., 1.])\n"
     ]
    },
    {
     "data": {
      "text/plain": [
       "tensor([[1., 0., 1., 1.],\n",
       "        [1., 0., 1., 1.],\n",
       "        [1., 0., 1., 1.],\n",
       "        [1., 0., 1., 1.]])"
      ]
     },
     "execution_count": 15,
     "metadata": {},
     "output_type": "execute_result"
    }
   ],
   "source": [
    "tensor = torch.ones(4, 4)\n",
    "print('First row: ', tensor[0])\n",
    "print('First column: ', tensor[:, 0])\n",
    "print('Last column: ', tensor[..., -1])\n",
    "tensor[:,1] = 0\n",
    "tensor"
   ]
  },
  {
   "cell_type": "markdown",
   "id": "fe3b874a-39be-47be-9cec-953c6f95e75b",
   "metadata": {},
   "source": [
    "### Joining tensors"
   ]
  },
  {
   "cell_type": "code",
   "execution_count": 16,
   "id": "6ff0d396-f56c-45d7-b12e-c3a0e2071e1c",
   "metadata": {},
   "outputs": [
    {
     "data": {
      "text/plain": [
       "tensor([[1., 0., 1., 1., 1., 0., 1., 1., 1., 0., 1., 1.],\n",
       "        [1., 0., 1., 1., 1., 0., 1., 1., 1., 0., 1., 1.],\n",
       "        [1., 0., 1., 1., 1., 0., 1., 1., 1., 0., 1., 1.],\n",
       "        [1., 0., 1., 1., 1., 0., 1., 1., 1., 0., 1., 1.]])"
      ]
     },
     "execution_count": 16,
     "metadata": {},
     "output_type": "execute_result"
    }
   ],
   "source": [
    "t1 = torch.cat([tensor, tensor, tensor], dim=1)\n",
    "t1"
   ]
  },
  {
   "cell_type": "markdown",
   "id": "2b01c034-e59e-4bf6-b9f7-df047abcce86",
   "metadata": {},
   "source": [
    "- 3개의 차원을 열벡터방향(dim=1)으로 결합(cat)하였다."
   ]
  },
  {
   "cell_type": "markdown",
   "id": "19ce9ff9-b5df-42dd-9fcf-5c977fa3920e",
   "metadata": {},
   "source": [
    "### Arithmetic operations\n"
   ]
  },
  {
   "cell_type": "code",
   "execution_count": 17,
   "id": "53f1dcdc-4b2a-4a89-b205-9cb5bf5dfc62",
   "metadata": {},
   "outputs": [
    {
     "data": {
      "text/plain": [
       "tensor([[3., 3., 3., 3.],\n",
       "        [3., 3., 3., 3.],\n",
       "        [3., 3., 3., 3.],\n",
       "        [3., 3., 3., 3.]])"
      ]
     },
     "execution_count": 17,
     "metadata": {},
     "output_type": "execute_result"
    }
   ],
   "source": [
    "y1 = tensor @ tensor.T\n",
    "y1"
   ]
  },
  {
   "cell_type": "code",
   "execution_count": 18,
   "id": "ea034d2e-16fe-49d7-bb68-166b79eea10d",
   "metadata": {},
   "outputs": [
    {
     "data": {
      "text/plain": [
       "tensor([[3., 3., 3., 3.],\n",
       "        [3., 3., 3., 3.],\n",
       "        [3., 3., 3., 3.],\n",
       "        [3., 3., 3., 3.]])"
      ]
     },
     "execution_count": 18,
     "metadata": {},
     "output_type": "execute_result"
    }
   ],
   "source": [
    "y2 = tensor.matmul(tensor.T)\n",
    "y2"
   ]
  },
  {
   "cell_type": "code",
   "execution_count": 19,
   "id": "c59ad95b-44ae-4a51-8361-6f66223a9481",
   "metadata": {},
   "outputs": [
    {
     "data": {
      "text/plain": [
       "tensor([[3., 3., 3., 3.],\n",
       "        [3., 3., 3., 3.],\n",
       "        [3., 3., 3., 3.],\n",
       "        [3., 3., 3., 3.]])"
      ]
     },
     "execution_count": 19,
     "metadata": {},
     "output_type": "execute_result"
    }
   ],
   "source": [
    "y3 = torch.rand_like(tensor)\n",
    "torch.matmul(tensor, tensor.T, out=y3)"
   ]
  },
  {
   "cell_type": "code",
   "execution_count": 20,
   "id": "abf6b0f2-333d-4225-a4a9-d6b68b53445b",
   "metadata": {},
   "outputs": [
    {
     "data": {
      "text/plain": [
       "tensor([[1., 0., 1., 1.],\n",
       "        [1., 0., 1., 1.],\n",
       "        [1., 0., 1., 1.],\n",
       "        [1., 0., 1., 1.]])"
      ]
     },
     "execution_count": 20,
     "metadata": {},
     "output_type": "execute_result"
    }
   ],
   "source": [
    "z1 = tensor * tensor\n",
    "z1"
   ]
  },
  {
   "cell_type": "code",
   "execution_count": 21,
   "id": "9206da79-1a80-44df-9974-d80c54a8eaeb",
   "metadata": {},
   "outputs": [
    {
     "data": {
      "text/plain": [
       "tensor([[1., 0., 1., 1.],\n",
       "        [1., 0., 1., 1.],\n",
       "        [1., 0., 1., 1.],\n",
       "        [1., 0., 1., 1.]])"
      ]
     },
     "execution_count": 21,
     "metadata": {},
     "output_type": "execute_result"
    }
   ],
   "source": [
    "z2 = tensor.mul(tensor)\n",
    "z2"
   ]
  },
  {
   "cell_type": "code",
   "execution_count": 22,
   "id": "471e168d-4774-48a1-b375-6ea7a1ce8055",
   "metadata": {},
   "outputs": [
    {
     "data": {
      "text/plain": [
       "tensor([[0.9901, 0.1288, 0.1194, 0.9820],\n",
       "        [0.7310, 0.0783, 0.1474, 0.3323],\n",
       "        [0.2257, 0.5236, 0.1213, 0.4945],\n",
       "        [0.4166, 0.3874, 0.0177, 0.4364]])"
      ]
     },
     "execution_count": 22,
     "metadata": {},
     "output_type": "execute_result"
    }
   ],
   "source": [
    "z3 = torch.rand_like(tensor)\n",
    "z3"
   ]
  },
  {
   "cell_type": "code",
   "execution_count": 23,
   "id": "a17cf397-93d7-4672-8a12-9010132d7041",
   "metadata": {},
   "outputs": [
    {
     "data": {
      "text/plain": [
       "tensor([[1., 0., 1., 1.],\n",
       "        [1., 0., 1., 1.],\n",
       "        [1., 0., 1., 1.],\n",
       "        [1., 0., 1., 1.]])"
      ]
     },
     "execution_count": 23,
     "metadata": {},
     "output_type": "execute_result"
    }
   ],
   "source": [
    "torch.mul(tensor, tensor, out=z3)"
   ]
  },
  {
   "cell_type": "markdown",
   "id": "38a52ebf-6139-4f24-ad31-0b9bbebde7e1",
   "metadata": {},
   "source": [
    "### Single-element tensors "
   ]
  },
  {
   "cell_type": "code",
   "execution_count": 24,
   "id": "60e8234e-9117-435c-b1fb-8341346c142a",
   "metadata": {},
   "outputs": [
    {
     "name": "stdout",
     "output_type": "stream",
     "text": [
      "12.0 <class 'float'>\n"
     ]
    }
   ],
   "source": [
    "agg = tensor.sum()\n",
    "agg_item = agg.item()\n",
    "print(agg_item, type(agg_item))"
   ]
  },
  {
   "cell_type": "markdown",
   "id": "477005c2-0128-4bb9-89ad-663d26b4918d",
   "metadata": {},
   "source": [
    "### In-place operations\n",
    "- 결과를 피연산자에 저장하는 작업\n",
    "- x.copy_(y), x.t_()"
   ]
  },
  {
   "cell_type": "code",
   "execution_count": 25,
   "id": "ed301d06-c24e-4998-87c3-e72eaad66428",
   "metadata": {},
   "outputs": [
    {
     "name": "stdout",
     "output_type": "stream",
     "text": [
      "tensor([[1., 0., 1., 1.],\n",
      "        [1., 0., 1., 1.],\n",
      "        [1., 0., 1., 1.],\n",
      "        [1., 0., 1., 1.]]) \n",
      "\n",
      "tensor([[6., 5., 6., 6.],\n",
      "        [6., 5., 6., 6.],\n",
      "        [6., 5., 6., 6.],\n",
      "        [6., 5., 6., 6.]])\n"
     ]
    }
   ],
   "source": [
    "print(tensor, \"\\n\")\n",
    "tensor.add_(5)\n",
    "print(tensor)"
   ]
  },
  {
   "cell_type": "markdown",
   "id": "88e4880e-8f96-4040-8f9e-2c32dd8f00e3",
   "metadata": {},
   "source": [
    "### Bridge with Numpy\n"
   ]
  },
  {
   "cell_type": "markdown",
   "id": "a597b12e-9b17-49e8-b487-23056729312b",
   "metadata": {},
   "source": [
    "- CPU와 Numpy 배열의 텐서는 기본 메모리위치를 공유할 수 있으며, 하나를 변경하면 다른 하나가변경됩니다."
   ]
  },
  {
   "cell_type": "code",
   "execution_count": 27,
   "id": "9644f5a8-b8a6-4e3e-a440-eec8c2a4635d",
   "metadata": {},
   "outputs": [
    {
     "name": "stdout",
     "output_type": "stream",
     "text": [
      "t: tensor([1., 1., 1., 1., 1.])\n",
      "n: [1. 1. 1. 1. 1.]\n"
     ]
    }
   ],
   "source": [
    "t = torch.ones(5)\n",
    "print(f\"t: {t}\")\n",
    "n = t.numpy()\n",
    "print(f\"n: {n}\")"
   ]
  },
  {
   "cell_type": "code",
   "execution_count": 28,
   "id": "ee976d59-1774-4581-890b-8c509fa3d5e7",
   "metadata": {},
   "outputs": [
    {
     "data": {
      "text/plain": [
       "torch.Tensor"
      ]
     },
     "execution_count": 28,
     "metadata": {},
     "output_type": "execute_result"
    }
   ],
   "source": [
    "type(t)"
   ]
  },
  {
   "cell_type": "code",
   "execution_count": 29,
   "id": "9cc76820-9a28-4c7a-87ed-f58f1612c042",
   "metadata": {},
   "outputs": [
    {
     "data": {
      "text/plain": [
       "numpy.ndarray"
      ]
     },
     "execution_count": 29,
     "metadata": {},
     "output_type": "execute_result"
    }
   ],
   "source": [
    "type(n)"
   ]
  },
  {
   "cell_type": "code",
   "execution_count": 30,
   "id": "64bdfd10-fc84-4b1d-a7d5-8d7b5a4bd408",
   "metadata": {},
   "outputs": [
    {
     "name": "stdout",
     "output_type": "stream",
     "text": [
      "t: tensor([2., 2., 2., 2., 2.])\n",
      "n: [2. 2. 2. 2. 2.]\n"
     ]
    }
   ],
   "source": [
    "t.add_(1)\n",
    "print(f\"t: {t}\")\n",
    "print(f\"n: {n}\")"
   ]
  },
  {
   "cell_type": "markdown",
   "id": "a3482979-183b-4e20-80ea-8f1a541b7140",
   "metadata": {},
   "source": [
    "### Numpy array to Tensor"
   ]
  },
  {
   "cell_type": "code",
   "execution_count": 31,
   "id": "9a5a89c3-fd6d-41a8-b011-a7f9f4deab3b",
   "metadata": {},
   "outputs": [],
   "source": [
    "n = np.ones(5)\n",
    "t = torch.from_numpy(n)"
   ]
  },
  {
   "cell_type": "code",
   "execution_count": 32,
   "id": "8a778f36-502f-4048-bc8b-c81331963813",
   "metadata": {},
   "outputs": [
    {
     "name": "stdout",
     "output_type": "stream",
     "text": [
      "t: tensor([2., 2., 2., 2., 2.], dtype=torch.float64)\n",
      "n: [2. 2. 2. 2. 2.]\n"
     ]
    }
   ],
   "source": [
    "np.add(n, 1, out=n)\n",
    "print(f\"t: {t}\")\n",
    "print(f\"n: {n}\")"
   ]
  },
  {
   "cell_type": "code",
   "execution_count": null,
   "id": "d0a0ff4f-4742-423f-9f5e-4af343d76142",
   "metadata": {},
   "outputs": [],
   "source": []
  }
 ],
 "metadata": {
  "kernelspec": {
   "display_name": "pytorch_gpu",
   "language": "python",
   "name": "pytorch_gpu"
  },
  "language_info": {
   "codemirror_mode": {
    "name": "ipython",
    "version": 3
   },
   "file_extension": ".py",
   "mimetype": "text/x-python",
   "name": "python",
   "nbconvert_exporter": "python",
   "pygments_lexer": "ipython3",
   "version": "3.7.12"
  }
 },
 "nbformat": 4,
 "nbformat_minor": 5
}
