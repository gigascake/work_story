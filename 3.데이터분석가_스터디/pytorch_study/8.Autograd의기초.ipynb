{
 "cells": [
  {
   "cell_type": "markdown",
   "id": "2846a1ed-c34d-4b49-bc8c-529169961404",
   "metadata": {},
   "source": [
    "## Autograd의 기초"
   ]
  },
  {
   "cell_type": "markdown",
   "id": "e6cd9772-8425-409a-9cb2-aa2852a3753e",
   "metadata": {},
   "source": [
    "- PyTorch의 Autograd 기능은 PyTorch를 기계 학습 프로젝트 구축을 위해 유연하고 빠르게 만드는 것의 일부입니다. 복잡한 계산을 통해 여러 편도함수( 그라디언트 라고도 함)를 빠르고 쉽게 계산할 수 있습니다 . 이 작업은 역전파 기반 신경망 학습의 핵심입니다.\n",
    "- autograd의 힘은 런타임에 계산을 동적으로 추적한다는 사실에서 비롯됩니다 . 즉, 모델에 결정 분기 또는 런타임까지 길이를 알 수 없는 루프가 있는 경우 계산이 여전히 올바르게 추적되고 올바른 결과를 얻을 수 있습니다. 학습을 유도하는 그라디언트. 이는 모델이 Python으로 구축되었다는 사실과 결합되어 그라디언트 계산을 위해 보다 엄격하게 구조화된 모델의 정적 분석에 의존하는 프레임워크보다 훨씬 더 많은 유연성을 제공합니다."
   ]
  },
  {
   "cell_type": "markdown",
   "id": "1ab680c9-6983-4bac-a29b-232aa4e9d460",
   "metadata": {},
   "source": [
    "### Autograd가 필요한 이유는 무엇입니까?"
   ]
  },
  {
   "cell_type": "markdown",
   "id": "62aa0c3c-23ec-4504-a22d-dae300b4b2ec",
   "metadata": {},
   "source": [
    "- 오토그라드는 다음과 같다. 그것은 모든 계산의 역사를 추적한다. PyTorch 모델의 모든 계산 텐서는 입력 텐서와 이를 만드는 데 사용된 함수의 이력을 가지고 있다.\n",
    "- 각각 텐서에 작용하도록 의도된 파이토치 함수가 자체 도함수를 계산하기 위한 내장 구현을 가지고 있다는 사실과 결합하면 학습에 필요한 로컬 도함수의 계산 속도를 크게 높일 수 있다."
   ]
  },
  {
   "cell_type": "markdown",
   "id": "db5e3f6a-96e1-4810-b5f6-c804dafbf1e8",
   "metadata": {},
   "source": [
    "### A Simple Example"
   ]
  },
  {
   "cell_type": "code",
   "execution_count": 1,
   "id": "610905a4-ef4d-4362-8027-ffd0f591ed7e",
   "metadata": {},
   "outputs": [],
   "source": [
    "%matplotlib inline\n",
    "import torch\n",
    "\n",
    "import matplotlib.pyplot as plt\n",
    "import matplotlib.ticker as ticker \n",
    "import math"
   ]
  },
  {
   "cell_type": "markdown",
   "id": "539f499e-97f0-4fc0-a1c5-629e701cb863",
   "metadata": {},
   "source": [
    "-  required_grad=True 이 플래그를 설정하는 것은 이어지는 모든 계산에서 autograd가 해당 계산의 출력 텐서에 계산 기록을 축적한다는 것을 의미한다.\n",
    "- torch.linspace : 값이 처음부터 끝까지 균등하게 배치된 1차원 텐서를 작성합니다. 즉, 값은 다음과 같다."
   ]
  },
  {
   "cell_type": "code",
   "execution_count": 2,
   "id": "42bb9c14-dbff-4928-b8f2-834b21a91686",
   "metadata": {},
   "outputs": [
    {
     "name": "stdout",
     "output_type": "stream",
     "text": [
      "tensor([0.0000, 0.2618, 0.5236, 0.7854, 1.0472, 1.3090, 1.5708, 1.8326, 2.0944,\n",
      "        2.3562, 2.6180, 2.8798, 3.1416, 3.4034, 3.6652, 3.9270, 4.1888, 4.4506,\n",
      "        4.7124, 4.9742, 5.2360, 5.4978, 5.7596, 6.0214, 6.2832],\n",
      "       requires_grad=True)\n"
     ]
    }
   ],
   "source": [
    "a = torch.linspace(0., 2. * math.pi, steps=25, requires_grad=True)\n",
    "print(a)"
   ]
  },
  {
   "cell_type": "code",
   "execution_count": 3,
   "id": "dc44c2b2-c7fb-4a52-b9de-588343707a90",
   "metadata": {},
   "outputs": [
    {
     "data": {
      "text/plain": [
       "[<matplotlib.lines.Line2D at 0x7f966c433ad0>]"
      ]
     },
     "execution_count": 3,
     "metadata": {},
     "output_type": "execute_result"
    },
    {
     "data": {
      "image/png": "[encoded data removed]",
      "text/plain": [
       "<Figure size 432x288 with 1 Axes>"
      ]
     },
     "metadata": {
      "needs_background": "light"
     },
     "output_type": "display_data"
    }
   ],
   "source": [
    "b = torch.sin(a)\n",
    "plt.plot(a.detach(), b.detach())"
   ]
  },
  {
   "cell_type": "markdown",
   "id": "13294816-16b7-43ea-bfa1-0098ed6206d0",
   "metadata": {},
   "source": [
    "- Tensor가 기록을 추적하는 것을 중단하게 하려면, .detach()를 호출하여 연산 기록으로부터 분리(detach)하여 이후 연산들이 추적되는 것을 방지할 수 있습니다."
   ]
  },
  {
   "cell_type": "markdown",
   "id": "b4f8f522-c66f-4f65-a0dc-7e44543881d0",
   "metadata": {},
   "source": [
    "- 이 grad_fn은 역전파 단계를 실행하고 기울기를 계산할 때, 이 텐서의 모든 입력에 대한 sin(x)의 미분(도함수)을 계산할 필요가 있다는 힌트를 준다."
   ]
  },
  {
   "cell_type": "code",
   "execution_count": 5,
   "id": "33ab5669-d15c-4eb1-8bbc-8948e299f971",
   "metadata": {},
   "outputs": [
    {
     "name": "stdout",
     "output_type": "stream",
     "text": [
      "tensor([ 0.0000e+00,  5.1764e-01,  1.0000e+00,  1.4142e+00,  1.7321e+00,\n",
      "         1.9319e+00,  2.0000e+00,  1.9319e+00,  1.7321e+00,  1.4142e+00,\n",
      "         1.0000e+00,  5.1764e-01, -1.7485e-07, -5.1764e-01, -1.0000e+00,\n",
      "        -1.4142e+00, -1.7321e+00, -1.9319e+00, -2.0000e+00, -1.9319e+00,\n",
      "        -1.7321e+00, -1.4142e+00, -1.0000e+00, -5.1764e-01,  3.4969e-07],\n",
      "       grad_fn=<MulBackward0>)\n",
      "tensor([ 1.0000e+00,  1.5176e+00,  2.0000e+00,  2.4142e+00,  2.7321e+00,\n",
      "         2.9319e+00,  3.0000e+00,  2.9319e+00,  2.7321e+00,  2.4142e+00,\n",
      "         2.0000e+00,  1.5176e+00,  1.0000e+00,  4.8236e-01, -3.5763e-07,\n",
      "        -4.1421e-01, -7.3205e-01, -9.3185e-01, -1.0000e+00, -9.3185e-01,\n",
      "        -7.3205e-01, -4.1421e-01,  4.7684e-07,  4.8236e-01,  1.0000e+00],\n",
      "       grad_fn=<AddBackward0>)\n"
     ]
    }
   ],
   "source": [
    "c = 2 * b\n",
    "print(c)\n",
    "\n",
    "d = c + 1\n",
    "print(d)"
   ]
  },
  {
   "cell_type": "markdown",
   "id": "c3ab837c-7ca4-44fa-a76c-6e78fa8baf37",
   "metadata": {},
   "source": [
    "- 마지막으로 단일 요소 출력을 계산해 보겠습니다. 인수가 없는 텐서에서 .backward()를 호출할 때, 손실 함수를 계산할 때처럼 호출 텐서는 단일 요소만 포함할 것으로 예상한다."
   ]
  },
  {
   "cell_type": "code",
   "execution_count": 6,
   "id": "f8912ae2-a7c1-4de3-ac5d-cfa1bd3dca4f",
   "metadata": {},
   "outputs": [
    {
     "name": "stdout",
     "output_type": "stream",
     "text": [
      "tensor(25., grad_fn=<SumBackward0>)\n"
     ]
    }
   ],
   "source": [
    "out = d.sum()\n",
    "print(out)"
   ]
  },
  {
   "cell_type": "markdown",
   "id": "445d6d42-6599-4628-b2e0-b597903a50a3",
   "metadata": {},
   "source": [
    "- 우리의 텐서와 함께 저장된 각각의 grad_fn은 당신이 그것의 next_functions 속성으로 그것의 입력까지 연산을 할 수 있게 해준다. 아래에서 볼 수 있듯이 d에서 이 속성을 드릴다운하면 모든 선행 텐서에 대한 그라데이션 함수를 볼 수 있습니다. a.grad_fn은 없음으로 보고되며, 이는 자체 이력이 없는 함수에 대한 입력임을 나타낸다."
   ]
  },
  {
   "cell_type": "code",
   "execution_count": 7,
   "id": "b54d6740-d30e-4b36-bfe6-14bd7b8f589c",
   "metadata": {},
   "outputs": [
    {
     "name": "stdout",
     "output_type": "stream",
     "text": [
      "d:\n",
      "<AddBackward0 object at 0x7f966c3466d0>\n",
      "((<MulBackward0 object at 0x7f966c346990>, 0), (None, 0))\n",
      "((<SinBackward object at 0x7f966c3466d0>, 0), (None, 0))\n",
      "((<AccumulateGrad object at 0x7f966c346b50>, 0),)\n",
      "()\n",
      "\n",
      "c:\n",
      "<MulBackward0 object at 0x7f966c346d90>\n",
      "\n",
      "b:\n",
      "<SinBackward object at 0x7f966c346d90>\n",
      "\n",
      "a:\n",
      "None\n"
     ]
    }
   ],
   "source": [
    "print('d:')\n",
    "print(d.grad_fn)\n",
    "print(d.grad_fn.next_functions)\n",
    "print(d.grad_fn.next_functions[0][0].next_functions)\n",
    "print(d.grad_fn.next_functions[0][0].next_functions[0][0].next_functions)\n",
    "print(d.grad_fn.next_functions[0][0].next_functions[0][0].next_functions[0][0].next_functions)\n",
    "print('\\nc:')\n",
    "print(c.grad_fn)\n",
    "print('\\nb:')\n",
    "print(b.grad_fn)\n",
    "print('\\na:')\n",
    "print(a.grad_fn)"
   ]
  },
  {
   "cell_type": "markdown",
   "id": "ae42e67b-7e56-44be-a62e-19a83f4cb2ae",
   "metadata": {},
   "source": [
    "- With all this machinery in place, how do we get derivatives out? You call the backward() method on the output, and check the input’s grad property to inspect the gradients:"
   ]
  },
  {
   "cell_type": "code",
   "execution_count": 8,
   "id": "cf112d5c-2bfa-46fb-9b68-b12a66d15ca8",
   "metadata": {},
   "outputs": [
    {
     "name": "stdout",
     "output_type": "stream",
     "text": [
      "tensor([ 2.0000e+00,  1.9319e+00,  1.7321e+00,  1.4142e+00,  1.0000e+00,\n",
      "         5.1764e-01, -8.7423e-08, -5.1764e-01, -1.0000e+00, -1.4142e+00,\n",
      "        -1.7321e+00, -1.9319e+00, -2.0000e+00, -1.9319e+00, -1.7321e+00,\n",
      "        -1.4142e+00, -1.0000e+00, -5.1764e-01,  2.3850e-08,  5.1764e-01,\n",
      "         1.0000e+00,  1.4142e+00,  1.7321e+00,  1.9319e+00,  2.0000e+00])\n"
     ]
    },
    {
     "data": {
      "text/plain": [
       "[<matplotlib.lines.Line2D at 0x7f96634060d0>]"
      ]
     },
     "execution_count": 8,
     "metadata": {},
     "output_type": "execute_result"
    },
    {
     "data": {
      "image/png": "[encoded data removed]",
      "text/plain": [
       "<Figure size 432x288 with 1 Axes>"
      ]
     },
     "metadata": {
      "needs_background": "light"
     },
     "output_type": "display_data"
    }
   ],
   "source": [
    "out.backward()\n",
    "print(a.grad)\n",
    "plt.plot(a.detach(), a.grad.detach())"
   ]
  },
  {
   "cell_type": "code",
   "execution_count": 9,
   "id": "69103d6f-3f6a-4155-b6a0-2bbdff802ae2",
   "metadata": {},
   "outputs": [],
   "source": [
    "a = torch.linspace(0., 2. * math.pi, steps=25, requires_grad=True)\n",
    "b = torch.sin(a)\n",
    "c = 2 * b\n",
    "d = c + 1\n",
    "out = d.sum()"
   ]
  },
  {
   "cell_type": "code",
   "execution_count": 10,
   "id": "c80063f6-dabc-4f3e-8ec1-592383d2fc82",
   "metadata": {},
   "outputs": [
    {
     "data": {
      "text/plain": [
       "tensor(25., grad_fn=<SumBackward0>)"
      ]
     },
     "execution_count": 10,
     "metadata": {},
     "output_type": "execute_result"
    }
   ],
   "source": [
    "out"
   ]
  },
  {
   "cell_type": "markdown",
   "id": "f71dc67b-2e28-469b-8325-48d32a57466c",
   "metadata": {},
   "source": [
    "- 계산의 리프 노드만 그레이디언트를 계산한다는 점에 유의하십시오. 예를 들어 인쇄(c.grad)를 시도하면 없음이 반환됩니다. 이 간단한 예에서는 입력만 리프 노드이므로, 입력만 그레이디언트가 계산된다"
   ]
  },
  {
   "cell_type": "markdown",
   "id": "b1c0cae8-ce04-43dd-8227-75f04b3bb752",
   "metadata": {},
   "source": [
    "### Autograd in Training"
   ]
  },
  {
   "cell_type": "markdown",
   "id": "2ec4d884-babb-47bd-b0c8-fd5aa8af40ea",
   "metadata": {},
   "source": [
    "- 오토그라드가 어떻게 작동하는지 간략히 살펴봤지만, 목적대로 사용되었을 때 어떻게 보일까요? 작은 모델을 정의하고 단일 교육 배치 후 어떻게 변화하는지 알아보겠습니다. 먼저 몇 가지 상수, 모델 및 입력 및 출력에 대한 몇 가지 대역을 정의합니다"
   ]
  },
  {
   "cell_type": "code",
   "execution_count": 11,
   "id": "934f410f-351f-4159-8b0c-9c106213da06",
   "metadata": {},
   "outputs": [],
   "source": [
    "BATCH_SIZE = 16\n",
    "DIM_IN = 1000\n",
    "HIDDEN_SIZE = 100\n",
    "DIM_OUT = 10\n",
    "\n",
    "class TinyModel(torch.nn.Module):\n",
    "\n",
    "    def __init__(self):\n",
    "        super(TinyModel, self).__init__()\n",
    "\n",
    "        self.layer1 = torch.nn.Linear(1000, 100)\n",
    "        self.relu = torch.nn.ReLU()\n",
    "        self.layer2 = torch.nn.Linear(100, 10)\n",
    "\n",
    "    def forward(self, x):\n",
    "        x = self.layer1(x)\n",
    "        x = self.relu(x)\n",
    "        x = self.layer2(x)\n",
    "        return x\n",
    "\n",
    "some_input = torch.randn(BATCH_SIZE, DIM_IN, requires_grad=False)\n",
    "ideal_output = torch.randn(BATCH_SIZE, DIM_OUT, requires_grad=False)\n",
    "\n",
    "model = TinyModel()"
   ]
  },
  {
   "cell_type": "markdown",
   "id": "5dded4eb-4ea9-49b9-9cf5-74cdbc2210a5",
   "metadata": {},
   "source": [
    "- One thing you might notice is that we never specify requires_grad=True for the model’s layers. Within a subclass of torch.nn.Module, it’s assumed that we want to track gradients on the layers’ weights for learning.\n",
    "- 모델의 레이어를 살펴보면 가중치의 값을 검사하고 아직 그라디언트가 계산되지 않았 음을 확인할 수 있습니다.\n",
    "\n",
    "\n"
   ]
  },
  {
   "cell_type": "code",
   "execution_count": 12,
   "id": "4476d403-fdc5-4f00-afba-9fadf942c244",
   "metadata": {},
   "outputs": [
    {
     "name": "stdout",
     "output_type": "stream",
     "text": [
      "tensor([-0.0981,  0.0572, -0.0513, -0.0210, -0.0861, -0.0190,  0.0889,  0.0679,\n",
      "         0.0308, -0.0888], grad_fn=<SliceBackward>)\n",
      "None\n"
     ]
    }
   ],
   "source": [
    "print(model.layer2.weight[0][0:10]) # just a small slice\n",
    "print(model.layer2.weight.grad)"
   ]
  },
  {
   "cell_type": "markdown",
   "id": "ef2a6705-d8ab-4f3a-adc1-6f6da7b13db5",
   "metadata": {},
   "source": [
    "- 하나의 교육 배치를 실행해 볼 때 이것이 어떻게 변하는지 알아보겠습니다. 손실 함수에 대해서는 예측과 이상_출력 사이의 유클리드 거리의 제곱을 사용하고 기본적인 확률적 경사 강하 최적화 도구를 사용할 것이다."
   ]
  },
  {
   "cell_type": "code",
   "execution_count": 13,
   "id": "0cb3dce8-df88-47fc-a967-84b9b3e0962c",
   "metadata": {},
   "outputs": [
    {
     "name": "stdout",
     "output_type": "stream",
     "text": [
      "tensor(150.4544, grad_fn=<SumBackward0>)\n"
     ]
    }
   ],
   "source": [
    "optimizer = torch.optim.SGD(model.parameters(), lr=0.001)\n",
    "\n",
    "prediction = model(some_input)\n",
    "\n",
    "loss = (ideal_output - prediction).pow(2).sum()\n",
    "print(loss)"
   ]
  },
  {
   "cell_type": "code",
   "execution_count": 15,
   "id": "57e9baed-6cf9-46bc-87ae-e0de16bdd341",
   "metadata": {},
   "outputs": [
    {
     "name": "stdout",
     "output_type": "stream",
     "text": [
      "tensor([-0.0981,  0.0572, -0.0513, -0.0210, -0.0861, -0.0190,  0.0889,  0.0679,\n",
      "         0.0308, -0.0888], grad_fn=<SliceBackward>)\n",
      "tensor([ 4.2519, -2.7065,  0.2412, -2.9373,  0.0599,  3.8087,  3.0970,  0.5012,\n",
      "        -0.8951,  4.3931])\n"
     ]
    }
   ],
   "source": [
    "loss.backward()\n",
    "print(model.layer2.weight[0][0:10])\n",
    "print(model.layer2.weight.grad[0][0:10])"
   ]
  },
  {
   "cell_type": "markdown",
   "id": "8d7fd736-4e4c-4e60-9df9-1b81becfc959",
   "metadata": {},
   "source": [
    "- 각 학습 가중치에 대해 기울기가 계산되었지만 최적화 프로그램을 아직 실행하지 않았기 때문에 가중치는 변경되지 않았습니다. 최적화 도구는 계산된 그라데이션에 따라 모델 가중치를 업데이트하는 역할을 합니다."
   ]
  },
  {
   "cell_type": "code",
   "execution_count": 16,
   "id": "3dbbb259-be3e-4070-9bfb-a85d36b810a7",
   "metadata": {},
   "outputs": [
    {
     "name": "stdout",
     "output_type": "stream",
     "text": [
      "tensor([ 4.2519, -2.7065,  0.2412, -2.9373,  0.0599,  3.8087,  3.0970,  0.5012,\n",
      "        -0.8951,  4.3931])\n",
      "tensor([ 25.5115, -16.2392,   1.4469, -17.6239,   0.3594,  22.8524,  18.5821,\n",
      "          3.0074,  -5.3706,  26.3588])\n",
      "tensor([0., 0., 0., 0., 0., 0., 0., 0., 0., 0.])\n"
     ]
    }
   ],
   "source": [
    "print(model.layer2.weight.grad[0][0:10])\n",
    "\n",
    "for i in range(0, 5):\n",
    "    prediction = model(some_input)\n",
    "    loss = (ideal_output - prediction).pow(2).sum()\n",
    "    loss.backward()\n",
    "\n",
    "print(model.layer2.weight.grad[0][0:10])\n",
    "\n",
    "optimizer.zero_grad()\n",
    "\n",
    "print(model.layer2.weight.grad[0][0:10])"
   ]
  },
  {
   "cell_type": "markdown",
   "id": "f9054394-cc8e-438b-822d-32c5010d2b3c",
   "metadata": {},
   "source": [
    "- 위의 셀을 실행한 후, loss.backward()를 여러 번 실행하면 대부분의 그라데이션의 크기가 훨씬 커집니다. 다음 교육 배치를 실행하기 전에 그레이디언트를 0으로 설정하지 않으면 그레이디언트가 이러한 방식으로 폭발하여 부정확하고 예측 불가능한 학습 결과가 초래됩니다."
   ]
  },
  {
   "cell_type": "markdown",
   "id": "d70c51d5-4539-4efa-a819-82b9a790f5fb",
   "metadata": {},
   "source": [
    "### Turning Autograd Off and On"
   ]
  },
  {
   "cell_type": "markdown",
   "id": "ac073d84-8769-48dc-bd3b-dbe146ea110e",
   "metadata": {},
   "source": [
    "- autograd 활성화 여부를 세부적으로 제어해야 하는 경우가 있습니다. 이렇게 하는 방법은 상황에 따라 여러 가지가 있습니다. 가장 간단한 방법은 텐서 상의 required_grad 플래그를 직접 변경하는 것이다."
   ]
  },
  {
   "cell_type": "code",
   "execution_count": 17,
   "id": "9c3069cb-e28f-418a-8eaa-1e0eb96d6d74",
   "metadata": {},
   "outputs": [
    {
     "name": "stdout",
     "output_type": "stream",
     "text": [
      "tensor([[1., 1., 1.],\n",
      "        [1., 1., 1.]], requires_grad=True)\n",
      "tensor([[2., 2., 2.],\n",
      "        [2., 2., 2.]], grad_fn=<MulBackward0>)\n",
      "tensor([[2., 2., 2.],\n",
      "        [2., 2., 2.]])\n"
     ]
    }
   ],
   "source": [
    "a = torch.ones(2, 3, requires_grad=True)\n",
    "print(a)\n",
    "\n",
    "b1 = 2 * a\n",
    "print(b1)\n",
    "\n",
    "a.requires_grad = False\n",
    "b2 = 2 * a\n",
    "print(b2)"
   ]
  },
  {
   "cell_type": "markdown",
   "id": "d4d11fb4-6ae3-49df-a023-5ed6573fc393",
   "metadata": {},
   "source": [
    "- 위의 셀에서, 우리는 b1이 grad_fn (즉, 추적된 계산 이력)을 갖는 것을 볼 수 있는데, 이것은 오토그라드가 켜진 텐서 a로부터 파생되었기 때문에 우리가 예상하는 것이다. a.requires_grad = False로 명시적으로 autograd를 끄면, b2를 계산할 때 볼 수 있듯이 계산 내역이 더 이상 추적되지 않는다."
   ]
  },
  {
   "cell_type": "markdown",
   "id": "d7272a18-ec89-47e4-9976-a372a5c50dc6",
   "metadata": {},
   "source": [
    "- autograd를 일시적으로만 해제해야 하는 경우 torch.no_gradp를 사용하는 것이 더 나은 방법입니다.\n"
   ]
  },
  {
   "cell_type": "code",
   "execution_count": 18,
   "id": "6655f56b-1451-4d87-9a60-e30570b9b756",
   "metadata": {},
   "outputs": [
    {
     "name": "stdout",
     "output_type": "stream",
     "text": [
      "tensor([[5., 5., 5.],\n",
      "        [5., 5., 5.]], grad_fn=<AddBackward0>)\n",
      "tensor([[5., 5., 5.],\n",
      "        [5., 5., 5.]])\n",
      "tensor([[6., 6., 6.],\n",
      "        [6., 6., 6.]], grad_fn=<MulBackward0>)\n"
     ]
    }
   ],
   "source": [
    "a = torch.ones(2, 3, requires_grad=True) * 2\n",
    "b = torch.ones(2, 3, requires_grad=True) * 3\n",
    "\n",
    "c1 = a + b\n",
    "print(c1)\n",
    "\n",
    "with torch.no_grad():\n",
    "    c2 = a + b\n",
    "\n",
    "print(c2)\n",
    "\n",
    "c3 = a * b\n",
    "print(c3)"
   ]
  },
  {
   "cell_type": "markdown",
   "id": "f2abea6e-d790-4bad-af2f-2a0340e129d4",
   "metadata": {},
   "source": [
    "- torch.no_grad() can also be used as a function or method dectorator:"
   ]
  },
  {
   "cell_type": "code",
   "execution_count": 19,
   "id": "03954fdb-d372-40e9-af4b-30bfbba43f35",
   "metadata": {},
   "outputs": [
    {
     "name": "stdout",
     "output_type": "stream",
     "text": [
      "tensor([[5., 5., 5.],\n",
      "        [5., 5., 5.]], grad_fn=<AddBackward0>)\n",
      "tensor([[5., 5., 5.],\n",
      "        [5., 5., 5.]])\n"
     ]
    }
   ],
   "source": [
    "def add_tensors1(x, y):\n",
    "    return x + y\n",
    "\n",
    "@torch.no_grad()\n",
    "def add_tensors2(x, y):\n",
    "    return x + y\n",
    "\n",
    "\n",
    "a = torch.ones(2, 3, requires_grad=True) * 2\n",
    "b = torch.ones(2, 3, requires_grad=True) * 3\n",
    "\n",
    "c1 = add_tensors1(a, b)\n",
    "print(c1)\n",
    "\n",
    "c2 = add_tensors2(a, b)\n",
    "print(c2)"
   ]
  },
  {
   "cell_type": "markdown",
   "id": "97b5e40a-39b3-4f07-a704-ec4ef502f83f",
   "metadata": {},
   "source": [
    "- There’s a corresponding context manager, torch.enable_grad(), for turning autograd on when it isn’t already. It may also be used as a decorator."
   ]
  },
  {
   "cell_type": "markdown",
   "id": "42695c8a-5458-46a6-8007-bbc9a283a008",
   "metadata": {},
   "source": [
    "- 마지막으로, 그라데이션 추적이 필요한 텐서가 있을 수 있지만 그렇지 않은 복사본을 원할 수 있습니다. 이를 위해 텐서 객체의 분리() 방법이 있다 - 계산 이력에서 분리된 텐서의 사본을 만든다:"
   ]
  },
  {
   "cell_type": "code",
   "execution_count": 20,
   "id": "9f00bf6c-e3f9-46bb-a460-8fb0ce8836ab",
   "metadata": {},
   "outputs": [
    {
     "name": "stdout",
     "output_type": "stream",
     "text": [
      "tensor([0.0129, 0.2872, 0.9309, 0.0081, 0.0394], requires_grad=True)\n",
      "tensor([0.0129, 0.2872, 0.9309, 0.0081, 0.0394])\n"
     ]
    }
   ],
   "source": [
    "x = torch.rand(5, requires_grad=True)\n",
    "y = x.detach()\n",
    "\n",
    "print(x)\n",
    "print(y)"
   ]
  },
  {
   "cell_type": "markdown",
   "id": "66aeca2f-e930-4213-b61a-47ac0b4b99ac",
   "metadata": {},
   "source": [
    "- 위에서 텐서 몇 개를 그래프로 표시하려고 했습니다. 이는 matplotlib이 입력으로 NumPy 배열을 기대하며, required_grad=True인 텐서에 대해서는 PyTorch 텐서에서 NumPy 배열로의 암시적 변환이 활성화되지 않기 때문이다. 분리된 사본을 만드는 것은 우리가 앞으로 나아갈 수 있게 해줍니다."
   ]
  },
  {
   "cell_type": "markdown",
   "id": "92ae522b-16b3-41ba-8ef3-75c85d8a5e76",
   "metadata": {},
   "source": [
    "### Autograd and In-place Operations"
   ]
  },
  {
   "cell_type": "markdown",
   "id": "7502d304-964d-4970-9877-70aaf255039c",
   "metadata": {},
   "source": [
    "-  지금까지 이 노트북의 모든 예에서 변수를 사용하여 계산의 중간 값을 캡처했습니다. 오토그라드는 기울기 계산을 수행하기 위해 이러한 중간 값이 필요하다. 따라서 autograd를 사용할 때 인플레이스 작업을 사용할 때 주의해야 합니다.\n",
    "- 그렇게 하면 역방향 호출에서 도함수를 계산하는 데 필요한 정보가 파괴될 수 있습니다. PyTorch는 당신이 아래와 같이 autograd를 필요로 하는 leaf 변수에서 in-place 연산을 시도해도 당신을 정지시킬 것이다."
   ]
  },
  {
   "cell_type": "code",
   "execution_count": 21,
   "id": "a9557bbf-7c17-4abb-aa09-fc4ccd61b802",
   "metadata": {},
   "outputs": [
    {
     "ename": "RuntimeError",
     "evalue": "a leaf Variable that requires grad is being used in an in-place operation.",
     "output_type": "error",
     "traceback": [
      "\u001b[0;31m---------------------------------------------------------------------------\u001b[0m",
      "\u001b[0;31mRuntimeError\u001b[0m                              Traceback (most recent call last)",
      "\u001b[0;32m/tmp/ipykernel_50776/3270092781.py\u001b[0m in \u001b[0;36m<module>\u001b[0;34m\u001b[0m\n\u001b[1;32m      1\u001b[0m \u001b[0ma\u001b[0m \u001b[0;34m=\u001b[0m \u001b[0mtorch\u001b[0m\u001b[0;34m.\u001b[0m\u001b[0mlinspace\u001b[0m\u001b[0;34m(\u001b[0m\u001b[0;36m0.\u001b[0m\u001b[0;34m,\u001b[0m \u001b[0;36m2.\u001b[0m \u001b[0;34m*\u001b[0m \u001b[0mmath\u001b[0m\u001b[0;34m.\u001b[0m\u001b[0mpi\u001b[0m\u001b[0;34m,\u001b[0m \u001b[0msteps\u001b[0m\u001b[0;34m=\u001b[0m\u001b[0;36m25\u001b[0m\u001b[0;34m,\u001b[0m \u001b[0mrequires_grad\u001b[0m\u001b[0;34m=\u001b[0m\u001b[0;32mTrue\u001b[0m\u001b[0;34m)\u001b[0m\u001b[0;34m\u001b[0m\u001b[0;34m\u001b[0m\u001b[0m\n\u001b[0;32m----> 2\u001b[0;31m \u001b[0mtorch\u001b[0m\u001b[0;34m.\u001b[0m\u001b[0msin_\u001b[0m\u001b[0;34m(\u001b[0m\u001b[0ma\u001b[0m\u001b[0;34m)\u001b[0m\u001b[0;34m\u001b[0m\u001b[0;34m\u001b[0m\u001b[0m\n\u001b[0m",
      "\u001b[0;31mRuntimeError\u001b[0m: a leaf Variable that requires grad is being used in an in-place operation."
     ]
    }
   ],
   "source": [
    "a = torch.linspace(0., 2. * math.pi, steps=25, requires_grad=True)\n",
    "torch.sin_(a)"
   ]
  },
  {
   "cell_type": "markdown",
   "id": "222e4873-c95d-4e71-8d3f-e39439113025",
   "metadata": {},
   "source": [
    "### Autograd Profiler\n",
    "- https://pytorch.org/tutorials/beginner/introyt/autogradyt_tutorial.html"
   ]
  },
  {
   "cell_type": "markdown",
   "id": "c8500230-285d-4986-9f56-5d0371c2be94",
   "metadata": {},
   "source": [
    "- Autograd는 계산의 모든 단계를 자세히 추적합니다. 이러한 계산 히스토리와 타이밍 정보가 결합되면 유용한 프로파일러가 될 수 있으며, 오토그라드에는 그러한 기능이 내장되어 있다. 다음은 간단한 사용 예입니다."
   ]
  },
  {
   "cell_type": "code",
   "execution_count": 23,
   "id": "3b13b0fc-c15b-48ce-9865-ce73ad0ae25e",
   "metadata": {},
   "outputs": [
    {
     "name": "stdout",
     "output_type": "stream",
     "text": [
      "---------------  ------------  ------------  ------------  ------------  ------------  ------------  ------------  ------------  ------------  ------------  \n",
      "           Name    Self CPU %      Self CPU   CPU total %     CPU total  CPU time avg     Self CUDA   Self CUDA %    CUDA total  CUDA time avg    # of Calls  \n",
      "---------------  ------------  ------------  ------------  ------------  ------------  ------------  ------------  ------------  ------------  ------------  \n",
      "      aten::div        50.52%      13.693ms        52.92%      14.344ms      14.344us      13.906ms        53.05%      13.906ms      13.906us          1000  \n",
      "      aten::mul        44.73%      12.124ms        47.08%      12.762ms      12.762us      12.307ms        46.95%      12.307ms      12.307us          1000  \n",
      "    aten::empty         4.75%       1.288ms         4.75%       1.288ms       0.644us       0.000us         0.00%       0.000us       0.000us          2000  \n",
      "---------------  ------------  ------------  ------------  ------------  ------------  ------------  ------------  ------------  ------------  ------------  \n",
      "Self CPU time total: 27.105ms\n",
      "Self CUDA time total: 26.213ms\n",
      "\n"
     ]
    }
   ],
   "source": [
    "device = torch.device('cpu')\n",
    "run_on_gpu = False\n",
    "if torch.cuda.is_available():\n",
    "    device = torch.device('cuda:1')\n",
    "    run_on_gpu = True\n",
    "    \n",
    "x = torch.randn(2, 3, requires_grad=True)\n",
    "y = torch.rand(2, 3, requires_grad=True)\n",
    "z = torch.ones(2, 3, requires_grad=True)\n",
    "\n",
    "with torch.autograd.profiler.profile(use_cuda=run_on_gpu) as prf:\n",
    "    for _ in range(1000):\n",
    "        z = ( z / x ) * y\n",
    "\n",
    "print(prf.key_averages().table(sort_by='self_cpu_time_total'))"
   ]
  },
  {
   "cell_type": "code",
   "execution_count": 24,
   "id": "9f011014-5a5c-4ff0-84ac-14dd5325baae",
   "metadata": {},
   "outputs": [
    {
     "name": "stdout",
     "output_type": "stream",
     "text": [
      "---------------  ------------  ------------  ------------  ------------  ------------  ------------  ------------  ------------  ------------  ------------  \n",
      "           Name    Self CPU %      Self CPU   CPU total %     CPU total  CPU time avg     Self CUDA   Self CUDA %    CUDA total  CUDA time avg    # of Calls  \n",
      "---------------  ------------  ------------  ------------  ------------  ------------  ------------  ------------  ------------  ------------  ------------  \n",
      "      aten::mul        47.76%      13.486ms        50.30%      14.203ms      14.203us      13.834ms        50.26%      13.834ms      13.834us          1000  \n",
      "      aten::div        47.09%      13.297ms        49.70%      14.035ms      14.035us      13.692ms        49.74%      13.692ms      13.692us          1000  \n",
      "    aten::empty         5.15%       1.455ms         5.15%       1.455ms       0.728us       0.000us         0.00%       0.000us       0.000us          2000  \n",
      "---------------  ------------  ------------  ------------  ------------  ------------  ------------  ------------  ------------  ------------  ------------  \n",
      "Self CPU time total: 28.238ms\n",
      "Self CUDA time total: 27.526ms\n",
      "\n"
     ]
    }
   ],
   "source": [
    "device = torch.device('cpu')\n",
    "run_on_gpu = False\n",
    "if torch.cuda.is_available():\n",
    "    device = torch.device('cuda:0')\n",
    "    run_on_gpu = True\n",
    "    \n",
    "x = torch.randn(2, 3, requires_grad=True)\n",
    "y = torch.rand(2, 3, requires_grad=True)\n",
    "z = torch.ones(2, 3, requires_grad=True)\n",
    "\n",
    "with torch.autograd.profiler.profile(use_cuda=run_on_gpu) as prf:\n",
    "    for _ in range(1000):\n",
    "        z = ( z / x ) * y\n",
    "\n",
    "print(prf.key_averages().table(sort_by='self_cpu_time_total'))"
   ]
  },
  {
   "cell_type": "markdown",
   "id": "0dab9cd6-de56-4cc3-b0d0-1ab7e1e06d9c",
   "metadata": {},
   "source": [
    "### Advanced Topic: More Autograd Detail and the High-Level API"
   ]
  },
  {
   "cell_type": "markdown",
   "id": "68cbc54f-d788-46d5-a8b6-5c585d2e577a",
   "metadata": {},
   "source": [
    "- If you have a function with an n-dimensional input and m-dimensional output, \\vec{y}=f(\\vec{x}) \n",
    "y\n",
    "​\n",
    " =f( \n",
    "x\n",
    " ), the complete gradient is a matrix of the derivative of every output with respect to every input, called the Jacobian:\n",
    "- n차원 입력과 m차원 출력을 갖는 함수를 갖는다면, {vec{y}=f({vec}x}) y =f( x ), 완전한 그라디언트는 Jacobian이라고 불리는 모든 입력에 대한 모든 출력의 미분 행렬입니다.\n",
    "- 좀 더 구체적으로, 첫 번째 함수를 파이토치 모델(잠재적으로 많은 입력과 출력을 가진)로, 두 번째 함수를 손실 함수(모델의 출력을 입력으로, 손실 값을 스칼라 출력으로)로 가정하자.\n",
    "- 이러한 이유로, 백워드() 호출은 선택적 벡터 입력을 취할 수도 있다. 이 벡터는 텐서 위의 그레이디언트 집합을 나타내며, 그 앞에 오는 오토그라드 추적 텐서의 야코비안으로 곱한다. 작은 벡터로 구체적인 예를 들어보자."
   ]
  },
  {
   "cell_type": "code",
   "execution_count": 25,
   "id": "e7df5568-be80-400b-b014-e59e604d4a07",
   "metadata": {},
   "outputs": [
    {
     "name": "stdout",
     "output_type": "stream",
     "text": [
      "tensor([-970.0334,  418.4893,  -44.0985], grad_fn=<MulBackward0>)\n"
     ]
    }
   ],
   "source": [
    "x = torch.randn(3, requires_grad=True)\n",
    "\n",
    "y = x * 2\n",
    "while y.data.norm() < 1000:\n",
    "    y = y * 2\n",
    "\n",
    "print(y)"
   ]
  },
  {
   "cell_type": "markdown",
   "id": "7b0f9044-6e6b-429c-a44c-8d184de75ec1",
   "metadata": {},
   "source": [
    "- 지금 y.backward()를 호출하면 런타임 오류가 발생하고 스칼라 출력에 대해서만 그라디언트를 암시 적으로 계산할 수 있다는 메시지가 표시됩니다. 다차원 출력의 경우, autograd는 Jacobian으로 곱할 수 있는 세 가지 출력에 대해 그라디언트를 제공할 것으로 기대합니다.\n"
   ]
  },
  {
   "cell_type": "code",
   "execution_count": 26,
   "id": "11ea4e98-1a3e-4cbe-bbeb-9f4a920126db",
   "metadata": {},
   "outputs": [
    {
     "name": "stdout",
     "output_type": "stream",
     "text": [
      "tensor([5.1200e+01, 5.1200e+02, 5.1200e-02])\n"
     ]
    }
   ],
   "source": [
    "v = torch.tensor([0.1, 1.0, 0.0001], dtype=torch.float) # stand-in for gradients\n",
    "y.backward(v)\n",
    "\n",
    "print(x.grad)"
   ]
  },
  {
   "cell_type": "markdown",
   "id": "5ba5a87d-4c7e-4a8e-bc5d-15bf6315b22e",
   "metadata": {},
   "source": [
    "### The High-Level API"
   ]
  },
  {
   "cell_type": "markdown",
   "id": "a8297508-9048-43d5-86b4-df2c1e699855",
   "metadata": {},
   "source": [
    "- 중요한 미분 행렬 및 벡터 연산에 직접 액세스할 수 있는 API가 autograd에 있습니다. 특히 특정 입력에 대한 특정 함수의 야코비 행렬과 헤시안 행렬을 계산할 수 있습니다. (헤시안은 야코비안과 유사하지만, 모든 부분적인 이차 도함수를 표현한다.) 또한 이러한 행렬과 함께 벡터 곱을 취하는 방법을 제공합니다."
   ]
  },
  {
   "cell_type": "markdown",
   "id": "b8b36e17-c41c-4fe0-adfd-d927d9c01688",
   "metadata": {},
   "source": [
    "- 2개의 단일 원소 입력에 대해 평가되는 단순 함수의 야코비안을 구해보자."
   ]
  },
  {
   "cell_type": "code",
   "execution_count": 27,
   "id": "08de0d8e-52e6-4fb9-8213-0275417ce41a",
   "metadata": {},
   "outputs": [
    {
     "name": "stdout",
     "output_type": "stream",
     "text": [
      "(tensor([0.2675]), tensor([0.6201]))\n"
     ]
    },
    {
     "data": {
      "text/plain": [
       "(tensor([[2.6133]]), tensor([[3.]]))"
      ]
     },
     "execution_count": 27,
     "metadata": {},
     "output_type": "execute_result"
    }
   ],
   "source": [
    "def exp_adder(x, y):\n",
    "    return 2 * x.exp() + 3 * y\n",
    "\n",
    "inputs = (torch.rand(1), torch.rand(1)) # arguments for the function\n",
    "print(inputs)\n",
    "torch.autograd.functional.jacobian(exp_adder, inputs)"
   ]
  },
  {
   "cell_type": "code",
   "execution_count": 28,
   "id": "3fc282a3-85ae-4bf3-bfa9-07c035233243",
   "metadata": {},
   "outputs": [
    {
     "name": "stdout",
     "output_type": "stream",
     "text": [
      "(tensor([0.2389, 0.3015, 0.0572]), tensor([0.9067, 0.7062, 0.0331]))\n"
     ]
    },
    {
     "data": {
      "text/plain": [
       "(tensor([[2.5398, 0.0000, 0.0000],\n",
       "         [0.0000, 2.7039, 0.0000],\n",
       "         [0.0000, 0.0000, 2.1177]]),\n",
       " tensor([[3., 0., 0.],\n",
       "         [0., 3., 0.],\n",
       "         [0., 0., 3.]]))"
      ]
     },
     "execution_count": 28,
     "metadata": {},
     "output_type": "execute_result"
    }
   ],
   "source": [
    "inputs = (torch.rand(3), torch.rand(3)) # arguments for the function\n",
    "print(inputs)\n",
    "torch.autograd.functional.jacobian(exp_adder, inputs)"
   ]
  },
  {
   "cell_type": "markdown",
   "id": "fb7fac0c-8459-4549-8ab4-f1a9a888dadb",
   "metadata": {},
   "source": [
    "- The torch.autograd.functional.hessian() method works identically (assuming your function is twice differentiable), but returns a matrix of all second derivatives."
   ]
  },
  {
   "cell_type": "markdown",
   "id": "9c2504f6-0ee7-414a-af7b-a11dfd1fa3aa",
   "metadata": {},
   "source": [
    "- 벡터를 제공하면 벡터-야코비아 곱을 직접 계산하는 함수도 있다."
   ]
  },
  {
   "cell_type": "code",
   "execution_count": 30,
   "id": "293fa803-a269-49a4-842e-7e004c245a4f",
   "metadata": {},
   "outputs": [
    {
     "data": {
      "text/plain": [
       "(tensor([ 869.1605, -945.6362, -572.6524]),\n",
       " tensor([4.0960e+02, 4.0960e+03, 4.0960e-01]))"
      ]
     },
     "execution_count": 30,
     "metadata": {},
     "output_type": "execute_result"
    }
   ],
   "source": [
    "def do_some_doubling(x):\n",
    "    y = x * 2\n",
    "    while y.data.norm() < 1000:\n",
    "        y = y * 2\n",
    "    return y\n",
    "\n",
    "inputs = torch.randn(3)\n",
    "my_gradients = torch.tensor([0.1, 1.0, 0.0001])\n",
    "torch.autograd.functional.vjp(do_some_doubling, inputs, v=my_gradients)"
   ]
  },
  {
   "cell_type": "code",
   "execution_count": null,
   "id": "fc413aee-d032-4275-b4af-81ee5f59196f",
   "metadata": {},
   "outputs": [],
   "source": []
  }
 ],
 "metadata": {
  "kernelspec": {
   "display_name": "pytorch_gpu",
   "language": "python",
   "name": "pytorch_gpu"
  },
  "language_info": {
   "codemirror_mode": {
    "name": "ipython",
    "version": 3
   },
   "file_extension": ".py",
   "mimetype": "text/x-python",
   "name": "python",
   "nbconvert_exporter": "python",
   "pygments_lexer": "ipython3",
   "version": "3.7.12"
  }
 },
 "nbformat": 4,
 "nbformat_minor": 5
}
