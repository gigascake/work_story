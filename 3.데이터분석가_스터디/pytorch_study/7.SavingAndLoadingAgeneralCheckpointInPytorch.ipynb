{
 "cells": [
  {
   "cell_type": "markdown",
   "id": "c08171f0-1a45-4404-a338-294bfd15063a",
   "metadata": {},
   "source": [
    "## Saving And Loading A general Checkpoint in Pytorch"
   ]
  },
  {
   "cell_type": "markdown",
   "id": "9fc686d3-45aa-44d8-8f96-91fcd504b8ad",
   "metadata": {},
   "source": [
    "- 추론을 위해 일반 체크포인트 모델을 저장하고 로드하거나 교육을 다시 시작하는 것은 마지막으로 중단한 부분을 선택하는 데 도움이 될 수 있습니다\n",
    "- 일반 체크포인트를 저장할 때는 모델의 state_dict 이상의 체크포인트를 저장해야 합니다.\n",
    "- 또한 optimizer의 state_dict를 저장하는 것이 중요합니다. 여기에는 모델 train로 업데이트되는 버퍼 및 매개 변수가 포함되어 있기 때문입니다.\n",
    "- 저장하고자 하는 다른 항목은 중단한 시점, 가장 최근에 기록된 train loss, 외부 torch.nn입니다.자체 알고리즘에 따라 레이어 등을 내장합니다.\n",
    "- https://pytorch.org/tutorials/recipes/recipes/saving_and_loading_a_general_checkpoint.html"
   ]
  },
  {
   "cell_type": "markdown",
   "id": "2de543d6-ef0e-497f-a902-4fba062187b9",
   "metadata": {},
   "source": [
    "#### Introduction"
   ]
  },
  {
   "cell_type": "markdown",
   "id": "844e7c78-5b32-4841-8f6b-82bff71638d5",
   "metadata": {},
   "source": [
    "- 여러 체크포인트를 저장하려면 사전으로 구성하고 torch.save()를 사용하여 사전을 직렬화해야 합니다. 일반적인 PyTorch 규칙은 .tar 파일 확장자를 사용하여 이러한 체크포인트를 저장하는 것입니다.\n",
    "- 항목을 로드하려면 먼저 모델 및 최적화 프로그램을 초기화한 다음 토치.load()를 사용하여 사전을 로컬로 로드하십시오.\n",
    "- 여기에서 예상한 대로 사전을 조회하기만 하면 저장된 항목에 쉽게 액세스할 수 있습니다."
   ]
  },
  {
   "cell_type": "markdown",
   "id": "04674af7-d979-4c99-ad6a-93d1afc5a281",
   "metadata": {},
   "source": [
    "Steps\n",
    "- 1. 데이터를 로드하는 데 필요한 모든 라이브러리 가져오기\n",
    "- 2. 신경망을 정의하고 초기화합니다.\n",
    "- 3. 최적화 도구 초기화\n",
    "- 4. 일반 체크포인트 저장\n",
    "- 5. 일반 체크포인트 로드"
   ]
  },
  {
   "cell_type": "markdown",
   "id": "7847768d-d64b-47e5-a6db-a6f1154fced4",
   "metadata": {},
   "source": [
    "#### 1. 데이터를 로드하는 데 필요한 모든 라이브러리 가져오기"
   ]
  },
  {
   "cell_type": "code",
   "execution_count": 1,
   "id": "1e1271a9-9f9b-43b1-8fb4-a4e4d683b3e0",
   "metadata": {},
   "outputs": [],
   "source": [
    "import torch\n",
    "import torch.nn as nn\n",
    "import torch.optim as optim"
   ]
  },
  {
   "cell_type": "markdown",
   "id": "48a60209-7e8e-4e0d-ae73-071c1f9167bd",
   "metadata": {},
   "source": [
    "#### 2. 신경망을 정의하고 초기화합니다."
   ]
  },
  {
   "cell_type": "code",
   "execution_count": 3,
   "id": "5f5400d4-b888-40f4-a89e-48627cd3b41c",
   "metadata": {},
   "outputs": [
    {
     "name": "stdout",
     "output_type": "stream",
     "text": [
      "Net(\n",
      "  (conv1): Conv2d(3, 6, kernel_size=(5, 5), stride=(1, 1))\n",
      "  (pool): MaxPool2d(kernel_size=2, stride=2, padding=0, dilation=1, ceil_mode=False)\n",
      "  (conv2): Conv2d(6, 16, kernel_size=(5, 5), stride=(1, 1))\n",
      "  (fc1): Linear(in_features=400, out_features=120, bias=True)\n",
      "  (fc2): Linear(in_features=120, out_features=84, bias=True)\n",
      "  (fc3): Linear(in_features=84, out_features=10, bias=True)\n",
      ")\n"
     ]
    }
   ],
   "source": [
    "class Net(nn.Module):\n",
    "    def __init__(self):\n",
    "        super(Net, self).__init__()\n",
    "        self.conv1 = nn.Conv2d(3, 6, 5)\n",
    "        self.pool = nn.MaxPool2d(2, 2)\n",
    "        self.conv2 = nn.Conv2d(6, 16, 5)\n",
    "        self.fc1 = nn.Linear(16 * 5 * 5, 120)\n",
    "        self.fc2 = nn.Linear(120, 84)\n",
    "        self.fc3 = nn.Linear(84, 10)\n",
    "        \n",
    "    def forward(self, x):\n",
    "        x = self.pool(F.relu(self.conv1(x)))\n",
    "        x = self.pool(F.relu(self.conv2(x)))\n",
    "        x = x.view(-1, 16 * 5 * 5)\n",
    "        x = F.relu(self.fc1(x))\n",
    "        x = F.relu(self.fc2(x))\n",
    "        x = self.fc3(x)\n",
    "        return x\n",
    "    \n",
    "net = Net()\n",
    "print(net)"
   ]
  },
  {
   "cell_type": "markdown",
   "id": "f6c81566-eb30-43b4-8c04-ad9af734cb38",
   "metadata": {},
   "source": [
    "#### 3. 최적화 도구 초기화"
   ]
  },
  {
   "cell_type": "code",
   "execution_count": 4,
   "id": "df20ddf5-8b73-4374-b6e9-9b799b5abcca",
   "metadata": {},
   "outputs": [],
   "source": [
    "optimizer = optim.SGD(net.parameters(), lr=0.001, momentum=0.9)"
   ]
  },
  {
   "cell_type": "code",
   "execution_count": 5,
   "id": "349c82bf-0c68-4196-bcce-c9a338827cc4",
   "metadata": {},
   "outputs": [
    {
     "data": {
      "text/plain": [
       "<generator object Module.parameters at 0x7fda64ec8850>"
      ]
     },
     "execution_count": 5,
     "metadata": {},
     "output_type": "execute_result"
    }
   ],
   "source": [
    "net.parameters()"
   ]
  },
  {
   "cell_type": "markdown",
   "id": "778f1fb5-215f-47f1-9287-2c73242ea1b9",
   "metadata": {},
   "source": [
    "#### 4. 일반 체크포인트 저장"
   ]
  },
  {
   "cell_type": "code",
   "execution_count": 6,
   "id": "6531b180-1f34-4d81-aa13-39608a3160eb",
   "metadata": {},
   "outputs": [],
   "source": [
    "EPOCH = 5\n",
    "PATH = \"model.pt\"\n",
    "LOSS = 0.4\n",
    "\n",
    "torch.save({\n",
    "            'epoch':EPOCH,\n",
    "            'model_state_dict': net.state_dict(),\n",
    "            'optimizer_state_dict': optimizer.state_dict(),\n",
    "            'loss': LOSS,\n",
    "    }, PATH\n",
    "    )\n",
    "    "
   ]
  },
  {
   "cell_type": "markdown",
   "id": "5a63f3df-ab93-40f0-8f0c-8db9a3820438",
   "metadata": {},
   "source": [
    "#### 5. 일반 체크포인트 로드"
   ]
  },
  {
   "cell_type": "code",
   "execution_count": 7,
   "id": "f9896b4d-9ba6-46bb-95e7-1cc56badac18",
   "metadata": {},
   "outputs": [
    {
     "data": {
      "text/plain": [
       "Net(\n",
       "  (conv1): Conv2d(3, 6, kernel_size=(5, 5), stride=(1, 1))\n",
       "  (pool): MaxPool2d(kernel_size=2, stride=2, padding=0, dilation=1, ceil_mode=False)\n",
       "  (conv2): Conv2d(6, 16, kernel_size=(5, 5), stride=(1, 1))\n",
       "  (fc1): Linear(in_features=400, out_features=120, bias=True)\n",
       "  (fc2): Linear(in_features=120, out_features=84, bias=True)\n",
       "  (fc3): Linear(in_features=84, out_features=10, bias=True)\n",
       ")"
      ]
     },
     "execution_count": 7,
     "metadata": {},
     "output_type": "execute_result"
    }
   ],
   "source": [
    "model = Net()\n",
    "optimizer = optim.SGD(net.parameters(), lr=0.001, momentum=0.9)\n",
    "\n",
    "checkpoint = torch.load(PATH)\n",
    "model.load_state_dict(checkpoint['model_state_dict'])\n",
    "optimizer.load_state_dict(checkpoint['optimizer_state_dict'])\n",
    "epoch = checkpoint['epoch']\n",
    "los = checkpoint['loss']\n",
    "\n",
    "model.eval()\n",
    "model.train()"
   ]
  },
  {
   "cell_type": "code",
   "execution_count": null,
   "id": "f932f008-df8e-49f3-be03-814fb097bed0",
   "metadata": {},
   "outputs": [],
   "source": []
  }
 ],
 "metadata": {
  "kernelspec": {
   "display_name": "pytorch_gpu",
   "language": "python",
   "name": "pytorch_gpu"
  },
  "language_info": {
   "codemirror_mode": {
    "name": "ipython",
    "version": 3
   },
   "file_extension": ".py",
   "mimetype": "text/x-python",
   "name": "python",
   "nbconvert_exporter": "python",
   "pygments_lexer": "ipython3",
   "version": "3.7.12"
  }
 },
 "nbformat": 4,
 "nbformat_minor": 5
}
