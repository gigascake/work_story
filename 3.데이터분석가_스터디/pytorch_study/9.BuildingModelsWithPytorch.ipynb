{
 "cells": [
  {
   "cell_type": "markdown",
   "id": "184d3a3d-ac3c-4762-b862-d5b76db7cf29",
   "metadata": {},
   "source": [
    "## 9. Building Models With Pytorch"
   ]
  },
  {
   "cell_type": "markdown",
   "id": "ea1441a1-83be-4ada-bb62-1b2c5b84b80f",
   "metadata": {},
   "source": [
    "### `torch.nn.Module` and `torch.nn.Parameter`"
   ]
  },
  {
   "cell_type": "markdown",
   "id": "955e55ee-022c-4146-a838-f392fbf8a007",
   "metadata": {},
   "source": [
    "- torch.nn의 중요한 행동 중 하나.모듈이 매개 변수를 등록하고 있습니다. 특정 모듈 하위 클래스에 학습 가중치가 있는 경우, 이러한 가중치는 torch.nn의 인스턴스로 표현된다.매개 변수. 매개 변수 클래스는 토치의 하위 클래스입니다.텐서, 모듈 속성으로 할당될 때 해당 모듈 파라미터 목록에 추가되는 특별한 동작으로. 이러한 매개변수는 모듈 클래스의 매개변수() 방법을 통해 액세스할 수 있습니다."
   ]
  },
  {
   "cell_type": "code",
   "execution_count": null,
   "id": "b73927bf-c11b-44e0-a943-b486ff06411a",
   "metadata": {},
   "outputs": [],
   "source": [
    "import torch\n",
    "\n",
    "class TinyModel(torch.nn.Module):\n",
    "    def __init__(self):\n",
    "        super(TinyModel, self).__init__()\n",
    "        \n",
    "        self.linear1 = torch.nn.Linear(100, 200)\n",
    "        self.activation = torch.nn.ReLU()\n",
    "        self.linear2 = torch.nn.Linear(200, 10)\n",
    "        self.softmax = torch.nn.Softmax()\n",
    "        \n",
    "    def forward(self, x):\n",
    "        x = self.linear1(x)\n",
    "        x = self.activation(x)\n",
    "        x = self.linear"
   ]
  }
 ],
 "metadata": {
  "kernelspec": {
   "display_name": "pytorch_gpu",
   "language": "python",
   "name": "pytorch_gpu"
  },
  "language_info": {
   "codemirror_mode": {
    "name": "ipython",
    "version": 3
   },
   "file_extension": ".py",
   "mimetype": "text/x-python",
   "name": "python",
   "nbconvert_exporter": "python",
   "pygments_lexer": "ipython3",
   "version": "3.7.12"
  }
 },
 "nbformat": 4,
 "nbformat_minor": 5
}
