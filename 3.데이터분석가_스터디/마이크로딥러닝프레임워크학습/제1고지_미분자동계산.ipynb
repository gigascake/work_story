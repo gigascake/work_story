{
 "cells": [
  {
   "cell_type": "markdown",
   "id": "cd017b5f",
   "metadata": {},
   "source": [
    "- 1단계, 상자로서의 변수\n",
    "- 2단계, 변수를 낳는 함수\n",
    "- 3단계, 함수 연결\n",
    "- 4단계, 수치 미분\n",
    "- 5단계, 역전파 이론\n",
    "- 6단계, 수동 역전파\n",
    "- 7단계, 역전파 자동화\n",
    "- 8단계, 재귀에서 반복문으로\n",
    "- 9단계, 함수를 더 편리하게\n",
    "- 10단계, 테스트\n",
    "\n"
   ]
  },
  {
   "cell_type": "markdown",
   "id": "7a3814aa",
   "metadata": {},
   "source": [
    "## 1단계, 상자로서의 변수"
   ]
  },
  {
   "cell_type": "markdown",
   "id": "318632d4",
   "metadata": {},
   "source": [
    "### Variable 클래스 구현"
   ]
  },
  {
   "cell_type": "code",
   "execution_count": 1,
   "id": "a78f8d7b",
   "metadata": {},
   "outputs": [],
   "source": [
    "class Variable:\n",
    "    def __init__(self, data):\n",
    "        self.data = data"
   ]
  },
  {
   "cell_type": "code",
   "execution_count": 2,
   "id": "6fab1d39",
   "metadata": {},
   "outputs": [
    {
     "name": "stdout",
     "output_type": "stream",
     "text": [
      "1.0\n"
     ]
    }
   ],
   "source": [
    "import numpy as np\n",
    "\n",
    "data = np.array(1.0)\n",
    "x = Variable(data)\n",
    "print(x.data)"
   ]
  },
  {
   "cell_type": "markdown",
   "id": "9e3e6ef1",
   "metadata": {},
   "source": [
    "### numpy의 다차원배열"
   ]
  },
  {
   "cell_type": "code",
   "execution_count": 3,
   "id": "215dcf6b",
   "metadata": {},
   "outputs": [
    {
     "data": {
      "text/plain": [
       "0"
      ]
     },
     "execution_count": 3,
     "metadata": {},
     "output_type": "execute_result"
    }
   ],
   "source": [
    "import numpy as np\n",
    "x = np.array(1)\n",
    "x.ndim"
   ]
  },
  {
   "cell_type": "code",
   "execution_count": 4,
   "id": "7bf88dd5",
   "metadata": {},
   "outputs": [
    {
     "data": {
      "text/plain": [
       "1"
      ]
     },
     "execution_count": 4,
     "metadata": {},
     "output_type": "execute_result"
    }
   ],
   "source": [
    "x = np.array([1, 2, 3])\n",
    "x.ndim"
   ]
  },
  {
   "cell_type": "code",
   "execution_count": 5,
   "id": "e325030e",
   "metadata": {},
   "outputs": [
    {
     "ename": "TypeError",
     "evalue": "Field elements must be 2- or 3-tuples, got '4'",
     "output_type": "error",
     "traceback": [
      "\u001b[0;31m---------------------------------------------------------------------------\u001b[0m",
      "\u001b[0;31mTypeError\u001b[0m                                 Traceback (most recent call last)",
      "\u001b[0;32m<ipython-input-5-d61f5ea274d3>\u001b[0m in \u001b[0;36m<module>\u001b[0;34m\u001b[0m\n\u001b[0;32m----> 1\u001b[0;31m \u001b[0mx\u001b[0m \u001b[0;34m=\u001b[0m \u001b[0mnp\u001b[0m\u001b[0;34m.\u001b[0m\u001b[0marray\u001b[0m\u001b[0;34m(\u001b[0m\u001b[0;34m[\u001b[0m\u001b[0;36m1\u001b[0m\u001b[0;34m,\u001b[0m\u001b[0;36m2\u001b[0m\u001b[0;34m,\u001b[0m\u001b[0;36m3\u001b[0m\u001b[0;34m]\u001b[0m\u001b[0;34m,\u001b[0m \u001b[0;34m[\u001b[0m\u001b[0;36m4\u001b[0m\u001b[0;34m,\u001b[0m\u001b[0;36m5\u001b[0m\u001b[0;34m,\u001b[0m\u001b[0;36m6\u001b[0m\u001b[0;34m]\u001b[0m\u001b[0;34m)\u001b[0m\u001b[0;34m\u001b[0m\u001b[0;34m\u001b[0m\u001b[0m\n\u001b[0m\u001b[1;32m      2\u001b[0m \u001b[0mx\u001b[0m\u001b[0;34m.\u001b[0m\u001b[0mndim\u001b[0m\u001b[0;34m\u001b[0m\u001b[0;34m\u001b[0m\u001b[0m\n",
      "\u001b[0;31mTypeError\u001b[0m: Field elements must be 2- or 3-tuples, got '4'"
     ]
    }
   ],
   "source": [
    "x = np.array([1,2,3], [4,5,6])\n",
    "x.ndim"
   ]
  },
  {
   "cell_type": "code",
   "execution_count": 6,
   "id": "33df69fa",
   "metadata": {},
   "outputs": [
    {
     "data": {
      "text/plain": [
       "2"
      ]
     },
     "execution_count": 6,
     "metadata": {},
     "output_type": "execute_result"
    }
   ],
   "source": [
    "x = np.array([[1,2,3], [4,5,6]])\n",
    "x.ndim"
   ]
  },
  {
   "cell_type": "markdown",
   "id": "0162bfe5",
   "metadata": {},
   "source": [
    "## 2단계, 변수를 낳는 함수"
   ]
  },
  {
   "cell_type": "markdown",
   "id": "24050e86",
   "metadata": {},
   "source": [
    "### Function 클래스 구현"
   ]
  },
  {
   "cell_type": "code",
   "execution_count": 8,
   "id": "bfae18f1",
   "metadata": {},
   "outputs": [],
   "source": [
    "class Function:\n",
    "    def __call__(self, input):\n",
    "        x = input.data\n",
    "        y = x ** 2\n",
    "        output = Variable(y)\n",
    "        return output"
   ]
  },
  {
   "cell_type": "markdown",
   "id": "988d8e5a",
   "metadata": {},
   "source": [
    "### Function 클래스 이용"
   ]
  },
  {
   "cell_type": "code",
   "execution_count": 10,
   "id": "2a6cdc55",
   "metadata": {},
   "outputs": [],
   "source": [
    "x = Variable(np.array(10))\n",
    "f = Function()\n",
    "y = f(x)"
   ]
  },
  {
   "cell_type": "code",
   "execution_count": 11,
   "id": "a776cb74",
   "metadata": {},
   "outputs": [
    {
     "data": {
      "text/plain": [
       "__main__.Variable"
      ]
     },
     "execution_count": 11,
     "metadata": {},
     "output_type": "execute_result"
    }
   ],
   "source": [
    "type(y)"
   ]
  },
  {
   "cell_type": "code",
   "execution_count": 12,
   "id": "99f244c8",
   "metadata": {},
   "outputs": [
    {
     "data": {
      "text/plain": [
       "100"
      ]
     },
     "execution_count": 12,
     "metadata": {},
     "output_type": "execute_result"
    }
   ],
   "source": [
    "y.data"
   ]
  },
  {
   "cell_type": "markdown",
   "id": "00019ecc",
   "metadata": {},
   "source": [
    "- Function 클래스는 기반 클래스로서, 모든 함수에 공통되는 기능을 구현합니다.\n",
    "- 구체적인 함수는 Function클래스를 상속한 클래스에서 구현합니다"
   ]
  },
  {
   "cell_type": "code",
   "execution_count": 15,
   "id": "b2532e06",
   "metadata": {},
   "outputs": [],
   "source": [
    "class Function:\n",
    "    def __call__(self, input):\n",
    "        x = input.data\n",
    "        # 구체적인 계산은 forward메서드에서 한다.\n",
    "        y = self.forward(x)\n",
    "        output = Variable(y)\n",
    "        return output\n",
    "    \n",
    "    def forward(self, x):\n",
    "        ## 이메서드는 상속하여 구현해야함을 명시해줌.\n",
    "        raise NotImplementError()"
   ]
  },
  {
   "cell_type": "code",
   "execution_count": 16,
   "id": "65755ae7",
   "metadata": {},
   "outputs": [],
   "source": [
    "class Square(Function):\n",
    "    def forward(self, x):\n",
    "        return x ** 2"
   ]
  },
  {
   "cell_type": "code",
   "execution_count": 17,
   "id": "e50a3b8e",
   "metadata": {},
   "outputs": [],
   "source": [
    "x = Variable(np.array(10))\n",
    "f = Square()\n",
    "y = f(x)"
   ]
  },
  {
   "cell_type": "code",
   "execution_count": 18,
   "id": "438451a6",
   "metadata": {},
   "outputs": [
    {
     "data": {
      "text/plain": [
       "__main__.Variable"
      ]
     },
     "execution_count": 18,
     "metadata": {},
     "output_type": "execute_result"
    }
   ],
   "source": [
    "type(y)"
   ]
  },
  {
   "cell_type": "code",
   "execution_count": 19,
   "id": "3b78eea5",
   "metadata": {},
   "outputs": [
    {
     "data": {
      "text/plain": [
       "100"
      ]
     },
     "execution_count": 19,
     "metadata": {},
     "output_type": "execute_result"
    }
   ],
   "source": [
    "y.data"
   ]
  },
  {
   "cell_type": "markdown",
   "id": "ceb8ecc5",
   "metadata": {},
   "source": [
    "### 3단계, 함수 연결"
   ]
  },
  {
   "cell_type": "code",
   "execution_count": 21,
   "id": "55560337",
   "metadata": {},
   "outputs": [],
   "source": [
    "class Exp(Function):\n",
    "    def forward(self, x):\n",
    "        return np.exp(x)"
   ]
  },
  {
   "cell_type": "code",
   "execution_count": 22,
   "id": "4b7a8b7d",
   "metadata": {},
   "outputs": [
    {
     "data": {
      "text/plain": [
       "1.648721270700128"
      ]
     },
     "execution_count": 22,
     "metadata": {},
     "output_type": "execute_result"
    }
   ],
   "source": [
    "A = Square()\n",
    "B = Exp()\n",
    "C = Square()\n",
    "\n",
    "x = Variable(np.array(0.5))\n",
    "a = A(x)\n",
    "b = B(a)\n",
    "y = C(b)\n",
    "y.data"
   ]
  },
  {
   "cell_type": "markdown",
   "id": "8bd2661c",
   "metadata": {},
   "source": [
    "#### 위의 식을 그림으로 그려서 이해해보기"
   ]
  },
  {
   "cell_type": "markdown",
   "id": "de4a23d4",
   "metadata": {},
   "source": [
    "### 4단계, 수치미분"
   ]
  },
  {
   "cell_type": "markdown",
   "id": "23865f4c",
   "metadata": {},
   "source": [
    "- 컴퓨터는 극한을 취급할 수 없으니, h를 극한과 비슷한 값으로 대체. h= 0.0001과 같은 매우 작은 값을 이용하여 식(f'(x)= lim (f(x+h)-f(x))/h) 을 계산합니다 이런 미세한 차이를 이용하여 함수의 변화량을 구하는 방법을 수치 미분(numerical differentiation) 이라고 함."
   ]
  },
  {
   "cell_type": "code",
   "execution_count": 24,
   "id": "0d1ef3d4",
   "metadata": {},
   "outputs": [],
   "source": [
    "def numerical_diff(f, x, eps=1e-4):\n",
    "    x0 = Variable(x.data - eps)\n",
    "    x1 = Variable(x.data + eps)\n",
    "    y0 = f(x0)\n",
    "    y1 = f(x1)\n",
    "    return (y1.data - y0.data) / (2 * eps)"
   ]
  },
  {
   "cell_type": "code",
   "execution_count": 26,
   "id": "759dfcdd",
   "metadata": {},
   "outputs": [
    {
     "data": {
      "text/plain": [
       "4.000000000004"
      ]
     },
     "execution_count": 26,
     "metadata": {},
     "output_type": "execute_result"
    }
   ],
   "source": [
    "f = Square()\n",
    "x = Variable(np.array(2.0))\n",
    "dy = numerical_diff(f, x)\n",
    "dy"
   ]
  },
  {
   "cell_type": "markdown",
   "id": "946dfccd",
   "metadata": {},
   "source": [
    "#### y = x^2, x = 2.0"
   ]
  },
  {
   "cell_type": "markdown",
   "id": "096ff0e7",
   "metadata": {},
   "source": [
    "### 합성 함수의 미분"
   ]
  },
  {
   "cell_type": "code",
   "execution_count": 27,
   "id": "72df74f1",
   "metadata": {},
   "outputs": [],
   "source": [
    "def f(x):\n",
    "    A = Square()\n",
    "    B = Exp()\n",
    "    C = Square()\n",
    "    return C(B(A(x)))"
   ]
  },
  {
   "cell_type": "code",
   "execution_count": 28,
   "id": "bd53e54a",
   "metadata": {},
   "outputs": [
    {
     "data": {
      "text/plain": [
       "3.2974426293330694"
      ]
     },
     "execution_count": 28,
     "metadata": {},
     "output_type": "execute_result"
    }
   ],
   "source": [
    "x = Variable(np.array(0.5))\n",
    "dy = numerical_diff(f, x)\n",
    "dy"
   ]
  },
  {
   "cell_type": "markdown",
   "id": "3c570ff6",
   "metadata": {},
   "source": [
    "### 수치 미분의 문제점\n",
    "- 수치 미분의 결과에는 오차가 포함되어 있음.\n",
    "- 수치 미분의 결과에 오차가 포함되기 쉬운 이유는 주로 '자릿수 누락' 때문.\n",
    "- 수치 미분의 더 심각한 문제는 계산량이 많다는 점. 그래서 등장한 것이 바로 역전파.\n",
    "- 수치 미분은 구현하기 쉽고, 거의 정확한 값을 얻을 수 있다. 이에 비해 역전파는 복잡한 알고리즘이라서 구현하면서 버그가 섞여 들어가기 쉽다. 그래서 역전파를 정확하게 구현했는지 확인하기 위해 수치 미분의 결과를 이용하곤한다. 이를 기울기 확인(gradient checking). 단순히 수치 미분 결과와 역전파의 결과를 비교하는 것."
   ]
  },
  {
   "cell_type": "markdown",
   "id": "e65c7156",
   "metadata": {},
   "source": [
    "## 5단계, 역전파 이론"
   ]
  },
  {
   "cell_type": "markdown",
   "id": "c87f8523",
   "metadata": {},
   "source": [
    "- 역전파를 이용하면 미분을 효율적으로 계산할 수 있고, 결과값의 오차도 더 작다."
   ]
  },
  {
   "cell_type": "markdown",
   "id": "3df9afcb",
   "metadata": {},
   "source": [
    "### 연쇄 법칙"
   ]
  },
  {
   "cell_type": "markdown",
   "id": "3baa67ac",
   "metadata": {},
   "source": [
    "### 역전파 원리 도출"
   ]
  },
  {
   "cell_type": "markdown",
   "id": "60c66a5e",
   "metadata": {},
   "source": [
    "### 계산 그래프로 살펴보기"
   ]
  },
  {
   "cell_type": "markdown",
   "id": "b7842ab8",
   "metadata": {},
   "source": [
    "## 6단계, 수동 역전파"
   ]
  },
  {
   "cell_type": "markdown",
   "id": "2e2a93ab",
   "metadata": {},
   "source": [
    "### Variable 클래스 추가"
   ]
  },
  {
   "cell_type": "code",
   "execution_count": 36,
   "id": "03ceb5e1",
   "metadata": {},
   "outputs": [],
   "source": [
    "class Variable:\n",
    "    def __init__(self, data):\n",
    "        self.data = data\n",
    "        self.grad = None"
   ]
  },
  {
   "cell_type": "markdown",
   "id": "5dd6add5",
   "metadata": {},
   "source": [
    "### Function 클래스 추가 구현"
   ]
  },
  {
   "cell_type": "markdown",
   "id": "40aff3dd",
   "metadata": {},
   "source": [
    "- 미분을 계산하는 역전파(backward 메서드)\n",
    "- forward 메섣 호출 시 건네받은 Variable 인스턴스 유지"
   ]
  },
  {
   "cell_type": "code",
   "execution_count": 37,
   "id": "0298cf7f",
   "metadata": {},
   "outputs": [],
   "source": [
    "class Function:\n",
    "    def __call__(self, input):\n",
    "        x = input.data\n",
    "        y = self.forward(x)\n",
    "        output = Variable(y)\n",
    "        self.input = input\n",
    "        return output\n",
    "    \n",
    "    def forward(self, x):\n",
    "        raise NotImplementedError()\n",
    "        \n",
    "    def backward(self, gy):\n",
    "        raise NotImplementedError()"
   ]
  },
  {
   "cell_type": "code",
   "execution_count": 54,
   "id": "423fa0e0",
   "metadata": {},
   "outputs": [],
   "source": [
    "class Square(Function):\n",
    "    def forward(self, x):\n",
    "        y = x ** 2\n",
    "        return y\n",
    "    def backward(self, gy):\n",
    "        x = self.input.data\n",
    "        gx = 2 * x * gy\n",
    "        return gx"
   ]
  },
  {
   "cell_type": "code",
   "execution_count": 55,
   "id": "dd5e2f9a",
   "metadata": {},
   "outputs": [],
   "source": [
    "class Exp(Function):\n",
    "    def forward(self, x):\n",
    "        y = np.exp(x)\n",
    "        return y\n",
    "    def backward(self, gy):\n",
    "        x = self.input.data\n",
    "        gx = np.exp(x) * gy\n",
    "        return gx\n",
    "    "
   ]
  },
  {
   "cell_type": "markdown",
   "id": "cdbf0370",
   "metadata": {},
   "source": [
    "### 역전파 구현"
   ]
  },
  {
   "cell_type": "code",
   "execution_count": 40,
   "id": "0a41b52a",
   "metadata": {},
   "outputs": [],
   "source": [
    "A = Square()\n",
    "B = Exp()\n",
    "C = Square()\n",
    "\n",
    "x = Variable(np.array(0.5))\n",
    "a = A(x)\n",
    "b = B(a)\n",
    "y = C(b)"
   ]
  },
  {
   "cell_type": "code",
   "execution_count": 41,
   "id": "230b8000",
   "metadata": {},
   "outputs": [
    {
     "data": {
      "text/plain": [
       "3.297442541400256"
      ]
     },
     "execution_count": 41,
     "metadata": {},
     "output_type": "execute_result"
    }
   ],
   "source": [
    "y.grad = np.array(1.0)\n",
    "b.grad = C.backward(y.grad)\n",
    "a.grad = B.backward(b.grad)\n",
    "x.grad = A.backward(a.grad)\n",
    "x.grad"
   ]
  },
  {
   "cell_type": "markdown",
   "id": "cb97f883",
   "metadata": {},
   "source": [
    "## 7단계, 역전파 자동화"
   ]
  },
  {
   "cell_type": "markdown",
   "id": "a6f71a5c",
   "metadata": {},
   "source": [
    "### 역전파 자동화의 시작"
   ]
  },
  {
   "cell_type": "code",
   "execution_count": 52,
   "id": "f9c323e8",
   "metadata": {},
   "outputs": [],
   "source": [
    "class Variable:\n",
    "    def __init__(self, data):\n",
    "        self.data = data\n",
    "        self.grad = None\n",
    "        self.creator = None\n",
    "    def set_creator(self, func):\n",
    "        self.creator = func"
   ]
  },
  {
   "cell_type": "code",
   "execution_count": 53,
   "id": "e1e080a5",
   "metadata": {},
   "outputs": [],
   "source": [
    "class Function:\n",
    "    def __call__(self, input):\n",
    "        x = input.data\n",
    "        y = self.forward(x)\n",
    "        output = Variable(y)\n",
    "        output.set_creator(self)\n",
    "        self.input = input\n",
    "        self.output = output\n",
    "        return output"
   ]
  },
  {
   "cell_type": "markdown",
   "id": "21a92ef7",
   "metadata": {},
   "source": [
    "- 주의 Function 클래스를 재정의했으므로  Square클래스와 Exp 클래스 정의를 재호출해야한다."
   ]
  },
  {
   "cell_type": "code",
   "execution_count": 56,
   "id": "492c2ddc",
   "metadata": {},
   "outputs": [],
   "source": [
    "A = Square()\n",
    "B = Exp()\n",
    "C = Square()\n",
    "\n",
    "x = Variable(np.array(0.5))\n",
    "a = A(x)\n",
    "b = B(a)\n",
    "y = C(b)\n",
    "\n",
    "# 계산 그래프의 노드들을 거꾸로 거슬러 올라간다.\n",
    "### Defined by Run\n",
    "assert y.creator == C\n",
    "assert y.creator.input == b\n",
    "assert y.creator.input.creator == B\n",
    "assert y.creator.input.creator.input == a\n",
    "assert y.creator.input.creator.input.creator == A\n",
    "assert y.creator.input.creator.input.creator.input == x\n"
   ]
  },
  {
   "cell_type": "markdown",
   "id": "03579214",
   "metadata": {},
   "source": [
    "### 역전파 도전"
   ]
  },
  {
   "cell_type": "code",
   "execution_count": 58,
   "id": "2fa109f9",
   "metadata": {},
   "outputs": [],
   "source": [
    "y.grad = np.array(1.0)\n",
    "\n",
    "C = y.creator                 # 1. 함수를 가져온다.\n",
    "b = C.input                   # 2. 함수의 입력을 가져온다.\n",
    "b.grad = C.backward(y.grad)   # 3. 함수의 backward 메서드를 호출한다."
   ]
  },
  {
   "cell_type": "code",
   "execution_count": 59,
   "id": "cb17e34c",
   "metadata": {},
   "outputs": [],
   "source": [
    "B = b.creator                 # 1. 함수를 가져온다.\n",
    "a = B.input                   # 2. 함수의 입력을 가져온다.\n",
    "a.grad = B.backward(b.grad)   # 3. 함수의 backward 메서드를 호출한다."
   ]
  },
  {
   "cell_type": "code",
   "execution_count": 60,
   "id": "678e8225",
   "metadata": {},
   "outputs": [
    {
     "data": {
      "text/plain": [
       "3.297442541400256"
      ]
     },
     "execution_count": 60,
     "metadata": {},
     "output_type": "execute_result"
    }
   ],
   "source": [
    "A = a.creator\n",
    "x = A.input\n",
    "x.grad = A.backward(a.grad)\n",
    "x.grad"
   ]
  },
  {
   "cell_type": "markdown",
   "id": "2bc1eed1",
   "metadata": {},
   "source": [
    "### backward 메서드 추가"
   ]
  },
  {
   "cell_type": "code",
   "execution_count": 61,
   "id": "7a2b27ca",
   "metadata": {},
   "outputs": [],
   "source": [
    "class Variable:\n",
    "    def __init__(self, data):\n",
    "        self.data = data\n",
    "        self.grad = None\n",
    "        self.creator = None\n",
    "        \n",
    "    def set_creator(self, func):\n",
    "        self.creator = func\n",
    "        \n",
    "    def backward(self):\n",
    "        f = self.creator        # 1. 함수를 가져온다.\n",
    "        if f is not None:\n",
    "            x = f.input                       # 2. 함수의 입력을 가져온다.\n",
    "            x .grad = f.backward(self.grad)   # 3. 함수의 backward메서드를 호출한다.\n",
    "            x.backward()                      # 하나 앞 변수의 backward 메서드를 호출한다.(재귀)"
   ]
  },
  {
   "cell_type": "code",
   "execution_count": 62,
   "id": "9aeb14f1",
   "metadata": {},
   "outputs": [
    {
     "name": "stdout",
     "output_type": "stream",
     "text": [
      "3.297442541400256\n"
     ]
    }
   ],
   "source": [
    "A = Square()\n",
    "B = Exp()\n",
    "C = Square()\n",
    "\n",
    "x = Variable(np.array(0.5))\n",
    "a = A(x)\n",
    "b = B(a)\n",
    "y = C(b)\n",
    "\n",
    "# 역전파\n",
    "y.grad = np.array(1.0)\n",
    "y.backward()\n",
    "print(x.grad)\n"
   ]
  },
  {
   "cell_type": "code",
   "execution_count": null,
   "id": "09b3d272",
   "metadata": {},
   "outputs": [],
   "source": []
  }
 ],
 "metadata": {
  "kernelspec": {
   "display_name": "Python 3",
   "language": "python",
   "name": "python3"
  },
  "language_info": {
   "codemirror_mode": {
    "name": "ipython",
    "version": 3
   },
   "file_extension": ".py",
   "mimetype": "text/x-python",
   "name": "python",
   "nbconvert_exporter": "python",
   "pygments_lexer": "ipython3",
   "version": "3.8.8"
  }
 },
 "nbformat": 4,
 "nbformat_minor": 5
}
