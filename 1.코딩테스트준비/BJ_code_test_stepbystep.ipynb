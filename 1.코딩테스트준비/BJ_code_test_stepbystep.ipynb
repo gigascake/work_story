{
 "cells": [
  {
   "cell_type": "code",
   "execution_count": 11,
   "id": "a4af55fe",
   "metadata": {},
   "outputs": [
    {
     "name": "stdout",
     "output_type": "stream",
     "text": [
      "\\    /\\\n",
      " )  ( ')\n",
      "(  /  )\n",
      " \\(__)|\n"
     ]
    }
   ],
   "source": [
    "print(\"\"\"\\    /\\\\\n",
    " )  ( ')\n",
    "(  /  )\n",
    " \\(__)|\"\"\")"
   ]
  },
  {
   "cell_type": "code",
   "execution_count": 17,
   "id": "3998a05b",
   "metadata": {},
   "outputs": [
    {
     "name": "stdout",
     "output_type": "stream",
     "text": [
      "|\\_/|\n",
      "|q p|   /}\n",
      "( 0 )\"\"\"\\\n",
      "|\"^\"`    |\n",
      "||_/=\\\\__|\n"
     ]
    }
   ],
   "source": [
    "print(\"\"\"|\\_/|\n",
    "|q p|   /}\n",
    "( 0 )\\\"\\\"\\\"\\\\\n",
    "|\\\"^\\\"`    |\n",
    "||_/=\\\\\\\\__|\"\"\")"
   ]
  },
  {
   "cell_type": "code",
   "execution_count": 22,
   "id": "addc6de2",
   "metadata": {},
   "outputs": [
    {
     "name": "stdout",
     "output_type": "stream",
     "text": [
      "1 2\n",
      "3\n"
     ]
    }
   ],
   "source": [
    "A, B = input().split()\n",
    "C = int(A) + int(B)\n",
    "print(C)"
   ]
  },
  {
   "cell_type": "code",
   "execution_count": null,
   "id": "f11edf79",
   "metadata": {},
   "outputs": [],
   "source": [
    "A, B = input().split()\n",
    "C = int(A) - int(B)\n",
    "print(C)"
   ]
  },
  {
   "cell_type": "code",
   "execution_count": 23,
   "id": "415d59d2",
   "metadata": {},
   "outputs": [
    {
     "name": "stdout",
     "output_type": "stream",
     "text": [
      "1 2\n",
      "2\n"
     ]
    }
   ],
   "source": [
    "A, B = input().split()\n",
    "C = int(A) * int(B)\n",
    "print(C)"
   ]
  },
  {
   "cell_type": "code",
   "execution_count": 26,
   "id": "e957b5a7",
   "metadata": {},
   "outputs": [
    {
     "name": "stdout",
     "output_type": "stream",
     "text": [
      "1 3\n",
      "0.3333333333333333\n"
     ]
    }
   ],
   "source": [
    "A, B = input().split()\n",
    "C = int(A) / int(B)\n",
    "print(C)"
   ]
  },
  {
   "cell_type": "code",
   "execution_count": 38,
   "id": "d859bfc6",
   "metadata": {},
   "outputs": [
    {
     "name": "stdout",
     "output_type": "stream",
     "text": [
      "7 3\n",
      "10\n",
      "4\n",
      "21\n",
      "2\n",
      "1\n"
     ]
    }
   ],
   "source": [
    "A, B = input().split()\n",
    "add = int(A) + int(B)\n",
    "minus = int(A) - int(B)\n",
    "mul = int(A) * int(B)\n",
    "powd = int(A) // int(B)\n",
    "mod = int(A) % int(B)\n",
    "print(\"{}\\n{}\\n{}\\n{}\\n{}\".format(add, minus, mul, powd, mod))\n"
   ]
  },
  {
   "cell_type": "code",
   "execution_count": 42,
   "id": "023389fa",
   "metadata": {},
   "outputs": [
    {
     "name": "stdout",
     "output_type": "stream",
     "text": [
      "5 8 4\n",
      "1\n",
      "1\n",
      "0\n",
      "0\n"
     ]
    }
   ],
   "source": [
    "A, B, C = input().split()\n",
    "A = int(A)\n",
    "B = int(B)\n",
    "C = int(C)\n",
    "result_1th = (A+B)%C\n",
    "result_2th = ((A%C)+(B%C))%C\n",
    "result_3th = (A*B)%C\n",
    "result_4th = ((A%C)*(B%C))%C\n",
    "print(\"{}\\n{}\\n{}\\n{}\".format(result_1th, result_2th, result_3th, result_4th))"
   ]
  },
  {
   "cell_type": "code",
   "execution_count": 51,
   "id": "28c37623",
   "metadata": {},
   "outputs": [
    {
     "name": "stdout",
     "output_type": "stream",
     "text": [
      "472\n",
      "385\n",
      "2360\n",
      "3776\n",
      "1416\n",
      "181720\n"
     ]
    }
   ],
   "source": [
    "A = input()\n",
    "B = input()\n",
    "result_1th = int(A) * int(B[2])\n",
    "result_2th = int(A) * int(B[1])\n",
    "result_3th = int(A) * int(B[0])\n",
    "result_4th = int(A) * int(B)\n",
    "print(\"{}\\n{}\\n{}\\n{}\".format(result_1th, result_2th, result_3th, result_4th))"
   ]
  },
  {
   "cell_type": "code",
   "execution_count": 52,
   "id": "8696d6da",
   "metadata": {},
   "outputs": [
    {
     "name": "stdout",
     "output_type": "stream",
     "text": [
      "1 2\n",
      "<\n"
     ]
    }
   ],
   "source": [
    "A, B = input().split()\n",
    "if int(A) < int(B):\n",
    "    print(\"<\")\n",
    "if int(A) > int(B):\n",
    "    print(\">\")    \n",
    "if int(A) == int(B):\n",
    "    print(\"==\")\n",
    "    "
   ]
  },
  {
   "cell_type": "code",
   "execution_count": 63,
   "id": "ae09dbbc",
   "metadata": {},
   "outputs": [
    {
     "name": "stdout",
     "output_type": "stream",
     "text": [
      "30\n",
      "F\n"
     ]
    }
   ],
   "source": [
    "score = int(input())\n",
    "if score >= 90 and score <= 100:\n",
    "    print(\"A\")\n",
    "elif score >= 80 and score <= 89:\n",
    "    print(\"B\")\n",
    "elif score >= 70 and score <= 79:\n",
    "    print(\"C\")    \n",
    "elif score >= 60 and score <= 69:\n",
    "    print(\"D\")        \n",
    "else:\n",
    "    print(\"F\")"
   ]
  },
  {
   "cell_type": "code",
   "execution_count": 72,
   "id": "ab9484af",
   "metadata": {},
   "outputs": [
    {
     "name": "stdout",
     "output_type": "stream",
     "text": [
      "1900\n",
      "0\n"
     ]
    }
   ],
   "source": [
    "year = int(input())\n",
    "\n",
    "yun = 0\n",
    "if year % 4 == 0 and (year % 100 != 0 or year % 400 == 0):\n",
    "    yun = 1\n",
    "else:\n",
    "    yun = 0\n",
    "    \n",
    "print(yun)\n"
   ]
  },
  {
   "cell_type": "code",
   "execution_count": null,
   "id": "83d8c0cb",
   "metadata": {},
   "outputs": [],
   "source": [
    "X = int(input())\n",
    "Y = int(input())\n",
    "if X > 0 and Y > 0:\n",
    "    print(1)\n",
    "elif X < 0 and Y > 0:\n",
    "    print(2)\n",
    "elif X < 0 and Y < 0:\n",
    "    print(3)\n",
    "else:\n",
    "    print(4)"
   ]
  },
  {
   "cell_type": "code",
   "execution_count": 78,
   "id": "d2960d45",
   "metadata": {},
   "outputs": [
    {
     "name": "stdout",
     "output_type": "stream",
     "text": [
      "23 40\n",
      "22 55\n"
     ]
    }
   ],
   "source": [
    "H24, MM = input().split()\n",
    "H24 = int(H24)\n",
    "MM = int(MM)\n",
    "\n",
    "\n",
    "if MM < 45:\n",
    "    H24 = H24 -1\n",
    "    MM = MM - 45\n",
    "    if MM < 0:\n",
    "        MM = 60 + MM\n",
    "else:\n",
    "    MM = MM - 45\n",
    "if H24 < 0:\n",
    "    H24 = 24 + H24\n",
    "        \n",
    "\n",
    "print(\"{} {}\".format(H24, MM))\n"
   ]
  },
  {
   "cell_type": "code",
   "execution_count": 79,
   "id": "2e6764a6",
   "metadata": {},
   "outputs": [
    {
     "name": "stdout",
     "output_type": "stream",
     "text": [
      "2\n",
      "2 * 1 = 2\n",
      "2 * 2 = 4\n",
      "2 * 3 = 6\n",
      "2 * 4 = 8\n",
      "2 * 5 = 10\n",
      "2 * 6 = 12\n",
      "2 * 7 = 14\n",
      "2 * 8 = 16\n",
      "2 * 9 = 18\n"
     ]
    }
   ],
   "source": [
    "gugudan = int(input())\n",
    "print(\"{} * 1 = {}\".format(gugudan, gugudan*1))\n",
    "print(\"{} * 2 = {}\".format(gugudan, gugudan*2))\n",
    "print(\"{} * 3 = {}\".format(gugudan, gugudan*3))\n",
    "print(\"{} * 4 = {}\".format(gugudan, gugudan*4))\n",
    "print(\"{} * 5 = {}\".format(gugudan, gugudan*5))\n",
    "print(\"{} * 6 = {}\".format(gugudan, gugudan*6))\n",
    "print(\"{} * 7 = {}\".format(gugudan, gugudan*7))\n",
    "print(\"{} * 8 = {}\".format(gugudan, gugudan*8))\n",
    "print(\"{} * 9 = {}\".format(gugudan, gugudan*9))"
   ]
  },
  {
   "cell_type": "code",
   "execution_count": 88,
   "id": "54fd5078",
   "metadata": {},
   "outputs": [
    {
     "name": "stdout",
     "output_type": "stream",
     "text": [
      "5\n",
      "1 1\n",
      "2 3\n",
      "3 4\n",
      "9 8\n",
      "5 2\n",
      "2\n",
      "5\n",
      "7\n",
      "17\n",
      "7\n"
     ]
    }
   ],
   "source": [
    "n = int(input())\n",
    "array = [[0, 0] for i in range(n)]\n",
    "for i in range(n):\n",
    "    array[i][0], array[i][1] = map(int, input().split())\n",
    "    \n",
    "for i in range(n):\n",
    "    print(\"{}\".format(array[i][0]+array[i][1]))    "
   ]
  },
  {
   "cell_type": "code",
   "execution_count": 91,
   "id": "c10457fd",
   "metadata": {},
   "outputs": [
    {
     "name": "stdout",
     "output_type": "stream",
     "text": [
      "5\n",
      "1\n",
      "3\n",
      "6\n",
      "10\n",
      "15\n",
      "15\n"
     ]
    }
   ],
   "source": [
    "n = int(input())\n",
    "sum = 0\n",
    "for i in range(1, n+1):\n",
    "    sum += i\n",
    "print(sum)"
   ]
  },
  {
   "cell_type": "code",
   "execution_count": 95,
   "id": "bd428e0e",
   "metadata": {},
   "outputs": [
    {
     "name": "stdout",
     "output_type": "stream",
     "text": [
      "5\n"
     ]
    },
    {
     "ename": "ValueError",
     "evalue": "not enough values to unpack (expected 2, got 0)",
     "output_type": "error",
     "traceback": [
      "\u001b[0;31m---------------------------------------------------------------------------\u001b[0m",
      "\u001b[0;31mValueError\u001b[0m                                Traceback (most recent call last)",
      "\u001b[0;32m<ipython-input-95-1a29f42c2a85>\u001b[0m in \u001b[0;36m<module>\u001b[0;34m\u001b[0m\n\u001b[1;32m      3\u001b[0m \u001b[0marray\u001b[0m \u001b[0;34m=\u001b[0m \u001b[0;34m[\u001b[0m\u001b[0;34m[\u001b[0m\u001b[0;36m0\u001b[0m\u001b[0;34m,\u001b[0m \u001b[0;36m0\u001b[0m\u001b[0;34m]\u001b[0m \u001b[0;32mfor\u001b[0m \u001b[0mi\u001b[0m \u001b[0;32min\u001b[0m \u001b[0mrange\u001b[0m\u001b[0;34m(\u001b[0m\u001b[0mn\u001b[0m\u001b[0;34m)\u001b[0m\u001b[0;34m]\u001b[0m\u001b[0;34m\u001b[0m\u001b[0;34m\u001b[0m\u001b[0m\n\u001b[1;32m      4\u001b[0m \u001b[0;32mfor\u001b[0m \u001b[0mi\u001b[0m \u001b[0;32min\u001b[0m \u001b[0mrange\u001b[0m\u001b[0;34m(\u001b[0m\u001b[0mn\u001b[0m\u001b[0;34m)\u001b[0m\u001b[0;34m:\u001b[0m\u001b[0;34m\u001b[0m\u001b[0;34m\u001b[0m\u001b[0m\n\u001b[0;32m----> 5\u001b[0;31m     \u001b[0marray\u001b[0m\u001b[0;34m[\u001b[0m\u001b[0mi\u001b[0m\u001b[0;34m]\u001b[0m\u001b[0;34m[\u001b[0m\u001b[0;36m0\u001b[0m\u001b[0;34m]\u001b[0m\u001b[0;34m,\u001b[0m \u001b[0marray\u001b[0m\u001b[0;34m[\u001b[0m\u001b[0mi\u001b[0m\u001b[0;34m]\u001b[0m\u001b[0;34m[\u001b[0m\u001b[0;36m1\u001b[0m\u001b[0;34m]\u001b[0m \u001b[0;34m=\u001b[0m \u001b[0mmap\u001b[0m\u001b[0;34m(\u001b[0m\u001b[0mint\u001b[0m\u001b[0;34m,\u001b[0m \u001b[0msys\u001b[0m\u001b[0;34m.\u001b[0m\u001b[0mstdin\u001b[0m\u001b[0;34m.\u001b[0m\u001b[0mreadline\u001b[0m\u001b[0;34m(\u001b[0m\u001b[0;34m)\u001b[0m\u001b[0;34m.\u001b[0m\u001b[0msplit\u001b[0m\u001b[0;34m(\u001b[0m\u001b[0;34m)\u001b[0m\u001b[0;34m)\u001b[0m\u001b[0;34m\u001b[0m\u001b[0;34m\u001b[0m\u001b[0m\n\u001b[0m\u001b[1;32m      6\u001b[0m \u001b[0;34m\u001b[0m\u001b[0m\n\u001b[1;32m      7\u001b[0m \u001b[0;32mfor\u001b[0m \u001b[0mi\u001b[0m \u001b[0;32min\u001b[0m \u001b[0mrange\u001b[0m\u001b[0;34m(\u001b[0m\u001b[0mn\u001b[0m\u001b[0;34m)\u001b[0m\u001b[0;34m:\u001b[0m\u001b[0;34m\u001b[0m\u001b[0;34m\u001b[0m\u001b[0m\n",
      "\u001b[0;31mValueError\u001b[0m: not enough values to unpack (expected 2, got 0)"
     ]
    }
   ],
   "source": [
    "import sys\n",
    "n = int(input())\n",
    "array = [[0, 0] for i in range(n)]\n",
    "for i in range(n):\n",
    "    array[i][0], array[i][1] = map(int, sys.stdin.readline().split())\n",
    "\n",
    "for i in range(n):\n",
    "    print(\"{}\".format(array[i][0]+array[i][1]))"
   ]
  },
  {
   "cell_type": "code",
   "execution_count": 96,
   "id": "ffab3a49",
   "metadata": {},
   "outputs": [
    {
     "name": "stdout",
     "output_type": "stream",
     "text": [
      "5\n",
      "1\n",
      "2\n",
      "3\n",
      "4\n",
      "5\n"
     ]
    }
   ],
   "source": [
    "n = int(input())\n",
    "for i in range(1, n+1):\n",
    "    print(i)\n"
   ]
  },
  {
   "cell_type": "code",
   "execution_count": 104,
   "id": "30a87427",
   "metadata": {},
   "outputs": [
    {
     "name": "stdout",
     "output_type": "stream",
     "text": [
      "5\n",
      "1 1\n",
      "2 3\n",
      "3 4\n",
      "9 8\n",
      "5 2\n",
      "Case #1:2\n",
      "Case #2:5\n",
      "Case #3:7\n",
      "Case #4:17\n",
      "Case #5:7\n"
     ]
    }
   ],
   "source": [
    "import sys\n",
    "n = int(input())\n",
    "array = [[0, 0] for i in range(n)]\n",
    "for i in range(n):\n",
    "    #array[i][0], array[i][1] = map(int, sys.stdin.readline().split())\n",
    "    array[i][0], array[i][1] = map(int, input().split())\n",
    "\n",
    "for i in range(n):\n",
    "    print(\"Case #{}: {}\".format(i+1, array[i][0]+array[i][1]))"
   ]
  },
  {
   "cell_type": "code",
   "execution_count": null,
   "id": "d5859081",
   "metadata": {},
   "outputs": [],
   "source": [
    "import sys\n",
    "n = int(input())\n",
    "array = [[0, 0] for i in range(n)]\n",
    "for i in range(n):\n",
    "    array[i][0], array[i][1] = map(int, sys.stdin.readline().split())\n",
    "    \n",
    "for i in range(n):\n",
    "    print(\"Case #{}: {} + {} = {}\".format(i+1, array[i][0], array[i][1], array[i][0]+array[i][1]))"
   ]
  },
  {
   "cell_type": "code",
   "execution_count": 113,
   "id": "2b91342b",
   "metadata": {},
   "outputs": [
    {
     "name": "stdout",
     "output_type": "stream",
     "text": [
      "20\n",
      "                    *\n",
      "                   **\n",
      "                  ***\n",
      "                 ****\n",
      "                *****\n",
      "               ******\n",
      "              *******\n",
      "             ********\n",
      "            *********\n",
      "           **********\n",
      "          ***********\n",
      "         ************\n",
      "        *************\n",
      "       **************\n",
      "      ***************\n",
      "     ****************\n",
      "    *****************\n",
      "   ******************\n",
      "  *******************\n",
      " ********************\n"
     ]
    }
   ],
   "source": [
    "import sys\n",
    "n = int(input())\n",
    "for i in range(1, n+1):\n",
    "    print(\" \"*(n-i)+\"*\"*i)"
   ]
  },
  {
   "cell_type": "code",
   "execution_count": 133,
   "id": "6bf212a8",
   "metadata": {},
   "outputs": [
    {
     "name": "stdout",
     "output_type": "stream",
     "text": [
      "10 5\n",
      "1 10 4 9 2 3 8 5 7 6\n",
      "1 4 2 3 "
     ]
    }
   ],
   "source": [
    "N, X = input().split()\n",
    "array = [0 for i in range(int(N))]\n",
    "result = ''\n",
    "array = list(map(int, input().split()))\n",
    "#array = list(map(int, sys.stdin.readline().split()))\n",
    "for term in array:\n",
    "    if term < int(X):\n",
    "        result += str(term) + ' '\n",
    "        print(term, end=' ')"
   ]
  },
  {
   "cell_type": "code",
   "execution_count": 9,
   "id": "106e4e6e",
   "metadata": {},
   "outputs": [
    {
     "name": "stdout",
     "output_type": "stream",
     "text": [
      "1 1\n",
      "2 3\n",
      "0 0\n",
      "2\n",
      "5\n"
     ]
    }
   ],
   "source": [
    "A = 1\n",
    "B = 1\n",
    "result = []\n",
    "while True:\n",
    "    if int(A) == 0 and int(B) == 0:\n",
    "        break\n",
    "        \n",
    "    A, B = input().split()\n",
    "    if int(A) != 0 and int(B) != 0:\n",
    "        result.append(int(A)+int(B))\n",
    "    \n",
    "        \n",
    "for term in result:\n",
    "    print(term)"
   ]
  },
  {
   "cell_type": "code",
   "execution_count": 10,
   "id": "70a84d98",
   "metadata": {},
   "outputs": [
    {
     "name": "stdout",
     "output_type": "stream",
     "text": [
      "1 1\n",
      "2 3\n",
      "3 4\n",
      "9 8\n",
      "5 2\n",
      "\n",
      "2\n",
      "5\n",
      "7\n",
      "17\n",
      "7\n"
     ]
    }
   ],
   "source": [
    "A = 1\n",
    "B = 1\n",
    "result = []\n",
    "while True:\n",
    "    try:\n",
    "        A, B = input().split()\n",
    "        result.append(int(A)+int(B))\n",
    "    except:\n",
    "        break\n",
    "    \n",
    "        \n",
    "for term in result:\n",
    "    print(term)"
   ]
  },
  {
   "cell_type": "code",
   "execution_count": 10,
   "id": "77f04e58",
   "metadata": {},
   "outputs": [
    {
     "name": "stdout",
     "output_type": "stream",
     "text": [
      "71\n",
      "12\n"
     ]
    }
   ],
   "source": [
    "import copy\n",
    "N = input()\n",
    "sum = 0\n",
    "org_num = copy.deepcopy(N)\n",
    "new_num = 0\n",
    "\n",
    "check_cycle = 0\n",
    "while True:    \n",
    "    if int(N) < 10:\n",
    "        N = '0' + N\n",
    "        sum = int(N[0])+int(N[1])\n",
    "        new_num = int(N[1] + str(sum))\n",
    "    else:\n",
    "        sum = int(N[0])+int(N[1])\n",
    "        str_sum = str(sum)\n",
    "        if len(str_sum) > 1:\n",
    "            new_num = int(N[1] + str_sum[1])\n",
    "        else:\n",
    "             new_num = int(N[1] + str(sum))\n",
    "    \n",
    "    N = str(new_num)\n",
    "    #print(\"{} {}\".format(org_num, new_num))\n",
    "    check_cycle += 1\n",
    "    if str(new_num) == org_num:\n",
    "        break\n",
    "print(check_cycle)\n"
   ]
  },
  {
   "cell_type": "code",
   "execution_count": 6,
   "id": "053f6e51",
   "metadata": {},
   "outputs": [
    {
     "data": {
      "text/plain": [
       "4"
      ]
     },
     "execution_count": 6,
     "metadata": {},
     "output_type": "execute_result"
    }
   ],
   "source": [
    "N = str(14)\n",
    "int(N[1])"
   ]
  },
  {
   "cell_type": "code",
   "execution_count": 15,
   "id": "325a1c0b",
   "metadata": {},
   "outputs": [
    {
     "name": "stdout",
     "output_type": "stream",
     "text": [
      "5\n",
      "20 10 35 30 7\n",
      "7 35\n"
     ]
    }
   ],
   "source": [
    "N = input()\n",
    "array = list(map(int, input().split()))\n",
    "print(\"{} {}\".format(min(array), max(array)))\n"
   ]
  },
  {
   "cell_type": "code",
   "execution_count": 21,
   "id": "14db4716",
   "metadata": {},
   "outputs": [
    {
     "name": "stdout",
     "output_type": "stream",
     "text": [
      "3\n",
      "29\n",
      "38\n",
      "12\n",
      "57\n",
      "74\n",
      "40\n",
      "85\n",
      "61\n",
      "85\n",
      "8\n"
     ]
    }
   ],
   "source": [
    "array = [0 for i in range(9)]\n",
    "\n",
    "check_cycle = 0\n",
    "while True:\n",
    "    array[check_cycle] = int(input())\n",
    "    \n",
    "    check_cycle += 1\n",
    "    \n",
    "    if check_cycle == 9:\n",
    "        array_max = max(array)\n",
    "        print(array_max)\n",
    "\n",
    "        idx = 1\n",
    "        for term in array:\n",
    "            if term == array_max:\n",
    "                print(idx)\n",
    "            idx +=1\n",
    "\n",
    "        break"
   ]
  },
  {
   "cell_type": "code",
   "execution_count": 34,
   "id": "085013ab",
   "metadata": {},
   "outputs": [
    {
     "name": "stdout",
     "output_type": "stream",
     "text": [
      "150\n",
      "266\n",
      "427\n",
      "3\n",
      "1\n",
      "0\n",
      "2\n",
      "0\n",
      "0\n",
      "0\n",
      "2\n",
      "0\n",
      "0\n"
     ]
    }
   ],
   "source": [
    "array = [0 for i in range(3)]\n",
    "\n",
    "sum = 0\n",
    "check_cycle = 0\n",
    "while True:\n",
    "    array[check_cycle] = int(input())\n",
    "    \n",
    "    check_cycle +=1\n",
    "    if check_cycle == 3:\n",
    "        break\n",
    "        \n",
    "sum = array[0] * array[1] * array[2]\n",
    "str_sum = str(sum)\n",
    "count_dict = {str(i):0 for i in range(10)}\n",
    "\n",
    "for term in list(str_sum):\n",
    "    count_dict[term] += 1\n",
    "\n",
    "for key, value in count_dict.items():\n",
    "    print(value)\n",
    "    "
   ]
  },
  {
   "cell_type": "code",
   "execution_count": 2,
   "id": "3f37378b",
   "metadata": {},
   "outputs": [
    {
     "name": "stdout",
     "output_type": "stream",
     "text": [
      "39\n",
      "40\n",
      "41\n",
      "42\n",
      "43\n",
      "44\n",
      "82\n",
      "83\n",
      "84\n",
      "85\n",
      "6\n"
     ]
    }
   ],
   "source": [
    "array = [0 for i in range(10)]\n",
    "result_dict = {i:0 for i in range(42)}\n",
    "#print(result_dict)\n",
    "for i in range(10):\n",
    "    array[i] = int(input())\n",
    "for term in array:\n",
    "    result_dict[int(term % 42)] += 1\n",
    "\n",
    "count = 0\n",
    "for key, value in result_dict.items():\n",
    "#    print(\"{} {}\".format(key, value))\n",
    "    if value > 0:\n",
    "        count += 1\n",
    "        \n",
    "print(count)"
   ]
  },
  {
   "cell_type": "code",
   "execution_count": 17,
   "id": "f0714395",
   "metadata": {},
   "outputs": [
    {
     "name": "stdout",
     "output_type": "stream",
     "text": [
      "9\n",
      "10 20 30 40 50 60 70 80 90\n",
      "55.555556\n"
     ]
    }
   ],
   "source": [
    "# N < 1000\n",
    "N = int(input())\n",
    "array = [0 for i in range(int(N))]\n",
    "array = list(map(int, input().split()))\n",
    "if len(array) > N:\n",
    "    print('ERROR N count!!!')\n",
    "\n",
    "max_score = max(array)\n",
    "idx = 0\n",
    "for term_score in array:\n",
    "    array[idx] = term_score/max_score*100\n",
    "    idx += 1\n",
    "AVG = round(sum(array, 0.0)/len(array), 6)    \n",
    "print(AVG)"
   ]
  },
  {
   "cell_type": "code",
   "execution_count": 31,
   "id": "34744c31",
   "metadata": {
    "scrolled": false
   },
   "outputs": [
    {
     "name": "stdout",
     "output_type": "stream",
     "text": [
      "5\n",
      "OOXXOXXOOO\n",
      "OOXXOOXXOO\n",
      "OXOXOXOXOXOXOX\n",
      "OOOOOOOOOO\n",
      "OOOOXOOOOXOOOOX\n",
      "10\n",
      "9\n",
      "7\n",
      "55\n",
      "30\n"
     ]
    }
   ],
   "source": [
    "N = input()\n",
    "array = ['' for i in range(int(N))]\n",
    "score_array = [0 for i in range(int(N))]\n",
    "for i in range(int(N)):\n",
    "    array[i] = input()\n",
    "\n",
    "score = 0\n",
    "increment_score = 0\n",
    "before_check = ''\n",
    "for terms in array:\n",
    "    for character in list(terms):\n",
    "        #print(character)\n",
    "        if character == 'O':\n",
    "            increment_score += 1\n",
    "        elif character == 'X':\n",
    "            increment_score = 0\n",
    "\n",
    "        score += increment_score\n",
    "\n",
    "        before_check = character\n",
    "        #print(\"score : {}\".format(score))\n",
    "        \n",
    "    print(score)\n",
    "    score = 0\n",
    "    increment_score = 0\n",
    "    \n",
    "    \n",
    "\n",
    "    "
   ]
  },
  {
   "cell_type": "code",
   "execution_count": 46,
   "id": "21ca2139",
   "metadata": {},
   "outputs": [
    {
     "name": "stdout",
     "output_type": "stream",
     "text": [
      "5\n",
      "5 50 50 70 80 100\n",
      "7 100 95 90 80 70 60 50\n",
      "3 70 90 80\n",
      "3 70 90 81\n",
      "9 100 99 98 97 96 95 94 93 91\n",
      "40.000%\n",
      "57.143%\n",
      "33.333%\n",
      "66.667%\n",
      "55.556%\n"
     ]
    }
   ],
   "source": [
    "TN = input()\n",
    "array = [0 for i in range(int(TN))]\n",
    "\n",
    "result_avg = [0 for i in range(int(TN))]\n",
    "\n",
    "for i in range(int(TN)):\n",
    "    array[i] = list(map(int, input().split()))\n",
    "\n",
    "\n",
    "result_avg_idx = 0\n",
    "for terms in array:\n",
    "    student_count = 0\n",
    "    avg_score = 0\n",
    "\n",
    "    ##각 태스크의 평균값 계산.\n",
    "    for i in range(len(terms)):\n",
    "        if i == 0:\n",
    "            student_count = terms[i]\n",
    "        else:\n",
    "            avg_score += terms[i]\n",
    "        #print(i)\n",
    "    \n",
    "    result_avg[result_avg_idx] = avg_score/student_count\n",
    "    \n",
    "    count = 0\n",
    "    for i in range(len(terms)):\n",
    "        if i != 0 and terms[i] > result_avg[result_avg_idx]:\n",
    "            count += 1\n",
    "            \n",
    "           \n",
    "    ##구한 평균값보다 높은성적의 비율도출하기.\n",
    "    print(\"{:.3f}%\".format(round(count/student_count*100, 3)))\n"
   ]
  },
  {
   "cell_type": "code",
   "execution_count": 4,
   "id": "31db74ce",
   "metadata": {},
   "outputs": [
    {
     "data": {
      "text/plain": [
       "75.0"
      ]
     },
     "execution_count": 4,
     "metadata": {},
     "output_type": "execute_result"
    }
   ],
   "source": [
    "60/80*100\n"
   ]
  },
  {
   "cell_type": "code",
   "execution_count": 5,
   "id": "0fb3a250",
   "metadata": {},
   "outputs": [
    {
     "data": {
      "text/plain": [
       "75.0"
      ]
     },
     "execution_count": 5,
     "metadata": {},
     "output_type": "execute_result"
    }
   ],
   "source": [
    "(50 + 100 + 75)/3"
   ]
  },
  {
   "cell_type": "code",
   "execution_count": 6,
   "id": "3953ba58",
   "metadata": {},
   "outputs": [
    {
     "data": {
      "text/plain": [
       "3"
      ]
     },
     "execution_count": 6,
     "metadata": {},
     "output_type": "execute_result"
    }
   ],
   "source": [
    "len(array)"
   ]
  },
  {
   "cell_type": "code",
   "execution_count": 7,
   "id": "deab9a1b",
   "metadata": {},
   "outputs": [
    {
     "data": {
      "text/plain": [
       "215.0"
      ]
     },
     "execution_count": 7,
     "metadata": {},
     "output_type": "execute_result"
    }
   ],
   "source": [
    "sum(array)"
   ]
  },
  {
   "cell_type": "code",
   "execution_count": null,
   "id": "7bcd1658",
   "metadata": {},
   "outputs": [],
   "source": [
    "def solve(a):\n",
    "    return sum(a)"
   ]
  },
  {
   "cell_type": "code",
   "execution_count": 55,
   "id": "cd954bc7",
   "metadata": {},
   "outputs": [],
   "source": [
    "def d(n):\n",
    "    if n >= 10000:\n",
    "        return \n",
    "    if n < 10000:\n",
    "        print(n)\n",
    "    n_list = list(str(n))\n",
    "    \n",
    "    if len(n_list) == 4:        \n",
    "        d(n + int(n_list[0]) + int(n_list[1]) + int(n_list[2]) + int(n_list[3]))\n",
    "    elif len(n_list) == 3:\n",
    "        d(n + int(n_list[0]) + int(n_list[1]) + int(n_list[2]))\n",
    "    elif len(n_list) == 2:\n",
    "        d(n + int(n_list[0]) + int(n_list[1]))\n",
    "    elif len(n_list) == 1:\n",
    "        d(n + int(n_list[0]))\n",
    "    \n",
    "        \n",
    "        "
   ]
  },
  {
   "cell_type": "code",
   "execution_count": 59,
   "id": "e75cb39f",
   "metadata": {},
   "outputs": [
    {
     "name": "stdout",
     "output_type": "stream",
     "text": [
      "3\n",
      "6\n",
      "12\n",
      "15\n",
      "21\n",
      "24\n",
      "30\n",
      "33\n",
      "39\n",
      "51\n",
      "57\n",
      "69\n",
      "84\n",
      "96\n",
      "111\n",
      "114\n",
      "120\n",
      "123\n",
      "129\n",
      "141\n",
      "147\n",
      "159\n",
      "174\n",
      "186\n",
      "201\n",
      "204\n",
      "210\n",
      "213\n",
      "219\n",
      "231\n",
      "237\n",
      "249\n",
      "264\n",
      "276\n",
      "291\n",
      "303\n",
      "309\n",
      "321\n",
      "327\n",
      "339\n",
      "354\n",
      "366\n",
      "381\n",
      "393\n",
      "408\n",
      "420\n",
      "426\n",
      "438\n",
      "453\n",
      "465\n",
      "480\n",
      "492\n",
      "507\n",
      "519\n",
      "534\n",
      "546\n",
      "561\n",
      "573\n",
      "588\n",
      "609\n",
      "624\n",
      "636\n",
      "651\n",
      "663\n",
      "678\n",
      "699\n",
      "723\n",
      "735\n",
      "750\n",
      "762\n",
      "777\n",
      "798\n",
      "822\n",
      "834\n",
      "849\n",
      "870\n",
      "885\n",
      "906\n",
      "921\n",
      "933\n",
      "948\n",
      "969\n",
      "993\n",
      "1014\n",
      "1020\n",
      "1023\n",
      "1029\n",
      "1041\n",
      "1047\n",
      "1059\n",
      "1074\n",
      "1086\n",
      "1101\n",
      "1104\n",
      "1110\n",
      "1113\n",
      "1119\n",
      "1131\n",
      "1137\n",
      "1149\n",
      "1164\n",
      "1176\n",
      "1191\n",
      "1203\n",
      "1209\n",
      "1221\n",
      "1227\n",
      "1239\n",
      "1254\n",
      "1266\n",
      "1281\n",
      "1293\n",
      "1308\n",
      "1320\n",
      "1326\n",
      "1338\n",
      "1353\n",
      "1365\n",
      "1380\n",
      "1392\n",
      "1407\n",
      "1419\n",
      "1434\n",
      "1446\n",
      "1461\n",
      "1473\n",
      "1488\n",
      "1509\n",
      "1524\n",
      "1536\n",
      "1551\n",
      "1563\n",
      "1578\n",
      "1599\n",
      "1623\n",
      "1635\n",
      "1650\n",
      "1662\n",
      "1677\n",
      "1698\n",
      "1722\n",
      "1734\n",
      "1749\n",
      "1770\n",
      "1785\n",
      "1806\n",
      "1821\n",
      "1833\n",
      "1848\n",
      "1869\n",
      "1893\n",
      "1914\n",
      "1929\n",
      "1950\n",
      "1965\n",
      "1986\n",
      "2010\n",
      "2013\n",
      "2019\n",
      "2031\n",
      "2037\n",
      "2049\n",
      "2064\n",
      "2076\n",
      "2091\n",
      "2103\n",
      "2109\n",
      "2121\n",
      "2127\n",
      "2139\n",
      "2154\n",
      "2166\n",
      "2181\n",
      "2193\n",
      "2208\n",
      "2220\n",
      "2226\n",
      "2238\n",
      "2253\n",
      "2265\n",
      "2280\n",
      "2292\n",
      "2307\n",
      "2319\n",
      "2334\n",
      "2346\n",
      "2361\n",
      "2373\n",
      "2388\n",
      "2409\n",
      "2424\n",
      "2436\n",
      "2451\n",
      "2463\n",
      "2478\n",
      "2499\n",
      "2523\n",
      "2535\n",
      "2550\n",
      "2562\n",
      "2577\n",
      "2598\n",
      "2622\n",
      "2634\n",
      "2649\n",
      "2670\n",
      "2685\n",
      "2706\n",
      "2721\n",
      "2733\n",
      "2748\n",
      "2769\n",
      "2793\n",
      "2814\n",
      "2829\n",
      "2850\n",
      "2865\n",
      "2886\n",
      "2910\n",
      "2922\n",
      "2937\n",
      "2958\n",
      "2982\n",
      "3003\n",
      "3009\n",
      "3021\n",
      "3027\n",
      "3039\n",
      "3054\n",
      "3066\n",
      "3081\n",
      "3093\n",
      "3108\n",
      "3120\n",
      "3126\n",
      "3138\n",
      "3153\n",
      "3165\n",
      "3180\n",
      "3192\n",
      "3207\n",
      "3219\n",
      "3234\n",
      "3246\n",
      "3261\n",
      "3273\n",
      "3288\n",
      "3309\n",
      "3324\n",
      "3336\n",
      "3351\n",
      "3363\n",
      "3378\n",
      "3399\n",
      "3423\n",
      "3435\n",
      "3450\n",
      "3462\n",
      "3477\n",
      "3498\n",
      "3522\n",
      "3534\n",
      "3549\n",
      "3570\n",
      "3585\n",
      "3606\n",
      "3621\n",
      "3633\n",
      "3648\n",
      "3669\n",
      "3693\n",
      "3714\n",
      "3729\n",
      "3750\n",
      "3765\n",
      "3786\n",
      "3810\n",
      "3822\n",
      "3837\n",
      "3858\n",
      "3882\n",
      "3903\n",
      "3918\n",
      "3939\n",
      "3963\n",
      "3984\n",
      "4008\n",
      "4020\n",
      "4026\n",
      "4038\n",
      "4053\n",
      "4065\n",
      "4080\n",
      "4092\n",
      "4107\n",
      "4119\n",
      "4134\n",
      "4146\n",
      "4161\n",
      "4173\n",
      "4188\n",
      "4209\n",
      "4224\n",
      "4236\n",
      "4251\n",
      "4263\n",
      "4278\n",
      "4299\n",
      "4323\n",
      "4335\n",
      "4350\n",
      "4362\n",
      "4377\n",
      "4398\n",
      "4422\n",
      "4434\n",
      "4449\n",
      "4470\n",
      "4485\n",
      "4506\n",
      "4521\n",
      "4533\n",
      "4548\n",
      "4569\n",
      "4593\n",
      "4614\n",
      "4629\n",
      "4650\n",
      "4665\n",
      "4686\n",
      "4710\n",
      "4722\n",
      "4737\n",
      "4758\n",
      "4782\n",
      "4803\n",
      "4818\n",
      "4839\n",
      "4863\n",
      "4884\n",
      "4908\n",
      "4929\n",
      "4953\n",
      "4974\n",
      "4998\n",
      "5028\n",
      "5043\n",
      "5055\n",
      "5070\n",
      "5082\n",
      "5097\n",
      "5118\n",
      "5133\n",
      "5145\n",
      "5160\n",
      "5172\n",
      "5187\n",
      "5208\n",
      "5223\n",
      "5235\n",
      "5250\n",
      "5262\n",
      "5277\n",
      "5298\n",
      "5322\n",
      "5334\n",
      "5349\n",
      "5370\n",
      "5385\n",
      "5406\n",
      "5421\n",
      "5433\n",
      "5448\n",
      "5469\n",
      "5493\n",
      "5514\n",
      "5529\n",
      "5550\n",
      "5565\n",
      "5586\n",
      "5610\n",
      "5622\n",
      "5637\n",
      "5658\n",
      "5682\n",
      "5703\n",
      "5718\n",
      "5739\n",
      "5763\n",
      "5784\n",
      "5808\n",
      "5829\n",
      "5853\n",
      "5874\n",
      "5898\n",
      "5928\n",
      "5952\n",
      "5973\n",
      "5997\n",
      "6027\n",
      "6042\n",
      "6054\n",
      "6069\n",
      "6090\n",
      "6105\n",
      "6117\n",
      "6132\n",
      "6144\n",
      "6159\n",
      "6180\n",
      "6195\n",
      "6216\n",
      "6231\n",
      "6243\n",
      "6258\n",
      "6279\n",
      "6303\n",
      "6315\n",
      "6330\n",
      "6342\n",
      "6357\n",
      "6378\n",
      "6402\n",
      "6414\n",
      "6429\n",
      "6450\n",
      "6465\n",
      "6486\n",
      "6510\n",
      "6522\n",
      "6537\n",
      "6558\n",
      "6582\n",
      "6603\n",
      "6618\n",
      "6639\n",
      "6663\n",
      "6684\n",
      "6708\n",
      "6729\n",
      "6753\n",
      "6774\n",
      "6798\n",
      "6828\n",
      "6852\n",
      "6873\n",
      "6897\n",
      "6927\n",
      "6951\n",
      "6972\n",
      "6996\n",
      "7026\n",
      "7041\n",
      "7053\n",
      "7068\n",
      "7089\n",
      "7113\n",
      "7125\n",
      "7140\n",
      "7152\n",
      "7167\n",
      "7188\n",
      "7212\n",
      "7224\n",
      "7239\n",
      "7260\n",
      "7275\n",
      "7296\n",
      "7320\n",
      "7332\n",
      "7347\n",
      "7368\n",
      "7392\n",
      "7413\n",
      "7428\n",
      "7449\n",
      "7473\n",
      "7494\n",
      "7518\n",
      "7539\n",
      "7563\n",
      "7584\n",
      "7608\n",
      "7629\n",
      "7653\n",
      "7674\n",
      "7698\n",
      "7728\n",
      "7752\n",
      "7773\n",
      "7797\n",
      "7827\n",
      "7851\n",
      "7872\n",
      "7896\n",
      "7926\n",
      "7950\n",
      "7971\n",
      "7995\n",
      "8025\n",
      "8040\n",
      "8052\n",
      "8067\n",
      "8088\n",
      "8112\n",
      "8124\n",
      "8139\n",
      "8160\n",
      "8175\n",
      "8196\n",
      "8220\n",
      "8232\n",
      "8247\n",
      "8268\n",
      "8292\n",
      "8313\n",
      "8328\n",
      "8349\n",
      "8373\n",
      "8394\n",
      "8418\n",
      "8439\n",
      "8463\n",
      "8484\n",
      "8508\n",
      "8529\n",
      "8553\n",
      "8574\n",
      "8598\n",
      "8628\n",
      "8652\n",
      "8673\n",
      "8697\n",
      "8727\n",
      "8751\n",
      "8772\n",
      "8796\n",
      "8826\n",
      "8850\n",
      "8871\n",
      "8895\n",
      "8925\n",
      "8949\n",
      "8979\n",
      "9012\n",
      "9024\n",
      "9039\n",
      "9060\n",
      "9075\n",
      "9096\n",
      "9120\n",
      "9132\n",
      "9147\n",
      "9168\n",
      "9192\n",
      "9213\n",
      "9228\n",
      "9249\n",
      "9273\n",
      "9294\n",
      "9318\n",
      "9339\n",
      "9363\n",
      "9384\n",
      "9408\n",
      "9429\n",
      "9453\n",
      "9474\n",
      "9498\n",
      "9528\n",
      "9552\n",
      "9573\n",
      "9597\n",
      "9627\n",
      "9651\n",
      "9672\n",
      "9696\n",
      "9726\n",
      "9750\n",
      "9771\n",
      "9795\n",
      "9825\n",
      "9849\n",
      "9879\n",
      "9912\n",
      "9933\n",
      "9957\n",
      "9987\n"
     ]
    }
   ],
   "source": [
    "d(3)"
   ]
  },
  {
   "cell_type": "code",
   "execution_count": null,
   "id": "746b6915",
   "metadata": {},
   "outputs": [],
   "source": []
  }
 ],
 "metadata": {
  "kernelspec": {
   "display_name": "Python 3",
   "language": "python",
   "name": "python3"
  },
  "language_info": {
   "codemirror_mode": {
    "name": "ipython",
    "version": 3
   },
   "file_extension": ".py",
   "mimetype": "text/x-python",
   "name": "python",
   "nbconvert_exporter": "python",
   "pygments_lexer": "ipython3",
   "version": "3.8.8"
  }
 },
 "nbformat": 4,
 "nbformat_minor": 5
}
