{
 "cells": [
  {
   "cell_type": "code",
   "execution_count": 1,
   "id": "746ab8fb",
   "metadata": {},
   "outputs": [],
   "source": [
    "## 5.표본분포"
   ]
  },
  {
   "cell_type": "code",
   "execution_count": 2,
   "id": "34d49449",
   "metadata": {},
   "outputs": [],
   "source": [
    "### 표본과 모집단과의 관계를 이해해야 함.\n"
   ]
  },
  {
   "cell_type": "code",
   "execution_count": 3,
   "id": "b6c79aee",
   "metadata": {},
   "outputs": [],
   "source": [
    "### 단순랜덤추출법"
   ]
  },
  {
   "cell_type": "code",
   "execution_count": 4,
   "id": "f0da5921",
   "metadata": {},
   "outputs": [
    {
     "data": {
      "text/plain": [
       "[4, 2, 10, 3, 4, 6, 5, 6, 5, 3]"
      ]
     },
     "execution_count": 4,
     "metadata": {},
     "output_type": "execute_result"
    }
   ],
   "source": [
    "import random\n",
    "[random.randint(1, 10) for i in range(10)]"
   ]
  },
  {
   "cell_type": "code",
   "execution_count": 5,
   "id": "6b375b2e",
   "metadata": {},
   "outputs": [
    {
     "data": {
      "text/plain": [
       "[790,\n",
       " 585,\n",
       " 303,\n",
       " 906,\n",
       " 741,\n",
       " 200,\n",
       " 609,\n",
       " 119,\n",
       " 794,\n",
       " 986,\n",
       " 66,\n",
       " 431,\n",
       " 701,\n",
       " 336,\n",
       " 913,\n",
       " 522,\n",
       " 314,\n",
       " 817,\n",
       " 67,\n",
       " 119]"
      ]
     },
     "execution_count": 5,
     "metadata": {},
     "output_type": "execute_result"
    }
   ],
   "source": [
    "import random\n",
    "[random.randint(1, 1000) for i in range(20)]"
   ]
  },
  {
   "cell_type": "code",
   "execution_count": null,
   "id": "17e18380",
   "metadata": {},
   "outputs": [],
   "source": []
  }
 ],
 "metadata": {
  "kernelspec": {
   "display_name": "Python 3",
   "language": "python",
   "name": "python3"
  },
  "language_info": {
   "codemirror_mode": {
    "name": "ipython",
    "version": 3
   },
   "file_extension": ".py",
   "mimetype": "text/x-python",
   "name": "python",
   "nbconvert_exporter": "python",
   "pygments_lexer": "ipython3",
   "version": "3.8.8"
  }
 },
 "nbformat": 4,
 "nbformat_minor": 5
}
