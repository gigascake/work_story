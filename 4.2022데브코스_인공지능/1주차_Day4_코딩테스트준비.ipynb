{
 "cells": [
  {
   "cell_type": "code",
   "execution_count": 1,
   "id": "19bca3b9",
   "metadata": {},
   "outputs": [],
   "source": [
    "## Step 5-1: 힙(Heap) 대표 문제 풀이 : 더 맵게\n"
   ]
  },
  {
   "cell_type": "code",
   "execution_count": 2,
   "id": "70e2b0c1",
   "metadata": {},
   "outputs": [
    {
     "data": {
      "text/plain": [
       "'\\n더 맵게\\n문제 설명\\n매운 것을 좋아하는 Leo는 모든 음식의 스코빌 지수를 K 이상으로 만들고 싶습니다. 모든 음식의 스코빌 지수를 K 이상으로 만들기 위해 Leo는 스코빌 지수가 가장 낮은 두 개의 음식을 아래와 같이 특별한 방법으로 섞어 새로운 음식을 만듭니다.\\n\\n섞은 음식의 스코빌 지수 = 가장 맵지 않은 음식의 스코빌 지수 + (두 번째로 맵지 않은 음식의 스코빌 지수 * 2)\\nLeo는 모든 음식의 스코빌 지수가 K 이상이 될 때까지 반복하여 섞습니다.\\nLeo가 가진 음식의 스코빌 지수를 담은 배열 scoville과 원하는 스코빌 지수 K가 주어질 때, 모든 음식의 스코빌 지수를 K 이상으로 만들기 위해 섞어야 하는 최소 횟수를 return 하도록 solution 함수를 작성해주세요.\\n\\n제한 사항\\nscoville의 길이는 1 이상 1,000,000 이하입니다.\\nK는 0 이상 1,000,000,000 이하입니다.\\nscoville의 원소는 각각 0 이상 1,000,000 이하입니다.\\n모든 음식의 스코빌 지수를 K 이상으로 만들 수 없는 경우에는 -1을 return 합니다.\\n입출력 예\\nscoville\\tK\\treturn\\n[1, 2, 3, 9, 10, 12]\\t7\\t2\\n입출력 예 설명\\n스코빌 지수가 1인 음식과 2인 음식을 섞으면 음식의 스코빌 지수가 아래와 같이 됩니다.\\n새로운 음식의 스코빌 지수 = 1 + (2 * 2) = 5\\n가진 음식의 스코빌 지수 = [5, 3, 9, 10, 12]\\n\\n스코빌 지수가 3인 음식과 5인 음식을 섞으면 음식의 스코빌 지수가 아래와 같이 됩니다.\\n새로운 음식의 스코빌 지수 = 3 + (5 * 2) = 13\\n가진 음식의 스코빌 지수 = [13, 9, 10, 12]\\n\\n모든 음식의 스코빌 지수가 7 이상이 되었고 이때 섞은 횟수는 2회입니다.\\n'"
      ]
     },
     "execution_count": 2,
     "metadata": {},
     "output_type": "execute_result"
    }
   ],
   "source": [
    "'''\n",
    "더 맵게\n",
    "문제 설명\n",
    "매운 것을 좋아하는 Leo는 모든 음식의 스코빌 지수를 K 이상으로 만들고 싶습니다. 모든 음식의 스코빌 지수를 K 이상으로 만들기 위해 Leo는 스코빌 지수가 가장 낮은 두 개의 음식을 아래와 같이 특별한 방법으로 섞어 새로운 음식을 만듭니다.\n",
    "\n",
    "섞은 음식의 스코빌 지수 = 가장 맵지 않은 음식의 스코빌 지수 + (두 번째로 맵지 않은 음식의 스코빌 지수 * 2)\n",
    "Leo는 모든 음식의 스코빌 지수가 K 이상이 될 때까지 반복하여 섞습니다.\n",
    "Leo가 가진 음식의 스코빌 지수를 담은 배열 scoville과 원하는 스코빌 지수 K가 주어질 때, 모든 음식의 스코빌 지수를 K 이상으로 만들기 위해 섞어야 하는 최소 횟수를 return 하도록 solution 함수를 작성해주세요.\n",
    "\n",
    "제한 사항\n",
    "scoville의 길이는 1 이상 1,000,000 이하입니다.\n",
    "K는 0 이상 1,000,000,000 이하입니다.\n",
    "scoville의 원소는 각각 0 이상 1,000,000 이하입니다.\n",
    "모든 음식의 스코빌 지수를 K 이상으로 만들 수 없는 경우에는 -1을 return 합니다.\n",
    "입출력 예\n",
    "scoville\tK\treturn\n",
    "[1, 2, 3, 9, 10, 12]\t7\t2\n",
    "입출력 예 설명\n",
    "스코빌 지수가 1인 음식과 2인 음식을 섞으면 음식의 스코빌 지수가 아래와 같이 됩니다.\n",
    "새로운 음식의 스코빌 지수 = 1 + (2 * 2) = 5\n",
    "가진 음식의 스코빌 지수 = [5, 3, 9, 10, 12]\n",
    "\n",
    "스코빌 지수가 3인 음식과 5인 음식을 섞으면 음식의 스코빌 지수가 아래와 같이 됩니다.\n",
    "새로운 음식의 스코빌 지수 = 3 + (5 * 2) = 13\n",
    "가진 음식의 스코빌 지수 = [13, 9, 10, 12]\n",
    "\n",
    "모든 음식의 스코빌 지수가 7 이상이 되었고 이때 섞은 횟수는 2회입니다.\n",
    "'''"
   ]
  },
  {
   "cell_type": "code",
   "execution_count": 20,
   "id": "6670fad4",
   "metadata": {},
   "outputs": [],
   "source": [
    "import heapq\n",
    "L = [1,2,3,4 ]\n",
    "heapq.heapify(L)\n"
   ]
  },
  {
   "cell_type": "code",
   "execution_count": 21,
   "id": "f1d6e66e",
   "metadata": {},
   "outputs": [
    {
     "data": {
      "text/plain": [
       "[1, 2, 3, 4]"
      ]
     },
     "execution_count": 21,
     "metadata": {},
     "output_type": "execute_result"
    }
   ],
   "source": [
    "L"
   ]
  },
  {
   "cell_type": "code",
   "execution_count": 22,
   "id": "5e884bdc",
   "metadata": {},
   "outputs": [],
   "source": [
    "\n",
    "# min heap L에서 최소값 삭제(반환)\n",
    "m = heapq.heappop(L)"
   ]
  },
  {
   "cell_type": "code",
   "execution_count": 23,
   "id": "070a27f7",
   "metadata": {},
   "outputs": [
    {
     "data": {
      "text/plain": [
       "1"
      ]
     },
     "execution_count": 23,
     "metadata": {},
     "output_type": "execute_result"
    }
   ],
   "source": [
    "m"
   ]
  },
  {
   "cell_type": "code",
   "execution_count": 24,
   "id": "9f7c5967",
   "metadata": {},
   "outputs": [
    {
     "data": {
      "text/plain": [
       "[2, 4, 3]"
      ]
     },
     "execution_count": 24,
     "metadata": {},
     "output_type": "execute_result"
    }
   ],
   "source": [
    "L"
   ]
  },
  {
   "cell_type": "code",
   "execution_count": 25,
   "id": "cfad0004",
   "metadata": {},
   "outputs": [],
   "source": [
    "x = 5"
   ]
  },
  {
   "cell_type": "code",
   "execution_count": 26,
   "id": "ac75c1ab",
   "metadata": {},
   "outputs": [],
   "source": [
    "heapq.heappush(L, x)"
   ]
  },
  {
   "cell_type": "code",
   "execution_count": 27,
   "id": "347a6e1d",
   "metadata": {},
   "outputs": [
    {
     "data": {
      "text/plain": [
       "[2, 4, 3, 5]"
      ]
     },
     "execution_count": 27,
     "metadata": {},
     "output_type": "execute_result"
    }
   ],
   "source": [
    "L"
   ]
  },
  {
   "cell_type": "code",
   "execution_count": 29,
   "id": "fcde4ef9",
   "metadata": {},
   "outputs": [],
   "source": [
    "import heapq\n",
    "def solution(scoville, K):\n",
    "    answer = 0\n",
    "    heapq.heapify(scoville)\n",
    "    \n",
    "    while True:\n",
    "        min_1 = heapq.heappop(scoville)\n",
    "        if min_1 >= K:\n",
    "            break\n",
    "        elif len(scoville) == 0:\n",
    "            answer = -1\n",
    "            break\n",
    "        min_2 = heapq.heappop(scoville)\n",
    "        new_scoville = min_1 + min_2 * 2\n",
    "        heapq.heappush(scoville, new_scoville)\n",
    "        answer += 1        \n",
    "    return answer"
   ]
  },
  {
   "cell_type": "code",
   "execution_count": 31,
   "id": "80fa5045",
   "metadata": {},
   "outputs": [],
   "source": [
    "scoville = [1, 2, 3, 9, 10, 12]\n",
    "K = 7\n",
    "result = 2"
   ]
  },
  {
   "cell_type": "code",
   "execution_count": 32,
   "id": "7b0fd95b",
   "metadata": {},
   "outputs": [
    {
     "data": {
      "text/plain": [
       "2"
      ]
     },
     "execution_count": 32,
     "metadata": {},
     "output_type": "execute_result"
    }
   ],
   "source": [
    "solution(scoville, K)"
   ]
  },
  {
   "cell_type": "code",
   "execution_count": 33,
   "id": "e3f9c205",
   "metadata": {},
   "outputs": [],
   "source": [
    "## Step 6-3 : 풀어서 내걸로 만들자! \"N으로 표현\"\n"
   ]
  },
  {
   "cell_type": "code",
   "execution_count": 34,
   "id": "cb5d5f4c",
   "metadata": {},
   "outputs": [
    {
     "data": {
      "text/plain": [
       "'\\nN으로 표현\\n문제 설명\\n아래와 같이 5와 사칙연산만으로 12를 표현할 수 있습니다.\\n\\n12 = 5 + 5 + (5 / 5) + (5 / 5)\\n12 = 55 / 5 + 5 / 5\\n12 = (55 + 5) / 5\\n\\n5를 사용한 횟수는 각각 6,5,4 입니다. 그리고 이중 가장 작은 경우는 4입니다.\\n이처럼 숫자 N과 number가 주어질 때, N과 사칙연산만 사용해서 표현 할 수 있는 방법 중 N 사용횟수의 최솟값을 return 하도록 solution 함수를 작성하세요.\\n\\n제한사항\\nN은 1 이상 9 이하입니다.\\nnumber는 1 이상 32,000 이하입니다.\\n수식에는 괄호와 사칙연산만 가능하며 나누기 연산에서 나머지는 무시합니다.\\n최솟값이 8보다 크면 -1을 return 합니다.\\n입출력 예\\nN\\tnumber\\treturn\\n5\\t12\\t4\\n2\\t11\\t3\\n입출력 예 설명\\n예제 #1\\n문제에 나온 예와 같습니다.\\n\\n예제 #2\\n11 = 22 / 2와 같이 2를 3번만 사용하여 표현할 수 있습니다.\\n\\n출처\\n\\n※ 공지 - 2020년 9월 3일 테스트케이스가 추가되었습니다.\\n'"
      ]
     },
     "execution_count": 34,
     "metadata": {},
     "output_type": "execute_result"
    }
   ],
   "source": [
    "'''\n",
    "N으로 표현\n",
    "문제 설명\n",
    "아래와 같이 5와 사칙연산만으로 12를 표현할 수 있습니다.\n",
    "\n",
    "12 = 5 + 5 + (5 / 5) + (5 / 5)\n",
    "12 = 55 / 5 + 5 / 5\n",
    "12 = (55 + 5) / 5\n",
    "\n",
    "5를 사용한 횟수는 각각 6,5,4 입니다. 그리고 이중 가장 작은 경우는 4입니다.\n",
    "이처럼 숫자 N과 number가 주어질 때, N과 사칙연산만 사용해서 표현 할 수 있는 방법 중 N 사용횟수의 최솟값을 return 하도록 solution 함수를 작성하세요.\n",
    "\n",
    "제한사항\n",
    "N은 1 이상 9 이하입니다.\n",
    "number는 1 이상 32,000 이하입니다.\n",
    "수식에는 괄호와 사칙연산만 가능하며 나누기 연산에서 나머지는 무시합니다.\n",
    "최솟값이 8보다 크면 -1을 return 합니다.\n",
    "입출력 예\n",
    "N\tnumber\treturn\n",
    "5\t12\t4\n",
    "2\t11\t3\n",
    "입출력 예 설명\n",
    "예제 #1\n",
    "문제에 나온 예와 같습니다.\n",
    "\n",
    "예제 #2\n",
    "11 = 22 / 2와 같이 2를 3번만 사용하여 표현할 수 있습니다.\n",
    "\n",
    "출처\n",
    "\n",
    "※ 공지 - 2020년 9월 3일 테스트케이스가 추가되었습니다.\n",
    "'''"
   ]
  },
  {
   "cell_type": "code",
   "execution_count": 47,
   "id": "e9a3698d",
   "metadata": {},
   "outputs": [],
   "source": [
    "def solution(N, number):\n",
    "    if N == number:\n",
    "        return 1\n",
    "    \n",
    "    s = [set() for x in range(8)]\n",
    "    for i, x in enumerate(s, start=1):\n",
    "        x.add(int(str(N) * i))\n",
    "    for i in range(1, len(s)):\n",
    "        for j in range(i):\n",
    "            for op_1 in s[j]:\n",
    "                for op_2 in s[i - j -1]: ## !!!!\n",
    "                    s[i].add(op_1 + op_2)\n",
    "                    s[i].add(op_1 - op_2)\n",
    "                    s[i].add(op_1 * op_2)\n",
    "                    if op_2 != 0:\n",
    "                        s[i].add(op_1 // op_2)\n",
    "        if number in s[i]:\n",
    "            answer = i + 1\n",
    "            break\n",
    "    else:\n",
    "        answer = -1\n",
    "    return answer"
   ]
  },
  {
   "cell_type": "code",
   "execution_count": null,
   "id": "ed3a319f",
   "metadata": {},
   "outputs": [],
   "source": []
  },
  {
   "cell_type": "code",
   "execution_count": 48,
   "id": "823f6667",
   "metadata": {},
   "outputs": [],
   "source": [
    "N = 5\n",
    "number = 12\n",
    "result = 4"
   ]
  },
  {
   "cell_type": "code",
   "execution_count": 49,
   "id": "70a82662",
   "metadata": {},
   "outputs": [
    {
     "data": {
      "text/plain": [
       "4"
      ]
     },
     "execution_count": 49,
     "metadata": {},
     "output_type": "execute_result"
    }
   ],
   "source": [
    "solution(N, number)"
   ]
  },
  {
   "cell_type": "code",
   "execution_count": 50,
   "id": "d9e7a7a3",
   "metadata": {},
   "outputs": [],
   "source": [
    "N = 2\n",
    "number = 11\n",
    "result = 3"
   ]
  },
  {
   "cell_type": "code",
   "execution_count": 51,
   "id": "ecd6400d",
   "metadata": {},
   "outputs": [
    {
     "data": {
      "text/plain": [
       "3"
      ]
     },
     "execution_count": 51,
     "metadata": {},
     "output_type": "execute_result"
    }
   ],
   "source": [
    "solution(N, number)"
   ]
  },
  {
   "cell_type": "code",
   "execution_count": 52,
   "id": "ae54c4e9",
   "metadata": {},
   "outputs": [],
   "source": [
    "## Step7-1: 깊이/너비 우선 탐색(DFS/BSF) 대표문제풀이 : 여행경로"
   ]
  },
  {
   "cell_type": "code",
   "execution_count": 53,
   "id": "7f12026c",
   "metadata": {},
   "outputs": [],
   "source": [
    "#### 그래프\n",
    "#### 정점(vertex, node)과 간선(edge, link)\n",
    "#### 유향 그래프와 무향그래프\n"
   ]
  },
  {
   "cell_type": "code",
   "execution_count": 54,
   "id": "49d09b49",
   "metadata": {
    "scrolled": true
   },
   "outputs": [
    {
     "data": {
      "text/plain": [
       "'\\n여행경로\\n문제 설명\\n주어진 항공권을 모두 이용하여 여행경로를 짜려고 합니다. 항상 \"ICN\" 공항에서 출발합니다.\\n\\n항공권 정보가 담긴 2차원 배열 tickets가 매개변수로 주어질 때, 방문하는 공항 경로를 배열에 담아 return 하도록 solution 함수를 작성해주세요.\\n\\n제한사항\\n모든 공항은 알파벳 대문자 3글자로 이루어집니다.\\n주어진 공항 수는 3개 이상 10,000개 이하입니다.\\ntickets의 각 행 [a, b]는 a 공항에서 b 공항으로 가는 항공권이 있다는 의미입니다.\\n주어진 항공권은 모두 사용해야 합니다.\\n만일 가능한 경로가 2개 이상일 경우 알파벳 순서가 앞서는 경로를 return 합니다.\\n모든 도시를 방문할 수 없는 경우는 주어지지 않습니다.\\n입출력 예\\n'"
      ]
     },
     "execution_count": 54,
     "metadata": {},
     "output_type": "execute_result"
    }
   ],
   "source": [
    "'''\n",
    "여행경로\n",
    "문제 설명\n",
    "주어진 항공권을 모두 이용하여 여행경로를 짜려고 합니다. 항상 \"ICN\" 공항에서 출발합니다.\n",
    "\n",
    "항공권 정보가 담긴 2차원 배열 tickets가 매개변수로 주어질 때, 방문하는 공항 경로를 배열에 담아 return 하도록 solution 함수를 작성해주세요.\n",
    "\n",
    "제한사항\n",
    "모든 공항은 알파벳 대문자 3글자로 이루어집니다.\n",
    "주어진 공항 수는 3개 이상 10,000개 이하입니다.\n",
    "tickets의 각 행 [a, b]는 a 공항에서 b 공항으로 가는 항공권이 있다는 의미입니다.\n",
    "주어진 항공권은 모두 사용해야 합니다.\n",
    "만일 가능한 경로가 2개 이상일 경우 알파벳 순서가 앞서는 경로를 return 합니다.\n",
    "모든 도시를 방문할 수 없는 경우는 주어지지 않습니다.\n",
    "입출력 예\n",
    "'''"
   ]
  },
  {
   "cell_type": "code",
   "execution_count": 55,
   "id": "1f83b8eb",
   "metadata": {},
   "outputs": [],
   "source": [
    "## 한 붓 그리기!\n",
    "#### 이것이 가능함은 문제에서 보장되어 있음\n",
    "#### 시작 정점은 언제나 \"ICN\"\n",
    "#### 모든 정점 방문이 아니고, 모든 간선을 거쳐야\n",
    "#### 언젠가는 한번 가야하는데, 그 순서를 결정하라.\n",
    "#### 한 정점에서 택할 수 있는 간선이 두 개 이상인 경우?\n",
    "##### 알파벳 순서를 따라라.\n",
    "\n"
   ]
  },
  {
   "cell_type": "code",
   "execution_count": null,
   "id": "5a967db3",
   "metadata": {},
   "outputs": [],
   "source": [
    "def solution(tickets):\n",
    "    answer = []\n",
    "    routes = {}\n",
    "    for t in tickets:\n",
    "        ## routes[t[0]] : 출발공항\n",
    "        ## routes.get(t[0], []) : 출발\n",
    "        ## [t[1]] : 도착공항\n",
    "        routes[t[0]] = routes.get(t[0], []) + [t[1]]\n",
    "    for r in routes:\n",
    "        routes[r].sort(reverse=True)\n",
    "    \n",
    "    stack = [\"ICN\"]\n",
    "    path = []\n",
    "    \n",
    "    while len(stack) > 0:\n",
    "        top = stack[-1]\n",
    "        if top not in routes or len(routes[top]) == 0:\n",
    "            path.append(stack.pop())\n",
    "        else:\n",
    "            stack.append(routes[top][-1])\n",
    "            routes[top] = routes[top][:-1]\n",
    "    return path[::-1]"
   ]
  }
 ],
 "metadata": {
  "kernelspec": {
   "display_name": "Python 3",
   "language": "python",
   "name": "python3"
  },
  "language_info": {
   "codemirror_mode": {
    "name": "ipython",
    "version": 3
   },
   "file_extension": ".py",
   "mimetype": "text/x-python",
   "name": "python",
   "nbconvert_exporter": "python",
   "pygments_lexer": "ipython3",
   "version": "3.8.8"
  }
 },
 "nbformat": 4,
 "nbformat_minor": 5
}
