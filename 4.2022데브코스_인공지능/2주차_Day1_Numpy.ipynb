{
 "cells": [
  {
   "cell_type": "markdown",
   "id": "db6b087a",
   "metadata": {},
   "source": [
    "## 하는 김에 성능테스트..후훗\n"
   ]
  },
  {
   "cell_type": "code",
   "execution_count": 2,
   "id": "4ef0fe53",
   "metadata": {},
   "outputs": [],
   "source": [
    "import numpy as np\n",
    "L  = range(1000)"
   ]
  },
  {
   "cell_type": "code",
   "execution_count": 5,
   "id": "0a5ed537",
   "metadata": {},
   "outputs": [
    {
     "name": "stdout",
     "output_type": "stream",
     "text": [
      "134 µs ± 168 ns per loop (mean ± std. dev. of 7 runs, 10000 loops each)\n"
     ]
    }
   ],
   "source": [
    "%timeit [i**2 for i in L]"
   ]
  },
  {
   "cell_type": "markdown",
   "id": "f4fcb766",
   "metadata": {},
   "source": [
    "#### 회사 gpu서버 vm 성능\n",
    "#### 196 us +- 253 ns per loop  (mean ± std. dev. of 7 runs, 10000 loops each)\n",
    "\n",
    "####  집 서버 컴  xeon3서버 E3-1230v2 32기가램.\n",
    "#### 263 µs ± 49.7 ns per loop (mean ± std. dev. of 7 runs, 1000 loops each)\n",
    "\n",
    "#### 집 GPU 서버:: AMD 5950x 128G\n",
    "#### 134 µs ± 168 ns per loop (mean ± std. dev. of 7 runs, 10000 loops each)\n",
    "\n",
    "\n"
   ]
  },
  {
   "cell_type": "code",
   "execution_count": 7,
   "id": "ae4bb1ae",
   "metadata": {},
   "outputs": [
    {
     "name": "stdout",
     "output_type": "stream",
     "text": [
      "693 ns ± 1 ns per loop (mean ± std. dev. of 7 runs, 1000000 loops each)\n"
     ]
    }
   ],
   "source": [
    "N = np.arange(1000)\n",
    "%timeit N**2"
   ]
  },
  {
   "cell_type": "code",
   "execution_count": null,
   "id": "5b79c6e2",
   "metadata": {},
   "outputs": [],
   "source": []
  }
 ],
 "metadata": {
  "kernelspec": {
   "display_name": "Python 3",
   "language": "python",
   "name": "python3"
  },
  "language_info": {
   "codemirror_mode": {
    "name": "ipython",
    "version": 3
   },
   "file_extension": ".py",
   "mimetype": "text/x-python",
   "name": "python",
   "nbconvert_exporter": "python",
   "pygments_lexer": "ipython3",
   "version": "3.8.8"
  }
 },
 "nbformat": 4,
 "nbformat_minor": 5
}
