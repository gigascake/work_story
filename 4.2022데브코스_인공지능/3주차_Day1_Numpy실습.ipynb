{
 "cells": [
  {
   "cell_type": "code",
   "execution_count": 2,
   "id": "05a1e0b5",
   "metadata": {},
   "outputs": [],
   "source": [
    "import numpy as np"
   ]
  },
  {
   "cell_type": "markdown",
   "id": "93ff8ad0",
   "metadata": {},
   "source": [
    "#### numpy배열의 모양"
   ]
  },
  {
   "cell_type": "code",
   "execution_count": 4,
   "id": "7a47030b",
   "metadata": {},
   "outputs": [
    {
     "data": {
      "text/plain": [
       "array([[1, 1, 1],\n",
       "       [2, 3, 4]])"
      ]
     },
     "execution_count": 4,
     "metadata": {},
     "output_type": "execute_result"
    }
   ],
   "source": [
    "A = np.array([[1,1,1], [2,3,4]])\n",
    "A"
   ]
  },
  {
   "cell_type": "code",
   "execution_count": 5,
   "id": "1cc42516",
   "metadata": {},
   "outputs": [
    {
     "data": {
      "text/plain": [
       "(2, 3)"
      ]
     },
     "execution_count": 5,
     "metadata": {},
     "output_type": "execute_result"
    }
   ],
   "source": [
    "A.shape"
   ]
  },
  {
   "cell_type": "code",
   "execution_count": 6,
   "id": "e4a16070",
   "metadata": {},
   "outputs": [],
   "source": [
    "B = np.array([\n",
    "    [[1,2,3], [1,2,3]],\n",
    "    [[2,3,4], [5,6,7]]\n",
    "])"
   ]
  },
  {
   "cell_type": "code",
   "execution_count": 7,
   "id": "abddf0b6",
   "metadata": {},
   "outputs": [
    {
     "data": {
      "text/plain": [
       "(2, 2, 3)"
      ]
     },
     "execution_count": 7,
     "metadata": {},
     "output_type": "execute_result"
    }
   ],
   "source": [
    "B.shape"
   ]
  },
  {
   "cell_type": "markdown",
   "id": "53c24e9b",
   "metadata": {},
   "source": [
    "#### numpy one, zero 배열 생성"
   ]
  },
  {
   "cell_type": "code",
   "execution_count": 9,
   "id": "66e88a1c",
   "metadata": {},
   "outputs": [],
   "source": [
    "import numpy as np"
   ]
  },
  {
   "cell_type": "code",
   "execution_count": 10,
   "id": "636aae11",
   "metadata": {},
   "outputs": [
    {
     "data": {
      "text/plain": [
       "array([[1., 1., 1.],\n",
       "       [1., 1., 1.]])"
      ]
     },
     "execution_count": 10,
     "metadata": {},
     "output_type": "execute_result"
    }
   ],
   "source": [
    "# 2 x 3의 모양을 가지고 1로 채워진 배열을 만들어줍니다.\n",
    "ones_arr = np.ones(shape=(2,3))\n",
    "ones_arr"
   ]
  },
  {
   "cell_type": "code",
   "execution_count": 11,
   "id": "2bc825e1",
   "metadata": {},
   "outputs": [
    {
     "data": {
      "text/plain": [
       "array([[0., 0., 0.],\n",
       "       [0., 0., 0.]])"
      ]
     },
     "execution_count": 11,
     "metadata": {},
     "output_type": "execute_result"
    }
   ],
   "source": [
    "# 2 x 3의 모양을 가지고 0으로 채워진 배열을 만들어줍니다.\n",
    "zeros_arr = np.zeros(shape=(2, 3))\n",
    "zeros_arr"
   ]
  },
  {
   "cell_type": "markdown",
   "id": "93e99297",
   "metadata": {},
   "source": [
    "#### numpy 랜덤 배열 생성"
   ]
  },
  {
   "cell_type": "code",
   "execution_count": 13,
   "id": "cf48f87e",
   "metadata": {},
   "outputs": [],
   "source": [
    "import numpy as np"
   ]
  },
  {
   "cell_type": "code",
   "execution_count": 14,
   "id": "c2d2cf1e",
   "metadata": {},
   "outputs": [
    {
     "data": {
      "text/plain": [
       "array([[-2.35120681,  0.2118284 ],\n",
       "       [-0.41560054, -1.99963718],\n",
       "       [ 1.32642213, -0.73679751]])"
      ]
     },
     "execution_count": 14,
     "metadata": {},
     "output_type": "execute_result"
    }
   ],
   "source": [
    "# 3 x 2의 모양을 가진 배열을 랜덤하게 만들어줍니다.\n",
    "rand_arr = np.random.normal(size=(3,2))\n",
    "rand_arr"
   ]
  },
  {
   "cell_type": "code",
   "execution_count": 15,
   "id": "35f91950",
   "metadata": {},
   "outputs": [
    {
     "data": {
      "text/plain": [
       "array([[3.32601036, 3.13510712],\n",
       "       [3.20552321, 3.26385348],\n",
       "       [2.69093957, 2.96880133]])"
      ]
     },
     "execution_count": 15,
     "metadata": {},
     "output_type": "execute_result"
    }
   ],
   "source": [
    "# 3 x 2의 모양을 가진 배열을 정규 분포에 따라 랜덤하게 만들어줍니다.\n",
    "# loc : 평균(mean)\n",
    "# scale : 표준편차(std)\n",
    "rand_normal_arr = np.random.normal(loc =3, scale=0.25, size=(3,2))\n",
    "rand_normal_arr"
   ]
  },
  {
   "cell_type": "code",
   "execution_count": 17,
   "id": "0a600a7c",
   "metadata": {},
   "outputs": [
    {
     "data": {
      "text/plain": [
       "array([[7, 9],\n",
       "       [4, 5],\n",
       "       [6, 7]])"
      ]
     },
     "execution_count": 17,
     "metadata": {},
     "output_type": "execute_result"
    }
   ],
   "source": [
    "# 3 x 2의 모양을 가지고, 1부터 9까지 임의의 정수로만 이루어진 배열을 만들어줍니다.\n",
    "# randint(start, end, size)\n",
    "rand_int_arr = np.random.randint(1, 10, size=(3,2))\n",
    "rand_int_arr"
   ]
  },
  {
   "cell_type": "code",
   "execution_count": 18,
   "id": "4fa9031d",
   "metadata": {},
   "outputs": [],
   "source": [
    "# 파이썬의 random패키지와 같이 seed를 고정하여 일정하게 랜덤값을 유지할 수 있습니다."
   ]
  },
  {
   "cell_type": "code",
   "execution_count": 21,
   "id": "d545f7ce",
   "metadata": {},
   "outputs": [
    {
     "name": "stdout",
     "output_type": "stream",
     "text": [
      "[[ 0.49671415 -0.1382643 ]\n",
      " [ 0.64768854  1.52302986]\n",
      " [-0.23415337 -0.23413696]]\n",
      "[[ 0.49671415 -0.1382643 ]\n",
      " [ 0.64768854  1.52302986]\n",
      " [-0.23415337 -0.23413696]]\n"
     ]
    }
   ],
   "source": [
    "np.random.seed(42)\n",
    "print(np.random.randn(3, 2))\n",
    "np.random.seed(42)\n",
    "print(np.random.randn(3, 2))"
   ]
  },
  {
   "cell_type": "code",
   "execution_count": 22,
   "id": "e95df983",
   "metadata": {},
   "outputs": [],
   "source": [
    "#### Numpy 특정 요소 읽어오기"
   ]
  },
  {
   "cell_type": "code",
   "execution_count": 23,
   "id": "54aa13c4",
   "metadata": {},
   "outputs": [
    {
     "data": {
      "text/plain": [
       "55"
      ]
     },
     "execution_count": 23,
     "metadata": {},
     "output_type": "execute_result"
    }
   ],
   "source": [
    "import numpy as np\n",
    "arr = [1, 3, 10, 55, 31, 12, 15]\n",
    "A = np.array(arr)\n",
    "A[3]"
   ]
  },
  {
   "cell_type": "code",
   "execution_count": 24,
   "id": "d1eebd97",
   "metadata": {},
   "outputs": [
    {
     "name": "stdout",
     "output_type": "stream",
     "text": [
      "17\n"
     ]
    }
   ],
   "source": [
    "import numpy as np\n",
    "arr = [[1,2,4], [12, 15, 17]]\n",
    "print(arr[1][2])"
   ]
  },
  {
   "cell_type": "code",
   "execution_count": 25,
   "id": "0dfe8669",
   "metadata": {},
   "outputs": [
    {
     "data": {
      "text/plain": [
       "17"
      ]
     },
     "execution_count": 25,
     "metadata": {},
     "output_type": "execute_result"
    }
   ],
   "source": [
    "np_arr = np.array(arr)\n",
    "np_arr[1][2]"
   ]
  },
  {
   "cell_type": "code",
   "execution_count": 26,
   "id": "51a49326",
   "metadata": {},
   "outputs": [
    {
     "data": {
      "text/plain": [
       "17"
      ]
     },
     "execution_count": 26,
     "metadata": {},
     "output_type": "execute_result"
    }
   ],
   "source": [
    "np_arr[1, 2]"
   ]
  },
  {
   "cell_type": "markdown",
   "id": "1752263f",
   "metadata": {},
   "source": [
    "#### numpy 특정 요소 변경하기\n"
   ]
  },
  {
   "cell_type": "code",
   "execution_count": 28,
   "id": "bbbce9f3",
   "metadata": {},
   "outputs": [
    {
     "data": {
      "text/plain": [
       "array([ 1,  3, 10, 22, 31, 12, 15])"
      ]
     },
     "execution_count": 28,
     "metadata": {},
     "output_type": "execute_result"
    }
   ],
   "source": [
    "import numpy as np\n",
    "arr = [1, 3, 10, 55, 31, 12, 15]\n",
    "A = np.array(arr)\n",
    "A[3] = 22\n",
    "A"
   ]
  },
  {
   "cell_type": "code",
   "execution_count": 29,
   "id": "e69899f8",
   "metadata": {},
   "outputs": [
    {
     "data": {
      "text/plain": [
       "array([[  1,   2,   4],\n",
       "       [ 12,  15, 100]])"
      ]
     },
     "execution_count": 29,
     "metadata": {},
     "output_type": "execute_result"
    }
   ],
   "source": [
    "import numpy as np\n",
    "arr = [[1,2,4], [12, 15, 17]]\n",
    "np_arr = np.array(arr)\n",
    "np_arr[1,2] = 100\n",
    "np_arr"
   ]
  },
  {
   "cell_type": "code",
   "execution_count": 30,
   "id": "9221ce18",
   "metadata": {},
   "outputs": [],
   "source": [
    "#### numpy 덧셈"
   ]
  },
  {
   "cell_type": "code",
   "execution_count": 31,
   "id": "339bdb1a",
   "metadata": {},
   "outputs": [
    {
     "data": {
      "text/plain": [
       "[7, 9, 11, 13, 15]"
      ]
     },
     "execution_count": 31,
     "metadata": {},
     "output_type": "execute_result"
    }
   ],
   "source": [
    "li_A = [1, 2, 3, 4, 5]\n",
    "li_B = [6, 7, 8, 9, 10]\n",
    "result = [a + b for a, b in zip(li_A, li_B)]\n",
    "result"
   ]
  },
  {
   "cell_type": "code",
   "execution_count": 32,
   "id": "ba6400f6",
   "metadata": {},
   "outputs": [
    {
     "data": {
      "text/plain": [
       "array([ 7,  9, 11, 13, 15])"
      ]
     },
     "execution_count": 32,
     "metadata": {},
     "output_type": "execute_result"
    }
   ],
   "source": [
    "import numpy as np\n",
    "arr_A = np.array([1, 2, 3, 4, 5])\n",
    "arr_B = np.array([6, 7, 8, 9, 10])\n",
    "result = arr_A + arr_B\n",
    "result"
   ]
  },
  {
   "cell_type": "markdown",
   "id": "7c1dffa8",
   "metadata": {},
   "source": [
    "#### 브로드캐스팅"
   ]
  },
  {
   "cell_type": "code",
   "execution_count": 33,
   "id": "2c70282d",
   "metadata": {},
   "outputs": [
    {
     "data": {
      "text/plain": [
       "array([[10, 10, 10, 10, 10],\n",
       "       [20, 20, 20, 20, 20],\n",
       "       [30, 30, 30, 30, 30],\n",
       "       [40, 40, 40, 40, 40],\n",
       "       [50, 50, 50, 50, 50]])"
      ]
     },
     "execution_count": 33,
     "metadata": {},
     "output_type": "execute_result"
    }
   ],
   "source": [
    "A = [\n",
    "    [10, 10, 10, 10, 10],\n",
    "    [20, 20, 20, 20, 20],\n",
    "    [30, 30, 30, 30, 30],\n",
    "    [40, 40, 40, 40, 40],\n",
    "    [50, 50, 50, 50, 50]\n",
    "]\n",
    "A = np.array(A)\n",
    "A"
   ]
  },
  {
   "cell_type": "code",
   "execution_count": 34,
   "id": "3da3c032",
   "metadata": {},
   "outputs": [
    {
     "data": {
      "text/plain": [
       "array([[13, 13, 13, 13, 13],\n",
       "       [13, 13, 13, 13, 13],\n",
       "       [13, 13, 13, 13, 13],\n",
       "       [13, 13, 13, 13, 13],\n",
       "       [13, 13, 13, 13, 13]])"
      ]
     },
     "execution_count": 34,
     "metadata": {},
     "output_type": "execute_result"
    }
   ],
   "source": [
    "B = np.array([[13] * 5 for _ in range(5)])\n",
    "B"
   ]
  },
  {
   "cell_type": "code",
   "execution_count": 35,
   "id": "42588814",
   "metadata": {},
   "outputs": [
    {
     "data": {
      "text/plain": [
       "array([[13, 13, 13],\n",
       "       [13, 13, 13]])"
      ]
     },
     "execution_count": 35,
     "metadata": {},
     "output_type": "execute_result"
    }
   ],
   "source": [
    "C = np.array([[13, 13, 13], [13, 13, 13]])\n",
    "C"
   ]
  },
  {
   "cell_type": "code",
   "execution_count": 37,
   "id": "bcf315b3",
   "metadata": {},
   "outputs": [
    {
     "data": {
      "text/plain": [
       "array([[23, 23, 23, 23, 23],\n",
       "       [33, 33, 33, 33, 33],\n",
       "       [43, 43, 43, 43, 43],\n",
       "       [53, 53, 53, 53, 53],\n",
       "       [63, 63, 63, 63, 63]])"
      ]
     },
     "execution_count": 37,
     "metadata": {},
     "output_type": "execute_result"
    }
   ],
   "source": [
    "result = A + B\n",
    "result"
   ]
  },
  {
   "cell_type": "code",
   "execution_count": 38,
   "id": "84bfe6d7",
   "metadata": {},
   "outputs": [
    {
     "ename": "ValueError",
     "evalue": "operands could not be broadcast together with shapes (5,5) (2,3) ",
     "output_type": "error",
     "traceback": [
      "\u001b[0;31m---------------------------------------------------------------------------\u001b[0m",
      "\u001b[0;31mValueError\u001b[0m                                Traceback (most recent call last)",
      "\u001b[0;32m<ipython-input-38-2d6f7582a2ce>\u001b[0m in \u001b[0;36m<module>\u001b[0;34m\u001b[0m\n\u001b[0;32m----> 1\u001b[0;31m \u001b[0mresult\u001b[0m \u001b[0;34m=\u001b[0m \u001b[0mA\u001b[0m \u001b[0;34m+\u001b[0m \u001b[0mC\u001b[0m\u001b[0;34m\u001b[0m\u001b[0;34m\u001b[0m\u001b[0m\n\u001b[0m",
      "\u001b[0;31mValueError\u001b[0m: operands could not be broadcast together with shapes (5,5) (2,3) "
     ]
    }
   ],
   "source": [
    "result = A + C"
   ]
  },
  {
   "cell_type": "code",
   "execution_count": 39,
   "id": "cf052b1c",
   "metadata": {},
   "outputs": [],
   "source": [
    "A = [\n",
    "    [10, 10, 10, 20, 20],\n",
    "    [21, 87, 31, 25, 64],\n",
    "    [16, 39, 10, 23, 30],\n",
    "    [88, 13, 52, 12, 47],\n",
    "    [53, 23, 41, 16, 73]\n",
    "]\n"
   ]
  },
  {
   "cell_type": "code",
   "execution_count": 40,
   "id": "30f75027",
   "metadata": {},
   "outputs": [
    {
     "data": {
      "text/plain": [
       "[[10, 10, 10, 20, 20],\n",
       " [21, 87, 31, 25, 64],\n",
       " [16, 39, 10, 23, 30],\n",
       " [88, 13, 52, 12, 47],\n",
       " [53, 23, 41, 16, 73]]"
      ]
     },
     "execution_count": 40,
     "metadata": {},
     "output_type": "execute_result"
    }
   ],
   "source": [
    "A"
   ]
  },
  {
   "cell_type": "code",
   "execution_count": 42,
   "id": "70efe704",
   "metadata": {},
   "outputs": [
    {
     "data": {
      "text/plain": [
       "array([[10, 10, 10, 20, 20],\n",
       "       [21, 87, 31, 25, 64],\n",
       "       [16, 39, 10, 23, 30],\n",
       "       [88, 13, 52, 12, 47],\n",
       "       [53, 23, 41, 16, 73]])"
      ]
     },
     "execution_count": 42,
     "metadata": {},
     "output_type": "execute_result"
    }
   ],
   "source": [
    "A = np.array(A)\n",
    "A"
   ]
  },
  {
   "cell_type": "code",
   "execution_count": 43,
   "id": "ec5a80e0",
   "metadata": {},
   "outputs": [
    {
     "data": {
      "text/plain": [
       "array([[ 23,  23,  23,  33,  33],\n",
       "       [ 34, 100,  44,  38,  77],\n",
       "       [ 29,  52,  23,  36,  43],\n",
       "       [101,  26,  65,  25,  60],\n",
       "       [ 66,  36,  54,  29,  86]])"
      ]
     },
     "execution_count": 43,
     "metadata": {},
     "output_type": "execute_result"
    }
   ],
   "source": [
    "result1 = A + 13\n",
    "result1"
   ]
  },
  {
   "cell_type": "code",
   "execution_count": 44,
   "id": "3c54f98f",
   "metadata": {},
   "outputs": [
    {
     "data": {
      "text/plain": [
       "array([[11, 12, 13, 24, 25],\n",
       "       [22, 89, 34, 29, 69],\n",
       "       [17, 41, 13, 27, 35],\n",
       "       [89, 15, 55, 16, 52],\n",
       "       [54, 25, 44, 20, 78]])"
      ]
     },
     "execution_count": 44,
     "metadata": {},
     "output_type": "execute_result"
    }
   ],
   "source": [
    "B = np.array([1, 2, 3, 4, 5])\n",
    "result2 = A + B\n",
    "result2"
   ]
  },
  {
   "cell_type": "markdown",
   "id": "c376e273",
   "metadata": {},
   "source": [
    "#### Numpy dot 메소드"
   ]
  },
  {
   "cell_type": "code",
   "execution_count": 46,
   "id": "3618aded",
   "metadata": {},
   "outputs": [],
   "source": [
    "import numpy as np"
   ]
  },
  {
   "cell_type": "code",
   "execution_count": 47,
   "id": "c056698b",
   "metadata": {},
   "outputs": [
    {
     "data": {
      "text/plain": [
       "array([[ 4,  2],\n",
       "       [12, 21]])"
      ]
     },
     "execution_count": 47,
     "metadata": {},
     "output_type": "execute_result"
    }
   ],
   "source": [
    "A = np.array([[1, 2], [2, 3]])\n",
    "B = np.array([[4, 1], [6, 7]])\n",
    "A * B"
   ]
  },
  {
   "cell_type": "code",
   "execution_count": 48,
   "id": "467ac6f9",
   "metadata": {},
   "outputs": [
    {
     "data": {
      "text/plain": [
       "array([[16, 15],\n",
       "       [26, 23]])"
      ]
     },
     "execution_count": 48,
     "metadata": {},
     "output_type": "execute_result"
    }
   ],
   "source": [
    "A.dot(B)"
   ]
  },
  {
   "cell_type": "code",
   "execution_count": 49,
   "id": "bd371d45",
   "metadata": {},
   "outputs": [
    {
     "data": {
      "text/plain": [
       "array([[16, 15],\n",
       "       [26, 23]])"
      ]
     },
     "execution_count": 49,
     "metadata": {},
     "output_type": "execute_result"
    }
   ],
   "source": [
    "np.dot(A, B)"
   ]
  },
  {
   "cell_type": "markdown",
   "id": "2ab89008",
   "metadata": {},
   "source": [
    "#### numpy 1차원 배열 슬라이싱1"
   ]
  },
  {
   "cell_type": "code",
   "execution_count": 51,
   "id": "4666ec2a",
   "metadata": {},
   "outputs": [
    {
     "data": {
      "text/plain": [
       "[4, 5, 6, 7]"
      ]
     },
     "execution_count": 51,
     "metadata": {},
     "output_type": "execute_result"
    }
   ],
   "source": [
    "li = [1, 2, 3, 4, 5, 6, 7, 8, 9, 10]\n",
    "li[3:7]"
   ]
  },
  {
   "cell_type": "code",
   "execution_count": 52,
   "id": "52432dc5",
   "metadata": {},
   "outputs": [
    {
     "data": {
      "text/plain": [
       "array([4, 5, 6, 7])"
      ]
     },
     "execution_count": 52,
     "metadata": {},
     "output_type": "execute_result"
    }
   ],
   "source": [
    "import numpy as np\n",
    "arr = np.array([1, 2, 3, 4, 5, 6, 7, 8, 9, 10])\n",
    "arr[3:7]"
   ]
  },
  {
   "cell_type": "code",
   "execution_count": 53,
   "id": "4983f876",
   "metadata": {},
   "outputs": [
    {
     "data": {
      "text/plain": [
       "array([ 0,  0,  0,  0,  0,  0,  0,  0,  0,  0,  0,  1,  2,  3,  4,  5,  6,\n",
       "        7,  8,  9,  0,  2,  4,  6,  8, 10, 12, 14, 16, 18,  0,  3,  6,  9,\n",
       "       12, 15, 18, 21, 24, 27,  0,  4,  8, 12, 16, 20, 24, 28, 32, 36,  0,\n",
       "        5, 10, 15, 20, 25, 30, 35, 40, 45,  0,  6, 12, 18, 24, 30, 36, 42,\n",
       "       48, 54,  0,  7, 14, 21, 28, 35, 42, 49, 56, 63,  0,  8, 16, 24, 32,\n",
       "       40, 48, 56, 64, 72,  0,  9, 18, 27, 36, 45, 54, 63, 72, 81])"
      ]
     },
     "execution_count": 53,
     "metadata": {},
     "output_type": "execute_result"
    }
   ],
   "source": [
    "import numpy as np\n",
    "arr = [i * j for j in range(10) for i in range(10)]\n",
    "arr = np.array(arr)\n",
    "arr"
   ]
  },
  {
   "cell_type": "code",
   "execution_count": 54,
   "id": "4a18c075",
   "metadata": {},
   "outputs": [
    {
     "data": {
      "text/plain": [
       "(100,)"
      ]
     },
     "execution_count": 54,
     "metadata": {},
     "output_type": "execute_result"
    }
   ],
   "source": [
    "arr.shape"
   ]
  },
  {
   "cell_type": "code",
   "execution_count": 57,
   "id": "6252abb3",
   "metadata": {},
   "outputs": [
    {
     "data": {
      "text/plain": [
       "array([ 8, 12, 16, 20, 24, 28, 32, 36,  0,  5, 10, 15, 20, 25, 30])"
      ]
     },
     "execution_count": 57,
     "metadata": {},
     "output_type": "execute_result"
    }
   ],
   "source": [
    "# arr의 42번 인덱스부터 56번 인덱스까지 슬라이싱을 해주세요.\n",
    "result = arr[42: 57]\n",
    "result"
   ]
  },
  {
   "cell_type": "markdown",
   "id": "4f053102",
   "metadata": {},
   "source": [
    "#### numpy 1차원 배열 슬라이싱 2"
   ]
  },
  {
   "cell_type": "code",
   "execution_count": 59,
   "id": "eb3857ea",
   "metadata": {},
   "outputs": [
    {
     "data": {
      "text/plain": [
       "[1, 2, 4, 3, 5, 6, 7]"
      ]
     },
     "execution_count": 59,
     "metadata": {},
     "output_type": "execute_result"
    }
   ],
   "source": [
    "li = [1, 2, 3, 4, 5, 6, 7]\n",
    "li[2:4] = [4, 3]\n",
    "li"
   ]
  },
  {
   "cell_type": "code",
   "execution_count": 60,
   "id": "6271fb62",
   "metadata": {},
   "outputs": [
    {
     "data": {
      "text/plain": [
       "[1, 2, 10, 20, 30, 40, 5, 6, 7]"
      ]
     },
     "execution_count": 60,
     "metadata": {},
     "output_type": "execute_result"
    }
   ],
   "source": [
    "li[2:4] = [10, 20, 30, 40]\n",
    "li"
   ]
  },
  {
   "cell_type": "code",
   "execution_count": 61,
   "id": "6a455600",
   "metadata": {},
   "outputs": [
    {
     "data": {
      "text/plain": [
       "array([4, 5, 6, 7])"
      ]
     },
     "execution_count": 61,
     "metadata": {},
     "output_type": "execute_result"
    }
   ],
   "source": [
    "import numpy as np\n",
    "\n",
    "arr = np.array([1, 2, 3, 4, 5, 6, 7, 8, 9, 10])\n",
    "arr[3:7]"
   ]
  },
  {
   "cell_type": "code",
   "execution_count": 62,
   "id": "21ec1447",
   "metadata": {},
   "outputs": [
    {
     "data": {
      "text/plain": [
       "array([  1,   2,   3, 100,  45,  60,  75,   8,   9,  10])"
      ]
     },
     "execution_count": 62,
     "metadata": {},
     "output_type": "execute_result"
    }
   ],
   "source": [
    "arr[3:7] = np.array([100, 45, 60, 75])\n",
    "arr"
   ]
  },
  {
   "cell_type": "code",
   "execution_count": 65,
   "id": "52c436f6",
   "metadata": {},
   "outputs": [
    {
     "ename": "ValueError",
     "evalue": "could not broadcast input array from shape (5) into shape (4)",
     "output_type": "error",
     "traceback": [
      "\u001b[0;31m---------------------------------------------------------------------------\u001b[0m",
      "\u001b[0;31mValueError\u001b[0m                                Traceback (most recent call last)",
      "\u001b[0;32m<ipython-input-65-177e19677d04>\u001b[0m in \u001b[0;36m<module>\u001b[0;34m\u001b[0m\n\u001b[1;32m      1\u001b[0m \u001b[0;31m# list의 리스트와 달리 numpy.ndarray의 배열을 슬라이싱하여 값을 변경할 때, 크기 또는 모양이 맞지 않으면 에러를 발생합니다. 즉, 슬라이싱을 이용하여 값을 변경할 때는 대입할 배열의 모양이 슬라이싱을 한 구간과 일치해야 합니다.\u001b[0m\u001b[0;34m\u001b[0m\u001b[0;34m\u001b[0m\u001b[0;34m\u001b[0m\u001b[0m\n\u001b[0;32m----> 2\u001b[0;31m \u001b[0marr\u001b[0m\u001b[0;34m[\u001b[0m\u001b[0;36m3\u001b[0m\u001b[0;34m:\u001b[0m\u001b[0;36m7\u001b[0m\u001b[0;34m]\u001b[0m \u001b[0;34m=\u001b[0m \u001b[0mnp\u001b[0m\u001b[0;34m.\u001b[0m\u001b[0marray\u001b[0m\u001b[0;34m(\u001b[0m\u001b[0;34m[\u001b[0m\u001b[0;36m1\u001b[0m\u001b[0;34m,\u001b[0m \u001b[0;36m1\u001b[0m\u001b[0;34m,\u001b[0m \u001b[0;36m1\u001b[0m\u001b[0;34m,\u001b[0m \u001b[0;36m1\u001b[0m\u001b[0;34m,\u001b[0m \u001b[0;36m1\u001b[0m\u001b[0;34m]\u001b[0m\u001b[0;34m)\u001b[0m\u001b[0;34m\u001b[0m\u001b[0;34m\u001b[0m\u001b[0m\n\u001b[0m",
      "\u001b[0;31mValueError\u001b[0m: could not broadcast input array from shape (5) into shape (4)"
     ]
    }
   ],
   "source": [
    "# list의 리스트와 달리 numpy.ndarray의 배열을 슬라이싱하여 값을 변경할 때, 크기 또는 모양이 맞지 않으면 에러를 발생합니다. 즉, 슬라이싱을 이용하여 값을 변경할 때는 대입할 배열의 모양이 슬라이싱을 한 구간과 일치해야 합니다.\n",
    "arr[3:7] = np.array([1, 1, 1, 1, 1])"
   ]
  },
  {
   "cell_type": "code",
   "execution_count": 66,
   "id": "81cc663e",
   "metadata": {},
   "outputs": [
    {
     "data": {
      "text/plain": [
       "array([  1,   2,   3, 100, 100, 100, 100,   8,   9,  10])"
      ]
     },
     "execution_count": 66,
     "metadata": {},
     "output_type": "execute_result"
    }
   ],
   "source": [
    "import numpy as np\n",
    "\n",
    "arr = np.array([1, 2, 3, 4, 5, 6, 7, 8, 9, 10])\n",
    "arr[3:7] = 100\n",
    "arr"
   ]
  },
  {
   "cell_type": "code",
   "execution_count": 71,
   "id": "e8d3aed2",
   "metadata": {},
   "outputs": [],
   "source": [
    "import numpy as np\n",
    "\n",
    "arr = [i * j for j in range(10) for i in range(10)]\n",
    "arr = np.array(arr)\n"
   ]
  },
  {
   "cell_type": "code",
   "execution_count": 73,
   "id": "ea82ae4a",
   "metadata": {},
   "outputs": [],
   "source": [
    "arr[35: 50] = 1"
   ]
  },
  {
   "cell_type": "markdown",
   "id": "b3370b17",
   "metadata": {},
   "source": [
    "#### numpy 2차원 배열 슬라이싱1\n"
   ]
  },
  {
   "cell_type": "code",
   "execution_count": 75,
   "id": "bf075e39",
   "metadata": {},
   "outputs": [],
   "source": [
    "li = [\n",
    "    [1, 2, 3, 4, 5],\n",
    "    [4, 5, 6, 7, 8],\n",
    "    [5, 6, 7, 8, 9],\n",
    "    [10, 11, 14, 15, 17]\n",
    "]"
   ]
  },
  {
   "cell_type": "code",
   "execution_count": 76,
   "id": "006eefd9",
   "metadata": {},
   "outputs": [
    {
     "data": {
      "text/plain": [
       "[]"
      ]
     },
     "execution_count": 76,
     "metadata": {},
     "output_type": "execute_result"
    }
   ],
   "source": [
    "li[1:3][2:4]"
   ]
  },
  {
   "cell_type": "code",
   "execution_count": 77,
   "id": "db207e62",
   "metadata": {},
   "outputs": [],
   "source": [
    "li = [\n",
    "    [1, 2, 3, 4, 5],\n",
    "    [4, 5, 6, 7, 8],\n",
    "    [5, 6, 7, 8, 9],\n",
    "    [10, 11, 14, 15, 17]\n",
    "]\n",
    "\n",
    "li2 = []\n",
    "for i in range(1, 3):\n",
    "    li2.append(li[i][2:4])"
   ]
  },
  {
   "cell_type": "code",
   "execution_count": 78,
   "id": "8ad05cc3",
   "metadata": {},
   "outputs": [
    {
     "data": {
      "text/plain": [
       "[[6, 7], [7, 8]]"
      ]
     },
     "execution_count": 78,
     "metadata": {},
     "output_type": "execute_result"
    }
   ],
   "source": [
    "li2"
   ]
  },
  {
   "cell_type": "code",
   "execution_count": 80,
   "id": "16a1df57",
   "metadata": {},
   "outputs": [
    {
     "data": {
      "text/plain": [
       "[[6, 7], [7, 8]]"
      ]
     },
     "execution_count": 80,
     "metadata": {},
     "output_type": "execute_result"
    }
   ],
   "source": [
    "[x[2:4] for x in li[1:3]]"
   ]
  },
  {
   "cell_type": "markdown",
   "id": "37cef832",
   "metadata": {},
   "source": [
    "#### 2차원 배열 슬라이싱"
   ]
  },
  {
   "cell_type": "code",
   "execution_count": 83,
   "id": "a4faa653",
   "metadata": {},
   "outputs": [
    {
     "data": {
      "text/plain": [
       "array([[6, 7],\n",
       "       [7, 9]])"
      ]
     },
     "execution_count": 83,
     "metadata": {},
     "output_type": "execute_result"
    }
   ],
   "source": [
    "import numpy as np\n",
    "\n",
    "arr = np.array(\n",
    "[\n",
    "    [1, 2, 3, 4, 5],\n",
    "    [4, 5, 6, 7, 8],\n",
    "    [5, 6, 7, 9, 9],\n",
    "    [10, 11, 14, 15, 17]\n",
    "]\n",
    ")\n",
    "\n",
    "arr[1:3, 2:4]"
   ]
  },
  {
   "cell_type": "markdown",
   "id": "705ae0a9",
   "metadata": {},
   "source": [
    "#### 2차원 배열 슬라이싱 2"
   ]
  },
  {
   "cell_type": "code",
   "execution_count": 345,
   "id": "018bf4c2",
   "metadata": {},
   "outputs": [],
   "source": [
    "import numpy as np\n",
    "\n",
    "arr = np.array([\n",
    "    [1, 2, 3, 4, 5],\n",
    "    [4, 5, 6, 7, 8],\n",
    "    [5, 6, 7, 8, 9],\n",
    "    [10, 11, 14, 15, 17]\n",
    "])\n"
   ]
  },
  {
   "cell_type": "code",
   "execution_count": 346,
   "id": "f3063478",
   "metadata": {},
   "outputs": [],
   "source": [
    "arr[1:3, 1:3] = np.array([[10, 20], [30, 40]])"
   ]
  },
  {
   "cell_type": "code",
   "execution_count": 347,
   "id": "aba87bd5",
   "metadata": {},
   "outputs": [
    {
     "data": {
      "text/plain": [
       "array([[ 1,  2,  3,  4,  5],\n",
       "       [ 4, 10, 20,  7,  8],\n",
       "       [ 5, 30, 40,  8,  9],\n",
       "       [10, 11, 14, 15, 17]])"
      ]
     },
     "execution_count": 347,
     "metadata": {},
     "output_type": "execute_result"
    }
   ],
   "source": [
    "arr"
   ]
  },
  {
   "cell_type": "markdown",
   "id": "53af48ea",
   "metadata": {},
   "source": [
    "#### 2차원 배열 슬라이싱 연습 1"
   ]
  },
  {
   "cell_type": "code",
   "execution_count": 331,
   "id": "29c22b3b",
   "metadata": {},
   "outputs": [],
   "source": [
    "arr = np.array(\n",
    "[\n",
    "    [1, 5, 3, 4, 5, 5, 4, 2, 10, 9],\n",
    "    [7, 3, 2, 5, 2, 7, 8, 2, 5, 3],\n",
    "    [3, 2, 5, 6, 7, 8, 2, 10, 6, 5],\n",
    "    [4, 7, 6, 6, 5, 5, 6, 7, 1, 2]\n",
    "]\n",
    ")"
   ]
  },
  {
   "cell_type": "code",
   "execution_count": 332,
   "id": "96616302",
   "metadata": {},
   "outputs": [
    {
     "ename": "NameError",
     "evalue": "name 'y1' is not defined",
     "output_type": "error",
     "traceback": [
      "\u001b[0;31m---------------------------------------------------------------------------\u001b[0m",
      "\u001b[0;31mNameError\u001b[0m                                 Traceback (most recent call last)",
      "\u001b[0;32m<ipython-input-332-12a86c54cb69>\u001b[0m in \u001b[0;36m<module>\u001b[0;34m\u001b[0m\n\u001b[0;32m----> 1\u001b[0;31m \u001b[0my1\u001b[0m\u001b[0;34m,\u001b[0m \u001b[0mx1\u001b[0m\u001b[0;34m,\u001b[0m \u001b[0my2\u001b[0m\u001b[0;34m,\u001b[0m \u001b[0mx2\u001b[0m\u001b[0;34m\u001b[0m\u001b[0;34m\u001b[0m\u001b[0m\n\u001b[0m",
      "\u001b[0;31mNameError\u001b[0m: name 'y1' is not defined"
     ]
    }
   ],
   "source": [
    "y1, x1, y2, x2"
   ]
  },
  {
   "cell_type": "code",
   "execution_count": 350,
   "id": "80f6793c",
   "metadata": {},
   "outputs": [],
   "source": [
    "import numpy as np\n",
    "\n",
    "## arr[x1:x2, y1:y2]\n",
    "def solution(arr, y1, x1, y2, x2):\n",
    "    answer = np.array(arr)\n",
    "    answer[y1:y2+1, x1:x2+1] = answer[y1:y2+1, x1:x2+1] * 2\n",
    "\n",
    "    return answer"
   ]
  },
  {
   "cell_type": "code",
   "execution_count": 351,
   "id": "148d2619",
   "metadata": {},
   "outputs": [
    {
     "data": {
      "text/plain": [
       "array([[ 1,  4,  6,  8, 10],\n",
       "       [ 4, 20, 40, 14, 16],\n",
       "       [ 5, 60, 80, 16, 18],\n",
       "       [10, 11, 14, 15, 17]])"
      ]
     },
     "execution_count": 351,
     "metadata": {},
     "output_type": "execute_result"
    }
   ],
   "source": [
    "solution(arr, 0, 1, 2, 4)"
   ]
  },
  {
   "cell_type": "code",
   "execution_count": 352,
   "id": "1def703b",
   "metadata": {},
   "outputs": [],
   "source": [
    "arr = np.array(\n",
    "[\n",
    "    [6, 3, 7, 4, 6],\n",
    "    [9, 2, 6, 7, 4],\n",
    "    [3, 7, 7, 2, 5],\n",
    "    [4, 1, 7, 5, 1],\n",
    "    [4, 0, 9, 5, 8],\n",
    "    [0, 9, 2, 6, 3],\n",
    "    [8, 2, 4, 2, 6]\n",
    "]\n",
    ")"
   ]
  },
  {
   "cell_type": "code",
   "execution_count": 353,
   "id": "f1cee3aa",
   "metadata": {},
   "outputs": [
    {
     "data": {
      "text/plain": [
       "array([[ 6,  3,  7,  4,  6],\n",
       "       [ 9,  4, 12,  7,  4],\n",
       "       [ 3, 14, 14,  2,  5],\n",
       "       [ 4,  1,  7,  5,  1],\n",
       "       [ 4,  0,  9,  5,  8],\n",
       "       [ 0,  9,  2,  6,  3],\n",
       "       [ 8,  2,  4,  2,  6]])"
      ]
     },
     "execution_count": 353,
     "metadata": {},
     "output_type": "execute_result"
    }
   ],
   "source": [
    "solution(arr, 1, 1, 2, 2)"
   ]
  },
  {
   "cell_type": "code",
   "execution_count": null,
   "id": "4b5fd19d",
   "metadata": {},
   "outputs": [],
   "source": []
  },
  {
   "cell_type": "markdown",
   "id": "d73e49d0",
   "metadata": {},
   "source": [
    "#### 기초문제2 : 내적연산"
   ]
  },
  {
   "cell_type": "markdown",
   "id": "5c140139",
   "metadata": {},
   "source": [
    "## y = w^T + b"
   ]
  },
  {
   "cell_type": "code",
   "execution_count": 230,
   "id": "5812028b",
   "metadata": {},
   "outputs": [],
   "source": [
    "import numpy as np\n",
    "\n",
    "def solution(x, w, b):\n",
    "    answer = 0\n",
    "    answer = np.dot(x,w) + b\n",
    "    return answer\n"
   ]
  },
  {
   "cell_type": "code",
   "execution_count": 231,
   "id": "f0843864",
   "metadata": {},
   "outputs": [],
   "source": [
    "x = [1, 2, 3]\n",
    "w = [3, 4, 5]\n",
    "b = 7\n",
    "result = 33"
   ]
  },
  {
   "cell_type": "code",
   "execution_count": 232,
   "id": "29f9be36",
   "metadata": {},
   "outputs": [
    {
     "data": {
      "text/plain": [
       "33"
      ]
     },
     "execution_count": 232,
     "metadata": {},
     "output_type": "execute_result"
    }
   ],
   "source": [
    "solution(x, w, b)"
   ]
  },
  {
   "cell_type": "code",
   "execution_count": 233,
   "id": "ba80eb4b",
   "metadata": {},
   "outputs": [
    {
     "data": {
      "text/plain": [
       "array([3, 4, 5])"
      ]
     },
     "execution_count": 233,
     "metadata": {},
     "output_type": "execute_result"
    }
   ],
   "source": [
    "np.transpose(w)"
   ]
  },
  {
   "cell_type": "code",
   "execution_count": 234,
   "id": "8f152adc",
   "metadata": {},
   "outputs": [
    {
     "data": {
      "text/plain": [
       "array([3, 4, 5])"
      ]
     },
     "execution_count": 234,
     "metadata": {},
     "output_type": "execute_result"
    }
   ],
   "source": [
    "np.array(w)"
   ]
  },
  {
   "cell_type": "markdown",
   "id": "c98e251f",
   "metadata": {},
   "source": [
    "#### 기초문제3 : 롤러코스터"
   ]
  },
  {
   "cell_type": "code",
   "execution_count": 316,
   "id": "7aa0ec14",
   "metadata": {},
   "outputs": [],
   "source": [
    "import numpy as np\n",
    "\n",
    "def solution(info):\n",
    "    answer = []\n",
    "    #print(info[0])\n",
    "    for kee in range(0, len(info[0])):\n",
    "        if info[0][kee] < 150:\n",
    "            #print(info[0][kee])\n",
    "            answer.append(kee)\n",
    "        if info[0][kee] > 195:\n",
    "            #print(info[0][kee])\n",
    "            answer.append(kee)\n",
    "            \n",
    "    for w in range(0, len(info[1])):\n",
    "        if info[1][w] > 140:\n",
    "            #print(info[1][w])\n",
    "            answer.append(w)\n",
    "    answer = sorted(answer)\n",
    "    return answer"
   ]
  },
  {
   "cell_type": "code",
   "execution_count": 317,
   "id": "9be97caf",
   "metadata": {},
   "outputs": [],
   "source": [
    "info = [[151.4, 172.45, 138.65, 177.63, 207.46], [ 44.64, 163.5, 112.35, 73.55, 97.83]]\n",
    "result = [1,2, 4]"
   ]
  },
  {
   "cell_type": "code",
   "execution_count": 318,
   "id": "ff3f566e",
   "metadata": {},
   "outputs": [
    {
     "data": {
      "text/plain": [
       "[1, 2, 4]"
      ]
     },
     "execution_count": 318,
     "metadata": {},
     "output_type": "execute_result"
    }
   ],
   "source": [
    "solution(info)"
   ]
  },
  {
   "cell_type": "code",
   "execution_count": 271,
   "id": "8af3243f",
   "metadata": {},
   "outputs": [],
   "source": [
    "import numpy as np\n",
    "\n",
    "def solution(info):\n",
    "    answer = []\n",
    "    print(info[0])\n",
    "    for kee in info[0]:\n",
    "        if kee < 150:\n",
    "            print(kee)\n",
    "        if kee > 195:\n",
    "            print(kee)\n",
    "    return answer"
   ]
  },
  {
   "cell_type": "code",
   "execution_count": 272,
   "id": "6fc7607f",
   "metadata": {},
   "outputs": [],
   "source": [
    "info = [[151.4, 172.45, 138.65, 177.63, 207.46], [ 44.64, 163.5, 112.35, 73.55, 97.83]]\n",
    "result = [1,2, 4]"
   ]
  },
  {
   "cell_type": "code",
   "execution_count": 273,
   "id": "4ba809a2",
   "metadata": {},
   "outputs": [
    {
     "name": "stdout",
     "output_type": "stream",
     "text": [
      "[151.4, 172.45, 138.65, 177.63, 207.46]\n",
      "138.65\n",
      "207.46\n"
     ]
    },
    {
     "data": {
      "text/plain": [
       "[]"
      ]
     },
     "execution_count": 273,
     "metadata": {},
     "output_type": "execute_result"
    }
   ],
   "source": [
    "solution(info)"
   ]
  },
  {
   "cell_type": "code",
   "execution_count": 354,
   "id": "a8bc10a0",
   "metadata": {},
   "outputs": [],
   "source": [
    "## np.where 문제인듯\n"
   ]
  },
  {
   "cell_type": "code",
   "execution_count": 402,
   "id": "5e0ef06d",
   "metadata": {},
   "outputs": [],
   "source": [
    "import numpy as np\n",
    "\n",
    "def solution(info):\n",
    "    answer = []\n",
    "    #print(info[0])\n",
    "    #a = info[0]\n",
    "    #b = info[1]\n",
    "    answer.append(np.where(info[0] < np.float64(150))[0][0])\n",
    "    answer.append(np.where(info[0] > np.float64(195))[0][0])\n",
    "    answer.append(np.where(info[1] > np.float64(140))[0][0])\n",
    "    \n",
    "    answer = sorted(answer)\n",
    "    return answer"
   ]
  },
  {
   "cell_type": "code",
   "execution_count": 403,
   "id": "e2b5ba93",
   "metadata": {},
   "outputs": [],
   "source": [
    "info = [[151.4, 172.45, 138.65, 177.63, 207.46], [ 44.64, 163.5, 112.35, 73.55, 97.83]]\n",
    "result = [1,2, 4]"
   ]
  },
  {
   "cell_type": "code",
   "execution_count": 404,
   "id": "ef010967",
   "metadata": {},
   "outputs": [
    {
     "data": {
      "text/plain": [
       "[1, 2, 4]"
      ]
     },
     "execution_count": 404,
     "metadata": {},
     "output_type": "execute_result"
    }
   ],
   "source": [
    "solution(info)"
   ]
  },
  {
   "cell_type": "code",
   "execution_count": 538,
   "id": "dd41d0c6",
   "metadata": {},
   "outputs": [],
   "source": [
    "import numpy as np\n",
    "\n",
    "def solution(info):\n",
    "    answer = []\n",
    "    #print(info[0])\n",
    "    #a = info[0]\n",
    "    #b = info[1]\n",
    "    #print(np.where(info[0] < np.float64(150))[0][0])\n",
    "    try:\n",
    "        set_answer = set([np.where(info[0] < np.float64(150))[0][0]])\n",
    "    except IndexError:\n",
    "        print()\n",
    "    #print(set_answer)\n",
    "    #print(np.where(info[0] > np.float64(195))[0][0])\n",
    "    try:\n",
    "        set_answer.add(np.where(info[0] > np.float64(195))[0][0])\n",
    "    except IndexError:\n",
    "        print()\n",
    "\n",
    "    #print(np.where(info[1] > np.float64(140))[0][0])\n",
    "    try:\n",
    "        set_answer.add(np.where(info[1] > np.float64(140))[0][0])\n",
    "    except IndexError:\n",
    "        print()\n",
    "    \n",
    "    answer = sorted(list(set_answer))\n",
    "    return answer"
   ]
  },
  {
   "cell_type": "code",
   "execution_count": 539,
   "id": "84ab430a",
   "metadata": {},
   "outputs": [],
   "source": [
    "info = [[151.4, 172.45, 138.65, 177.63, 207.46], [ 44.64, 163.5, 112.35, 73.55, 97.83]]\n",
    "result = [1,2, 4]"
   ]
  },
  {
   "cell_type": "code",
   "execution_count": 540,
   "id": "f188a167",
   "metadata": {},
   "outputs": [
    {
     "data": {
      "text/plain": [
       "[1, 2, 4]"
      ]
     },
     "execution_count": 540,
     "metadata": {},
     "output_type": "execute_result"
    }
   ],
   "source": [
    "solution(info)"
   ]
  },
  {
   "cell_type": "code",
   "execution_count": 541,
   "id": "7b8b1ddc",
   "metadata": {},
   "outputs": [],
   "source": [
    "info = [[196.12, 143.03], [66.23, 43.86]]\n",
    "result = [1,2, 4]"
   ]
  },
  {
   "cell_type": "code",
   "execution_count": 542,
   "id": "0d089c6c",
   "metadata": {},
   "outputs": [
    {
     "name": "stdout",
     "output_type": "stream",
     "text": [
      "\n"
     ]
    },
    {
     "data": {
      "text/plain": [
       "[0, 1]"
      ]
     },
     "execution_count": 542,
     "metadata": {},
     "output_type": "execute_result"
    }
   ],
   "source": [
    "solution(info)"
   ]
  },
  {
   "cell_type": "code",
   "execution_count": 615,
   "id": "96b7a913",
   "metadata": {},
   "outputs": [],
   "source": [
    "import numpy as np\n",
    "\n",
    "def solution(info):\n",
    "    answer = []\n",
    "    #print(info[0] < np.float64(150))\n",
    "    #print(info[0] > np.float64(195))\n",
    "    set_answer = {}\n",
    "    #answer2 = np.where(info[0] < np.float64(150))\n",
    "    if (info[0] < np.float64(150)) != [False, False]:\n",
    "        set_answer = set([np.where(info[0] < np.float64(150))[0][0]])\n",
    "    print(set_answer)\n",
    "    if (info[0] > np.float64(195)) != [False, False]:\n",
    "        set_answer.add(np.where(info[0] > np.float64(195))[0][0])\n",
    "    print(set_answer)\n",
    "    print(info[1] > np.float64(140))\n",
    "    if (info[1] > np.float64(140)) != [False, False]:\n",
    "        set_answer.add(np.where(info[1] > np.float64(140))[0][0])\n",
    "    print(set_answer)\n",
    "    \n",
    "    #np.where(info[0] > np.float64(195))\n",
    "    #set_answer = set([[0][0]])\n",
    "    #answer2 = np.where(info[1] > np.float64(140))\n",
    "    #if answer2 != []:\n",
    "    #    set_answer.add(answer2)\n",
    "    return answer\n",
    "    "
   ]
  },
  {
   "cell_type": "code",
   "execution_count": 616,
   "id": "4d6612f2",
   "metadata": {},
   "outputs": [],
   "source": [
    "info = [[196.12, 143.03], [66.23, 43.86]]\n",
    "result = [1,2, 4]"
   ]
  },
  {
   "cell_type": "code",
   "execution_count": 617,
   "id": "58b4e8bb",
   "metadata": {},
   "outputs": [
    {
     "ename": "ValueError",
     "evalue": "The truth value of an array with more than one element is ambiguous. Use a.any() or a.all()",
     "output_type": "error",
     "traceback": [
      "\u001b[0;31m---------------------------------------------------------------------------\u001b[0m",
      "\u001b[0;31mValueError\u001b[0m                                Traceback (most recent call last)",
      "\u001b[0;32m<ipython-input-617-2154252f729e>\u001b[0m in \u001b[0;36m<module>\u001b[0;34m\u001b[0m\n\u001b[0;32m----> 1\u001b[0;31m \u001b[0msolution\u001b[0m\u001b[0;34m(\u001b[0m\u001b[0minfo\u001b[0m\u001b[0;34m)\u001b[0m\u001b[0;34m\u001b[0m\u001b[0;34m\u001b[0m\u001b[0m\n\u001b[0m",
      "\u001b[0;32m<ipython-input-615-3c84784c4aa1>\u001b[0m in \u001b[0;36msolution\u001b[0;34m(info)\u001b[0m\n\u001b[1;32m      7\u001b[0m     \u001b[0mset_answer\u001b[0m \u001b[0;34m=\u001b[0m \u001b[0;34m{\u001b[0m\u001b[0;34m}\u001b[0m\u001b[0;34m\u001b[0m\u001b[0;34m\u001b[0m\u001b[0m\n\u001b[1;32m      8\u001b[0m     \u001b[0;31m#answer2 = np.where(info[0] < np.float64(150))\u001b[0m\u001b[0;34m\u001b[0m\u001b[0;34m\u001b[0m\u001b[0;34m\u001b[0m\u001b[0m\n\u001b[0;32m----> 9\u001b[0;31m     \u001b[0;32mif\u001b[0m \u001b[0;34m(\u001b[0m\u001b[0minfo\u001b[0m\u001b[0;34m[\u001b[0m\u001b[0;36m0\u001b[0m\u001b[0;34m]\u001b[0m \u001b[0;34m<\u001b[0m \u001b[0mnp\u001b[0m\u001b[0;34m.\u001b[0m\u001b[0mfloat64\u001b[0m\u001b[0;34m(\u001b[0m\u001b[0;36m150\u001b[0m\u001b[0;34m)\u001b[0m\u001b[0;34m)\u001b[0m \u001b[0;34m!=\u001b[0m \u001b[0;34m[\u001b[0m\u001b[0;32mFalse\u001b[0m\u001b[0;34m,\u001b[0m \u001b[0;32mFalse\u001b[0m\u001b[0;34m]\u001b[0m\u001b[0;34m:\u001b[0m\u001b[0;34m\u001b[0m\u001b[0;34m\u001b[0m\u001b[0m\n\u001b[0m\u001b[1;32m     10\u001b[0m         \u001b[0mset_answer\u001b[0m \u001b[0;34m=\u001b[0m \u001b[0mset\u001b[0m\u001b[0;34m(\u001b[0m\u001b[0;34m[\u001b[0m\u001b[0mnp\u001b[0m\u001b[0;34m.\u001b[0m\u001b[0mwhere\u001b[0m\u001b[0;34m(\u001b[0m\u001b[0minfo\u001b[0m\u001b[0;34m[\u001b[0m\u001b[0;36m0\u001b[0m\u001b[0;34m]\u001b[0m \u001b[0;34m<\u001b[0m \u001b[0mnp\u001b[0m\u001b[0;34m.\u001b[0m\u001b[0mfloat64\u001b[0m\u001b[0;34m(\u001b[0m\u001b[0;36m150\u001b[0m\u001b[0;34m)\u001b[0m\u001b[0;34m)\u001b[0m\u001b[0;34m[\u001b[0m\u001b[0;36m0\u001b[0m\u001b[0;34m]\u001b[0m\u001b[0;34m[\u001b[0m\u001b[0;36m0\u001b[0m\u001b[0;34m]\u001b[0m\u001b[0;34m]\u001b[0m\u001b[0;34m)\u001b[0m\u001b[0;34m\u001b[0m\u001b[0;34m\u001b[0m\u001b[0m\n\u001b[1;32m     11\u001b[0m     \u001b[0mprint\u001b[0m\u001b[0;34m(\u001b[0m\u001b[0mset_answer\u001b[0m\u001b[0;34m)\u001b[0m\u001b[0;34m\u001b[0m\u001b[0;34m\u001b[0m\u001b[0m\n",
      "\u001b[0;31mValueError\u001b[0m: The truth value of an array with more than one element is ambiguous. Use a.any() or a.all()"
     ]
    }
   ],
   "source": [
    "solution(info)"
   ]
  },
  {
   "cell_type": "code",
   "execution_count": 662,
   "id": "69da9be1",
   "metadata": {},
   "outputs": [],
   "source": [
    "import numpy as np\n",
    "\n",
    "def solution(info):\n",
    "    answer = []\n",
    "    \n",
    "    set_answer = set()\n",
    "    \n",
    "    for k in range(0, len(info)):\n",
    "        #rint(k)\n",
    "        #print(info[k])\n",
    "        for w in range(0, len(info[k])):\n",
    "            ## 키\n",
    "            if k == 0:\n",
    "                if info[k][w] < np.float64(150):\n",
    "                    #print(w)\n",
    "                    set_answer.add(w)\n",
    "                elif info[k][w] > np.float64(195):\n",
    "                    #print(w)\n",
    "                    set_answer.add(w)\n",
    "            ## 몸무게\n",
    "            elif k == 1:\n",
    "                if info[k][w] > np.float64(140):\n",
    "                    #print(w)\n",
    "                    set_answer.add(w)\n",
    "                #print(info[k][w])\n",
    "    \n",
    "    \n",
    "    answer = sorted(list(set_answer))\n",
    "    return answer"
   ]
  },
  {
   "cell_type": "code",
   "execution_count": 663,
   "id": "00f97977",
   "metadata": {},
   "outputs": [],
   "source": [
    "info = [[151.4, 172.45, 138.65, 177.63, 207.46], [ 44.64, 163.5, 112.35, 73.55, 97.83]]\n",
    "result = [1,2, 4]"
   ]
  },
  {
   "cell_type": "code",
   "execution_count": 664,
   "id": "48172ba2",
   "metadata": {},
   "outputs": [
    {
     "data": {
      "text/plain": [
       "[1, 2, 4]"
      ]
     },
     "execution_count": 664,
     "metadata": {},
     "output_type": "execute_result"
    }
   ],
   "source": [
    "solution(info)"
   ]
  },
  {
   "cell_type": "markdown",
   "id": "edf9968f",
   "metadata": {},
   "source": [
    "#### 기초문제4 : 행렬 곱 실습문제"
   ]
  },
  {
   "cell_type": "markdown",
   "id": "69797aa1",
   "metadata": {},
   "source": [
    "#### 초기 A의 상태는 [[0]] 입니다.\n",
    "#### arr_list, A와 arr를 행렬 곱 연산이 불가할 때, arr을 버리고 다음 배열을 꺼냅니다.\n",
    "#### arr_list, A와 arr를 행렬 곱 연산이 불가할 때, 다음과 같이 연산하고 다음 배열을 꺼냅니다.\n",
    "#### A = (A + 1) * (arr * 2)\n"
   ]
  },
  {
   "cell_type": "code",
   "execution_count": 481,
   "id": "fb7b22b2",
   "metadata": {},
   "outputs": [],
   "source": [
    "arr_list = [[[ -9, -14]], [[ 14, -2, 0], [-14, -5, 1], [-11, 3, -6]], [[-2, -6], [18, 0]]]\n",
    "result = [[-904., 204.]]"
   ]
  },
  {
   "cell_type": "code",
   "execution_count": null,
   "id": "a0670df4",
   "metadata": {},
   "outputs": [],
   "source": [
    "import numpy as np\n",
    "\n",
    "def solution(arr_list):\n",
    "    answer1 = np.array([[0]])\n",
    "    \n",
    "    for item in arr_list:\n",
    "        try:\n",
    "            answer1 = answer1 + np.array([[1]])\n",
    "            #print('answer1 : ', answer1)\n",
    "            answer2 = item * np.array([[2]])\n",
    "            #print('answer2 : ', answer2)\n",
    "            answer1 = np.dot(answer1, answer2)\n",
    "            #print('result >>> ', answer1)\n",
    "        except ValueError:\n",
    "            answer1 = answer1 - np.array([[1]])\n",
    "            #print('ValueError >>> ')\n",
    "            continue\n",
    "        #print(answer1)\n",
    "    #print(answer)\n",
    "    return answer1"
   ]
  },
  {
   "cell_type": "code",
   "execution_count": 683,
   "id": "f9b5dc0a",
   "metadata": {},
   "outputs": [],
   "source": [
    "import numpy as np\n",
    "\n",
    "def solution(arr_list):\n",
    "    answer1 = np.array([[0]])\n",
    "    \n",
    "    for item in arr_list:\n",
    "        #print('item > : ', item)\n",
    "        \n",
    "        answer1 = answer1 + np.array([[1]])\n",
    "        #print('answer1.shape : ', answer1.shape[1])\n",
    "        #print('answer1 : ', answer1)\n",
    "        answer2 = item * np.array([[2]])\n",
    "        #print('answer2.shape : ', answer2.shape[0])\n",
    "        #print('answer2 : ', answer2)\n",
    "        if answer1.shape[1] != answer2.shape[0]:\n",
    "            answer1 = answer1 - np.array([[1]])\n",
    "            continue\n",
    "        else:\n",
    "            answer1 = np.dot(answer1, answer2)\n",
    "                \n",
    "    #print(answer)\n",
    "    return answer1"
   ]
  },
  {
   "cell_type": "code",
   "execution_count": 684,
   "id": "208dea6c",
   "metadata": {},
   "outputs": [
    {
     "data": {
      "text/plain": [
       "array([[-904,  204]])"
      ]
     },
     "execution_count": 684,
     "metadata": {},
     "output_type": "execute_result"
    }
   ],
   "source": [
    "solution(arr_list)"
   ]
  },
  {
   "cell_type": "code",
   "execution_count": 669,
   "id": "1dcc70b2",
   "metadata": {},
   "outputs": [
    {
     "data": {
      "text/plain": [
       "array([[1]])"
      ]
     },
     "execution_count": 669,
     "metadata": {},
     "output_type": "execute_result"
    }
   ],
   "source": [
    "answer1 = np.array([[0]])\n",
    "answer1 = answer1 + 1\n",
    "answer1 "
   ]
  },
  {
   "cell_type": "code",
   "execution_count": 432,
   "id": "d362f7a9",
   "metadata": {},
   "outputs": [
    {
     "data": {
      "text/plain": [
       "array([[-18, -28]])"
      ]
     },
     "execution_count": 432,
     "metadata": {},
     "output_type": "execute_result"
    }
   ],
   "source": [
    "answer2 = np.array([[ -9, -14]])\n",
    "answer2 = answer2 * 2\n",
    "answer2 "
   ]
  },
  {
   "cell_type": "code",
   "execution_count": 433,
   "id": "53ad2ca6",
   "metadata": {},
   "outputs": [
    {
     "data": {
      "text/plain": [
       "array([[-18, -28]])"
      ]
     },
     "execution_count": 433,
     "metadata": {},
     "output_type": "execute_result"
    }
   ],
   "source": [
    "np.dot(answer1, answer2)"
   ]
  },
  {
   "cell_type": "markdown",
   "id": "9d56f993",
   "metadata": {},
   "source": [
    "#### 이미지 변환"
   ]
  },
  {
   "cell_type": "code",
   "execution_count": null,
   "id": "0b7d5d59",
   "metadata": {},
   "outputs": [],
   "source": []
  },
  {
   "cell_type": "code",
   "execution_count": null,
   "id": "84fb2250",
   "metadata": {},
   "outputs": [],
   "source": []
  },
  {
   "cell_type": "markdown",
   "id": "c97947b3",
   "metadata": {},
   "source": [
    "#### bool 인덱싱"
   ]
  },
  {
   "cell_type": "code",
   "execution_count": 686,
   "id": "2208ff77",
   "metadata": {},
   "outputs": [
    {
     "name": "stdout",
     "output_type": "stream",
     "text": [
      "[False False False  True  True  True False False False]\n"
     ]
    }
   ],
   "source": [
    "import numpy as np\n",
    "\n",
    "A = np.array([1, 2, 3, 4, 5, 4, 3, 2, 1])\n",
    "print(A >= 4)"
   ]
  },
  {
   "cell_type": "code",
   "execution_count": 687,
   "id": "4dc3f813",
   "metadata": {},
   "outputs": [
    {
     "data": {
      "text/plain": [
       "(array([3, 4, 5]),)"
      ]
     },
     "execution_count": 687,
     "metadata": {},
     "output_type": "execute_result"
    }
   ],
   "source": [
    "np.where(A >= 4)"
   ]
  },
  {
   "cell_type": "code",
   "execution_count": 688,
   "id": "73b1aea3",
   "metadata": {},
   "outputs": [
    {
     "data": {
      "text/plain": [
       "array([4, 5, 4])"
      ]
     },
     "execution_count": 688,
     "metadata": {},
     "output_type": "execute_result"
    }
   ],
   "source": [
    "A[np.where(A >= 4)]"
   ]
  },
  {
   "cell_type": "code",
   "execution_count": 691,
   "id": "be652a2f",
   "metadata": {},
   "outputs": [
    {
     "data": {
      "text/plain": [
       "array([4, 5, 4])"
      ]
     },
     "execution_count": 691,
     "metadata": {},
     "output_type": "execute_result"
    }
   ],
   "source": [
    "B = ( A >= 4)\n",
    "A[B]"
   ]
  },
  {
   "cell_type": "code",
   "execution_count": 695,
   "id": "293cfba9",
   "metadata": {},
   "outputs": [
    {
     "name": "stdout",
     "output_type": "stream",
     "text": [
      "[False False False False False False False False False]\n"
     ]
    },
    {
     "data": {
      "text/plain": [
       "array([1, 0, 0, 4, 5, 4, 0, 0, 1])"
      ]
     },
     "execution_count": 695,
     "metadata": {},
     "output_type": "execute_result"
    }
   ],
   "source": [
    "A[(A > 1) & (A <= 3)] = 0\n",
    "print((A > 1) & (A <= 3))\n",
    "A"
   ]
  },
  {
   "cell_type": "code",
   "execution_count": 712,
   "id": "1b5ead1a",
   "metadata": {},
   "outputs": [
    {
     "name": "stdout",
     "output_type": "stream",
     "text": [
      "[14 20 20 14 20 17 13 17 13 14]\n"
     ]
    }
   ],
   "source": [
    "import numpy as np\n",
    "\n",
    "np.random.seed(42)\n",
    "\n",
    "arr = np.random.randint(0, 100, size=(5, 6, 3))\n",
    "\n",
    "# arr에서 10보다 크고 20보다 작거나 같은 요소들만 추출해봅시다.\n",
    "#print(arr)\n",
    "#print(arr > 10)\n",
    "#print(arr <= 20)\n",
    "#print(np.logical_and(arr > 10, arr <= 20))\n",
    "print(arr[np.logical_and(arr > 10, arr <= 20)])\n",
    "\n",
    "#print(result)"
   ]
  },
  {
   "cell_type": "markdown",
   "id": "1c74a0de",
   "metadata": {},
   "source": [
    "#### numpy 관계 연산"
   ]
  },
  {
   "cell_type": "code",
   "execution_count": 714,
   "id": "d4189502",
   "metadata": {},
   "outputs": [
    {
     "data": {
      "text/plain": [
       "'\\nNumpy 관계 연산\\n문제 설명\\n목표\\nNumpy의 특별한 관계 연산을 배워봅시다.\\n\\nNumpy의 특별한 관계 연산\\n파이썬 객체 사이에 >, <, ==등 관계 연산자들을 사용하면 연산 결과로 True, False가 나옵니다. 그러나 numpy.ndarray타입의 배열에 관계 연산자를 사용하면 관계 연산의 결과가 하나의 bool타입의 값이 아닌 배열로 나옵니다.\\nnumpy.ndarray 배열에 관계 연산자를 사용하면 어떻게 출력하는지 살펴봅시다.\\n\\n>>> import numpy as np\\n\\n>>> A = np.array([1, 2, 3, 4, 5, 4, 3, 2, 1])\\n>>> B = (A >= 4)\\n>>> print(B)\\n[False False False  True  True  True False False False]\\nA에 관계 연산자 >=를 사용하여 연산한 결과를 B에 넣어주었습니다. 그리고 출력한 결과, A에서 4 이상의 값을 가진 요소는 True, 4 미만의 값을 가진 요소는 False를 가지는 배열 B가 생성된 것을 알 수 있습니다.\\n즉, 배열에 관계 연산자를 사용하면 배열에서 조건을 만족하는 요소는 True, 만족하지 않다면 False인 numpy.ndarray 타입의 배열로 연산 결과가 나옵니다.\\n\\n2개 이상의 조건식\\nNumpy에서 논리 연산자를 사용하여 여러 조건식을 결합할 때, and 및 or가 아닌 & 및 |를 사용합니다. 2개의 조건식을 사용한 다음 코드를 살펴봅시다.\\n\\n>>> import numpy as np\\n\\n>>> A = np.array([1, 2, 3, 4, 5, 4, 3, 2, 1])\\n>>> print((A > 1) & (A <= 3))\\n[False  True  True False False False  True  True False]\\n>>> print((A > 3) | (A < 2))\\n[ True False False  True  True  True False False  True]\\n첫 번째 print에서 1 초과 및 3 이하의 수를 가진 요소는 True, 1 이하 또는 3 초과의 수를 가진 요소는 False인 배열을 출력합니다.\\n두 번째 print에서 3 초과 또는 2 미만의 수를 가진 요소는 True, 3 이하 및 2 이상의 수를 가진 요소는 False인 배열을 출력합니다.\\n그럼 오른쪽 코드의 주석을 참고하여 빈칸을 채운 후 Numpy의 관계 연산을 연습해봅시다.\\n\\nTIP\\n여러 개의 조건식을 작성할 때 and와 or로 넣어주면 에러가 발생합니다.\\n\\n>>> import numpy as np\\n\\n>>> A = np.array([1, 2, 3, 4, 5, 4, 3, 2, 1])\\n>>> print((A > 1) and (A <= 3))\\nValueError: The truth value of an array with more than one element is ambiguous. Use a.any() or a.all()\\nand는 Python의 예약어입니다. and의 피연산자에는 numpy.ndarray가 아닌 bool 타입의 값이 와야 됩니다. 그러나 위 코드에서는 numpy.ndarray 타입의 값이 and의 피연산자입니다. 따라서 Numpy에서는 위와 같이 any() 또는 all()메소드를 사용하여 bool 값으로 변경하라고 에러가 발생한 것입니다(any(), all() 메소드는 [Numpy 심화] - any, all를 참고하세요). 즉, 배열에 관한 여러 조건식을 결합할 때는 and, or가 아닌 &, |를 사용해야 합니다.\\n'"
      ]
     },
     "execution_count": 714,
     "metadata": {},
     "output_type": "execute_result"
    }
   ],
   "source": [
    "'''\n",
    "Numpy 관계 연산\n",
    "문제 설명\n",
    "목표\n",
    "Numpy의 특별한 관계 연산을 배워봅시다.\n",
    "\n",
    "Numpy의 특별한 관계 연산\n",
    "파이썬 객체 사이에 >, <, ==등 관계 연산자들을 사용하면 연산 결과로 True, False가 나옵니다. 그러나 numpy.ndarray타입의 배열에 관계 연산자를 사용하면 관계 연산의 결과가 하나의 bool타입의 값이 아닌 배열로 나옵니다.\n",
    "numpy.ndarray 배열에 관계 연산자를 사용하면 어떻게 출력하는지 살펴봅시다.\n",
    "\n",
    ">>> import numpy as np\n",
    "\n",
    ">>> A = np.array([1, 2, 3, 4, 5, 4, 3, 2, 1])\n",
    ">>> B = (A >= 4)\n",
    ">>> print(B)\n",
    "[False False False  True  True  True False False False]\n",
    "A에 관계 연산자 >=를 사용하여 연산한 결과를 B에 넣어주었습니다. 그리고 출력한 결과, A에서 4 이상의 값을 가진 요소는 True, 4 미만의 값을 가진 요소는 False를 가지는 배열 B가 생성된 것을 알 수 있습니다.\n",
    "즉, 배열에 관계 연산자를 사용하면 배열에서 조건을 만족하는 요소는 True, 만족하지 않다면 False인 numpy.ndarray 타입의 배열로 연산 결과가 나옵니다.\n",
    "\n",
    "2개 이상의 조건식\n",
    "Numpy에서 논리 연산자를 사용하여 여러 조건식을 결합할 때, and 및 or가 아닌 & 및 |를 사용합니다. 2개의 조건식을 사용한 다음 코드를 살펴봅시다.\n",
    "\n",
    ">>> import numpy as np\n",
    "\n",
    ">>> A = np.array([1, 2, 3, 4, 5, 4, 3, 2, 1])\n",
    ">>> print((A > 1) & (A <= 3))\n",
    "[False  True  True False False False  True  True False]\n",
    ">>> print((A > 3) | (A < 2))\n",
    "[ True False False  True  True  True False False  True]\n",
    "첫 번째 print에서 1 초과 및 3 이하의 수를 가진 요소는 True, 1 이하 또는 3 초과의 수를 가진 요소는 False인 배열을 출력합니다.\n",
    "두 번째 print에서 3 초과 또는 2 미만의 수를 가진 요소는 True, 3 이하 및 2 이상의 수를 가진 요소는 False인 배열을 출력합니다.\n",
    "그럼 오른쪽 코드의 주석을 참고하여 빈칸을 채운 후 Numpy의 관계 연산을 연습해봅시다.\n",
    "\n",
    "TIP\n",
    "여러 개의 조건식을 작성할 때 and와 or로 넣어주면 에러가 발생합니다.\n",
    "\n",
    ">>> import numpy as np\n",
    "\n",
    ">>> A = np.array([1, 2, 3, 4, 5, 4, 3, 2, 1])\n",
    ">>> print((A > 1) and (A <= 3))\n",
    "ValueError: The truth value of an array with more than one element is ambiguous. Use a.any() or a.all()\n",
    "and는 Python의 예약어입니다. and의 피연산자에는 numpy.ndarray가 아닌 bool 타입의 값이 와야 됩니다. 그러나 위 코드에서는 numpy.ndarray 타입의 값이 and의 피연산자입니다. 따라서 Numpy에서는 위와 같이 any() 또는 all()메소드를 사용하여 bool 값으로 변경하라고 에러가 발생한 것입니다(any(), all() 메소드는 [Numpy 심화] - any, all를 참고하세요). 즉, 배열에 관한 여러 조건식을 결합할 때는 and, or가 아닌 &, |를 사용해야 합니다.\n",
    "'''"
   ]
  },
  {
   "cell_type": "markdown",
   "id": "2721f796",
   "metadata": {},
   "source": [
    "#### Numpy 배열 만들기"
   ]
  },
  {
   "cell_type": "code",
   "execution_count": 716,
   "id": "a248dfad",
   "metadata": {},
   "outputs": [
    {
     "name": "stdout",
     "output_type": "stream",
     "text": [
      "[1, 2, 3, 4, 5] <class 'list'>\n"
     ]
    }
   ],
   "source": [
    "import numpy as np\n",
    "\n",
    "arr = [1, 2, 3, 4, 5]\n",
    "print(arr, type(arr))"
   ]
  },
  {
   "cell_type": "code",
   "execution_count": 717,
   "id": "e9ced4d2",
   "metadata": {},
   "outputs": [
    {
     "name": "stdout",
     "output_type": "stream",
     "text": [
      "[1 2 3 4 5] <class 'numpy.ndarray'>\n"
     ]
    }
   ],
   "source": [
    "np_arr = np.array(arr)\n",
    "print(np_arr, type(np_arr))"
   ]
  },
  {
   "cell_type": "code",
   "execution_count": 719,
   "id": "9c1c8e27",
   "metadata": {},
   "outputs": [
    {
     "name": "stdout",
     "output_type": "stream",
     "text": [
      "[1 2 3 4 5]\n",
      "<class 'numpy.ndarray'>\n"
     ]
    }
   ],
   "source": [
    "import numpy as np\n",
    "\n",
    "A = [1, 2, 3, 4, 5]\n",
    "# A를 np.array()를 이용하여 numpy.ndarray 타입의 배열로 만들어 봅시다.\n",
    "\n",
    "np_A = np.array(A)\n",
    "print(np_A)\n",
    "print(type(np_A))"
   ]
  },
  {
   "cell_type": "code",
   "execution_count": null,
   "id": "f432f822",
   "metadata": {},
   "outputs": [],
   "source": []
  }
 ],
 "metadata": {
  "kernelspec": {
   "display_name": "Python 3",
   "language": "python",
   "name": "python3"
  },
  "language_info": {
   "codemirror_mode": {
    "name": "ipython",
    "version": 3
   },
   "file_extension": ".py",
   "mimetype": "text/x-python",
   "name": "python",
   "nbconvert_exporter": "python",
   "pygments_lexer": "ipython3",
   "version": "3.8.8"
  }
 },
 "nbformat": 4,
 "nbformat_minor": 5
}
