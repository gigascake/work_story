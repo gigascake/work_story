{
 "cells": [
  {
   "cell_type": "code",
   "execution_count": 1,
   "id": "fed2378b",
   "metadata": {},
   "outputs": [],
   "source": [
    "## 선행스킬\n",
    "#### sikll : 선행스킬순서\n",
    "#### skill_trees : 유저들이 만든 스킬트리를 담은 배열\n",
    "#### result : 가능한 스킬트리 개수\n",
    "\n",
    "#### [제한 조건]\n",
    "#### 스킬은 알파벳 대분자로 표기\n",
    "#### 스킬순서와, 스킬트리는 문자열\n",
    "#### skill의 길이는 1이상 26이하, 중복없음\n",
    "#### skill_trees 의 길이는 1이상 20이하인 배열\n",
    "#### skill_trees의 원소는 2이상 26이하인 문자열, 스킬 중복없음"
   ]
  },
  {
   "cell_type": "code",
   "execution_count": null,
   "id": "1a79b6b2",
   "metadata": {},
   "outputs": [],
   "source": [
    "#### 풀이법 정리\n",
    "#### skill[0]은 항상 수행되어야한다. 선행스킬이기 때문이다.\n",
    "#### 따라서 skill[0]\n",
    "####  pass_check_dict 에 각항목의 검사결과를 넣는다 키는 skill_trees의 각값의 값\n",
    "#### CBD\n",
    "#### \"BACDE\" 이면 {\"B\": False, \"A\", }\n",
    "#### \"CBADF\" 이면, {\"C\": True, \"B\": True, \"A\":False, \"D\":True}\n",
    "#### \"AECB\"  이면, {\"A\":False, \"E\":False, \"C\":True, \"B\":True} D를 체크하지 않아도 최종것이 True면 트루다.\n",
    "#### 최종것만 체크하려면 리스트여야한다?\n",
    "#### 후위 체크를 안하려면 선행조건이란 것을 체크해야한다.\n",
    "#### 그럴려면, skill이 리스트가 되어야하고,\n",
    "#### skill_trees는 리스트가 되어야한다?\n"
   ]
  },
  {
   "cell_type": "code",
   "execution_count": 5,
   "id": "ce423e74",
   "metadata": {},
   "outputs": [
    {
     "ename": "NameError",
     "evalue": "name 'i' is not defined",
     "output_type": "error",
     "traceback": [
      "\u001b[0;31m---------------------------------------------------------------------------\u001b[0m",
      "\u001b[0;31mNameError\u001b[0m                                 Traceback (most recent call last)",
      "\u001b[0;32m<ipython-input-5-e20369017f6a>\u001b[0m in \u001b[0;36m<module>\u001b[0;34m\u001b[0m\n\u001b[0;32m----> 1\u001b[0;31m \u001b[0mskill_dict\u001b[0m \u001b[0;34m=\u001b[0m \u001b[0;34m{\u001b[0m\u001b[0mi\u001b[0m\u001b[0;34m:\u001b[0m\u001b[0mitem\u001b[0m \u001b[0;32mfor\u001b[0m \u001b[0mitem\u001b[0m \u001b[0;32min\u001b[0m \u001b[0;34m\"BACDE\"\u001b[0m\u001b[0;34m}\u001b[0m\u001b[0;34m\u001b[0m\u001b[0;34m\u001b[0m\u001b[0m\n\u001b[0m",
      "\u001b[0;32m<ipython-input-5-e20369017f6a>\u001b[0m in \u001b[0;36m<dictcomp>\u001b[0;34m(.0)\u001b[0m\n\u001b[0;32m----> 1\u001b[0;31m \u001b[0mskill_dict\u001b[0m \u001b[0;34m=\u001b[0m \u001b[0;34m{\u001b[0m\u001b[0mi\u001b[0m\u001b[0;34m:\u001b[0m\u001b[0mitem\u001b[0m \u001b[0;32mfor\u001b[0m \u001b[0mitem\u001b[0m \u001b[0;32min\u001b[0m \u001b[0;34m\"BACDE\"\u001b[0m\u001b[0;34m}\u001b[0m\u001b[0;34m\u001b[0m\u001b[0;34m\u001b[0m\u001b[0m\n\u001b[0m",
      "\u001b[0;31mNameError\u001b[0m: name 'i' is not defined"
     ]
    }
   ],
   "source": [
    "skill_dict = {i:item for item in \"BACDE\"}"
   ]
  },
  {
   "cell_type": "code",
   "execution_count": null,
   "id": "dec1b6ad",
   "metadata": {},
   "outputs": [],
   "source": [
    "### skll 항목을 제외한 문자를 제거한다.\n",
    "### skil 항목과 비교하여 선행하여 스킬문자가 있으면 pass_check += 1 증가시킨다.\n",
    "### pass_check가 1보다 크면 answer의 값을 1증가시킨다."
   ]
  },
  {
   "cell_type": "code",
   "execution_count": 59,
   "id": "505defa9",
   "metadata": {},
   "outputs": [],
   "source": [
    "skill = \"CBD\"\n",
    "skill_trees = [\"BACDE\", \"CBADF\", \"AECB\", \"BDA\"]\n",
    "#skill_trees = [\"CBADF\"]\n",
    "result = 2"
   ]
  },
  {
   "cell_type": "code",
   "execution_count": 62,
   "id": "ef608301",
   "metadata": {},
   "outputs": [],
   "source": [
    "def solution(skill, skill_trees):\n",
    "    answer = 0\n",
    "    skill_temp = ''\n",
    "    for tree_item in skill_trees:        \n",
    "        tree_item_list = list(tree_item)\n",
    "        for skill_item in skill:\n",
    "            ## 공백처리한다.\n",
    "            tree_item_list.pop(0)\n",
    "        print(tree_item_list)    \n",
    "        \n",
    "            \n",
    "\n",
    "        \n",
    "        \n",
    "        \n",
    "        \n",
    "    \n",
    "#     #유저들이 만든 스킬트리 목록\n",
    "#     for item in skill_trees:\n",
    "        \n",
    "#         pass_check = 0\n",
    "        \n",
    "        \n",
    "#         #선행스킬트리의 루프\n",
    "#         for skill_item in skill:\n",
    "#             #print(skill_item)\n",
    "#             #유저들이 만든 스킬트리 검사.\n",
    "#             for sub_item in item:\n",
    "#                 if sub_item == skill_item:\n",
    "#                     pass_check += 1\n",
    "#                 #else:\n",
    "#                 #    pass_check -= 1\n",
    "            \n",
    "#             print(pass_check)\n",
    "            \n",
    "#         if pass_check > 0:\n",
    "#             answer += 1\n",
    "            \n",
    "        \n",
    "    return answer"
   ]
  },
  {
   "cell_type": "code",
   "execution_count": 66,
   "id": "191390eb",
   "metadata": {},
   "outputs": [],
   "source": [
    "def solution(skill, skill_trees):\n",
    "    answer = 0\n",
    "\n",
    "    for tree_item in skill_trees:\n",
    "        tree_item_list = list(skill)\n",
    "\n",
    "        for t_item in tree_item:\n",
    "            if t_item in skill:\n",
    "                if t_item != tree_item_list.pop(0)\n",
    "                    break\n",
    "        else:\n",
    "            answer += 1\n",
    "\n",
    "    return answer"
   ]
  },
  {
   "cell_type": "code",
   "execution_count": 67,
   "id": "10dd7211",
   "metadata": {},
   "outputs": [
    {
     "data": {
      "text/plain": [
       "2"
      ]
     },
     "execution_count": 67,
     "metadata": {},
     "output_type": "execute_result"
    }
   ],
   "source": [
    "solution(skill, skill_trees)"
   ]
  },
  {
   "cell_type": "code",
   "execution_count": 68,
   "id": "d87d7cd8",
   "metadata": {},
   "outputs": [
    {
     "data": {
      "text/plain": [
       "'\\n문제 설명\\nN개의 마을로 이루어진 나라가 있습니다. 이 나라의 각 마을에는 1부터 N까지의 번호가 각각 하나씩 부여되어 있습니다. 각 마을은 양방향으로 통행할 수 있는 도로로 연결되어 있는데, 서로 다른 마을 간에 이동할 때는 이 도로를 지나야 합니다. 도로를 지날 때 걸리는 시간은 도로별로 다릅니다. 현재 1번 마을에 있는 음식점에서 각 마을로 음식 배달을 하려고 합니다. 각 마을로부터 음식 주문을 받으려고 하는데, N개의 마을 중에서 K 시간 이하로 배달이 가능한 마을에서만 주문을 받으려고 합니다. 다음은 N = 5, K = 3인 경우의 예시입니다.\\n\\n배달_1_uxun8t.png\\n\\n위 그림에서 1번 마을에 있는 음식점은 [1, 2, 4, 5] 번 마을까지는 3 이하의 시간에 배달할 수 있습니다. 그러나 3번 마을까지는 3시간 이내로 배달할 수 있는 경로가 없으므로 3번 마을에서는 주문을 받지 않습니다. 따라서 1번 마을에 있는 음식점이 배달 주문을 받을 수 있는 마을은 4개가 됩니다.\\n마을의 개수 N, 각 마을을 연결하는 도로의 정보 road, 음식 배달이 가능한 시간 K가 매개변수로 주어질 때, 음식 주문을 받을 수 있는 마을의 개수를 return 하도록 solution 함수를 완성해주세요.\\n\\n제한사항\\n마을의 개수 N은 1 이상 50 이하의 자연수입니다.\\nroad의 길이(도로 정보의 개수)는 1 이상 2,000 이하입니다.\\nroad의 각 원소는 마을을 연결하고 있는 각 도로의 정보를 나타냅니다.\\nroad는 길이가 3인 배열이며, 순서대로 (a, b, c)를 나타냅니다.\\na, b(1 ≤ a, b ≤ N, a != b)는 도로가 연결하는 두 마을의 번호이며, c(1 ≤ c ≤ 10,000, c는 자연수)는 도로를 지나는데 걸리는 시간입니다.\\n두 마을 a, b를 연결하는 도로는 여러 개가 있을 수 있습니다.\\n한 도로의 정보가 여러 번 중복해서 주어지지 않습니다.\\nK는 음식 배달이 가능한 시간을 나타내며, 1 이상 500,000 이하입니다.\\n임의의 두 마을간에 항상 이동 가능한 경로가 존재합니다.\\n1번 마을에 있는 음식점이 K 이하의 시간에 배달이 가능한 마을의 개수를 return 하면 됩니다.\\n'"
      ]
     },
     "execution_count": 68,
     "metadata": {},
     "output_type": "execute_result"
    }
   ],
   "source": [
    "'''\n",
    "문제 설명\n",
    "N개의 마을로 이루어진 나라가 있습니다. 이 나라의 각 마을에는 1부터 N까지의 번호가 각각 하나씩 부여되어 있습니다. 각 마을은 양방향으로 통행할 수 있는 도로로 연결되어 있는데, 서로 다른 마을 간에 이동할 때는 이 도로를 지나야 합니다. 도로를 지날 때 걸리는 시간은 도로별로 다릅니다. 현재 1번 마을에 있는 음식점에서 각 마을로 음식 배달을 하려고 합니다. 각 마을로부터 음식 주문을 받으려고 하는데, N개의 마을 중에서 K 시간 이하로 배달이 가능한 마을에서만 주문을 받으려고 합니다. 다음은 N = 5, K = 3인 경우의 예시입니다.\n",
    "\n",
    "배달_1_uxun8t.png\n",
    "\n",
    "위 그림에서 1번 마을에 있는 음식점은 [1, 2, 4, 5] 번 마을까지는 3 이하의 시간에 배달할 수 있습니다. 그러나 3번 마을까지는 3시간 이내로 배달할 수 있는 경로가 없으므로 3번 마을에서는 주문을 받지 않습니다. 따라서 1번 마을에 있는 음식점이 배달 주문을 받을 수 있는 마을은 4개가 됩니다.\n",
    "마을의 개수 N, 각 마을을 연결하는 도로의 정보 road, 음식 배달이 가능한 시간 K가 매개변수로 주어질 때, 음식 주문을 받을 수 있는 마을의 개수를 return 하도록 solution 함수를 완성해주세요.\n",
    "\n",
    "제한사항\n",
    "마을의 개수 N은 1 이상 50 이하의 자연수입니다.\n",
    "road의 길이(도로 정보의 개수)는 1 이상 2,000 이하입니다.\n",
    "road의 각 원소는 마을을 연결하고 있는 각 도로의 정보를 나타냅니다.\n",
    "road는 길이가 3인 배열이며, 순서대로 (a, b, c)를 나타냅니다.\n",
    "a, b(1 ≤ a, b ≤ N, a != b)는 도로가 연결하는 두 마을의 번호이며, c(1 ≤ c ≤ 10,000, c는 자연수)는 도로를 지나는데 걸리는 시간입니다.\n",
    "두 마을 a, b를 연결하는 도로는 여러 개가 있을 수 있습니다.\n",
    "한 도로의 정보가 여러 번 중복해서 주어지지 않습니다.\n",
    "K는 음식 배달이 가능한 시간을 나타내며, 1 이상 500,000 이하입니다.\n",
    "임의의 두 마을간에 항상 이동 가능한 경로가 존재합니다.\n",
    "1번 마을에 있는 음식점이 K 이하의 시간에 배달이 가능한 마을의 개수를 return 하면 됩니다.\n",
    "'''"
   ]
  },
  {
   "cell_type": "code",
   "execution_count": 240,
   "id": "f4339555",
   "metadata": {},
   "outputs": [],
   "source": [
    "def solution(N, road, K):\n",
    "    answer = 0\n",
    "    \n",
    "    dict_house = dict()\n",
    "    dict_key = [i for i in range(1, N+1)]\n",
    "    #print(dict_key)\n",
    "    for item in dict_key:\n",
    "        dict_house[item] = 0\n",
    "        \n",
    "    list_available_house= []\n",
    "    for road_item in road:\n",
    "    #    print('road_item[0] : ', road_item[0])\n",
    "    #    print('road_item[2] : ', road_item[2])\n",
    "        \n",
    "        #f road_item[2] <= K:\n",
    "        #   answer += 1\n",
    "            \n",
    "        #마을에 소요할수 있는 것에 값을 더해준다. 단, K보다 작을때만\n",
    "        if dict_house[road_item[0]] + road_item[2] <= K:\n",
    "            #answer += 1            \n",
    "            dict_house[road_item[0]] += road_item[2]\n",
    "            list_available_house.append(road_item[1])\n",
    "            \n",
    "    for item in dict_key:\n",
    "        if dict_house[item] > 0:\n",
    "            answer += 1\n",
    "    print(dict_house)\n",
    "    print(set(list_available_house))\n",
    "\n",
    "    return answer"
   ]
  },
  {
   "cell_type": "code",
   "execution_count": 273,
   "id": "af03563b",
   "metadata": {},
   "outputs": [],
   "source": [
    "def solution(N, road, K):\n",
    "    answer = 0\n",
    "    \n",
    "    dict_house = dict()\n",
    "    dict_key = [i for i in range(1, N+1)]\n",
    "    \n",
    "    for item in dict_key:\n",
    "        dict_house[item] = 0\n",
    "        \n",
    "    list_available_house= []\n",
    "    for road_item in road:\n",
    "        #마을에 소요할수 있는 것에 값을 더해준다. 단, K보다 작을때만\n",
    "        if dict_house[road_item[0]] + road_item[2] <= K:\n",
    "            dict_house[road_item[0]] += road_item[2]\n",
    "            list_available_house.append(road_item[1])\n",
    "            \n",
    "    #for item in dict_key:\n",
    "    #    if dict_house[item] > 0:\n",
    "    #        answer += 1\n",
    "            \n",
    "    #print(dict_house)\n",
    "    #print(list_available_house)\n",
    "    #print(set(list_available_house))\n",
    "    answer = len(list_available_house)-1\n",
    "\n",
    "    return answer"
   ]
  },
  {
   "cell_type": "code",
   "execution_count": 274,
   "id": "c5015d63",
   "metadata": {},
   "outputs": [],
   "source": [
    "##\n",
    "##\n",
    "N = 5\n",
    "road = [[1,2,1],[2,3,3],[5,2,2],[1,4,2],[5,3,1],[5,4,2]]\n",
    "K = 3\n",
    "result = 4"
   ]
  },
  {
   "cell_type": "code",
   "execution_count": 275,
   "id": "261d802b",
   "metadata": {},
   "outputs": [
    {
     "data": {
      "text/plain": [
       "4"
      ]
     },
     "execution_count": 275,
     "metadata": {},
     "output_type": "execute_result"
    }
   ],
   "source": [
    "solution(N, road, K)"
   ]
  },
  {
   "cell_type": "code",
   "execution_count": 276,
   "id": "f4b095e8",
   "metadata": {},
   "outputs": [],
   "source": [
    "N = 6\n",
    "road = [[1,2,1],[1,3,2],[2,3,2],[3,4,3],[3,5,2],[3,5,3],[5,6,1]]\n",
    "K = 4\n",
    "result = 4\n"
   ]
  },
  {
   "cell_type": "code",
   "execution_count": 277,
   "id": "ecfadcec",
   "metadata": {},
   "outputs": [],
   "source": [
    "### 시간은 서브 배열의 3번째 항목이다.\n",
    "### 마을이 N개이면 N을 번호로한 마을이 있다는것 1부터 N까지의 값이므로,\n",
    "### dictionay항목에 N개의 마을을 생성하고,\n",
    "### 1번마을이 음식주문을 받을 수 있는 마을의 개수를 return하는게 정답이므로,\n",
    "### 값을 누적하여 K보다 작을때만 통과시킨다."
   ]
  },
  {
   "cell_type": "code",
   "execution_count": null,
   "id": "39ecc18b",
   "metadata": {},
   "outputs": [],
   "source": []
  },
  {
   "cell_type": "code",
   "execution_count": 278,
   "id": "68fd6201",
   "metadata": {},
   "outputs": [
    {
     "data": {
      "text/plain": [
       "4"
      ]
     },
     "execution_count": 278,
     "metadata": {},
     "output_type": "execute_result"
    }
   ],
   "source": [
    " solution(N, road, K)"
   ]
  },
  {
   "cell_type": "code",
   "execution_count": 225,
   "id": "0c8cfb2d",
   "metadata": {},
   "outputs": [],
   "source": [
    "N = 5\n",
    "road = [[1,2,1],[2,3,3],[5,2,2],[1,4,2],[5,3,1],[5,4,2]]\n",
    "K = 3\n",
    "result = 4"
   ]
  },
  {
   "cell_type": "code",
   "execution_count": 226,
   "id": "8d31f26e",
   "metadata": {},
   "outputs": [
    {
     "name": "stdout",
     "output_type": "stream",
     "text": [
      "{1: 3, 2: 3, 3: 0, 4: 0, 5: 3}\n",
      "{2, 3, 4}\n"
     ]
    },
    {
     "data": {
      "text/plain": [
       "3"
      ]
     },
     "execution_count": 226,
     "metadata": {},
     "output_type": "execute_result"
    }
   ],
   "source": [
    " solution(N, road, K)"
   ]
  },
  {
   "cell_type": "code",
   "execution_count": null,
   "id": "4ba218c1",
   "metadata": {},
   "outputs": [],
   "source": []
  }
 ],
 "metadata": {
  "kernelspec": {
   "display_name": "Python 3",
   "language": "python",
   "name": "python3"
  },
  "language_info": {
   "codemirror_mode": {
    "name": "ipython",
    "version": 3
   },
   "file_extension": ".py",
   "mimetype": "text/x-python",
   "name": "python",
   "nbconvert_exporter": "python",
   "pygments_lexer": "ipython3",
   "version": "3.8.8"
  }
 },
 "nbformat": 4,
 "nbformat_minor": 5
}
