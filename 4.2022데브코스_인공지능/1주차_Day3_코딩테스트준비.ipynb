{
 "cells": [
  {
   "cell_type": "code",
   "execution_count": 1,
   "id": "d8619a1e",
   "metadata": {},
   "outputs": [
    {
     "data": {
      "text/plain": [
       "'\\n주하지 못한 선수\\n문제 설명\\n수많은 마라톤 선수들이 마라톤에 참여하였습니다. 단 한 명의 선수를 제외하고는 모든 선수가 마라톤을 완주하였습니다.\\n\\n마라톤에 참여한 선수들의 이름이 담긴 배열 participant와 완주한 선수들의 이름이 담긴 배열 completion이 주어질 때, 완주하지 못한 선수의 이름을 return 하도록 solution 함수를 작성해주세요.\\n\\n제한사항\\n마라톤 경기에 참여한 선수의 수는 1명 이상 100,000명 이하입니다.\\ncompletion의 길이는 participant의 길이보다 1 작습니다.\\n참가자의 이름은 1개 이상 20개 이하의 알파벳 소문자로 이루어져 있습니다.\\n참가자 중에는 동명이인이 있을 수 있습니다.\\n입출력 예\\nparticipant\\tcompletion\\treturn\\n[\"leo\", \"kiki\", \"eden\"]\\t[\"eden\", \"kiki\"]\\t\"leo\"\\n[\"marina\", \"josipa\", \"nikola\", \"vinko\", \"filipa\"]\\t[\"josipa\", \"filipa\", \"marina\", \"nikola\"]\\t\"vinko\"\\n[\"mislav\", \"stanko\", \"mislav\", \"ana\"]\\t[\"stanko\", \"ana\", \"mislav\"]\\t\"mislav\"\\n입출력 예 설명\\n예제 #1\\n\"leo\"는 참여자 명단에는 있지만, 완주자 명단에는 없기 때문에 완주하지 못했습니다.\\n\\n예제 #2\\n\"vinko\"는 참여자 명단에는 있지만, 완주자 명단에는 없기 때문에 완주하지 못했습니다.\\n\\n예제 #3\\n\"mislav\"는 참여자 명단에는 두 명이 있지만, 완주자 명단에는 한 명밖에 없기 때문에 한명은 완주하지 못했습니다.\\n'"
      ]
     },
     "execution_count": 1,
     "metadata": {},
     "output_type": "execute_result"
    }
   ],
   "source": [
    "'''\n",
    "주하지 못한 선수\n",
    "문제 설명\n",
    "수많은 마라톤 선수들이 마라톤에 참여하였습니다. 단 한 명의 선수를 제외하고는 모든 선수가 마라톤을 완주하였습니다.\n",
    "\n",
    "마라톤에 참여한 선수들의 이름이 담긴 배열 participant와 완주한 선수들의 이름이 담긴 배열 completion이 주어질 때, 완주하지 못한 선수의 이름을 return 하도록 solution 함수를 작성해주세요.\n",
    "\n",
    "제한사항\n",
    "마라톤 경기에 참여한 선수의 수는 1명 이상 100,000명 이하입니다.\n",
    "completion의 길이는 participant의 길이보다 1 작습니다.\n",
    "참가자의 이름은 1개 이상 20개 이하의 알파벳 소문자로 이루어져 있습니다.\n",
    "참가자 중에는 동명이인이 있을 수 있습니다.\n",
    "입출력 예\n",
    "participant\tcompletion\treturn\n",
    "[\"leo\", \"kiki\", \"eden\"]\t[\"eden\", \"kiki\"]\t\"leo\"\n",
    "[\"marina\", \"josipa\", \"nikola\", \"vinko\", \"filipa\"]\t[\"josipa\", \"filipa\", \"marina\", \"nikola\"]\t\"vinko\"\n",
    "[\"mislav\", \"stanko\", \"mislav\", \"ana\"]\t[\"stanko\", \"ana\", \"mislav\"]\t\"mislav\"\n",
    "입출력 예 설명\n",
    "예제 #1\n",
    "\"leo\"는 참여자 명단에는 있지만, 완주자 명단에는 없기 때문에 완주하지 못했습니다.\n",
    "\n",
    "예제 #2\n",
    "\"vinko\"는 참여자 명단에는 있지만, 완주자 명단에는 없기 때문에 완주하지 못했습니다.\n",
    "\n",
    "예제 #3\n",
    "\"mislav\"는 참여자 명단에는 두 명이 있지만, 완주자 명단에는 한 명밖에 없기 때문에 한명은 완주하지 못했습니다.\n",
    "'''"
   ]
  },
  {
   "cell_type": "code",
   "execution_count": 24,
   "id": "fa81b937",
   "metadata": {},
   "outputs": [],
   "source": [
    "participant = [\"leo\", \"kiki\", \"eden\"]\n",
    "completion = [\"eden\", \"kiki\"]\n",
    "result = \"leo\""
   ]
  },
  {
   "cell_type": "code",
   "execution_count": 29,
   "id": "783dff4e",
   "metadata": {},
   "outputs": [],
   "source": [
    "def solution(participant, completion):\n",
    "    answer = ''    \n",
    "    dict_participant = {}\n",
    "    dict_participant = dict.fromkeys(participant, 0)\n",
    "    for part_item in participant:\n",
    "        dict_participant[part_item] += 1\n",
    "\n",
    "    for complete_item in completion:\n",
    "        dict_participant[complete_item] -= 1\n",
    "    \n",
    "    for part_item in participant:\n",
    "        if dict_participant[part_item] > 0:\n",
    "            answer = part_item\n",
    "    \n",
    "    #print(dict_participant)\n",
    "    return answer"
   ]
  },
  {
   "cell_type": "code",
   "execution_count": 30,
   "id": "bdf4ed4a",
   "metadata": {},
   "outputs": [
    {
     "name": "stdout",
     "output_type": "stream",
     "text": [
      "{'leo': 1, 'kiki': 0, 'eden': 0}\n"
     ]
    },
    {
     "data": {
      "text/plain": [
       "'leo'"
      ]
     },
     "execution_count": 30,
     "metadata": {},
     "output_type": "execute_result"
    }
   ],
   "source": [
    "solution(participant, completion)"
   ]
  },
  {
   "cell_type": "code",
   "execution_count": 31,
   "id": "58e43fa6",
   "metadata": {},
   "outputs": [],
   "source": [
    "## Step 2-3: 체육복"
   ]
  },
  {
   "cell_type": "code",
   "execution_count": 32,
   "id": "a26da68d",
   "metadata": {},
   "outputs": [
    {
     "data": {
      "text/plain": [
       "'\\n체육복\\n문제 설명\\n점심시간에 도둑이 들어, 일부 학생이 체육복을 도난당했습니다. 다행히 여벌 체육복이 있는 학생이 이들에게 체육복을 빌려주려 합니다. 학생들의 번호는 체격 순으로 매겨져 있어, 바로 앞번호의 학생이나 바로 뒷번호의 학생에게만 체육복을 빌려줄 수 있습니다. 예를 들어, 4번 학생은 3번 학생이나 5번 학생에게만 체육복을 빌려줄 수 있습니다. 체육복이 없으면 수업을 들을 수 없기 때문에 체육복을 적절히 빌려 최대한 많은 학생이 체육수업을 들어야 합니다.\\n\\n전체 학생의 수 n, 체육복을 도난당한 학생들의 번호가 담긴 배열 lost, 여벌의 체육복을 가져온 학생들의 번호가 담긴 배열 reserve가 매개변수로 주어질 때, 체육수업을 들을 수 있는 학생의 최댓값을 return 하도록 solution 함수를 작성해주세요.\\n\\n제한사항\\n전체 학생의 수는 2명 이상 30명 이하입니다.\\n체육복을 도난당한 학생의 수는 1명 이상 n명 이하이고 중복되는 번호는 없습니다.\\n여벌의 체육복을 가져온 학생의 수는 1명 이상 n명 이하이고 중복되는 번호는 없습니다.\\n여벌 체육복이 있는 학생만 다른 학생에게 체육복을 빌려줄 수 있습니다.\\n여벌 체육복을 가져온 학생이 체육복을 도난당했을 수 있습니다. 이때 이 학생은 체육복을 하나만 도난당했다고 가정하며, 남은 체육복이 하나이기에 다른 학생에게는 체육복을 빌려줄 수 없습니다.\\n입출력 예\\nn\\tlost\\treserve\\treturn\\n5\\t[2, 4]\\t[1, 3, 5]\\t5\\n5\\t[2, 4]\\t[3]\\t4\\n3\\t[3]\\t[1]\\t2\\n입출력 예 설명\\n예제 #1\\n1번 학생이 2번 학생에게 체육복을 빌려주고, 3번 학생이나 5번 학생이 4번 학생에게 체육복을 빌려주면 학생 5명이 체육수업을 들을 수 있습니다.\\n\\n예제 #2\\n3번 학생이 2번 학생이나 4번 학생에게 체육복을 빌려주면 학생 4명이 체육수업을 들을 수 있습니다.\\n\\n출처\\n\\n※ 공지 - 2019년 2월 18일 지문이 리뉴얼되었습니다.\\n※ 공지 - 2019년 2월 27일, 28일 테스트케이스가 추가되었습니다.\\n'"
      ]
     },
     "execution_count": 32,
     "metadata": {},
     "output_type": "execute_result"
    }
   ],
   "source": [
    "'''\n",
    "체육복\n",
    "문제 설명\n",
    "점심시간에 도둑이 들어, 일부 학생이 체육복을 도난당했습니다. 다행히 여벌 체육복이 있는 학생이 이들에게 체육복을 빌려주려 합니다. 학생들의 번호는 체격 순으로 매겨져 있어, 바로 앞번호의 학생이나 바로 뒷번호의 학생에게만 체육복을 빌려줄 수 있습니다. 예를 들어, 4번 학생은 3번 학생이나 5번 학생에게만 체육복을 빌려줄 수 있습니다. 체육복이 없으면 수업을 들을 수 없기 때문에 체육복을 적절히 빌려 최대한 많은 학생이 체육수업을 들어야 합니다.\n",
    "\n",
    "전체 학생의 수 n, 체육복을 도난당한 학생들의 번호가 담긴 배열 lost, 여벌의 체육복을 가져온 학생들의 번호가 담긴 배열 reserve가 매개변수로 주어질 때, 체육수업을 들을 수 있는 학생의 최댓값을 return 하도록 solution 함수를 작성해주세요.\n",
    "\n",
    "제한사항\n",
    "전체 학생의 수는 2명 이상 30명 이하입니다.\n",
    "체육복을 도난당한 학생의 수는 1명 이상 n명 이하이고 중복되는 번호는 없습니다.\n",
    "여벌의 체육복을 가져온 학생의 수는 1명 이상 n명 이하이고 중복되는 번호는 없습니다.\n",
    "여벌 체육복이 있는 학생만 다른 학생에게 체육복을 빌려줄 수 있습니다.\n",
    "여벌 체육복을 가져온 학생이 체육복을 도난당했을 수 있습니다. 이때 이 학생은 체육복을 하나만 도난당했다고 가정하며, 남은 체육복이 하나이기에 다른 학생에게는 체육복을 빌려줄 수 없습니다.\n",
    "입출력 예\n",
    "n\tlost\treserve\treturn\n",
    "5\t[2, 4]\t[1, 3, 5]\t5\n",
    "5\t[2, 4]\t[3]\t4\n",
    "3\t[3]\t[1]\t2\n",
    "입출력 예 설명\n",
    "예제 #1\n",
    "1번 학생이 2번 학생에게 체육복을 빌려주고, 3번 학생이나 5번 학생이 4번 학생에게 체육복을 빌려주면 학생 5명이 체육수업을 들을 수 있습니다.\n",
    "\n",
    "예제 #2\n",
    "3번 학생이 2번 학생이나 4번 학생에게 체육복을 빌려주면 학생 4명이 체육수업을 들을 수 있습니다.\n",
    "\n",
    "출처\n",
    "\n",
    "※ 공지 - 2019년 2월 18일 지문이 리뉴얼되었습니다.\n",
    "※ 공지 - 2019년 2월 27일, 28일 테스트케이스가 추가되었습니다.\n",
    "'''"
   ]
  },
  {
   "cell_type": "code",
   "execution_count": 145,
   "id": "95d14b7b",
   "metadata": {},
   "outputs": [],
   "source": [
    "n = 5\n",
    "lost = [2, 4]\n",
    "reserve = [1, 3, 5]\n",
    "result = 5\n"
   ]
  },
  {
   "cell_type": "code",
   "execution_count": 146,
   "id": "765e0a73",
   "metadata": {},
   "outputs": [],
   "source": [
    "def solution(n, lost, reserve):\n",
    "    answer = 0\n",
    "    total = [i for i in range(1, n+1)]\n",
    "    s = set(lost) & set(reserve)\n",
    "    l = set(lost) -s\n",
    "    r = set(reserve) - s\n",
    "    \n",
    "    for x in sorted(r):\n",
    "        if x - 1 in l:\n",
    "            l.remove(x - 1)\n",
    "        elif x + 1 in l:\n",
    "            l.remove(x + 1)\n",
    "    return n - len(l)"
   ]
  },
  {
   "cell_type": "code",
   "execution_count": 147,
   "id": "957aec77",
   "metadata": {},
   "outputs": [
    {
     "data": {
      "text/plain": [
       "5"
      ]
     },
     "execution_count": 147,
     "metadata": {},
     "output_type": "execute_result"
    }
   ],
   "source": [
    "solution(n, lost, reserve)"
   ]
  },
  {
   "cell_type": "code",
   "execution_count": 148,
   "id": "ba3f4c8e",
   "metadata": {},
   "outputs": [],
   "source": [
    "n = 5\n",
    "lost = [2, 4]\n",
    "reserve = [3]\n",
    "result = 4"
   ]
  },
  {
   "cell_type": "code",
   "execution_count": 149,
   "id": "76d4b0d5",
   "metadata": {},
   "outputs": [
    {
     "data": {
      "text/plain": [
       "4"
      ]
     },
     "execution_count": 149,
     "metadata": {},
     "output_type": "execute_result"
    }
   ],
   "source": [
    "solution(n, lost, reserve)"
   ]
  },
  {
   "cell_type": "code",
   "execution_count": 150,
   "id": "4218832a",
   "metadata": {},
   "outputs": [],
   "source": [
    "n = 3\n",
    "lost = [3]\n",
    "reserve = [1]\n",
    "result = 2"
   ]
  },
  {
   "cell_type": "code",
   "execution_count": 151,
   "id": "7df040bc",
   "metadata": {},
   "outputs": [
    {
     "data": {
      "text/plain": [
       "2"
      ]
     },
     "execution_count": 151,
     "metadata": {},
     "output_type": "execute_result"
    }
   ],
   "source": [
    "solution(n, lost, reserve)"
   ]
  },
  {
   "cell_type": "code",
   "execution_count": 152,
   "id": "ceaa8505",
   "metadata": {},
   "outputs": [],
   "source": [
    "## 가장 큰수\n"
   ]
  },
  {
   "cell_type": "code",
   "execution_count": 153,
   "id": "abd4f836",
   "metadata": {},
   "outputs": [
    {
     "data": {
      "text/plain": [
       "'\\n가장 큰 수\\n문제 설명\\n0 또는 양의 정수가 주어졌을 때, 정수를 이어 붙여 만들 수 있는 가장 큰 수를 알아내 주세요.\\n\\n예를 들어, 주어진 정수가 [6, 10, 2]라면 [6102, 6210, 1062, 1026, 2610, 2106]를 만들 수 있고, 이중 가장 큰 수는 6210입니다.\\n\\n0 또는 양의 정수가 담긴 배열 numbers가 매개변수로 주어질 때, 순서를 재배치하여 만들 수 있는 가장 큰 수를 문자열로 바꾸어 return 하도록 solution 함수를 작성해주세요.\\n\\n제한 사항\\nnumbers의 길이는 1 이상 100,000 이하입니다.\\nnumbers의 원소는 0 이상 1,000 이하입니다.\\n정답이 너무 클 수 있으니 문자열로 바꾸어 return 합니다.\\n입출력 예\\nnumbers\\treturn\\n[6, 10, 2]\\t\"6210\"\\n[3, 30, 34, 5, 9]\\t\"9534330\"\\n'"
      ]
     },
     "execution_count": 153,
     "metadata": {},
     "output_type": "execute_result"
    }
   ],
   "source": [
    "'''\n",
    "가장 큰 수\n",
    "문제 설명\n",
    "0 또는 양의 정수가 주어졌을 때, 정수를 이어 붙여 만들 수 있는 가장 큰 수를 알아내 주세요.\n",
    "\n",
    "예를 들어, 주어진 정수가 [6, 10, 2]라면 [6102, 6210, 1062, 1026, 2610, 2106]를 만들 수 있고, 이중 가장 큰 수는 6210입니다.\n",
    "\n",
    "0 또는 양의 정수가 담긴 배열 numbers가 매개변수로 주어질 때, 순서를 재배치하여 만들 수 있는 가장 큰 수를 문자열로 바꾸어 return 하도록 solution 함수를 작성해주세요.\n",
    "\n",
    "제한 사항\n",
    "numbers의 길이는 1 이상 100,000 이하입니다.\n",
    "numbers의 원소는 0 이상 1,000 이하입니다.\n",
    "정답이 너무 클 수 있으니 문자열로 바꾸어 return 합니다.\n",
    "입출력 예\n",
    "numbers\treturn\n",
    "[6, 10, 2]\t\"6210\"\n",
    "[3, 30, 34, 5, 9]\t\"9534330\"\n",
    "'''"
   ]
  },
  {
   "cell_type": "code",
   "execution_count": null,
   "id": "7e12752c",
   "metadata": {},
   "outputs": [],
   "source": [
    "## 문제의 해결 방법\n",
    "#### (1) 빈 문자열로 수를 초기화한다.\n",
    "#### (2) 가장 크게 만들 수 있는 수를 고른다.\n",
    "#### 그 수를 현재 수에 이어 붙인다.\n",
    "#### 모든 수를 다 사용할 때까지 반복한다."
   ]
  },
  {
   "cell_type": "code",
   "execution_count": 160,
   "id": "84c620f0",
   "metadata": {},
   "outputs": [],
   "source": [
    "numbers = [6, 10, 2]\n",
    "result = \"6210\""
   ]
  },
  {
   "cell_type": "code",
   "execution_count": 177,
   "id": "c07dcfe6",
   "metadata": {},
   "outputs": [],
   "source": [
    "def solution(numbers):\n",
    "    answer = \"\"\n",
    "    numbers = [str(x) for x in numbers]\n",
    "    numbers.sort(key=lambda x : (x * 4)[:4], reverse=True)\n",
    "    #print(numbers)\n",
    "    if numbers[0] == '0':\n",
    "        answer = '0'\n",
    "    else:\n",
    "        answer= ''.join(numbers)\n",
    "    return answer\n"
   ]
  },
  {
   "cell_type": "code",
   "execution_count": 176,
   "id": "011518bc",
   "metadata": {},
   "outputs": [
    {
     "data": {
      "text/plain": [
       "'6210'"
      ]
     },
     "execution_count": 176,
     "metadata": {},
     "output_type": "execute_result"
    }
   ],
   "source": [
    "solution(numbers)"
   ]
  },
  {
   "cell_type": "code",
   "execution_count": 180,
   "id": "d36cf144",
   "metadata": {},
   "outputs": [],
   "source": [
    "## Step4-1: 탐욕법(Greedy) 대표 문제 풀이 : 큰 수 만들기\n"
   ]
  },
  {
   "cell_type": "code",
   "execution_count": 181,
   "id": "ea7ca1eb",
   "metadata": {},
   "outputs": [
    {
     "data": {
      "text/plain": [
       "'\\n큰 수 만들기\\n문제 설명\\n어떤 숫자에서 k개의 수를 제거했을 때 얻을 수 있는 가장 큰 숫자를 구하려 합니다.\\n\\n예를 들어, 숫자 1924에서 수 두 개를 제거하면 [19, 12, 14, 92, 94, 24] 를 만들 수 있습니다. 이 중 가장 큰 숫자는 94 입니다.\\n\\n문자열 형식으로 숫자 number와 제거할 수의 개수 k가 solution 함수의 매개변수로 주어집니다. number에서 k 개의 수를 제거했을 때 만들 수 있는 수 중 가장 큰 숫자를 문자열 형태로 return 하도록 solution 함수를 완성하세요.\\n\\n제한 조건\\nnumber는 1자리 이상, 1,000,000자리 이하인 숫자입니다.\\nk는 1 이상 number의 자릿수 미만인 자연수입니다.\\n입출력 예\\n'"
      ]
     },
     "execution_count": 181,
     "metadata": {},
     "output_type": "execute_result"
    }
   ],
   "source": [
    "'''\n",
    "큰 수 만들기\n",
    "문제 설명\n",
    "어떤 숫자에서 k개의 수를 제거했을 때 얻을 수 있는 가장 큰 숫자를 구하려 합니다.\n",
    "\n",
    "예를 들어, 숫자 1924에서 수 두 개를 제거하면 [19, 12, 14, 92, 94, 24] 를 만들 수 있습니다. 이 중 가장 큰 숫자는 94 입니다.\n",
    "\n",
    "문자열 형식으로 숫자 number와 제거할 수의 개수 k가 solution 함수의 매개변수로 주어집니다. number에서 k 개의 수를 제거했을 때 만들 수 있는 수 중 가장 큰 숫자를 문자열 형태로 return 하도록 solution 함수를 완성하세요.\n",
    "\n",
    "제한 조건\n",
    "number는 1자리 이상, 1,000,000자리 이하인 숫자입니다.\n",
    "k는 1 이상 number의 자릿수 미만인 자연수입니다.\n",
    "입출력 예\n",
    "'''"
   ]
  },
  {
   "cell_type": "code",
   "execution_count": null,
   "id": "53a0d3fc",
   "metadata": {},
   "outputs": [],
   "source": [
    "## number의 마지막자리수까지 숫자를 생성한다.\n",
    "## K의 자리수를 만족하는 숫자를 list_numbers에 추가한다.\n",
    "## len(number) - k를 만족할때까지 모든 숫자를 완성하여 collected 에 넣고\n",
    "## loop문 탈출조건 ? len(number) - k 범위를 넘을때.\n",
    "## len(number) - k를 만족하는 숫자 중에 가장 큰수를 return한다.\n",
    "## 수를 K개 제거한다 <-- 여기에 현혹되면 안된다.\n",
    "## i loop와 i+1 loop가 조합해서 len(number) - K 자리수만큼의 수를 만드는게 목표이다."
   ]
  },
  {
   "cell_type": "code",
   "execution_count": 189,
   "id": "18b9c7e3",
   "metadata": {},
   "outputs": [],
   "source": [
    "def solution(number, k):\n",
    "    answer = ''\n",
    "    len_number = len(number)-k\n",
    "    \n",
    "    list_numbers = []\n",
    "\n",
    "    for i, item in enumerate(number):\n",
    "        #print(i)\n",
    "        temp_number = item\n",
    "        i += 1\n",
    "        for num_item in number[i:]:\n",
    "            #print(num_item)\n",
    "            #if num_item == number[-1]:\n",
    "            temp_number = temp_number + num_item\n",
    "            print(temp_number)\n",
    "            if len(temp_number) == len_number:                \n",
    "                list_numbers.append(temp_number)\n",
    "    #print(list_numbers)\n",
    "    #print(max(list_numbers))\n",
    "    return answer"
   ]
  },
  {
   "cell_type": "code",
   "execution_count": 170,
   "id": "30ca193e",
   "metadata": {},
   "outputs": [],
   "source": [
    "number = \"1924\"\n",
    "k = 2 \n",
    "result = \"94\"\n"
   ]
  },
  {
   "cell_type": "code",
   "execution_count": 171,
   "id": "678e84a6",
   "metadata": {},
   "outputs": [
    {
     "data": {
      "text/plain": [
       "'19'"
      ]
     },
     "execution_count": 171,
     "metadata": {},
     "output_type": "execute_result"
    }
   ],
   "source": [
    "number[0:2]"
   ]
  },
  {
   "cell_type": "code",
   "execution_count": 172,
   "id": "d0972902",
   "metadata": {},
   "outputs": [
    {
     "data": {
      "text/plain": [
       "'192'"
      ]
     },
     "execution_count": 172,
     "metadata": {},
     "output_type": "execute_result"
    }
   ],
   "source": [
    "number[0:3]"
   ]
  },
  {
   "cell_type": "code",
   "execution_count": 173,
   "id": "1ff8671f",
   "metadata": {},
   "outputs": [
    {
     "data": {
      "text/plain": [
       "'1'"
      ]
     },
     "execution_count": 173,
     "metadata": {},
     "output_type": "execute_result"
    }
   ],
   "source": [
    "number[0:3][0]"
   ]
  },
  {
   "cell_type": "code",
   "execution_count": 174,
   "id": "d6d4b26e",
   "metadata": {},
   "outputs": [
    {
     "data": {
      "text/plain": [
       "'2'"
      ]
     },
     "execution_count": 174,
     "metadata": {},
     "output_type": "execute_result"
    }
   ],
   "source": [
    "number[0:3][-1]"
   ]
  },
  {
   "cell_type": "code",
   "execution_count": null,
   "id": "a4f7b66b",
   "metadata": {},
   "outputs": [],
   "source": []
  },
  {
   "cell_type": "code",
   "execution_count": 175,
   "id": "0b3f2e89",
   "metadata": {},
   "outputs": [
    {
     "name": "stdout",
     "output_type": "stream",
     "text": [
      "0\n",
      "1\n",
      "2\n",
      "3\n"
     ]
    },
    {
     "data": {
      "text/plain": [
       "''"
      ]
     },
     "execution_count": 175,
     "metadata": {},
     "output_type": "execute_result"
    }
   ],
   "source": [
    "solution(number, k)"
   ]
  },
  {
   "cell_type": "code",
   "execution_count": 190,
   "id": "5d8e1ced",
   "metadata": {},
   "outputs": [],
   "source": [
    "number = \"1231234\"\n",
    "k = 3\n",
    "result = \"3234\""
   ]
  },
  {
   "cell_type": "code",
   "execution_count": 191,
   "id": "5398a04a",
   "metadata": {},
   "outputs": [
    {
     "data": {
      "text/plain": [
       "'231234'"
      ]
     },
     "execution_count": 191,
     "metadata": {},
     "output_type": "execute_result"
    }
   ],
   "source": [
    "number[1:]"
   ]
  },
  {
   "cell_type": "code",
   "execution_count": null,
   "id": "f45f9c77",
   "metadata": {},
   "outputs": [],
   "source": [
    "### [12, 13, 11, 12, 13, 14]\n",
    "### [123, 121, 122, 123, 124, 131, 132, 133, 134, 112, 113, 114, 123, 124]\n",
    "### [1231, 1232, 1233,1234]\n",
    "### [23, 21, 22, 23, 24]\n",
    "### [231, 232, 233, 234, 212, 213, 214, 223, 224, 234]\n",
    "### [2312, 2313, 2314, ]\n"
   ]
  },
  {
   "cell_type": "code",
   "execution_count": 192,
   "id": "e79b53f4",
   "metadata": {
    "scrolled": true
   },
   "outputs": [
    {
     "name": "stdout",
     "output_type": "stream",
     "text": [
      "12\n",
      "123\n",
      "1231\n",
      "12312\n",
      "123123\n",
      "1231234\n",
      "23\n",
      "231\n",
      "2312\n",
      "23123\n",
      "231234\n",
      "31\n",
      "312\n",
      "3123\n",
      "31234\n",
      "12\n",
      "123\n",
      "1234\n",
      "23\n",
      "234\n",
      "34\n"
     ]
    },
    {
     "data": {
      "text/plain": [
       "''"
      ]
     },
     "execution_count": 192,
     "metadata": {},
     "output_type": "execute_result"
    }
   ],
   "source": [
    "solution(number, k)"
   ]
  },
  {
   "cell_type": "code",
   "execution_count": 219,
   "id": "c391ddcd",
   "metadata": {},
   "outputs": [],
   "source": [
    "def solution(number, k):\n",
    "    answer = ''\n",
    "    #print(list(number).sort(reverse=True))\n",
    "    #list_number = [str(item) for item in number]\n",
    "    collected = []\n",
    "    #print(list_number)\n",
    "    for i, num in enumerate(number):\n",
    "        print(i)\n",
    "        print(num)\n",
    "        while len(collected) > 0 and collected[-1] < num and k > 0:\n",
    "            collected.pop()\n",
    "            k -= 1\n",
    "            \n",
    "        if k == 0:\n",
    "            collected += list(number[i:])\n",
    "            break\n",
    "        collected.append(num)\n",
    "        \n",
    "    collected = colleckted[:-k] if k > 0 else collected\n",
    "    answer = ''.join(collected)\n",
    "    return answer\n"
   ]
  },
  {
   "cell_type": "code",
   "execution_count": 220,
   "id": "d0c896b2",
   "metadata": {
    "scrolled": true
   },
   "outputs": [
    {
     "name": "stdout",
     "output_type": "stream",
     "text": [
      "0\n",
      "1\n",
      "1\n",
      "9\n",
      "2\n",
      "2\n",
      "3\n",
      "4\n"
     ]
    },
    {
     "data": {
      "text/plain": [
       "'94'"
      ]
     },
     "execution_count": 220,
     "metadata": {},
     "output_type": "execute_result"
    }
   ],
   "source": [
    "solution(number, k)"
   ]
  },
  {
   "cell_type": "code",
   "execution_count": 186,
   "id": "1e50dfa9",
   "metadata": {},
   "outputs": [],
   "source": [
    "number = \"1231234\"\n",
    "k = 3\n",
    "result = \"3234\"\n"
   ]
  },
  {
   "cell_type": "code",
   "execution_count": 221,
   "id": "8dd6f117",
   "metadata": {},
   "outputs": [
    {
     "name": "stdout",
     "output_type": "stream",
     "text": [
      "0\n",
      "1\n",
      "1\n",
      "9\n",
      "2\n",
      "2\n",
      "3\n",
      "4\n"
     ]
    },
    {
     "data": {
      "text/plain": [
       "'94'"
      ]
     },
     "execution_count": 221,
     "metadata": {},
     "output_type": "execute_result"
    }
   ],
   "source": [
    "solution(number, k)"
   ]
  },
  {
   "cell_type": "code",
   "execution_count": 222,
   "id": "b29a58ec",
   "metadata": {},
   "outputs": [],
   "source": [
    "number = \"4177252841\"\n",
    "k = 4\n",
    "result = \"775844\"\n"
   ]
  },
  {
   "cell_type": "code",
   "execution_count": 223,
   "id": "375109af",
   "metadata": {},
   "outputs": [
    {
     "name": "stdout",
     "output_type": "stream",
     "text": [
      "0\n",
      "4\n",
      "1\n",
      "1\n",
      "2\n",
      "7\n",
      "3\n",
      "7\n",
      "4\n",
      "2\n",
      "5\n",
      "5\n",
      "6\n",
      "2\n",
      "7\n",
      "8\n"
     ]
    },
    {
     "data": {
      "text/plain": [
       "'775841'"
      ]
     },
     "execution_count": 223,
     "metadata": {},
     "output_type": "execute_result"
    }
   ],
   "source": [
    "solution(number, k)"
   ]
  },
  {
   "cell_type": "code",
   "execution_count": null,
   "id": "22428352",
   "metadata": {},
   "outputs": [],
   "source": []
  }
 ],
 "metadata": {
  "kernelspec": {
   "display_name": "Python 3",
   "language": "python",
   "name": "python3"
  },
  "language_info": {
   "codemirror_mode": {
    "name": "ipython",
    "version": 3
   },
   "file_extension": ".py",
   "mimetype": "text/x-python",
   "name": "python",
   "nbconvert_exporter": "python",
   "pygments_lexer": "ipython3",
   "version": "3.8.8"
  }
 },
 "nbformat": 4,
 "nbformat_minor": 5
}
