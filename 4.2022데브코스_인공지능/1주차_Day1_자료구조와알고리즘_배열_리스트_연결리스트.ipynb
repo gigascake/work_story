{
 "cells": [
  {
   "cell_type": "markdown",
   "id": "606012be",
   "metadata": {},
   "source": [
    "## 리스트"
   ]
  },
  {
   "cell_type": "code",
   "execution_count": null,
   "id": "53066584",
   "metadata": {},
   "outputs": [],
   "source": [
    "## 입력으로 주어지는 리스트 x 의 첫 원소와 마지막 원소의 합을 리턴하는 함수 solution() 을 완성하세요.\n"
   ]
  },
  {
   "cell_type": "code",
   "execution_count": 19,
   "id": "0d0d6cff",
   "metadata": {},
   "outputs": [],
   "source": [
    "x = [5, 3, 8, 2]\n",
    "return_val = 7"
   ]
  },
  {
   "cell_type": "code",
   "execution_count": 20,
   "id": "4ec5128d",
   "metadata": {},
   "outputs": [],
   "source": [
    "def solution(x):\n",
    "    answer = 0\n",
    "    answer = x[0] + x[-1]\n",
    "    return answer"
   ]
  },
  {
   "cell_type": "code",
   "execution_count": 22,
   "id": "0b5e0024",
   "metadata": {},
   "outputs": [
    {
     "data": {
      "text/plain": [
       "7"
      ]
     },
     "execution_count": 22,
     "metadata": {},
     "output_type": "execute_result"
    }
   ],
   "source": [
    "solution(x)"
   ]
  },
  {
   "cell_type": "code",
   "execution_count": null,
   "id": "6629efb0",
   "metadata": {},
   "outputs": [],
   "source": [
    "'''\n",
    "(02) 정렬된 리스트에 원소 삽입\n",
    "문제 설명\n",
    "리스트 L 과 정수 x 가 인자로 주어질 때, 리스트 내의 올바른 위치에 x 를 삽입하여 그 결과 리스트를 반환하는 함수 solution 을 완성하세요.\n",
    "\n",
    "인자로 주어지는 리스트 L 은 정수 원소들로 이루어져 있으며 크기에 따라 (오름차순으로) 정렬되어 있다고 가정합니다.\n",
    "\n",
    "예를 들어, L = [20, 37, 58, 72, 91] 이고 x = 65 인 경우, 올바른 리턴 값은 [20, 37, 58, 65, 72, 91] 입니다.\n",
    "\n",
    "힌트: 순환문을 이용하여 올바른 위치를 결정하고 insert() 메서드를 이용하여 삽입하는 것이 한 가지 방법입니다.\n",
    "\n",
    "주의: 리스트 내에 존재하는 모든 원소들보다 작거나 모든 원소들보다 큰 정수가 주어지는 경우에 대해서도 올바르게 처리해야 합니다.\n",
    "'''"
   ]
  },
  {
   "cell_type": "code",
   "execution_count": 23,
   "id": "1b80f306",
   "metadata": {},
   "outputs": [],
   "source": [
    "## 테스트케이스 1\n",
    "L = [20, 37, 58, 72, 91]\n",
    "x = 65\n",
    "return_Val = [20, 37, 58, 65, 72, 91]"
   ]
  },
  {
   "cell_type": "code",
   "execution_count": 24,
   "id": "ff055bc2",
   "metadata": {},
   "outputs": [],
   "source": [
    "## 테스트케이스 2\n",
    "L = [20, 37, 58, 72, 91]\n",
    "x = 10\n",
    "return_Val = [10, 20, 37, 58, 72, 91]"
   ]
  },
  {
   "cell_type": "code",
   "execution_count": 25,
   "id": "7d7bfed0",
   "metadata": {},
   "outputs": [],
   "source": [
    "## 테스트케이스 3\n",
    "L = [20, 37, 58, 72, 91]\n",
    "x = 10\n",
    "return_Val = [20, 37, 58, 72, 91, 92]"
   ]
  },
  {
   "cell_type": "code",
   "execution_count": 27,
   "id": "ea6a1c18",
   "metadata": {},
   "outputs": [],
   "source": [
    "def solution(L, x):\n",
    "    answer = []\n",
    "    check = False\n",
    "    for item in L:\n",
    "        if x < item and check == False:\n",
    "            answer.append(x)\n",
    "            answer.append(item)        \n",
    "            check = True\n",
    "        elif len(L)-1 == L.index(item) and x > item and check == False:\n",
    "            answer.append(item)  \n",
    "            answer.append(x)\n",
    "            check = True\n",
    "        else:\n",
    "            answer.append(item)        \n",
    "            \n",
    "    return answer"
   ]
  },
  {
   "cell_type": "code",
   "execution_count": 28,
   "id": "f17f65f3",
   "metadata": {},
   "outputs": [
    {
     "data": {
      "text/plain": [
       "[10, 20, 37, 58, 72, 91]"
      ]
     },
     "execution_count": 28,
     "metadata": {},
     "output_type": "execute_result"
    }
   ],
   "source": [
    "solution(L, x)"
   ]
  },
  {
   "cell_type": "code",
   "execution_count": null,
   "id": "64624c95",
   "metadata": {},
   "outputs": [],
   "source": []
  },
  {
   "cell_type": "code",
   "execution_count": null,
   "id": "7749f82e",
   "metadata": {},
   "outputs": [],
   "source": [
    "'''\n",
    "(02) 리스트에서 원소 찾아내기\n",
    "문제 설명\n",
    "인자로 주어지는 리스트 L 내에서, 또한 인자로 주어지는 원소 x 가 발견되는 모든 인덱스를 구하여 이 인덱스들로 이루어진 리스트를 반환하는 함수 solution 을 완성하세요.\n",
    "\n",
    "리스트 L 은 정수들로 이루어져 있고 그 순서는 임의로 부여되어 있다고 가정하며, 동일한 원소가 반복하여 들어 있을 수 있습니다. 이 안에 정수 x 가 존재하면 그것들을 모두 발견하여 해당 인덱스들을 리스트로 만들어 반환하고, 만약 존재하지 않으면 하나의 원소로 이루어진 리스트 [-1] 를 반환하는 함수를 완성하세요.\n",
    "\n",
    "예를 들어, L = [64, 72, 83, 72, 54] 이고 x = 72 인 경우의 올바른 리턴 값은 [1, 3] 입니다.\n",
    "또 다른 예를 들어, L = [64, 72, 83, 72, 54] 이고 x = 83 인 경우의 올바른 리턴 값은 [2] 입니다.\n",
    "마지막으로 또 다른 예를 들어, L = [64, 72, 83, 72, 54] 이고 x = 49 인 경우의 올바른 리턴 값은 [-1] 입니다.\n",
    "\n",
    "힌트 1: 리스트의 index() 메서드와 리스트 슬라이싱을 활용하는 것이 한 가지 방법이 됩니다. 리스트 슬라이싱은 아래와 같이 동작합니다.\n",
    "\n",
    "L = [6, 2, 8, 7, 3] 인 경우\n",
    "L[1:3] = [2, 8]\n",
    "L[2:] = [8, 7, 3]\n",
    "L[:3] = [6, 2, 8]\n",
    "\n",
    "힌트 2: 리스트의 index() 메서드는, 인자로 주어지는 원소가 리스트 내에 존재하지 않을 때 ValueError 를 일으킵니다. 이것을 try ... except 로 처리해도 되고, \"if x in L\" 과 같은 조건문으로 특정 원소가 리스트 내에 존재하는지를 판단해도 됩니다.\n",
    "'''"
   ]
  },
  {
   "cell_type": "code",
   "execution_count": null,
   "id": "a0ddba28",
   "metadata": {},
   "outputs": [],
   "source": [
    "# 테스트케이스 1\n",
    "L = [64, 72, 83, 72, 54]\n",
    "x = 72\n",
    "return_val = [1, 3]"
   ]
  },
  {
   "cell_type": "code",
   "execution_count": 10,
   "id": "f850a812",
   "metadata": {},
   "outputs": [],
   "source": [
    "def solution(L, x):\n",
    "    answer = []\n",
    "    temp_index = 0\n",
    "    save_index = 0\n",
    "    for item in L:\n",
    "        if item == x:\n",
    "            temp_index = L.index(item)\n",
    "            answer.append(save_index + temp_index)\n",
    "            L = L[temp_index+1:]            \n",
    "            save_index = temp_index+1\n",
    "            \n",
    "    if answer == []:\n",
    "        answer.append(-1)\n",
    "    \n",
    "    return answer"
   ]
  },
  {
   "cell_type": "code",
   "execution_count": 11,
   "id": "0f77d98c",
   "metadata": {},
   "outputs": [
    {
     "name": "stdout",
     "output_type": "stream",
     "text": [
      "0\n",
      "2\n"
     ]
    },
    {
     "data": {
      "text/plain": [
       "[1, 3]"
      ]
     },
     "execution_count": 11,
     "metadata": {},
     "output_type": "execute_result"
    }
   ],
   "source": [
    "solution(L, x)"
   ]
  },
  {
   "cell_type": "code",
   "execution_count": 12,
   "id": "a4197566",
   "metadata": {},
   "outputs": [],
   "source": [
    "# 테스트케이스 2\n",
    "L = [64, 72, 83, 72, 54, 72]\n",
    "x = 72\n",
    "return_val = [1, 3, 5]"
   ]
  },
  {
   "cell_type": "code",
   "execution_count": 17,
   "id": "d774bc83",
   "metadata": {},
   "outputs": [],
   "source": [
    "def solution(L, x):\n",
    "    answer = []\n",
    "    temp_index = 0\n",
    "    save_index = 0\n",
    "    for item in L:\n",
    "        if item == x:\n",
    "            temp_index = L.index(item)\n",
    "            answer.append(save_index + temp_index)\n",
    "            L = L[temp_index+1:]            \n",
    "            save_index = save_index + temp_index+1\n",
    "            print(save_index)\n",
    "            \n",
    "    if answer == []:\n",
    "        answer.append(-1)\n",
    "    \n",
    "    return answer"
   ]
  },
  {
   "cell_type": "code",
   "execution_count": 18,
   "id": "9c6469db",
   "metadata": {},
   "outputs": [
    {
     "name": "stdout",
     "output_type": "stream",
     "text": [
      "2\n",
      "4\n",
      "6\n"
     ]
    },
    {
     "data": {
      "text/plain": [
       "[1, 3, 5]"
      ]
     },
     "execution_count": 18,
     "metadata": {},
     "output_type": "execute_result"
    }
   ],
   "source": [
    "solution(L, x)"
   ]
  },
  {
   "cell_type": "markdown",
   "id": "fa1777b7",
   "metadata": {},
   "source": [
    "## 배열 (sort)과 탐색(search)"
   ]
  },
  {
   "cell_type": "code",
   "execution_count": 30,
   "id": "5399baa8",
   "metadata": {},
   "outputs": [],
   "source": [
    "## sorted() 새로운리스트를 생성하여 정렬함\n",
    "## sort() 기존리스트를 정렬."
   ]
  },
  {
   "cell_type": "code",
   "execution_count": 32,
   "id": "10e3012c",
   "metadata": {},
   "outputs": [
    {
     "data": {
      "text/plain": [
       "[2, 3, 6, 7, 8, 9, 10]"
      ]
     },
     "execution_count": 32,
     "metadata": {},
     "output_type": "execute_result"
    }
   ],
   "source": [
    "L = [3, 8, 2, 7, 6, 10, 9]\n",
    "L2 = sorted(L)\n",
    "L2"
   ]
  },
  {
   "cell_type": "code",
   "execution_count": 34,
   "id": "0c9b27f7",
   "metadata": {},
   "outputs": [
    {
     "data": {
      "text/plain": [
       "[2, 3, 6, 7, 8, 9, 10]"
      ]
     },
     "execution_count": 34,
     "metadata": {},
     "output_type": "execute_result"
    }
   ],
   "source": [
    "L.sort()\n",
    "L"
   ]
  },
  {
   "cell_type": "code",
   "execution_count": 35,
   "id": "a5b62ffc",
   "metadata": {},
   "outputs": [],
   "source": [
    "## reverse=True\n",
    "## 정렬의 순서를 반대로"
   ]
  },
  {
   "cell_type": "code",
   "execution_count": 36,
   "id": "e511c801",
   "metadata": {},
   "outputs": [
    {
     "data": {
      "text/plain": [
       "['xyz', 'abcd', 'spam']"
      ]
     },
     "execution_count": 36,
     "metadata": {},
     "output_type": "execute_result"
    }
   ],
   "source": [
    "L = ['abcd', 'xyz', 'spam']\n",
    "sorted(L, key=lambda x: len(x))"
   ]
  },
  {
   "cell_type": "code",
   "execution_count": 37,
   "id": "137aca9b",
   "metadata": {},
   "outputs": [
    {
     "data": {
      "text/plain": [
       "['xyz', 'spam', 'abcd']"
      ]
     },
     "execution_count": 37,
     "metadata": {},
     "output_type": "execute_result"
    }
   ],
   "source": [
    "L = ['spam', 'xyz', 'abcd']\n",
    "sorted(L, key=lambda x: len(x))"
   ]
  },
  {
   "cell_type": "code",
   "execution_count": 40,
   "id": "5823ce8a",
   "metadata": {},
   "outputs": [
    {
     "data": {
      "text/plain": [
       "[{'name': 'John', 'score': 83}, {'name': 'Paul', 'score': 92}]"
      ]
     },
     "execution_count": 40,
     "metadata": {},
     "output_type": "execute_result"
    }
   ],
   "source": [
    "L = [{'name':'John', 'score':83},\n",
    "     {'name': 'Paul', 'score':92}]\n",
    "L.sort(key=lambda x: x['name'])\n",
    "L"
   ]
  },
  {
   "cell_type": "code",
   "execution_count": 41,
   "id": "bd81a9c6",
   "metadata": {},
   "outputs": [
    {
     "data": {
      "text/plain": [
       "[{'name': 'Paul', 'score': 92}, {'name': 'John', 'score': 83}]"
      ]
     },
     "execution_count": 41,
     "metadata": {},
     "output_type": "execute_result"
    }
   ],
   "source": [
    "L.sort(key=lambda x: x['score'], reverse=True)\n",
    "L"
   ]
  },
  {
   "cell_type": "markdown",
   "id": "714274b1",
   "metadata": {},
   "source": [
    "## 탐색알고리즘(1) - 선형탐색(Linear Search)"
   ]
  },
  {
   "cell_type": "code",
   "execution_count": 43,
   "id": "6a207f33",
   "metadata": {},
   "outputs": [],
   "source": [
    "def linear_search(L, x):\n",
    "    i = 0\n",
    "    while i < len(L) and L[i] != x:\n",
    "        i += 1\n",
    "    if i < len(L):\n",
    "        return i\n",
    "    else:\n",
    "        return -1"
   ]
  },
  {
   "cell_type": "code",
   "execution_count": 44,
   "id": "f2d5101e",
   "metadata": {},
   "outputs": [
    {
     "data": {
      "text/plain": [
       "4"
      ]
     },
     "execution_count": 44,
     "metadata": {},
     "output_type": "execute_result"
    }
   ],
   "source": [
    "S = [3, 8, 2, 7, 6, 10, 9]\n",
    "linear_search(S, 6)"
   ]
  },
  {
   "cell_type": "code",
   "execution_count": 45,
   "id": "aa6df752",
   "metadata": {},
   "outputs": [
    {
     "data": {
      "text/plain": [
       "-1"
      ]
     },
     "execution_count": 45,
     "metadata": {},
     "output_type": "execute_result"
    }
   ],
   "source": [
    "linear_search(S, 1)"
   ]
  },
  {
   "cell_type": "code",
   "execution_count": 46,
   "id": "c245211a",
   "metadata": {},
   "outputs": [
    {
     "data": {
      "text/plain": [
       "4"
      ]
     },
     "execution_count": 46,
     "metadata": {},
     "output_type": "execute_result"
    }
   ],
   "source": [
    "S.index(6)"
   ]
  },
  {
   "cell_type": "code",
   "execution_count": 47,
   "id": "1a2aa8b8",
   "metadata": {},
   "outputs": [
    {
     "ename": "ValueError",
     "evalue": "1 is not in list",
     "output_type": "error",
     "traceback": [
      "\u001b[0;31m---------------------------------------------------------------------------\u001b[0m",
      "\u001b[0;31mValueError\u001b[0m                                Traceback (most recent call last)",
      "\u001b[0;32m<ipython-input-47-58b6e9d2e949>\u001b[0m in \u001b[0;36m<module>\u001b[0;34m\u001b[0m\n\u001b[0;32m----> 1\u001b[0;31m \u001b[0mS\u001b[0m\u001b[0;34m.\u001b[0m\u001b[0mindex\u001b[0m\u001b[0;34m(\u001b[0m\u001b[0;36m1\u001b[0m\u001b[0;34m)\u001b[0m\u001b[0;34m\u001b[0m\u001b[0;34m\u001b[0m\u001b[0m\n\u001b[0m",
      "\u001b[0;31mValueError\u001b[0m: 1 is not in list"
     ]
    }
   ],
   "source": [
    "S.index(1)"
   ]
  },
  {
   "cell_type": "code",
   "execution_count": 48,
   "id": "db21cbd7",
   "metadata": {},
   "outputs": [
    {
     "data": {
      "text/plain": [
       "'\\n(03) 이진탐색\\n문제 설명\\n리스트 L 과, 그 안에서 찾으려 하는 원소 x 가 인자로 주어질 때, x 와 같은 값을 가지는 원소의 인덱스를 리턴하는 함수 solution() 을 완성하세요. 만약 리스트 L 안에 x 와 같은 값을 가지는 원소가 존재하지 않는 경우에는 -1 을 리턴합니다. 리스트 L 은 자연수 원소들로 이루어져 있으며, 크기 순으로 정렬되어 있다고 가정합니다. 또한, 동일한 원소는 두 번 이상 나타나지 않습니다.\\n\\n예를 들어,\\nL = [2, 3, 5, 6, 9, 11, 15]\\nx = 6\\n의 인자들이 주어지면, L[3] == 6 이므로 3 을 리턴해야 합니다.\\n\\n또 다른 예로,\\nL = [2, 5, 7, 9, 11]\\nx = 4\\n로 주어지면, 리스트 L 내에 4 의 원소가 존재하지 않으므로 -1 을 리턴해야 합니다.\\n\\n이 연습문제에서는 알고리즘의 효율성도 평가합니다. 만약 순차 (선형) 탐색 알고리즘을 구현하는 경우에는 제한 시간 요구사항을 만족하지 못하여 효율성 테스트 케이스들을 통과하지 못할 수도 있습니다.\\n\\n참고: (2021년 8월 2일) 아래 질문을 검토하다가 테스트 케이스에 추가되면 좋을 것으로 판단한 경우가 있어서 \"예시 테스트 케이스\" 와 \"정확성 테스트 케이스\" 를 추가하였습니다.\\n'"
      ]
     },
     "execution_count": 48,
     "metadata": {},
     "output_type": "execute_result"
    }
   ],
   "source": [
    "'''\n",
    "(03) 이진탐색\n",
    "문제 설명\n",
    "리스트 L 과, 그 안에서 찾으려 하는 원소 x 가 인자로 주어질 때, x 와 같은 값을 가지는 원소의 인덱스를 리턴하는 함수 solution() 을 완성하세요. 만약 리스트 L 안에 x 와 같은 값을 가지는 원소가 존재하지 않는 경우에는 -1 을 리턴합니다. 리스트 L 은 자연수 원소들로 이루어져 있으며, 크기 순으로 정렬되어 있다고 가정합니다. 또한, 동일한 원소는 두 번 이상 나타나지 않습니다.\n",
    "\n",
    "예를 들어,\n",
    "L = [2, 3, 5, 6, 9, 11, 15]\n",
    "x = 6\n",
    "의 인자들이 주어지면, L[3] == 6 이므로 3 을 리턴해야 합니다.\n",
    "\n",
    "또 다른 예로,\n",
    "L = [2, 5, 7, 9, 11]\n",
    "x = 4\n",
    "로 주어지면, 리스트 L 내에 4 의 원소가 존재하지 않으므로 -1 을 리턴해야 합니다.\n",
    "\n",
    "이 연습문제에서는 알고리즘의 효율성도 평가합니다. 만약 순차 (선형) 탐색 알고리즘을 구현하는 경우에는 제한 시간 요구사항을 만족하지 못하여 효율성 테스트 케이스들을 통과하지 못할 수도 있습니다.\n",
    "\n",
    "참고: (2021년 8월 2일) 아래 질문을 검토하다가 테스트 케이스에 추가되면 좋을 것으로 판단한 경우가 있어서 \"예시 테스트 케이스\" 와 \"정확성 테스트 케이스\" 를 추가하였습니다.\n",
    "'''"
   ]
  },
  {
   "cell_type": "code",
   "execution_count": 60,
   "id": "b90be666",
   "metadata": {},
   "outputs": [],
   "source": [
    "#### 테스트케이스 1\n",
    "L = [2, 3, 5, 6, 9, 11, 15]\n",
    "x = 6\n",
    "return_val = 3"
   ]
  },
  {
   "cell_type": "code",
   "execution_count": 75,
   "id": "7e34deae",
   "metadata": {},
   "outputs": [],
   "source": [
    "def solution(L, x):\n",
    "    answer = 0\n",
    "    #L.sort()\n",
    "    length = len(L)\n",
    "    left = 0\n",
    "    right = length -1\n",
    "\n",
    "    while left <= right:\n",
    "        mid = (left + right) // 2\n",
    "        if L[mid] == x:\n",
    "            answer = mid + 1\n",
    "            break\n",
    "        elif L[mid] > x:\n",
    "            right = mid - 1\n",
    "        else:\n",
    "            left = mid + 1\n",
    "    return answer-1"
   ]
  },
  {
   "cell_type": "code",
   "execution_count": 62,
   "id": "110adec7",
   "metadata": {},
   "outputs": [
    {
     "data": {
      "text/plain": [
       "3"
      ]
     },
     "execution_count": 62,
     "metadata": {},
     "output_type": "execute_result"
    }
   ],
   "source": [
    "solution(L, x)"
   ]
  },
  {
   "cell_type": "code",
   "execution_count": 63,
   "id": "a6eee16f",
   "metadata": {},
   "outputs": [],
   "source": [
    "L = [2, 5, 7, 9, 11]\n",
    "x = 4\n",
    "return_val = -1"
   ]
  },
  {
   "cell_type": "code",
   "execution_count": 64,
   "id": "a75a613e",
   "metadata": {},
   "outputs": [
    {
     "data": {
      "text/plain": [
       "-1"
      ]
     },
     "execution_count": 64,
     "metadata": {},
     "output_type": "execute_result"
    }
   ],
   "source": [
    "solution(L, x)"
   ]
  },
  {
   "cell_type": "code",
   "execution_count": 67,
   "id": "cf3ea1a8",
   "metadata": {},
   "outputs": [],
   "source": [
    "L = [1, 2, 3, 4, 5, 6, 7, 8, 9, 10, 11, 12 ,13, 14, 15, 16, 17, 18, 19, 20]\n",
    "x = 7\n",
    "return_val = 6"
   ]
  },
  {
   "cell_type": "code",
   "execution_count": 69,
   "id": "caab6a46",
   "metadata": {},
   "outputs": [
    {
     "ename": "TypeError",
     "evalue": "slice indices must be integers or None or have an __index__ method",
     "output_type": "error",
     "traceback": [
      "\u001b[0;31m---------------------------------------------------------------------------\u001b[0m",
      "\u001b[0;31mTypeError\u001b[0m                                 Traceback (most recent call last)",
      "\u001b[0;32m<ipython-input-69-c120a5bf1974>\u001b[0m in \u001b[0;36m<module>\u001b[0;34m\u001b[0m\n\u001b[0;32m----> 1\u001b[0;31m \u001b[0msolution\u001b[0m\u001b[0;34m(\u001b[0m\u001b[0mL\u001b[0m\u001b[0;34m,\u001b[0m \u001b[0mx\u001b[0m\u001b[0;34m)\u001b[0m\u001b[0;34m\u001b[0m\u001b[0;34m\u001b[0m\u001b[0m\n\u001b[0m",
      "\u001b[0;32m<ipython-input-68-892b43da7e3c>\u001b[0m in \u001b[0;36msolution\u001b[0;34m(L, x)\u001b[0m\n\u001b[1;32m      6\u001b[0m     \u001b[0mmid\u001b[0m \u001b[0;34m=\u001b[0m \u001b[0mlen\u001b[0m\u001b[0;34m(\u001b[0m\u001b[0mL\u001b[0m\u001b[0;34m)\u001b[0m\u001b[0;34m/\u001b[0m\u001b[0;36m2\u001b[0m\u001b[0;34m\u001b[0m\u001b[0;34m\u001b[0m\u001b[0m\n\u001b[1;32m      7\u001b[0m     \u001b[0;32mif\u001b[0m \u001b[0mL\u001b[0m\u001b[0;34m[\u001b[0m\u001b[0;36m0\u001b[0m\u001b[0;34m]\u001b[0m \u001b[0;34m<\u001b[0m \u001b[0mx\u001b[0m \u001b[0;32mand\u001b[0m \u001b[0mL\u001b[0m\u001b[0;34m[\u001b[0m\u001b[0;34m-\u001b[0m\u001b[0;36m1\u001b[0m\u001b[0;34m]\u001b[0m \u001b[0;34m>\u001b[0m \u001b[0mx\u001b[0m\u001b[0;34m:\u001b[0m\u001b[0;34m\u001b[0m\u001b[0;34m\u001b[0m\u001b[0m\n\u001b[0;32m----> 8\u001b[0;31m         \u001b[0mL\u001b[0m \u001b[0;34m=\u001b[0m \u001b[0mL\u001b[0m\u001b[0;34m[\u001b[0m\u001b[0mmid\u001b[0m\u001b[0;34m:\u001b[0m\u001b[0;34m]\u001b[0m\u001b[0;34m\u001b[0m\u001b[0;34m\u001b[0m\u001b[0m\n\u001b[0m\u001b[1;32m      9\u001b[0m         \u001b[0manswer\u001b[0m \u001b[0;34m=\u001b[0m \u001b[0mmid\u001b[0m\u001b[0;34m\u001b[0m\u001b[0;34m\u001b[0m\u001b[0m\n\u001b[1;32m     10\u001b[0m         \u001b[0mcheck_AB\u001b[0m \u001b[0;34m=\u001b[0m \u001b[0;34m'B'\u001b[0m\u001b[0;34m\u001b[0m\u001b[0;34m\u001b[0m\u001b[0m\n",
      "\u001b[0;31mTypeError\u001b[0m: slice indices must be integers or None or have an __index__ method"
     ]
    }
   ],
   "source": [
    "solution(L, x)"
   ]
  },
  {
   "cell_type": "code",
   "execution_count": 76,
   "id": "3d9e8693",
   "metadata": {},
   "outputs": [],
   "source": [
    "x = 25\n",
    "L  = [30, 94, 27, 92, 21, 37, 25, 47, 25, 53, 98, 19, 32, 32, 7]\n",
    "\n",
    "\n"
   ]
  },
  {
   "cell_type": "code",
   "execution_count": 77,
   "id": "422b1c91",
   "metadata": {},
   "outputs": [
    {
     "data": {
      "text/plain": [
       "0"
      ]
     },
     "execution_count": 77,
     "metadata": {},
     "output_type": "execute_result"
    }
   ],
   "source": [
    "solution(L, x)"
   ]
  },
  {
   "cell_type": "code",
   "execution_count": 78,
   "id": "ee899271",
   "metadata": {},
   "outputs": [],
   "source": [
    "L = [1, 2, 3, 4, 5, 6, 7, 8, 9, 10, 11, 12 ,13, 14, 15, 16, 17, 18, 19, 20]\n",
    "x = 7\n",
    "return_val = 6"
   ]
  },
  {
   "cell_type": "code",
   "execution_count": 79,
   "id": "d74ed9cf",
   "metadata": {},
   "outputs": [
    {
     "data": {
      "text/plain": [
       "7"
      ]
     },
     "execution_count": 79,
     "metadata": {},
     "output_type": "execute_result"
    }
   ],
   "source": [
    "solution(L, x)"
   ]
  },
  {
   "cell_type": "code",
   "execution_count": 80,
   "id": "2f68f888",
   "metadata": {},
   "outputs": [
    {
     "data": {
      "text/plain": [
       "'\\n(04) 피보나치 순열\\n문제 설명\\n인자로 0 또는 양의 정수인 x 가 주어질 때, Fibonacci 순열의 해당 값을 구하여 반환하는 함수 solution() 을 완성하세요.\\n\\nFibonacci 순열은 아래와 같이 정의됩니다.\\nF0 = 0\\nF1 = 1\\nFn = Fn - 1 + Fn - 2, n >= 2\\n\\n재귀함수 작성 연습을 의도한 것이므로, 재귀적 방법으로도 프로그래밍해 보고, 반복적 방법으로도 프로그래밍해 보시기 바랍니다.\\n'"
      ]
     },
     "execution_count": 80,
     "metadata": {},
     "output_type": "execute_result"
    }
   ],
   "source": [
    "'''\n",
    "(04) 피보나치 순열\n",
    "문제 설명\n",
    "인자로 0 또는 양의 정수인 x 가 주어질 때, Fibonacci 순열의 해당 값을 구하여 반환하는 함수 solution() 을 완성하세요.\n",
    "\n",
    "Fibonacci 순열은 아래와 같이 정의됩니다.\n",
    "F0 = 0\n",
    "F1 = 1\n",
    "Fn = Fn - 1 + Fn - 2, n >= 2\n",
    "\n",
    "재귀함수 작성 연습을 의도한 것이므로, 재귀적 방법으로도 프로그래밍해 보고, 반복적 방법으로도 프로그래밍해 보시기 바랍니다.\n",
    "'''"
   ]
  },
  {
   "cell_type": "code",
   "execution_count": 81,
   "id": "ac8236b3",
   "metadata": {},
   "outputs": [],
   "source": [
    "x = 0\n",
    "return_val = 0\n"
   ]
  },
  {
   "cell_type": "code",
   "execution_count": 82,
   "id": "bc27f125",
   "metadata": {},
   "outputs": [],
   "source": [
    "x = 6\n",
    "return_val = 8"
   ]
  },
  {
   "cell_type": "code",
   "execution_count": 91,
   "id": "f5d2cf1e",
   "metadata": {},
   "outputs": [],
   "source": [
    "## F0 = 0\n",
    "## F1 = 1\n",
    "## F2 =  1\n",
    "## F3 = F2 + F1 = 2\n",
    "## F4 = F3 + F2 = 3\n",
    "## F5 = F4 + F3 = 5\n",
    "## F6 = F5 + F4 = 8\n",
    "\n",
    "F = [0 for i in range(x)]\n",
    "\n",
    "def solution(x):\n",
    "    answer = 0    \n",
    "    if x==0:\n",
    "        return 0\n",
    "    elif x==1:\n",
    "        return 1\n",
    "    else:\n",
    "        return solution(x-1) + solution(x-2)    \n",
    "\n"
   ]
  },
  {
   "cell_type": "code",
   "execution_count": 96,
   "id": "a03b33b9",
   "metadata": {},
   "outputs": [
    {
     "data": {
      "text/plain": [
       "8"
      ]
     },
     "execution_count": 96,
     "metadata": {},
     "output_type": "execute_result"
    }
   ],
   "source": [
    "x = 6\n",
    "solution(x)"
   ]
  },
  {
   "cell_type": "code",
   "execution_count": null,
   "id": "bcb6a05d",
   "metadata": {},
   "outputs": [],
   "source": [
    "'''\n",
    "(05) 재귀적 이진탐색\n",
    "문제 설명\n",
    "리스트 L 과, 그 안에서 찾으려 하는 원소 x 가 인자로 주어지고, 또한 탐색의 대상이 되는 리스트 내에서의 범위 인덱스가 l 부터 u 까지로 (인자로) 정해질 때, x 와 같은 값을 가지는 원소의 인덱스를 리턴하는 함수 solution() 을 완성하세요. 만약 리스트 L 안에 x 와 같은 값을 가지는 원소가 존재하지 않는 경우에는 -1 을 리턴합니다. 리스트 L 은 자연수 원소들로 이루어져 있으며, 크기 순으로 정렬되어 있다고 가정합니다. 또한, 동일한 원소는 두 번 이상 나타나지 않습니다.\n",
    "\n",
    "인덱스 범위를 나타내는 l 과 u 가 인자로 주어지는 이유는, 이 함수를 재귀적인 방법으로 구현하기 위함입니다. 빈 칸에 알맞은 내용을 채워서 재귀 함수인 solution() 을 완성하세요.\n",
    "\n",
    "예를 들어,\n",
    "L = [2, 3, 5, 6, 9, 11, 15]\n",
    "x = 6\n",
    "l = 0\n",
    "u = 6\n",
    "의 인자들이 주어지면, L[3] == 6 이므로 3 을 리턴해야 합니다.\n",
    "\n",
    "또 다른 예로,\n",
    "L = [2, 5, 7, 9, 11]\n",
    "x = 4\n",
    "l = 0\n",
    "u = 4\n",
    "로 주어지면, 리스트 L 내에 4 의 원소가 존재하지 않으므로 -1 을 리턴해야 합니다.\n",
    "\n",
    "2021년 9월 5일, 아래 질문에 의하여 테스트 케이스의 미비점이 드러났고, 보완하기 위하여 테스트 케이스 하나 (정확성 테스트 케이스 5번) 가 추가되었습니다.\n",
    "'''"
   ]
  },
  {
   "cell_type": "code",
   "execution_count": 137,
   "id": "80633386",
   "metadata": {},
   "outputs": [],
   "source": [
    "def solution(L, x, l, u):\n",
    "    if x not in L:\n",
    "        return -1\n",
    "    mid = (l + u) // 2\n",
    "    if x == L[mid]:\n",
    "        return mid\n",
    "    elif x < L[mid]:\n",
    "        return solution(L, x, l, mid-1)\n",
    "    else:\n",
    "        return solution(L, x, mid+1, u)\n"
   ]
  },
  {
   "cell_type": "code",
   "execution_count": 138,
   "id": "5b4968c3",
   "metadata": {},
   "outputs": [],
   "source": [
    "L = [2, 3, 5, 6, 9, 11, 15]\n",
    "x = 6\n",
    "l = 0\n",
    "u = 6\n"
   ]
  },
  {
   "cell_type": "code",
   "execution_count": 139,
   "id": "51c846b4",
   "metadata": {},
   "outputs": [
    {
     "data": {
      "text/plain": [
       "3"
      ]
     },
     "execution_count": 139,
     "metadata": {},
     "output_type": "execute_result"
    }
   ],
   "source": [
    "solution(L, x, l, u)"
   ]
  },
  {
   "cell_type": "code",
   "execution_count": 140,
   "id": "198cb719",
   "metadata": {},
   "outputs": [],
   "source": [
    "L = [2, 5, 7, 9, 11]\n",
    "x = 4\n",
    "l = 0\n",
    "u = 4"
   ]
  },
  {
   "cell_type": "code",
   "execution_count": 141,
   "id": "1d09a0d3",
   "metadata": {},
   "outputs": [
    {
     "data": {
      "text/plain": [
       "-1"
      ]
     },
     "execution_count": 141,
     "metadata": {},
     "output_type": "execute_result"
    }
   ],
   "source": [
    "solution(L, x, l, u)"
   ]
  },
  {
   "cell_type": "code",
   "execution_count": 142,
   "id": "85c4aa5e",
   "metadata": {},
   "outputs": [],
   "source": [
    "L = [i for i in range(100000)]\n",
    "x = 2000\n",
    "l = 0\n",
    "u = 10000"
   ]
  },
  {
   "cell_type": "code",
   "execution_count": 143,
   "id": "3a6da748",
   "metadata": {},
   "outputs": [
    {
     "data": {
      "text/plain": [
       "2000"
      ]
     },
     "execution_count": 143,
     "metadata": {},
     "output_type": "execute_result"
    }
   ],
   "source": [
    "solution(L, x, l, u)"
   ]
  },
  {
   "cell_type": "code",
   "execution_count": 113,
   "id": "fbb9ec62",
   "metadata": {},
   "outputs": [
    {
     "data": {
      "text/plain": [
       "3.0"
      ]
     },
     "execution_count": 113,
     "metadata": {},
     "output_type": "execute_result"
    }
   ],
   "source": [
    "(0 + 6)/2"
   ]
  },
  {
   "cell_type": "markdown",
   "id": "a3389c3d",
   "metadata": {},
   "source": [
    "#### 테스트결과 : 실패 효율성테스트에서 못넘어갔다."
   ]
  },
  {
   "cell_type": "code",
   "execution_count": null,
   "id": "c315987c",
   "metadata": {},
   "outputs": [],
   "source": [
    "def solution(L, x, l, u):\n",
    "    if l > u:  ## 크리티컬\n",
    "        return -1\n",
    "    mid = (l + u) // 2\n",
    "    if x == L[mid]:\n",
    "        return mid\n",
    "    elif x < L[mid]:\n",
    "        return solution(L, x, l, mid-1)\n",
    "    else:\n",
    "        return solution(L, x, mid+1, u)"
   ]
  },
  {
   "cell_type": "code",
   "execution_count": 144,
   "id": "cd7fddd4",
   "metadata": {},
   "outputs": [
    {
     "data": {
      "text/plain": [
       "'\\n나머지 한 점\\n문제 설명\\n직사각형을 만드는 데 필요한 4개의 점 중 3개의 좌표가 주어질 때, 나머지 한 점의 좌표를 구하려고 합니다. 점 3개의 좌표가 들어있는 배열 v가 매개변수로 주어질 때, 직사각형을 만드는 데 필요한 나머지 한 점의 좌표를 return 하도록 solution 함수를 완성해주세요. 단, 직사각형의 각 변은 x축, y축에 평행하며, 반드시 직사각형을 만들 수 있는 경우만 입력으로 주어집니다.\\n\\n제한사항\\nv는 세 점의 좌표가 들어있는 2차원 배열입니다.\\nv의 각 원소는 점의 좌표를 나타내며, 좌표는 [x축 좌표, y축 좌표] 순으로 주어집니다.\\n좌표값은 1 이상 10억 이하의 자연수입니다.\\n직사각형을 만드는 데 필요한 나머지 한 점의 좌표를 [x축 좌표, y축 좌표] 순으로 담아 return 해주세요.\\n입출력 예\\nv\\tresult\\n[[1, 4], [3, 4], [3, 10]]\\t[1, 10]\\n[[1, 1], [2, 2], [1, 2]]\\t[2, 1]\\n입출력 예 설명\\n입출력 예 #1\\n세 점이 [1, 4], [3, 4], [3, 10] 위치에 있을 때, [1, 10]에 점이 위치하면 직사각형이 됩니다.\\n\\n입출력 예 #2\\n세 점이 [1, 1], [2, 2], [1, 2] 위치에 있을 때, [2, 1]에 점이 위치하면 직사각형이 됩니다.\\n'"
      ]
     },
     "execution_count": 144,
     "metadata": {},
     "output_type": "execute_result"
    }
   ],
   "source": [
    "'''\n",
    "나머지 한 점\n",
    "문제 설명\n",
    "직사각형을 만드는 데 필요한 4개의 점 중 3개의 좌표가 주어질 때, 나머지 한 점의 좌표를 구하려고 합니다. 점 3개의 좌표가 들어있는 배열 v가 매개변수로 주어질 때, 직사각형을 만드는 데 필요한 나머지 한 점의 좌표를 return 하도록 solution 함수를 완성해주세요. 단, 직사각형의 각 변은 x축, y축에 평행하며, 반드시 직사각형을 만들 수 있는 경우만 입력으로 주어집니다.\n",
    "\n",
    "제한사항\n",
    "v는 세 점의 좌표가 들어있는 2차원 배열입니다.\n",
    "v의 각 원소는 점의 좌표를 나타내며, 좌표는 [x축 좌표, y축 좌표] 순으로 주어집니다.\n",
    "좌표값은 1 이상 10억 이하의 자연수입니다.\n",
    "직사각형을 만드는 데 필요한 나머지 한 점의 좌표를 [x축 좌표, y축 좌표] 순으로 담아 return 해주세요.\n",
    "입출력 예\n",
    "v\tresult\n",
    "[[1, 4], [3, 4], [3, 10]]\t[1, 10]\n",
    "[[1, 1], [2, 2], [1, 2]]\t[2, 1]\n",
    "입출력 예 설명\n",
    "입출력 예 #1\n",
    "세 점이 [1, 4], [3, 4], [3, 10] 위치에 있을 때, [1, 10]에 점이 위치하면 직사각형이 됩니다.\n",
    "\n",
    "입출력 예 #2\n",
    "세 점이 [1, 1], [2, 2], [1, 2] 위치에 있을 때, [2, 1]에 점이 위치하면 직사각형이 됩니다.\n",
    "'''"
   ]
  },
  {
   "cell_type": "code",
   "execution_count": 145,
   "id": "1a852197",
   "metadata": {},
   "outputs": [],
   "source": [
    "v = [[1, 4], [3, 4], [3, 10]]\n",
    "result = [1, 10]"
   ]
  },
  {
   "cell_type": "code",
   "execution_count": 147,
   "id": "8007c9bf",
   "metadata": {},
   "outputs": [],
   "source": [
    "def solution(v):\n",
    "    answer = []\n",
    "\n",
    "    answer.append(v[0][0]^v[1][0]^v[2][0]) \n",
    "    answer.append(v[0][1]^v[1][1]^v[2][1])\n",
    "\n",
    "    return answer"
   ]
  },
  {
   "cell_type": "code",
   "execution_count": 148,
   "id": "7075b816",
   "metadata": {},
   "outputs": [
    {
     "data": {
      "text/plain": [
       "'\\n'"
      ]
     },
     "execution_count": 148,
     "metadata": {},
     "output_type": "execute_result"
    }
   ],
   "source": [
    "'''\n",
    "'''"
   ]
  },
  {
   "cell_type": "markdown",
   "id": "8a28e43e",
   "metadata": {},
   "source": [
    "#### 트럭의 허용무게가 300 ==> max_weight\n",
    "#### 실어야할 상품이  [\"toy\", \"snack\", \"snack\"] \n",
    "#### specs\n",
    "#### names"
   ]
  },
  {
   "cell_type": "code",
   "execution_count": 151,
   "id": "e02f8d98",
   "metadata": {},
   "outputs": [],
   "source": [
    "max_weight = 300\n",
    "specs = [[\"toy\",\"70\"], [\"snack\", \"200\"]]\n",
    "names = [\"toy\", \"snack\", \"snack\"]\n",
    "return_val = 2"
   ]
  },
  {
   "cell_type": "code",
   "execution_count": 156,
   "id": "67500395",
   "metadata": {},
   "outputs": [],
   "source": [
    "def solution(max_weight, specs, names):\n",
    "    answer = 0\n",
    "    dic = dict(specs)\n",
    "    print(dic)\n",
    "    now_w = max_weight\n",
    "    answer = 1\n",
    "    for name in names:\n",
    "        val = int(dic[name])\n",
    "        if val <= now_w:\n",
    "            now_w = now_w - val\n",
    "        else:\n",
    "            answer = answer + 1\n",
    "            now_w = max_weight -val\n",
    "    return answer"
   ]
  },
  {
   "cell_type": "code",
   "execution_count": 155,
   "id": "20e2ef5c",
   "metadata": {},
   "outputs": [
    {
     "name": "stdout",
     "output_type": "stream",
     "text": [
      "{'toy': '70', 'snack': '200'}\n",
      "70\n",
      "200\n",
      "200\n"
     ]
    },
    {
     "data": {
      "text/plain": [
       "1"
      ]
     },
     "execution_count": 155,
     "metadata": {},
     "output_type": "execute_result"
    }
   ],
   "source": [
    "solution(max_weight, specs, names)"
   ]
  },
  {
   "cell_type": "code",
   "execution_count": 157,
   "id": "d276426d",
   "metadata": {},
   "outputs": [
    {
     "data": {
      "text/plain": [
       "'\\n카펫\\n문제 설명\\nLeo는 카펫을 사러 갔다가 아래 그림과 같이 중앙에는 빨간색으로 칠해져 있고 가장 끝쪽의 모서리 한 줄은 갈색으로 칠해져 있는 격자 모양 카펫을 봤습니다.\\n\\nimage.png\\n\\nLeo는 집으로 돌아와서 아까 본 카펫의 빨간색과 갈색으로 색칠된 격자의 개수는 기억했지만, 전체 카펫의 크기는 기억하지 못했습니다.\\n\\nLeo가 본 카펫에서 갈색 격자의 수 brown, 빨간색 격자의 수 red가 매개변수로 주어질 때 카펫의 가로, 세로 크기를 순서대로 배열에 담아 return 하도록 solution 함수를 작성해주세요.\\n\\n제한사항\\n갈색 격자의 수 brown은 8 이상 5,000 이하인 자연수입니다.\\n빨간색 격자의 수 red는 1 이상 2,000,000 이하인 자연수입니다.\\n카펫의 가로 길이는 세로 길이와 같거나, 세로 길이보다 깁니다.\\n입출력 예\\nbrown\\tred\\treturn\\n10\\t2\\t[4, 3]\\n8\\t1\\t[3, 3]\\n24\\t24\\t[8, 6]\\n출처\\n'"
      ]
     },
     "execution_count": 157,
     "metadata": {},
     "output_type": "execute_result"
    }
   ],
   "source": [
    "'''\n",
    "카펫\n",
    "문제 설명\n",
    "Leo는 카펫을 사러 갔다가 아래 그림과 같이 중앙에는 빨간색으로 칠해져 있고 가장 끝쪽의 모서리 한 줄은 갈색으로 칠해져 있는 격자 모양 카펫을 봤습니다.\n",
    "\n",
    "image.png\n",
    "\n",
    "Leo는 집으로 돌아와서 아까 본 카펫의 빨간색과 갈색으로 색칠된 격자의 개수는 기억했지만, 전체 카펫의 크기는 기억하지 못했습니다.\n",
    "\n",
    "Leo가 본 카펫에서 갈색 격자의 수 brown, 빨간색 격자의 수 red가 매개변수로 주어질 때 카펫의 가로, 세로 크기를 순서대로 배열에 담아 return 하도록 solution 함수를 작성해주세요.\n",
    "\n",
    "제한사항\n",
    "갈색 격자의 수 brown은 8 이상 5,000 이하인 자연수입니다.\n",
    "빨간색 격자의 수 red는 1 이상 2,000,000 이하인 자연수입니다.\n",
    "카펫의 가로 길이는 세로 길이와 같거나, 세로 길이보다 깁니다.\n",
    "입출력 예\n",
    "brown\tred\treturn\n",
    "10\t2\t[4, 3]\n",
    "8\t1\t[3, 3]\n",
    "24\t24\t[8, 6]\n",
    "출처\n",
    "'''"
   ]
  },
  {
   "cell_type": "code",
   "execution_count": 200,
   "id": "a030ee94",
   "metadata": {},
   "outputs": [],
   "source": [
    "brown = 10\n",
    "red = 2\n",
    "return_val = [4, 3]\n"
   ]
  },
  {
   "cell_type": "code",
   "execution_count": 203,
   "id": "029ad39e",
   "metadata": {},
   "outputs": [],
   "source": [
    "def solution(brown, red):\n",
    "    answer = []\n",
    "    sum = brown + red\n",
    "    for h in range(sum, 2, -1):\n",
    "        if (sum % h) == 0:\n",
    "            w = sum // h\n",
    "\n",
    "            if red == (h-2)*(w-2):\n",
    "                answer = [w, h]\n",
    "    return answer\n",
    "    "
   ]
  },
  {
   "cell_type": "code",
   "execution_count": 204,
   "id": "7d0b721a",
   "metadata": {},
   "outputs": [
    {
     "data": {
      "text/plain": [
       "[4, 3]"
      ]
     },
     "execution_count": 204,
     "metadata": {},
     "output_type": "execute_result"
    }
   ],
   "source": [
    "solution(brown, red)"
   ]
  },
  {
   "cell_type": "code",
   "execution_count": 205,
   "id": "c0b4e7dd",
   "metadata": {},
   "outputs": [],
   "source": [
    "brown = 24\n",
    "red = 24\n",
    "return_val = [8, 6]"
   ]
  },
  {
   "cell_type": "code",
   "execution_count": 206,
   "id": "d1c2210d",
   "metadata": {},
   "outputs": [
    {
     "data": {
      "text/plain": [
       "[8, 6]"
      ]
     },
     "execution_count": 206,
     "metadata": {},
     "output_type": "execute_result"
    }
   ],
   "source": [
    "solution(brown, red)"
   ]
  },
  {
   "cell_type": "code",
   "execution_count": 207,
   "id": "8e54cc0f",
   "metadata": {},
   "outputs": [
    {
     "data": {
      "text/plain": [
       "'\\n사탕 담기\\n문제 설명\\nm 그램(gram)을 담을 수 있는 가방에 사탕을 가득 채우는 경우의 수를 구하려 합니다. 단, 같은 사탕은 또 넣을 수 없습니다.\\n\\n가방이 감당할 수 있는 무게 m, 사탕별 무게가 담긴 배열 weights가 매개변수로 주어질 때, 가방을 정확히 m 그램으로 채우는 경우의 수를 return 하는 solution 함수를 작성해주세요.\\n\\n제한 조건\\nm은 1,000 이상 100,000 이하인 자연수입니다.\\n모든 사탕의 무게는 10 이상 100,000 이하인 자연수입니다.\\nweights의 길이는 3 이상 15 이하입니다.\\n입출력 예\\nm\\tweights\\treturn\\n3000\\t[500, 1500, 2500, 1000, 2000]\\t3\\n입출력 예 설명\\n사탕을 하나씩 선택해 3000 그램으로 만드는 방법은 [500, 1000, 1500], [1000, 2000], [500, 2500] 으로 3가지입니다.\\n'"
      ]
     },
     "execution_count": 207,
     "metadata": {},
     "output_type": "execute_result"
    }
   ],
   "source": [
    "'''\n",
    "사탕 담기\n",
    "문제 설명\n",
    "m 그램(gram)을 담을 수 있는 가방에 사탕을 가득 채우는 경우의 수를 구하려 합니다. 단, 같은 사탕은 또 넣을 수 없습니다.\n",
    "\n",
    "가방이 감당할 수 있는 무게 m, 사탕별 무게가 담긴 배열 weights가 매개변수로 주어질 때, 가방을 정확히 m 그램으로 채우는 경우의 수를 return 하는 solution 함수를 작성해주세요.\n",
    "\n",
    "제한 조건\n",
    "m은 1,000 이상 100,000 이하인 자연수입니다.\n",
    "모든 사탕의 무게는 10 이상 100,000 이하인 자연수입니다.\n",
    "weights의 길이는 3 이상 15 이하입니다.\n",
    "입출력 예\n",
    "m\tweights\treturn\n",
    "3000\t[500, 1500, 2500, 1000, 2000]\t3\n",
    "입출력 예 설명\n",
    "사탕을 하나씩 선택해 3000 그램으로 만드는 방법은 [500, 1000, 1500], [1000, 2000], [500, 2500] 으로 3가지입니다.\n",
    "'''"
   ]
  },
  {
   "cell_type": "markdown",
   "id": "bab21e7d",
   "metadata": {},
   "source": [
    "#### m : 가방이 감당할 수 있는 무게\n",
    "#### weights : 사탕별 무게가 담긴 배열\n",
    "#### return : 가방을 '정확히' m그램 채우는 경우의 수\n",
    "#\n",
    "## 제한조건 \n",
    "#### m은 1,000이상 100,000 이하인 자연수\n",
    "#### 모든 사탕의 무게는 10이상 100,000이하인 자연수\n",
    "#### weigths의 길이는 3이상 15이하\n"
   ]
  },
  {
   "cell_type": "code",
   "execution_count": 280,
   "id": "7fe0a0e3",
   "metadata": {},
   "outputs": [],
   "source": [
    "m = 3000\n",
    "weights = [500, 1500, 2500, 1000, 2000]\n",
    "return_val = 3"
   ]
  },
  {
   "cell_type": "code",
   "execution_count": 281,
   "id": "44963f82",
   "metadata": {},
   "outputs": [],
   "source": [
    "def solution(m, weights):\n",
    "    answer = 0\n",
    "    weights.sort(reverse=True)\n",
    "    sub_list = []\n",
    "    print(weights)    \n",
    "    for item in weights:\n",
    "        print(item)\n",
    "        if m > item:\n",
    "            m = m - item     \n",
    "            sub_list.append(m)\n",
    "        else:\n",
    "            m = item\n",
    "        ##print(m - weights.pop())\n",
    "        #if (m - weights[:] == 0:\n",
    "        #    print(1)\n",
    "        #    answer = answer + 1\n",
    "    print(sub_list)\n",
    "    answer = len(sub_list)\n",
    "    return answer"
   ]
  },
  {
   "cell_type": "code",
   "execution_count": 282,
   "id": "5285354b",
   "metadata": {},
   "outputs": [
    {
     "name": "stdout",
     "output_type": "stream",
     "text": [
      "[2500, 2000, 1500, 1000, 500]\n",
      "2500\n",
      "2000\n",
      "1500\n",
      "1000\n",
      "500\n",
      "[500, 500, 500]\n"
     ]
    },
    {
     "data": {
      "text/plain": [
       "3"
      ]
     },
     "execution_count": 282,
     "metadata": {},
     "output_type": "execute_result"
    }
   ],
   "source": [
    "solution(m, weights)"
   ]
  },
  {
   "cell_type": "markdown",
   "id": "90585ff4",
   "metadata": {},
   "source": [
    "### https://www.daleseo.com/python-map/\n",
    "### https://itholic.github.io/python-combination-permutation/\n"
   ]
  },
  {
   "cell_type": "code",
   "execution_count": 306,
   "id": "e918b415",
   "metadata": {},
   "outputs": [],
   "source": [
    "m = 3000\n",
    "weights = [500, 1500, 2500, 1000, 2000]\n",
    "return_val = 3"
   ]
  },
  {
   "cell_type": "code",
   "execution_count": 309,
   "id": "f3c5d325",
   "metadata": {},
   "outputs": [],
   "source": [
    "from itertools import combinations\n",
    "\n",
    "def solution(m, weights):\n",
    "    answer = 0\n",
    "    for count in range(1, len(weights)):\n",
    "        sum_counts = map(sum, combinations(weights, count))\n",
    "        #print(dict(sum_counts))\n",
    "        for count in sum_counts:\n",
    "            if count == m:\n",
    "                answer = answer + 1\n",
    "                \n",
    "    return answer"
   ]
  },
  {
   "cell_type": "code",
   "execution_count": 310,
   "id": "d44684bd",
   "metadata": {},
   "outputs": [
    {
     "data": {
      "text/plain": [
       "3"
      ]
     },
     "execution_count": 310,
     "metadata": {},
     "output_type": "execute_result"
    }
   ],
   "source": [
    "solution(m, weights)"
   ]
  },
  {
   "cell_type": "markdown",
   "id": "f38dee10",
   "metadata": {},
   "source": [
    "### 단방향 연결리스트\n",
    "### 특정 원소 참조(k 번째)\n",
    "### 리스트 조회(list traversal)\n",
    "### 길이 얻어내기"
   ]
  },
  {
   "cell_type": "markdown",
   "id": "3f590c90",
   "metadata": {},
   "source": [
    "### 추상적 자료구조 (Abstract Data Structure)\n",
    "### 데이터와 일련의 연산\n",
    "### 1. 특정 원소 참조 (k 번째)\n",
    "### 2. 리스트 순회\n",
    "### 3. 길이 얻어내기\n",
    "### 4. 원소 삽입\n",
    "### 5. 원소 삭제\n",
    "### 6. 두 리스트 합치기\n",
    "\n",
    "### Traverse 연습문제 풀기."
   ]
  },
  {
   "cell_type": "code",
   "execution_count": null,
   "id": "22db3bbc",
   "metadata": {},
   "outputs": [],
   "source": [
    "class Node:\n",
    "    def __init__(self, item):\n",
    "        self.data = item\n",
    "        self.next = None\n",
    "\n",
    "class LinkedList:\n",
    "    def __init__(self):\n",
    "        self.nodeCount = 0\n",
    "        self.head = None\n",
    "        self.tail = None\n",
    "\n",
    "    def getAt(self, pos):\n",
    "        if pos < 1 or pos > self.nodeCount:\n",
    "            return None\n",
    "        i = 1\n",
    "        curr = self.head\n",
    "        while i < pos:\n",
    "            curr = curr.next\n",
    "            i += 1\n",
    "        return curr\n",
    "\n",
    "    def traverse(self):\n",
    "        if not self.head:\n",
    "            return []\n",
    "        \n",
    "        return_node = []\n",
    "        curr = self.head \n",
    "        \n",
    "        while curr is not None:\n",
    "            return_node.append(curr.data)\n",
    "            curr = curr.next\n",
    "            \n",
    "        return return_node\n",
    "\n",
    "\n",
    "# 이 solution 함수는 그대로 두어야 합니다.\n",
    "def solution(x):\n",
    "    return 0"
   ]
  },
  {
   "cell_type": "code",
   "execution_count": null,
   "id": "e477eb55",
   "metadata": {},
   "outputs": [],
   "source": []
  },
  {
   "cell_type": "markdown",
   "id": "de572f51",
   "metadata": {},
   "source": [
    "#### 연결리스트(2)\n",
    "#### 4. 원소 삽입\n",
    "#### 5. 원소 삭제\n",
    "#### 6. 두 리스트 합치기."
   ]
  },
  {
   "cell_type": "markdown",
   "id": "2a7823df",
   "metadata": {},
   "source": [
    "## L.insertAt(pos, newNode)\n",
    "#### newNode\n",
    "#### newNode.next = prev.next\n",
    "#### prev.next = newNode\n",
    "#### nodeCount += 1"
   ]
  },
  {
   "cell_type": "code",
   "execution_count": null,
   "id": "fae9452f",
   "metadata": {},
   "outputs": [],
   "source": [
    "def insertAt(self, pos, newNode):\n",
    "    prev = self.getAt(pos-1)\n",
    "    newNode.next = prev.next\n",
    "    prev.next = newNode\n",
    "    self.nodeCount += 1"
   ]
  },
  {
   "cell_type": "markdown",
   "id": "52aa0d40",
   "metadata": {},
   "source": [
    "#### 코드 구현 주의사항\n",
    "#### (1) 삽입하려는 위치가 리스트 맨 앞일때\n",
    "#### -> prev없음\n",
    "#### -> Head조정필요\n",
    "#### (2) 삽입하려는 위치가 리스트 맨 끝일때\n",
    "#### -> Tail조정 필요\n"
   ]
  },
  {
   "cell_type": "code",
   "execution_count": null,
   "id": "f5f351e6",
   "metadata": {},
   "outputs": [],
   "source": [
    "def inesrtAt(self, pos, newNode):\n",
    "    if pos < 1 or pos > self.nodeCount + 1:\n",
    "        return False\n",
    "    if pos == 1:\n",
    "        newNode.next = self.head\n",
    "        self.head = newNode\n",
    "    else:\n",
    "        prev = self.getAt(pos - 1)\n",
    "        newNode.next = prev.next\n",
    "        prev.next = newNode\n",
    "    if pos == self.nodeCount + 1:\n",
    "        self.tail = newNode\n",
    "        \n",
    "    self.nodeCount += 1\n",
    "    return True"
   ]
  },
  {
   "cell_type": "code",
   "execution_count": null,
   "id": "66aba56c",
   "metadata": {},
   "outputs": [],
   "source": [
    "## pos가 가리키는 위치의  (1 <= pos <= nodeCount)\n",
    "    ## node를 삭제하고 \n",
    "    ## node의 데이터를 리턴\n",
    "    def popAt(self, pos):\n",
    "        try:\n",
    "            curr = getAt(pos)\n",
    "            ## 맨앞에 있는 데이터를 꺼낼 경우,\n",
    "            if pos == 1:\n",
    "                self.head == curr.next\n",
    "                self.nodeCount -= 1\n",
    "                return curr\n",
    "            elif pos != 1 and pos != self.nodeCount:\n",
    "            ## 중간에 있는 데이터를 꺼낼 경우,\n",
    "                curr.prev.next = curr.next\n",
    "                self.nodeCount -= 1\n",
    "                return curr\n",
    "            ## 마지막에 있는 데이터를 꺼낼 경우,    \n",
    "            else:\n",
    "                self.tail == curr.prev\n",
    "                self.nodeCount -= 1\n",
    "                return curr\n",
    "            \n",
    "        except IndexError as e:\n",
    "            print(e) "
   ]
  },
  {
   "cell_type": "code",
   "execution_count": null,
   "id": "2161d30f",
   "metadata": {},
   "outputs": [],
   "source": [
    "class Node:\n",
    "\n",
    "    def __init__(self, item):\n",
    "        self.data = item\n",
    "        self.next = None\n",
    "\n",
    "\n",
    "class LinkedList:\n",
    "\n",
    "    def __init__(self):\n",
    "        self.nodeCount = 0\n",
    "        self.head = None\n",
    "        self.tail = None\n",
    "\n",
    "\n",
    "    def getAt(self, pos):\n",
    "        if pos < 1 or pos > self.nodeCount:\n",
    "            return None\n",
    "\n",
    "        i = 1\n",
    "        curr = self.head\n",
    "        while i < pos:\n",
    "            curr = curr.next\n",
    "            i += 1\n",
    "\n",
    "        return curr\n",
    "\n",
    "\n",
    "    def insertAt(self, pos, newNode):\n",
    "        if pos < 1 or pos > self.nodeCount + 1:\n",
    "            return False\n",
    "\n",
    "        if pos == 1:\n",
    "            newNode.next = self.head\n",
    "            self.head = newNode\n",
    "\n",
    "        else:\n",
    "            if pos == self.nodeCount + 1:\n",
    "                prev = self.tail\n",
    "            else:\n",
    "                prev = self.getAt(pos - 1)\n",
    "            newNode.next = prev.next\n",
    "            prev.next = newNode\n",
    "\n",
    "        if pos == self.nodeCount + 1:\n",
    "            self.tail = newNode\n",
    "\n",
    "        self.nodeCount += 1\n",
    "        return True\n",
    "\n",
    "    ## pos가 가리키는 위치의  (1 <= pos <= nodeCount)\n",
    "    ## node를 삭제하고 \n",
    "    ## node의 데이터를 리턴\n",
    "    def popAt(self, pos):\n",
    "        \n",
    "        node_data = []\n",
    "        if pos < 1 or pos > self.nodeCount:\n",
    "            raise IndexError\n",
    "            \n",
    "        if self.nodeCount == 1:\n",
    "            node_data = self.head.data\n",
    "            self.head = None\n",
    "            self.tail = None\n",
    "        else:\n",
    "            ## 맨앞에 있는 데이터를 꺼낼 경우,\n",
    "            if pos == 1:\n",
    "                node_data = self.head.data\n",
    "                self.head = self.head.next\n",
    "            \n",
    "            if pos == self.nodeCount:\n",
    "            ## 마지막에 있는 데이터를 꺼낼 경우,                \n",
    "                prev = self.getAt(pos-1)\n",
    "                node_data = prev.next.data\n",
    "                prev.next = None\n",
    "                self.tail = prev\n",
    "            ## 중간에 있는 데이터를 꺼낼 경우,\n",
    "            else:\n",
    "                prev = self.getAt(pos-1)\n",
    "                node_data = prev.next.data\n",
    "                prev.next = prev.next.next\n",
    "        \n",
    "        self.nodeCount -= 1\n",
    "        return node_data\n",
    "            \n",
    "        \n",
    "        \n",
    "        \n",
    "        \n",
    "        \n",
    "\n",
    "    def traverse(self):\n",
    "        result = []\n",
    "        curr = self.head\n",
    "        while curr is not None:\n",
    "            result.append(curr.data)\n",
    "            curr = curr.next\n",
    "        return result\n",
    "\n",
    "\n",
    "def solution(x):\n",
    "    return 0"
   ]
  },
  {
   "cell_type": "code",
   "execution_count": null,
   "id": "29a34ec4",
   "metadata": {},
   "outputs": [],
   "source": [
    "def insertAfter(self, prev, newNode):\n",
    "    newNode.next = prev.next\n",
    "    if prev.next = None:\n",
    "        self.tail = newNode\n",
    "    prev.next = newNode\n",
    "    self.nodeCount += 1\n",
    "    return True\n"
   ]
  },
  {
   "cell_type": "markdown",
   "id": "3687a6e5",
   "metadata": {},
   "source": [
    "#### 메서드 insertAt()의 구현\n",
    "#### def insertAt(self, pos, newNode):\n",
    "#### 이미 구현한 insertAfter()를 호출하여 이용하는 것으로\n",
    "#### (1) pos 범위 조건 확인\n",
    "#### (2) pos == 1인 경우에는 head뒤에 새 node 삽입\n",
    "#### (3) pos == nodeCount + 1인 경우는 prev <- tail\n",
    "#### (4) 그렇지 않은 경우에는 prev <- getAt(...)\n"
   ]
  },
  {
   "cell_type": "code",
   "execution_count": null,
   "id": "9f552771",
   "metadata": {},
   "outputs": [],
   "source": [
    "\n",
    "def insertAt(self, pos, newNode):\n",
    "    if pos < 1 or pos > self.nodeCount + 1:\n",
    "        return False\n",
    "    if pos != 1 and pos == self.nodeCount + 1:\n",
    "        prev = self.tail\n",
    "    else:\n",
    "        prev = self.getAt(pos - 1)\n",
    "    return self.insertAfter(prev, newNode)\n"
   ]
  },
  {
   "cell_type": "markdown",
   "id": "56e4a2bf",
   "metadata": {},
   "source": [
    "#### 연결리스트 연산 -원소의 삭제\n",
    "#### def popAfter(self, prev):\n",
    "#### prev의 다음 node를 삭제하고, 그 node의 data를 리턴\n",
    "#### 코드 구현 주의사항\n",
    "#### (1) prev가 마지막 node일때 (prev.next == None)\n",
    "#### 삭제할 node없음\n",
    "#### return None\n",
    "#### (2) 리스트 맨 끝의 node를 삭제할 때 (curr.next == None)\n",
    "#### -> Tail조정 필요.\n",
    "\n",
    "    "
   ]
  },
  {
   "cell_type": "markdown",
   "id": "04659b97",
   "metadata": {},
   "source": [
    "### 8강 실습: 연결 리스트 노드 삭제하기\n",
    "#### popAt 구현\n",
    "#### pos가 인덱스 범위가 어긋날때  raise IndexError\n"
   ]
  },
  {
   "cell_type": "code",
   "execution_count": null,
   "id": "1aaf2ef7",
   "metadata": {},
   "outputs": [],
   "source": [
    "class Node:\n",
    "\n",
    "    def __init__(self, item):\n",
    "        self.data = item\n",
    "        self.next = None\n",
    "\n",
    "\n",
    "class LinkedList:\n",
    "\n",
    "    def __init__(self):\n",
    "        self.nodeCount = 0\n",
    "        self.head = None\n",
    "        self.tail = None\n",
    "\n",
    "\n",
    "    def getAt(self, pos):\n",
    "        if pos < 1 or pos > self.nodeCount:\n",
    "            return None\n",
    "\n",
    "        i = 1\n",
    "        curr = self.head\n",
    "        while i < pos:\n",
    "            curr = curr.next\n",
    "            i += 1\n",
    "\n",
    "        return curr\n",
    "\n",
    "\n",
    "    def insertAt(self, pos, newNode):\n",
    "        if pos < 1 or pos > self.nodeCount + 1:\n",
    "            return False\n",
    "\n",
    "        if pos == 1:\n",
    "            newNode.next = self.head\n",
    "            self.head = newNode\n",
    "\n",
    "        else:\n",
    "            if pos == self.nodeCount + 1:\n",
    "                prev = self.tail\n",
    "            else:\n",
    "                prev = self.getAt(pos - 1)\n",
    "            newNode.next = prev.next\n",
    "            prev.next = newNode\n",
    "\n",
    "        ## 가장마지막에 노드를 삽입한다.\n",
    "        if pos == self.nodeCount + 1:\n",
    "            self.tail = newNode\n",
    "\n",
    "        self.nodeCount += 1\n",
    "        return True\n",
    "\n",
    "\n",
    "    ## pos가 가리키는 위치의  (1 <= pos <= nodeCount)\n",
    "    ## node를 삭제하고 \n",
    "    ## node의 데이터를 리턴\n",
    "    def popAt(self, pos):\n",
    "        \n",
    "        node_data = None\n",
    "        if (pos < 1 or pos > self.nodeCount) and self.nodeCount > 0: ### 조건식의 오류때문에 개고생 이런 초보적인실수를.\n",
    "            raise IndexError\n",
    "        \n",
    "        if self.nodeCount == 0:\n",
    "            node_data = None\n",
    "            self.head = None\n",
    "            self.tail = None\n",
    "            \n",
    "        if self.nodeCount == 1:\n",
    "            node_data = self.head.data\n",
    "            self.head = None\n",
    "            self.tail = None\n",
    "        elif self.nodeCount > 1:  \n",
    "            ## 맨앞에 있는 데이터를 꺼낼 경우,\n",
    "            if pos == 1:\n",
    "                node_data = self.head.data\n",
    "                self.head = self.head.next            \n",
    "            elif pos == self.nodeCount: ### 조건식의 오류때문에 개고생 이런 초보적인실수를.\n",
    "            ## 마지막에 있는 데이터를 꺼낼 경우,                \n",
    "                prev = self.getAt(pos-1)\n",
    "                node_data = prev.next.data\n",
    "                prev.next = None\n",
    "                self.tail = prev\n",
    "            ## 중간에 있는 데이터를 꺼낼 경우,\n",
    "            else:\n",
    "                prev = self.getAt(pos-1)\n",
    "                node_data = prev.next.data\n",
    "                prev.next = prev.next.next\n",
    "        \n",
    "        self.nodeCount -= 1\n",
    "        return node_data\n",
    "\n",
    "\n",
    "    def traverse(self):\n",
    "        result = []\n",
    "        curr = self.head\n",
    "        while curr is not None:\n",
    "            result.append(curr.data)\n",
    "            curr = curr.next\n",
    "        return result\n",
    "\n",
    "\n",
    "def solution(x):\n",
    "    return 0"
   ]
  },
  {
   "cell_type": "markdown",
   "id": "10c9a6b1",
   "metadata": {},
   "source": [
    "### 9강 실습: dummy head를 가지는 연결리스트 노드삭제"
   ]
  },
  {
   "cell_type": "code",
   "execution_count": 1,
   "id": "8ffc949b",
   "metadata": {},
   "outputs": [
    {
     "data": {
      "text/plain": [
       "'\\n(09) dummy head 를 가지는 연결 리스트 노드 삭제\\n문제 설명\\n제 9 강에서 소개된 추상적 자료구조 LinkedList 는 dummy head node 를 가지는 연결 리스트입니다. 이 클래스의 아래와 같은 메서드들을, 강의 내용에 소개된 요구조건을 만족시키도록 구현하세요.\\n\\npopAfter()\\npopAt()\\n이 때, popAt() 메서드의 구현에서는 popAfter() 를 호출하여 이용하도록 합니다. (그렇게 하지 않을 수도 있지만, 여기에서는 popAfter() 의 이용에 의해서 코드 구현이 보다 쉬워지는 것을 확인하기 위함입니다.)\\n\\n초기 코드로 들어 있는 것은 solution() 함수를 포함하여 다른 부분은 수정하지 말고, def popAfter(self, prev): 와 def popAt(self, pos): 의 메서드 몸체만 구현하세요.\\n\\n만약, popAt() 메서드에 인자로 주어진 pos 가 올바른 범위의 값을 가지지 않는 경우에는 IndexError exception 을 발생시키도록 합니다. 이렇게 하기 위한 코드는 raise IndexError 입니다.\\n'"
      ]
     },
     "execution_count": 1,
     "metadata": {},
     "output_type": "execute_result"
    }
   ],
   "source": [
    "'''\n",
    "(09) dummy head 를 가지는 연결 리스트 노드 삭제\n",
    "문제 설명\n",
    "제 9 강에서 소개된 추상적 자료구조 LinkedList 는 dummy head node 를 가지는 연결 리스트입니다. 이 클래스의 아래와 같은 메서드들을, 강의 내용에 소개된 요구조건을 만족시키도록 구현하세요.\n",
    "\n",
    "popAfter()\n",
    "popAt()\n",
    "이 때, popAt() 메서드의 구현에서는 popAfter() 를 호출하여 이용하도록 합니다. (그렇게 하지 않을 수도 있지만, 여기에서는 popAfter() 의 이용에 의해서 코드 구현이 보다 쉬워지는 것을 확인하기 위함입니다.)\n",
    "\n",
    "초기 코드로 들어 있는 것은 solution() 함수를 포함하여 다른 부분은 수정하지 말고, def popAfter(self, prev): 와 def popAt(self, pos): 의 메서드 몸체만 구현하세요.\n",
    "\n",
    "만약, popAt() 메서드에 인자로 주어진 pos 가 올바른 범위의 값을 가지지 않는 경우에는 IndexError exception 을 발생시키도록 합니다. 이렇게 하기 위한 코드는 raise IndexError 입니다.\n",
    "'''"
   ]
  },
  {
   "cell_type": "code",
   "execution_count": null,
   "id": "980dabe3",
   "metadata": {},
   "outputs": [],
   "source": [
    "#### popAfter\n",
    "#### popAt 구현\n",
    "class Node:\n",
    "\n",
    "    def __init__(self, item):\n",
    "        self.data = item\n",
    "        self.next = None\n",
    "\n",
    "\n",
    "class LinkedList:\n",
    "\n",
    "    def __init__(self):\n",
    "        self.nodeCount = 0\n",
    "        self.head = Node(None)\n",
    "        self.tail = None\n",
    "        self.head.next = self.tail\n",
    "\n",
    "\n",
    "    def traverse(self):\n",
    "        result = []\n",
    "        curr = self.head\n",
    "        while curr.next:\n",
    "            curr = curr.next\n",
    "            result.append(curr.data)\n",
    "        return result\n",
    "\n",
    "\n",
    "    def getAt(self, pos):\n",
    "        if pos < 0 or pos > self.nodeCount:\n",
    "            return None\n",
    "\n",
    "        i = 0\n",
    "        curr = self.head\n",
    "        while i < pos:\n",
    "            curr = curr.next\n",
    "            i += 1\n",
    "\n",
    "        return curr\n",
    "\n",
    "\n",
    "    def insertAfter(self, prev, newNode):\n",
    "        newNode.next = prev.next\n",
    "        if prev.next is None:\n",
    "            self.tail = newNode\n",
    "        prev.next = newNode\n",
    "        self.nodeCount += 1\n",
    "        return True\n",
    "\n",
    "    ## (1) pos범위 조건 확인\n",
    "    ## (2) pos == 1인 경우에는 head뒤에 새 node 삽입\n",
    "    ## (3) pos == nodeCount + 1 인 경우는 prev <- tail\n",
    "    ## (4) 그렇지 않은 경우에는 prev <- getAt(...)\n",
    "    def insertAt(self, pos, newNode):\n",
    "        if pos < 1 or pos > self.nodeCount + 1:\n",
    "            return False\n",
    "\n",
    "        if pos != 1 and pos == self.nodeCount + 1:\n",
    "            prev = self.tail\n",
    "        else:\n",
    "            prev = self.getAt(pos - 1)\n",
    "        return self.insertAfter(prev, newNode)\n",
    "\n",
    "    ## prev의 다음 node를 삭제하고\n",
    "    ## 그 node의 data를 리턴\n",
    "    ## (1) prev가 마지막 node일때, (prev.next == None\n",
    "    ## 삭제할 node 없음\n",
    "    ## return None\n",
    "    ## (2) 리스트 맨 끝의 node를 삭제할 때, (curr.next == None)\n",
    "    ## -> Tail 조정 필요.\n",
    "    def popAfter(self, prev):\n",
    "        curr = prev.next\n",
    "        ## 마지막 노드일때\n",
    "        if curr == None:\n",
    "            return None\n",
    "        ## 리스트 맨 끝의 node를 삭제할때,\n",
    "        elif curr.next == None:            \n",
    "            prev.next = None\n",
    "            self.tail = prev\n",
    "            self.nodeCount -= 1        \n",
    "            return curr.data\n",
    "        ## 가운데 node를 삭제할때,\n",
    "        else:\n",
    "            prev.next = curr.next\n",
    "            self.nodeCount -= 1\n",
    "            return curr.data\n",
    "            \n",
    "            \n",
    "\n",
    "    def popAt(self, pos):\n",
    "        ## 노드를 꺼내는거라 노드 삽입과 색인 범위가 다르다.. 이부분을 놓쳐서 한참해맸다.\n",
    "        if pos < 1 or pos > self.nodeCount:\n",
    "            raise IndexError\n",
    "                \n",
    "        prev = self.getAt(pos - 1)\n",
    "        return self.popAfter(prev)\n",
    "\n",
    "\n",
    "def solution(x):\n",
    "    return 0"
   ]
  },
  {
   "cell_type": "markdown",
   "id": "176b034d",
   "metadata": {},
   "source": [
    "## (10-1) 양방향 연결 리스트 역방향 순회"
   ]
  },
  {
   "cell_type": "code",
   "execution_count": 3,
   "id": "76ebf51d",
   "metadata": {},
   "outputs": [],
   "source": [
    "#### reverse 메소드 구현"
   ]
  },
  {
   "cell_type": "code",
   "execution_count": null,
   "id": "eea3408d",
   "metadata": {},
   "outputs": [],
   "source": [
    "class Node:\n",
    "    def __init__(self, item):\n",
    "        self.data = item\n",
    "        self.prev = None\n",
    "        self.next = None\n",
    "\n",
    "class DoublyLinkedList:\n",
    "    def __init__(self):\n",
    "        self.nodeCount = 0\n",
    "        self.head = Node(None)\n",
    "        self.tail = Node(None)\n",
    "        self.head.prev = None\n",
    "        self.head.next = self.tail\n",
    "        self.tail.prev = self.head\n",
    "        self.tail.next = None\n",
    "    \n",
    "    ## 리스트 순회\n",
    "    def reverse(self):\n",
    "        result = []\n",
    "        curr = self.head\n",
    "        while curr.next.next:\n",
    "            curr = curr.next\n",
    "            result.append(curr.data)\n",
    "        return result\n",
    "    \n",
    "    ## 리스트 역방향 순회\n",
    "    def reverse(self):\n",
    "        result = []\n",
    "        curr = self.tail\n",
    "        while curr.prev.prev:\n",
    "            curr = curr.prev\n",
    "            result.append(curr.data)\n",
    "        return result\n",
    "    \n",
    "    def getAt(self, pos):\n",
    "        if pos < 0 or pos > self.nodeCount:\n",
    "            return None\n",
    "        if pos > self.nodeCount // 2:\n",
    "            i = 0\n",
    "            curr = self.tail\n",
    "            while i < self.nodeCount - pos + 1:\n",
    "                curr = curr.prev\n",
    "                i += 1\n",
    "        else:\n",
    "            i = 0\n",
    "            curr = self.head\n",
    "            while i < pos:\n",
    "                curr = curr.next\n",
    "                i += 1\n",
    "                \n",
    "        return curr\n",
    "    \n",
    "    def insertAfter(self, prev, newNode):\n",
    "        next = prev.next\n",
    "        newNode.prev = prev\n",
    "        newNode.next = next\n",
    "        prev.next = newNode\n",
    "        next.prev = newNode\n",
    "        self.nodeCount += 1\n",
    "        return True\n",
    "    \n",
    "    def insertAt(self, pos, newNode):\n",
    "        if pos < 1 or pos > self.nodeCount + 1:\n",
    "            return False\n",
    "        prev = self.getAt(pos - 1)\n",
    "        return self.insertAfter(prev, newNode)\n",
    "    \n",
    "def solution(x):\n",
    "    return 0\n",
    "            "
   ]
  },
  {
   "cell_type": "markdown",
   "id": "8c670397",
   "metadata": {},
   "source": [
    "## (10-2) 양방향 연결 리스트 노드 삽입\n",
    "#### insertBefore() 구현\n",
    "#### next 어느 node의 앞에 새로운 node를 삽입할지를 지정\n",
    "#### newNode는 삽입할 새로운 node이빈다."
   ]
  },
  {
   "cell_type": "code",
   "execution_count": null,
   "id": "174de412",
   "metadata": {},
   "outputs": [],
   "source": [
    "class Node:\n",
    "\n",
    "    def __init__(self, item):\n",
    "        self.data = item\n",
    "        self.prev = None\n",
    "        self.next = None\n",
    "\n",
    "\n",
    "class DoublyLinkedList:\n",
    "\n",
    "    def __init__(self):\n",
    "        self.nodeCount = 0\n",
    "        self.head = Node(None)\n",
    "        self.tail = Node(None)\n",
    "        self.head.prev = None\n",
    "        self.head.next = self.tail\n",
    "        self.tail.prev = self.head\n",
    "        self.tail.next = None\n",
    "\n",
    "\n",
    "    def traverse(self):\n",
    "        result = []\n",
    "        curr = self.head\n",
    "        while curr.next.next:\n",
    "            curr = curr.next\n",
    "            result.append(curr.data)\n",
    "        return result\n",
    "\n",
    "    ### 구현 (시간 초과)\n",
    "    def insertBefore(self, next, newNode):\n",
    "        prev = next.prev\n",
    "        newNode.next = next\n",
    "        newNode.prev = prev\n",
    "        next.prev = newNode\n",
    "        prev.next = newNode\n",
    "        self.nodeCount += 1\n",
    "        return True\n",
    "    \n",
    "    def insertBefore(self, next, newNode):\n",
    "        \n",
    "\n",
    "def solution(x):\n",
    "    return 0"
   ]
  },
  {
   "cell_type": "code",
   "execution_count": 4,
   "id": "487989e8",
   "metadata": {},
   "outputs": [],
   "source": [
    "## (10-3) 양방향 연결 리스트 노드 삭제\n",
    "#### 맨마지막 노드를 뽑아내는게 수월하다. 참 기억이 가물가물하다.ㅋㅋ 16년만에 자료구조를 짜고 있다니.\n",
    "#### 내가 제일 좋아했던 노드 트리 자료구조인데,,흐규흐규\n",
    "### popAfter()\n",
    "### popBefore()\n",
    "### popAt()\n",
    "### 구현\n",
    "#### popAfter(prev)는 인자 prev에 의하여 주어진 node의 다음에 있던 node를 삭제\n",
    "#### popBefore(next)는 인자 next에 의하여 주어진 node의 이전에 있던 node를 삭제합니다. \n",
    "##### 그리고 삭제되는 node에 담겨 있던 data item을 리턴합니다.\n",
    "#### popAt(pos)는 인자 pos에 의하여 지정되는 node를 삭제하고 그 node에 담겨 있던 data item을 리턴하는데, \n",
    "##### 위 popAfter() 또는 popBefore()를 호출하여 이용하는 방식으로 구현하세요. 또한, 만약 인자 pos가 올바른 범위내에 있지 않은 경우에는\n",
    "##### raise IndexError를 이용하여 IndexError Exception\n",
    "\n"
   ]
  },
  {
   "cell_type": "code",
   "execution_count": null,
   "id": "e3fe26fa",
   "metadata": {},
   "outputs": [],
   "source": [
    "class Node:\n",
    "    def __init__(self, item):\n",
    "        self.data = item\n",
    "        self.prev = None\n",
    "        self.next = None\n",
    "        \n",
    "class DoublyLInkedList:\n",
    "    def __init__(self):\n",
    "        self.nodeCount = 0\n",
    "        self.head = Node(None)\n",
    "        self.tail = Node(None)\n",
    "        self.head.prev = None\n",
    "        self.head.next = selt.tail\n",
    "        self.tail.prev = self.head\n",
    "        self.tail.next = None\n",
    "        \n",
    "    def.traverse(self):\n",
    "        result = [] \n",
    "        curr = self.head\n",
    "        while curr.next.next:\n",
    "            curr = curr.next\n",
    "            result.append(curr.data)\n",
    "        return result\n",
    "    \n",
    "    def getAt(self, pos);\n",
    "        if pos < 0 or pos > self.nodeCount:\n",
    "            return None\n",
    "        if pos > self.nodeCount // 2:\n",
    "            i = 0\n",
    "            curr = self.tail\n",
    "            while i < self.nodeCount - pos + 1:\n",
    "                curr = curr.prev\n",
    "                i += 1\n",
    "        else:\n",
    "            i = 0\n",
    "            curr = self.head\n",
    "            while i < pos:\n",
    "                curr = curr.next\n",
    "                i += 1\n",
    "                \n",
    "        return curr\n",
    "    \n",
    "    def insertAfter(self, prev, newNode):\n",
    "        next = pre.next\n",
    "        newNode.prev = prev\n",
    "        newNode.next = next\n",
    "        prev.next = newNode\n",
    "        next.prev = newNode\n",
    "        self.nodeCount += 1\n",
    "        return True\n",
    "    \n",
    "    def insertAt(self, pos, newNoew):\n",
    "        if pos < 1 or pos > self.nodeCount + 1:\n",
    "            return False\n",
    "        \n",
    "        prev = self.getAt(pos - 1)\n",
    "        return self.insertAfter(prev, newNode)\n",
    "    \n",
    "    def popAfter(self, prev):\n",
    "        ## 삭제 대상, 출력 대상.\n",
    "        curr = prev.next\n",
    "        \n",
    "        ## prev노드 링크 설정\n",
    "        prev.next = curr.next\n",
    "        \n",
    "        ## next노드 링크 설정\n",
    "        curr.next.prev = prev\n",
    "        self.nodeCount -= 1\n",
    "        return curr.data        \n",
    "    \n",
    "    def popBefore(self, next):\n",
    "        ## 삭제 대상, 출력 대상\n",
    "        curr = next.prev\n",
    "        \n",
    "        ## prev노드 링크 설정\n",
    "        curr.prev.next = next\n",
    "        ## next노드 링크 설정\n",
    "        next.prev = curr.prev\n",
    "        self.nodeCount -= 1\n",
    "        return curr.data\n",
    "    \n",
    "    def popAt(self, pos):\n",
    "        if pos < 1 or pos > self.nodeCount:\n",
    "            raise IndexError\n",
    "                    \n",
    "        #if pos > self.nodeCount // 2:\n",
    "        #    next = self.getAt(pos + 1)\n",
    "        #    return self.popBefore(next)\n",
    "        #else:\n",
    "        prev = self.getAt(pos - 1)\n",
    "        return self.popAfter(prev)\n",
    "            \n",
    "            \n",
    "            \n",
    "        \n",
    "        "
   ]
  },
  {
   "cell_type": "code",
   "execution_count": 5,
   "id": "65388560",
   "metadata": {},
   "outputs": [],
   "source": [
    "## (10-4) 양방향 연결리스트의 병합\n",
    "#### L1, L2 둘다 비어있는 경우도 고려.\n",
    "#### 주의 : 양방향 리스트의 앞뒤노드에 dummy노드가 있다.\n",
    "    def concat(self, L):\n",
    "        self.tail.prev.next = L.head.next            \n",
    "        L.head.next.prev = self.tail.prev\n",
    "        self.tail = L.tail\n",
    "        self.nodeCount += L.nodeCount\n",
    "        \n",
    "        \n",
    "    \n",
    "    "
   ]
  },
  {
   "cell_type": "code",
   "execution_count": null,
   "id": "c6d427bb",
   "metadata": {},
   "outputs": [],
   "source": []
  }
 ],
 "metadata": {
  "kernelspec": {
   "display_name": "Python 3",
   "language": "python",
   "name": "python3"
  },
  "language_info": {
   "codemirror_mode": {
    "name": "ipython",
    "version": 3
   },
   "file_extension": ".py",
   "mimetype": "text/x-python",
   "name": "python",
   "nbconvert_exporter": "python",
   "pygments_lexer": "ipython3",
   "version": "3.8.8"
  }
 },
 "nbformat": 4,
 "nbformat_minor": 5
}
