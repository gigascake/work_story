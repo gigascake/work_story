{
 "cells": [
  {
   "cell_type": "markdown",
   "id": "824b0495-0de0-4e40-80dc-4de7b17745eb",
   "metadata": {},
   "source": [
    "### NVlink 유무체크 방법 \n",
    "- NV#이 포함되어있어야하는데 포함되지 않음.\n",
    "- $ nvidia-smi topo -m"
   ]
  },
  {
   "cell_type": "markdown",
   "id": "f2f5765a-2f2b-45e6-b747-cf708f4a2b66",
   "metadata": {},
   "source": [
    "## Dask cpu 설정 & Dask-cuda GPU"
   ]
  },
  {
   "cell_type": "markdown",
   "id": "ed652735-871f-4062-9e54-3bcc801ddf8e",
   "metadata": {},
   "source": [
    "- (CPU)jupyterlab에서 클러스터를 추가한후 port설정을 셋팅한후 실행한다.\n",
    "- (GPU)\n",
    "   : 터미널을 연 후에, 가상환경을 설정한다.\n",
    "   $ conda activate dask_cuda\n",
    "   $ dask-scheduler \n",
    "   !/data01/anaconda3/envs/dask_gpu/bin/dask-scheduler"
   ]
  },
  {
   "cell_type": "markdown",
   "id": "83d62092-2606-4aa3-8a58-e44b53400738",
   "metadata": {},
   "source": [
    "## NVLink있을시 필수적으로 ucx프로토콜 사용, 그러나 nvlink없을시에도 tcp프로톸ㄹ보다 ucx프로토콜이 성능이 더 빠르다고 한다.\n",
    "- https://www.dask.org/blog/experiments-in-high-performance-networking-with-ucx-and-dgx\n",
    "- $ dask-scheduler --protocol ucx\n",
    "\n",
    "- $ dask-worker ucx://127.0.0.1:8786"
   ]
  },
  {
   "cell_type": "code",
   "execution_count": 4,
   "id": "addf5e01-aac2-401d-9d7e-a84fb0d6db48",
   "metadata": {
    "execution": {
     "iopub.execute_input": "2022-10-11T06:32:10.056834Z",
     "iopub.status.busy": "2022-10-11T06:32:10.056524Z",
     "iopub.status.idle": "2022-10-11T06:32:40.979101Z",
     "shell.execute_reply": "2022-10-11T06:32:40.978420Z",
     "shell.execute_reply.started": "2022-10-11T06:32:10.056810Z"
    },
    "tags": []
   },
   "outputs": [
    {
     "ename": "SyntaxError",
     "evalue": "EOL while scanning string literal (3528771002.py, line 3)",
     "output_type": "error",
     "traceback": [
      "\u001b[0;36m  Cell \u001b[0;32mIn [6], line 3\u001b[0;36m\u001b[0m\n\u001b[0;31m    client = Client(\"tcp://172.17.0.2:8786)\u001b[0m\n\u001b[0m                                           ^\u001b[0m\n\u001b[0;31mSyntaxError\u001b[0m\u001b[0;31m:\u001b[0m EOL while scanning string literal\n"
     ]
    }
   ],
   "source": [
    "from dask.distributed import Client\n",
    "\n",
    "client = Client(\"tcp://127.0.0.1:32855\")\n",
    "client"
   ]
  },
  {
   "cell_type": "code",
   "execution_count": null,
   "id": "9f8fb84a-19a8-455e-9eb4-0d650d7e6ff7",
   "metadata": {
    "tags": []
   },
   "outputs": [],
   "source": [
    "from dask_cuda import LocalCUDACluster\n",
    "from dask.distributed import Clientgigig"
   ]
  },
  {
   "cell_type": "code",
   "execution_count": null,
   "id": "403d083c-0e1a-4c85-bf80-c28fd8effd5f",
   "metadata": {
    "tags": []
   },
   "outputs": [],
   "source": [
    "cluster = LocalCUDACluster()"
   ]
  },
  {
   "cell_type": "code",
   "execution_count": null,
   "id": "957cdadd-6cc5-46f5-9521-8880c43e9667",
   "metadata": {
    "tags": []
   },
   "outputs": [],
   "source": [
    "client = Client(cluster)"
   ]
  },
  {
   "cell_type": "code",
   "execution_count": null,
   "id": "7417e052-a462-432c-b8c0-720f8abc2a21",
   "metadata": {
    "execution": {
     "iopub.execute_input": "2022-10-07T04:17:58.718870Z",
     "iopub.status.busy": "2022-10-07T04:17:58.718581Z",
     "iopub.status.idle": "2022-10-07T04:17:58.722931Z",
     "shell.execute_reply": "2022-10-07T04:17:58.722331Z",
     "shell.execute_reply.started": "2022-10-07T04:17:58.718848Z"
    },
    "tags": []
   },
   "outputs": [],
   "source": [
    "import sys"
   ]
  },
  {
   "cell_type": "code",
   "execution_count": 8,
   "id": "7d281af9-c6ae-46de-9823-4a52f03d4def",
   "metadata": {
    "execution": {
     "iopub.execute_input": "2022-10-07T04:17:59.639778Z",
     "iopub.status.busy": "2022-10-07T04:17:59.639511Z",
     "iopub.status.idle": "2022-10-07T04:17:59.643554Z",
     "shell.execute_reply": "2022-10-07T04:17:59.642946Z",
     "shell.execute_reply.started": "2022-10-07T04:17:59.639756Z"
    },
    "tags": []
   },
   "outputs": [
    {
     "name": "stdout",
     "output_type": "stream",
     "text": [
      "/data01/anaconda3/envs/dask_cuda_xgboost/bin/python\n"
     ]
    }
   ],
   "source": [
    "print(sys.executable)"
   ]
  },
  {
   "cell_type": "code",
   "execution_count": 9,
   "id": "7039ebf4-7dde-45e3-87c5-93f771b519b8",
   "metadata": {
    "execution": {
     "iopub.execute_input": "2022-10-07T04:18:00.459217Z",
     "iopub.status.busy": "2022-10-07T04:18:00.458970Z",
     "iopub.status.idle": "2022-10-07T04:18:00.582187Z",
     "shell.execute_reply": "2022-10-07T04:18:00.581348Z",
     "shell.execute_reply.started": "2022-10-07T04:18:00.459196Z"
    },
    "tags": []
   },
   "outputs": [
    {
     "name": "stdout",
     "output_type": "stream",
     "text": [
      "Python 3.9.12\n"
     ]
    }
   ],
   "source": [
    "!/data01/anaconda3/envs/dask_gpu/bin/python --version"
   ]
  },
  {
   "cell_type": "code",
   "execution_count": 10,
   "id": "f72de9a9-86ea-48bf-94c7-7bab8e6502d8",
   "metadata": {
    "execution": {
     "iopub.execute_input": "2022-10-07T04:18:01.380548Z",
     "iopub.status.busy": "2022-10-07T04:18:01.380348Z",
     "iopub.status.idle": "2022-10-07T04:18:01.384147Z",
     "shell.execute_reply": "2022-10-07T04:18:01.383485Z",
     "shell.execute_reply.started": "2022-10-07T04:18:01.380534Z"
    },
    "tags": []
   },
   "outputs": [
    {
     "name": "stdout",
     "output_type": "stream",
     "text": [
      "['/home/gigascake/dask_Example', '/data01/anaconda3/envs/dask_cuda_xgboost/lib/python39.zip', '/data01/anaconda3/envs/dask_cuda_xgboost/lib/python3.9', '/data01/anaconda3/envs/dask_cuda_xgboost/lib/python3.9/lib-dynload', '', '/home/gigascake/.local/lib/python3.9/site-packages', '/data01/anaconda3/envs/dask_cuda_xgboost/lib/python3.9/site-packages']\n"
     ]
    }
   ],
   "source": [
    "print(sys.path)"
   ]
  },
  {
   "cell_type": "code",
   "execution_count": 11,
   "id": "95691e47-a38a-4d76-8742-b0a49cb4a363",
   "metadata": {
    "execution": {
     "iopub.execute_input": "2022-10-07T04:18:02.507441Z",
     "iopub.status.busy": "2022-10-07T04:18:02.507121Z",
     "iopub.status.idle": "2022-10-07T04:18:02.510739Z",
     "shell.execute_reply": "2022-10-07T04:18:02.510106Z",
     "shell.execute_reply.started": "2022-10-07T04:18:02.507418Z"
    },
    "tags": []
   },
   "outputs": [],
   "source": [
    "sys.path.append(\"/data01/anaconda3/envs/dask_gpu/bin\")"
   ]
  },
  {
   "cell_type": "code",
   "execution_count": 12,
   "id": "9b324ece-8b32-4557-8bdd-6499bf6f764a",
   "metadata": {
    "execution": {
     "iopub.execute_input": "2022-10-07T04:18:03.531424Z",
     "iopub.status.busy": "2022-10-07T04:18:03.531122Z",
     "iopub.status.idle": "2022-10-07T04:18:03.541882Z",
     "shell.execute_reply": "2022-10-07T04:18:03.541332Z",
     "shell.execute_reply.started": "2022-10-07T04:18:03.531402Z"
    },
    "tags": []
   },
   "outputs": [
    {
     "data": {
      "text/plain": [
       "['/home/gigascake/dask_Example',\n",
       " '/data01/anaconda3/envs/dask_cuda_xgboost/lib/python39.zip',\n",
       " '/data01/anaconda3/envs/dask_cuda_xgboost/lib/python3.9',\n",
       " '/data01/anaconda3/envs/dask_cuda_xgboost/lib/python3.9/lib-dynload',\n",
       " '',\n",
       " '/home/gigascake/.local/lib/python3.9/site-packages',\n",
       " '/data01/anaconda3/envs/dask_cuda_xgboost/lib/python3.9/site-packages',\n",
       " '/data01/anaconda3/envs/dask_gpu/bin']"
      ]
     },
     "execution_count": 12,
     "metadata": {},
     "output_type": "execute_result"
    }
   ],
   "source": [
    "sys.path"
   ]
  },
  {
   "cell_type": "markdown",
   "id": "98644f2e-3397-4cb6-8824-b24b05c43834",
   "metadata": {},
   "source": [
    "## Dask-cuda GPU"
   ]
  },
  {
   "cell_type": "markdown",
   "id": "13e75e38-0592-4289-b25c-adbf7eab74ac",
   "metadata": {
    "execution": {
     "iopub.execute_input": "2022-10-07T04:18:04.350741Z",
     "iopub.status.busy": "2022-10-07T04:18:04.350445Z",
     "iopub.status.idle": "2022-10-07T04:18:05.114891Z",
     "shell.execute_reply": "2022-10-07T04:18:05.114089Z",
     "shell.execute_reply.started": "2022-10-07T04:18:04.350719Z"
    },
    "tags": []
   },
   "source": [
    "- 터미널을 연 후에, 가상환경을 설정한다.\n",
    "- $ dask-scheduler를 실행한다.\n",
    "- !/data01/anaconda3/envs/dask_gpu/bin/dask-scheduler"
   ]
  },
  {
   "cell_type": "code",
   "execution_count": 7,
   "id": "e02870a1-2167-4919-b873-b04f619b6cfb",
   "metadata": {
    "execution": {
     "iopub.execute_input": "2022-10-11T07:34:13.896258Z",
     "iopub.status.busy": "2022-10-11T07:34:13.895959Z",
     "iopub.status.idle": "2022-10-11T07:34:13.937848Z",
     "shell.execute_reply": "2022-10-11T07:34:13.937507Z",
     "shell.execute_reply.started": "2022-10-11T07:34:13.896235Z"
    },
    "tags": []
   },
   "outputs": [
    {
     "data": {
      "text/html": [
       "<div>\n",
       "    <div style=\"width: 24px; height: 24px; background-color: #e1e1e1; border: 3px solid #9D9D9D; border-radius: 5px; position: absolute;\"> </div>\n",
       "    <div style=\"margin-left: 48px;\">\n",
       "        <h3 style=\"margin-bottom: 0px;\">Client</h3>\n",
       "        <p style=\"color: #9D9D9D; margin-bottom: 0px;\">Client-1abcfa62-4937-11ed-91c9-0242ac110002</p>\n",
       "        <table style=\"width: 100%; text-align: left;\">\n",
       "\n",
       "        <tr>\n",
       "        \n",
       "            <td style=\"text-align: left;\"><strong>Connection method:</strong> Direct</td>\n",
       "            <td style=\"text-align: left;\"></td>\n",
       "        \n",
       "        </tr>\n",
       "\n",
       "        \n",
       "            <tr>\n",
       "                <td style=\"text-align: left;\">\n",
       "                    <strong>Dashboard: </strong> <a href=\"http://172.17.0.2:8787/status\" target=\"_blank\">http://172.17.0.2:8787/status</a>\n",
       "                </td>\n",
       "                <td style=\"text-align: left;\"></td>\n",
       "            </tr>\n",
       "        \n",
       "\n",
       "        </table>\n",
       "\n",
       "        \n",
       "            <details>\n",
       "            <summary style=\"margin-bottom: 20px;\"><h3 style=\"display: inline;\">Scheduler Info</h3></summary>\n",
       "            <div style=\"\">\n",
       "    <div>\n",
       "        <div style=\"width: 24px; height: 24px; background-color: #FFF7E5; border: 3px solid #FF6132; border-radius: 5px; position: absolute;\"> </div>\n",
       "        <div style=\"margin-left: 48px;\">\n",
       "            <h3 style=\"margin-bottom: 0px;\">Scheduler</h3>\n",
       "            <p style=\"color: #9D9D9D; margin-bottom: 0px;\">Scheduler-58456725-dd41-42e3-b744-e77eb1073d44</p>\n",
       "            <table style=\"width: 100%; text-align: left;\">\n",
       "                <tr>\n",
       "                    <td style=\"text-align: left;\">\n",
       "                        <strong>Comm:</strong> tcp://172.17.0.2:8786\n",
       "                    </td>\n",
       "                    <td style=\"text-align: left;\">\n",
       "                        <strong>Workers:</strong> 0\n",
       "                    </td>\n",
       "                </tr>\n",
       "                <tr>\n",
       "                    <td style=\"text-align: left;\">\n",
       "                        <strong>Dashboard:</strong> <a href=\"http://172.17.0.2:8787/status\" target=\"_blank\">http://172.17.0.2:8787/status</a>\n",
       "                    </td>\n",
       "                    <td style=\"text-align: left;\">\n",
       "                        <strong>Total threads:</strong> 0\n",
       "                    </td>\n",
       "                </tr>\n",
       "                <tr>\n",
       "                    <td style=\"text-align: left;\">\n",
       "                        <strong>Started:</strong> Just now\n",
       "                    </td>\n",
       "                    <td style=\"text-align: left;\">\n",
       "                        <strong>Total memory:</strong> 0 B\n",
       "                    </td>\n",
       "                </tr>\n",
       "            </table>\n",
       "        </div>\n",
       "    </div>\n",
       "\n",
       "    <details style=\"margin-left: 48px;\">\n",
       "        <summary style=\"margin-bottom: 20px;\">\n",
       "            <h3 style=\"display: inline;\">Workers</h3>\n",
       "        </summary>\n",
       "\n",
       "        \n",
       "\n",
       "    </details>\n",
       "</div>\n",
       "            </details>\n",
       "        \n",
       "\n",
       "    </div>\n",
       "</div>"
      ],
      "text/plain": [
       "<Client: 'tcp://172.17.0.2:8786' processes=0 threads=0, memory=0 B>"
      ]
     },
     "execution_count": 7,
     "metadata": {},
     "output_type": "execute_result"
    }
   ],
   "source": [
    "# dask-scheduler에서 Open된 port를 소스코드에 설정한 후에 실핸한다.\n",
    "from dask.distributed import Client\n",
    "\n",
    "client = Client(\"tcp://172.17.0.2:8786\")\n",
    "client"
   ]
  },
  {
   "cell_type": "code",
   "execution_count": null,
   "id": "6faf35b6-0c4c-4f25-8021-9ec370534ec6",
   "metadata": {},
   "outputs": [],
   "source": []
  },
  {
   "cell_type": "code",
   "execution_count": 8,
   "id": "1c39fdea-d805-4e32-bcad-7059438a417a",
   "metadata": {
    "execution": {
     "iopub.execute_input": "2022-10-11T07:34:20.450339Z",
     "iopub.status.busy": "2022-10-11T07:34:20.450038Z",
     "iopub.status.idle": "2022-10-11T07:34:20.453380Z",
     "shell.execute_reply": "2022-10-11T07:34:20.452868Z",
     "shell.execute_reply.started": "2022-10-11T07:34:20.450316Z"
    },
    "tags": []
   },
   "outputs": [],
   "source": [
    "import xgboost.dask"
   ]
  },
  {
   "cell_type": "code",
   "execution_count": 9,
   "id": "42345c22-fe37-4830-bb1b-11894438f7f0",
   "metadata": {
    "execution": {
     "iopub.execute_input": "2022-10-11T07:34:21.474827Z",
     "iopub.status.busy": "2022-10-11T07:34:21.474530Z",
     "iopub.status.idle": "2022-10-11T07:34:21.483070Z",
     "shell.execute_reply": "2022-10-11T07:34:21.482637Z",
     "shell.execute_reply.started": "2022-10-11T07:34:21.474805Z"
    },
    "tags": []
   },
   "outputs": [],
   "source": [
    "from dask_cuda import LocalCUDACluster\n",
    "import dask_cudf\n",
    "from dask.distributed import Client\n",
    "from dask import array as da\n",
    "from dask import dataframe as dd\n",
    "import xgboost as xgb\n",
    "from xgboost import dask as dxgb\n",
    "from xgboost.dask import DaskDMatrix\n",
    "\n",
    "\n",
    "def using_dask_matrix(client: Client, X, y):\n",
    "    # DaskDMatrix acts like normal DMatrix, works as a proxy for local\n",
    "    # DMatrix scatter around workers.\n",
    "    dtrain = DaskDMatrix(client, X, y)\n",
    "\n",
    "    # Use train method from xgboost.dask instead of xgboost.  This\n",
    "    # distributed version of train returns a dictionary containing the\n",
    "    # resulting booster and evaluation history obtained from\n",
    "    # evaluation metrics.\n",
    "    output = xgb.dask.train(client,\n",
    "                            {'verbosity': 2,\n",
    "                             # Golden line for GPU training\n",
    "                             'tree_method': 'gpu_hist'},\n",
    "                            dtrain,\n",
    "                            num_boost_round=8, evals=[(dtrain, 'train')])\n",
    "    bst = output['booster']\n",
    "    history = output['history']\n",
    "\n",
    "    # you can pass output directly into `predict` too.\n",
    "    prediction = xgb.dask.predict(client, bst, dtrain)\n",
    "    print('Evaluation history:', history)\n",
    "    return prediction\n",
    "\n",
    "\n",
    "def using_quantile_device_dmatrix(client: Client, X, y):\n",
    "    '''`DaskDeviceQuantileDMatrix` is a data type specialized for `gpu_hist`, tree\n",
    "     method that reduces memory overhead.  When training on GPU pipeline, it's\n",
    "     preferred over `DaskDMatrix`.\n",
    "\n",
    "    .. versionadded:: 1.2.0\n",
    "\n",
    "    '''\n",
    "    # Input must be on GPU for `DaskDeviceQuantileDMatrix`.\n",
    "    X = dask_cudf.from_dask_dataframe(dd.from_dask_array(X))\n",
    "    y = dask_cudf.from_dask_dataframe(dd.from_dask_array(y))\n",
    "\n",
    "    # `DaskDeviceQuantileDMatrix` is used instead of `DaskDMatrix`, be careful\n",
    "    # that it can not be used for anything else other than training.\n",
    "    dtrain = dxgb.DaskDeviceQuantileDMatrix(client, X, y)\n",
    "    output = xgb.dask.train(client,\n",
    "                            {'verbosity': 2,\n",
    "                             'tree_method': 'gpu_hist'},\n",
    "                            dtrain,\n",
    "                            num_boost_round=4)\n",
    "\n",
    "    prediction = xgb.dask.predict(client, output, X)\n",
    "    return prediction\n",
    "\n",
    "\n"
   ]
  },
  {
   "cell_type": "markdown",
   "id": "718bdeec-b219-4be6-9153-8cde4321c05a",
   "metadata": {},
   "source": [
    "### API설정정보는 다음을 참조한다.\n",
    "- https://docs.rapids.ai/api/dask-cuda/stable/api.html"
   ]
  },
  {
   "cell_type": "markdown",
   "id": "29bc6bf1-4127-419b-b325-8ffd92b20f0a",
   "metadata": {},
   "source": [
    "### NVLINK가 없는 서버의 GPU용"
   ]
  },
  {
   "cell_type": "code",
   "execution_count": 10,
   "id": "96855a5e-9bbd-468e-9d10-062c4fae52ed",
   "metadata": {
    "execution": {
     "iopub.execute_input": "2022-10-11T07:34:26.740638Z",
     "iopub.status.busy": "2022-10-11T07:34:26.740338Z",
     "iopub.status.idle": "2022-10-11T07:34:31.822875Z",
     "shell.execute_reply": "2022-10-11T07:34:31.822293Z",
     "shell.execute_reply.started": "2022-10-11T07:34:26.740615Z"
    }
   },
   "outputs": [
    {
     "name": "stderr",
     "output_type": "stream",
     "text": [
      "/data01/anaconda3/envs/dask_cuda/lib/python3.9/site-packages/distributed/node.py:179: UserWarning: Port 8787 is already in use.\n",
      "Perhaps you already have a cluster running?\n",
      "Hosting the HTTP server on port 44981 instead\n",
      "  warnings.warn(\n",
      "2022-10-11 07:34:27,722 - distributed.preloading - INFO - Creating preload: dask_cuda.initialize\n",
      "2022-10-11 07:34:27,722 - distributed.preloading - INFO - Import preload module: dask_cuda.initialize\n",
      "2022-10-11 07:34:27,723 - distributed.preloading - INFO - Creating preload: dask_cuda.initialize\n",
      "2022-10-11 07:34:27,723 - distributed.preloading - INFO - Import preload module: dask_cuda.initialize\n",
      "2022-10-11 07:34:27,755 - distributed.preloading - INFO - Creating preload: dask_cuda.initialize\n",
      "2022-10-11 07:34:27,755 - distributed.preloading - INFO - Import preload module: dask_cuda.initialize\n",
      "2022-10-11 07:34:27,776 - distributed.preloading - INFO - Creating preload: dask_cuda.initialize\n",
      "2022-10-11 07:34:27,776 - distributed.preloading - INFO - Import preload module: dask_cuda.initialize\n"
     ]
    },
    {
     "name": "stdout",
     "output_type": "stream",
     "text": [
      "Using DaskQuantileDMatrix\n"
     ]
    },
    {
     "name": "stderr",
     "output_type": "stream",
     "text": [
      "/data01/anaconda3/envs/dask_cuda/lib/python3.9/site-packages/distributed/worker_state_machine.py:3468: FutureWarning: The `Worker.nthreads` attribute has been moved to `Worker.state.nthreads`\n",
      "  warnings.warn(\n",
      "/data01/anaconda3/envs/dask_cuda/lib/python3.9/site-packages/distributed/worker_state_machine.py:3468: FutureWarning: The `Worker.nthreads` attribute has been moved to `Worker.state.nthreads`\n",
      "  warnings.warn(\n",
      "/data01/anaconda3/envs/dask_cuda/lib/python3.9/site-packages/distributed/worker_state_machine.py:3468: FutureWarning: The `Worker.nthreads` attribute has been moved to `Worker.state.nthreads`\n",
      "  warnings.warn(\n",
      "/data01/anaconda3/envs/dask_cuda/lib/python3.9/site-packages/distributed/worker_state_machine.py:3468: FutureWarning: The `Worker.nthreads` attribute has been moved to `Worker.state.nthreads`\n",
      "  warnings.warn(\n",
      "[07:34:29] task [xgboost.dask]:tcp://127.0.0.1:33899 got new rank 0\n",
      "[07:34:29] task [xgboost.dask]:tcp://127.0.0.1:43745 got new rank 1\n",
      "[07:34:29] task [xgboost.dask]:tcp://127.0.0.1:41979 got new rank 2\n",
      "[07:34:29] task [xgboost.dask]:tcp://127.0.0.1:37091 got new rank 3\n"
     ]
    },
    {
     "name": "stdout",
     "output_type": "stream",
     "text": [
      "Using DMatrix\n"
     ]
    },
    {
     "name": "stderr",
     "output_type": "stream",
     "text": [
      "/data01/anaconda3/envs/dask_cuda/lib/python3.9/site-packages/distributed/worker_state_machine.py:3468: FutureWarning: The `Worker.nthreads` attribute has been moved to `Worker.state.nthreads`\n",
      "  warnings.warn(\n",
      "/data01/anaconda3/envs/dask_cuda/lib/python3.9/site-packages/distributed/worker_state_machine.py:3468: FutureWarning: The `Worker.nthreads` attribute has been moved to `Worker.state.nthreads`\n",
      "  warnings.warn(\n",
      "/data01/anaconda3/envs/dask_cuda/lib/python3.9/site-packages/distributed/worker_state_machine.py:3468: FutureWarning: The `Worker.nthreads` attribute has been moved to `Worker.state.nthreads`\n",
      "  warnings.warn(\n",
      "/data01/anaconda3/envs/dask_cuda/lib/python3.9/site-packages/distributed/worker_state_machine.py:3468: FutureWarning: The `Worker.nthreads` attribute has been moved to `Worker.state.nthreads`\n",
      "  warnings.warn(\n",
      "[07:34:30] task [xgboost.dask]:tcp://127.0.0.1:43745 got new rank 0\n",
      "[07:34:30] task [xgboost.dask]:tcp://127.0.0.1:41979 got new rank 1\n",
      "[07:34:30] task [xgboost.dask]:tcp://127.0.0.1:37091 got new rank 2\n",
      "[07:34:30] task [xgboost.dask]:tcp://127.0.0.1:33899 got new rank 3\n"
     ]
    },
    {
     "name": "stdout",
     "output_type": "stream",
     "text": [
      "[0]\ttrain-rmse:0.28793\n",
      "[1]\ttrain-rmse:0.28744\n",
      "[2]\ttrain-rmse:0.28708\n",
      "[3]\ttrain-rmse:0.28662\n",
      "[4]\ttrain-rmse:0.28608\n",
      "[5]\ttrain-rmse:0.28559\n",
      "[6]\ttrain-rmse:0.28510\n",
      "[7]\ttrain-rmse:0.28474\n",
      "Evaluation history: {'train': OrderedDict([('rmse', [0.28792558979928484, 0.28744126946665394, 0.28708283483970687, 0.28661894821098116, 0.28608470731674607, 0.28559380056328953, 0.28509500199394683, 0.28474362712465295])])}\n"
     ]
    },
    {
     "name": "stderr",
     "output_type": "stream",
     "text": [
      "2022-10-11 07:34:31,351 - distributed.worker - WARNING - Heartbeat to scheduler failed\n",
      "Traceback (most recent call last):\n",
      "  File \"/data01/anaconda3/envs/dask_cuda/lib/python3.9/site-packages/distributed/comm/tcp.py\", line 223, in read\n",
      "    frames_nbytes = await stream.read_bytes(fmt_size)\n",
      "tornado.iostream.StreamClosedError: Stream is closed\n",
      "\n",
      "The above exception was the direct cause of the following exception:\n",
      "\n",
      "Traceback (most recent call last):\n",
      "  File \"/data01/anaconda3/envs/dask_cuda/lib/python3.9/site-packages/distributed/worker.py\", line 1159, in heartbeat\n",
      "    response = await retry_operation(\n",
      "  File \"/data01/anaconda3/envs/dask_cuda/lib/python3.9/site-packages/distributed/utils_comm.py\", line 383, in retry_operation\n",
      "    return await retry(\n",
      "  File \"/data01/anaconda3/envs/dask_cuda/lib/python3.9/site-packages/distributed/utils_comm.py\", line 368, in retry\n",
      "    return await coro()\n",
      "  File \"/data01/anaconda3/envs/dask_cuda/lib/python3.9/site-packages/distributed/core.py\", line 1153, in send_recv_from_rpc\n",
      "    return await send_recv(comm=comm, op=key, **kwargs)\n",
      "  File \"/data01/anaconda3/envs/dask_cuda/lib/python3.9/site-packages/distributed/core.py\", line 918, in send_recv\n",
      "    response = await comm.read(deserializers=deserializers)\n",
      "  File \"/data01/anaconda3/envs/dask_cuda/lib/python3.9/site-packages/distributed/comm/tcp.py\", line 239, in read\n",
      "    convert_stream_closed_error(self, e)\n",
      "  File \"/data01/anaconda3/envs/dask_cuda/lib/python3.9/site-packages/distributed/comm/tcp.py\", line 144, in convert_stream_closed_error\n",
      "    raise CommClosedError(f\"in {obj}: {exc}\") from exc\n",
      "distributed.comm.core.CommClosedError: in <TCP (closed) ConnectionPool.heartbeat_worker local=tcp://127.0.0.1:53528 remote=tcp://127.0.0.1:44219>: Stream is closed\n"
     ]
    }
   ],
   "source": [
    "if __name__ == '__main__':\n",
    "    # `LocalCUDACluster` is used for assigning GPU to XGBoost processes.  Here\n",
    "    # `n_workers` represents the number of GPUs since we use one GPU per worker\n",
    "    # process.\n",
    "    with LocalCUDACluster(n_workers=4, threads_per_worker=8) as cluster:\n",
    "        with Client(cluster) as client:\n",
    "            # generate some random data for demonstration\n",
    "            m = 100000\n",
    "            n = 100\n",
    "            X = da.random.random(size=(m, n), chunks=10000)\n",
    "            y = da.random.random(size=(m, ), chunks=10000)\n",
    "\n",
    "            print('Using DaskQuantileDMatrix')\n",
    "            from_ddqdm = using_quantile_device_dmatrix(client, X, y)\n",
    "            print('Using DMatrix')\n",
    "            from_dmatrix = using_dask_matrix(client, X, y)"
   ]
  },
  {
   "cell_type": "markdown",
   "id": "e8150d06-2ab7-425c-9d95-98632eff9051",
   "metadata": {},
   "source": [
    "### NVLINK가 있는 서버의 GPU용"
   ]
  },
  {
   "cell_type": "code",
   "execution_count": null,
   "id": "bb024aea-bf0a-46b8-b16e-2ab442c1b0ff",
   "metadata": {},
   "outputs": [],
   "source": [
    "if __name__ == '__main__':\n",
    "    # `LocalCUDACluster` is used for assigning GPU to XGBoost processes.  Here\n",
    "    # `n_workers` represents the number of GPUs since we use one GPU per worker\n",
    "    # process.\n",
    "    with LocalCUDACluster(n_workers=4, threads_per_worker=8, rmm_pool_size=\"1GB\", protocol=\"ucx\", enable_tcp_over_ucx=True, enable_nvlink=True) as cluster:\n",
    "        with Client(cluster) as client:\n",
    "            # generate some random data for demonstration\n",
    "            m = 100000\n",
    "            n = 100\n",
    "            X = da.random.random(size=(m, n), chunks=10000)\n",
    "            y = da.random.random(size=(m, ), chunks=10000)\n",
    "\n",
    "            print('Using DaskQuantileDMatrix')\n",
    "            from_ddqdm = using_quantile_device_dmatrix(client, X, y)\n",
    "            print('Using DMatrix')\n",
    "            from_dmatrix = using_dask_matrix(client, X, y)"
   ]
  }
 ],
 "metadata": {
  "kernelspec": {
   "display_name": "dask_cuda",
   "language": "python",
   "name": "dask_cuda"
  },
  "language_info": {
   "codemirror_mode": {
    "name": "ipython",
    "version": 3
   },
   "file_extension": ".py",
   "mimetype": "text/x-python",
   "name": "python",
   "nbconvert_exporter": "python",
   "pygments_lexer": "ipython3",
   "version": "3.9.13"
  }
 },
 "nbformat": 4,
 "nbformat_minor": 5
}
